{
 "cells": [
  {
   "cell_type": "code",
   "execution_count": 1,
   "metadata": {},
   "outputs": [
    {
     "name": "stderr",
     "output_type": "stream",
     "text": [
      "WARNING:hyperspy_gui_traitsui:The TkAgg matplotlib backend is not supported by the installed traitsui version and the ETS toolkit has been set to null. To set the ETS toolkit independently from the matplotlib backend, set it before importing matplotlib.\n",
      "WARNING:hyperspy_gui_traitsui:The traitsui GUI elements are not available.\n"
     ]
    }
   ],
   "source": [
    "%matplotlib tk\n",
    "#This won't work with cluster\n",
    "import hyperspy.api as hs\n",
    "#import matplotlib #Since this is not iPython we cannot use the magic commands\n",
    "#%matplotlib qt5\n",
    "#change to qt5 for the installed version on DLS Linuxi\n",
    "import numpy as np\n",
    "from math import floor\n",
    "import pylab as plt\n",
    "import matplotlib.pyplot as plt\n",
    "import os\n",
    "import time\n",
    "import sys\n",
    "from pathlib import Path"
   ]
  },
  {
   "cell_type": "code",
   "execution_count": 2,
   "metadata": {},
   "outputs": [],
   "source": [
    "dir_ = r'C:\\Users\\gys37319\\OneDrive - Nexus365\\Data\\cm19689-6_Merlin_30keV_ptychography\\20180814_MoS2_30kV_pty_tests\\20180814 154448'\n",
    "fn = r'\\MOS2_30kV_Pty1_40Mx_15cm_8C'\n",
    "hdr_fn = dir_ + fn + r'.hdr'\n",
    "mib_fn = dir_ + fn + r'.mib'\n"
   ]
  },
  {
   "cell_type": "code",
   "execution_count": 3,
   "metadata": {
    "collapsed": true
   },
   "outputs": [],
   "source": [
    "# dictionaries for headers - copied from mib file\n",
    "format_name = 'hdr'\n",
    "description = 'hdr file contains the information on how to read\\n'\n",
    "description += 'the mib file with the same name.'\n",
    "description += '\\nThis format does not provide information on the calibration.'\n",
    "description += '\\n You should add this after loading the file.'\n",
    "full_support = False  # but maybe True\n",
    "# Recognised file extension\n",
    "file_extensions = ['hdr']\n",
    "default_extension = 0\n",
    "# Writing capabilities\n",
    "writes = [(1, 0), (1, 1), (1, 2), (2, 0), (2, 1), ]\n",
    "# ----------------------\n",
    "\n",
    "# The format only support the followng data types\n",
    "newline = ('\\n', '\\r\\n')\n",
    "comment = ';'\n",
    "sep = '\\t'\n",
    "\n",
    "dtype2keys = {\n",
    "    'float64': ('float', 8),\n",
    "    'float32': ('float', 4),\n",
    "    'uint8': ('unsigned', 1),\n",
    "    'uint16': ('unsigned', 2),\n",
    "    'int32': ('signed', 4),\n",
    "    'int64': ('signed', 8), }\n",
    "\n",
    "endianess2hdr = {\n",
    "    '=': 'dont-care',\n",
    "    '<': 'little-endian',\n",
    "    '>': 'big-endian'}\n",
    "\n",
    "# Warning: for selection lists use tuples not lists.\n",
    "# keys extracted from the hdr file\n",
    "hdr_keys = {\n",
    "    # spectrum/image keys\n",
    "    'width': int,\n",
    "    'height': int,\n",
    "    'depth': int,\n",
    "    'offset': int,\n",
    "    'data-length': ('1', '2', '4', '8'),\n",
    "    'data-type': ('signed', 'unsigned', 'float'),\n",
    "    'byte-order': ('little-endian', 'big-endian', 'dont-care'),\n",
    "    'record-by': ('image', 'vector', 'dont-care'),\n",
    "    # X-ray keys\n",
    "    'ev-per-chan': float,    # usually 5 or 10 eV\n",
    "    'detector-peak-width-ev': float,  # usually 150 eV\n",
    "    # HyperSpy-specific keys\n",
    "    'depth-origin': float,\n",
    "    'depth-scale': float,\n",
    "    'depth-units': str,\n",
    "    'width-origin': float,\n",
    "    'width-scale': float,\n",
    "    'width-units': str,\n",
    "    'height-origin': float,\n",
    "    'height-scale': float,\n",
    "    'height-units': str,\n",
    "    'signal': str,\n",
    "    # EELS HyperSpy keys\n",
    "    'collection-angle': float,\n",
    "    # TEM HyperSpy keys\n",
    "    'convergence-angle': float,\n",
    "    'beam-energy': float,\n",
    "    # EDS HyperSpy keys\n",
    "    'elevation-angle': float,\n",
    "    'azimuth-angle': float,\n",
    "    'live-time': float,\n",
    "    # From 0.8.5 energy-resolution is deprecated as it is a duplicate of\n",
    "    # detector-peak-width-ev of the hdr standard format. We keep it here\n",
    "    # to keep compatibility with hdr file written by HyperSpy < 0.8.4\n",
    "    'energy-resolution': float,\n",
    "    'tilt-stage': float,\n",
    "    'date': str,\n",
    "    'time': str,\n",
    "    'title': str,\n",
    "}"
   ]
  },
  {
   "cell_type": "code",
   "execution_count": 4,
   "metadata": {
    "collapsed": true
   },
   "outputs": [],
   "source": [
    "#copied from mib file\n",
    "def parse_hdr(fp):\n",
    "    \"\"\"Parse information from hdr (.hdr) file.\n",
    "    Accepts file object 'fp. Returns dictionary hdr_info.\n",
    "    \"\"\"\n",
    "    hdr_info = {}\n",
    "    for line in fp.readlines():\n",
    "        # skip blank entries\n",
    "        if any(skip_line in line for skip_line in ('HDR', 'End')):\n",
    "            continue\n",
    "        if line[:2] not in newline and line[0] != comment:\n",
    "            line = line.strip('\\r\\n')\n",
    "            if comment in line:\n",
    "                line = line[:line.find(comment)]\n",
    "            if sep not in line:\n",
    "                err = 'Separator in line \"%s\" is wrong, ' % line\n",
    "                err += 'it should be a <TAB> (\"\\\\t\")'\n",
    "                raise IOError(err)\n",
    "            line = [seg.strip() for seg in line.split(sep)]  # now it's a list\n",
    "            line[0] = line[0].strip(':')  # remove ':' from keys\n",
    "        hdr_info[line[0]] = line[1]\n",
    "    # assign values to mandatory keys\n",
    "    # set the array size of the chip\n",
    "    # Adding the try argument to accommodate the new hdr formatting\n",
    "    # as of April 2018\n",
    "    try:\n",
    "        if hdr_info['Assembly Size (1X1, 2X2)'] == '1x1':\n",
    "            hdr_info['width'] = 256\n",
    "            hdr_info['height'] = 256\n",
    "        elif hdr_info['Assembly Size (1X1, 2X2)'] == '2x2':\n",
    "            hdr_info['width'] = 512\n",
    "            hdr_info['height'] = 512\n",
    "    except KeyError:\n",
    "        if hdr_info['Assembly Size (NX1, 2X2)'] == '1x1':\n",
    "            hdr_info['width'] = 256\n",
    "            hdr_info['height'] = 256\n",
    "        elif hdr_info['Assembly Size (NX1, 2X2)'] == '2x2':\n",
    "            hdr_info['width'] = 512\n",
    "            hdr_info['height'] = 512\n",
    "\n",
    "    # convert frames to depth\n",
    "    hdr_info['depth'] = int(hdr_info['Frames in Acquisition (Number)'])\n",
    "    # set mib offset\n",
    "    hdr_info['offset'] = 0\n",
    "    # set data-type\n",
    "    hdr_info['data-type'] = 'unsigned'\n",
    "    # set data-length\n",
    "    if hdr_info['Counter Depth (number)'] == '1':\n",
    "        # binary data recorded as 8 bit numbers\n",
    "        hdr_info['data-length'] = '8'\n",
    "    else:\n",
    "        # changes 6 to 8 , 12 to 16 and 24 to 32 bit\n",
    "        cd_int = int(hdr_info['Counter Depth (number)'])\n",
    "        hdr_info['data-length'] = str(int((cd_int + cd_int/3)))\n",
    "    # set byte order\n",
    "    hdr_info['byte-order'] = 'dont-care'\n",
    "    # set record by to stack of images\n",
    "    hdr_info['record-by'] = 'image'\n",
    "\n",
    "    # set title to file name\n",
    "    hdr_info['title'] = fp.name.split('\\\\')[-1]\n",
    "    # set time and date\n",
    "    # Adding the try argument to accommodate the new hdr formatting\n",
    "    # as of April 2018\n",
    "    try:\n",
    "        day, month, year_time = hdr_info['Time and Date Stamp (day, mnth, yr, hr, min, s)'].split('/')\n",
    "        year, time = year_time.split(' ')\n",
    "        hdr_info['date'] = year + month + day\n",
    "        hdr_info['time'] = time\n",
    "    except KeyError:\n",
    "        day, month, year_time = hdr_info['Time and Date Stamp (yr, mnth, day, hr, min, s)'].split('/')\n",
    "        year, time = year_time.split(' ')\n",
    "        hdr_info['date'] = year + month + day\n",
    "        hdr_info['time'] = time\n",
    "    return hdr_info"
   ]
  },
  {
   "cell_type": "code",
   "execution_count": 5,
   "metadata": {
    "collapsed": true
   },
   "outputs": [],
   "source": [
    "def read_exposure(hdr_info, fp, mmap_mode='c'):\n",
    "    width = hdr_info['width']\n",
    "    height = hdr_info['height']\n",
    "    depth = hdr_info['depth']\n",
    "    offset = hdr_info['offset']\n",
    "    data_length = hdr_info['data-length']\n",
    "    data_type = hdr_info['data-type']\n",
    "    endian = hdr_info['byte-order']\n",
    "    record_by = hdr_info['record-by']\n",
    "\n",
    "    if data_type == 'signed':\n",
    "        data_type = 'int'\n",
    "    elif data_type == 'unsigned':\n",
    "        data_type = 'uint'\n",
    "    elif data_type == 'float':\n",
    "        pass\n",
    "    else:\n",
    "        raise TypeError('Unknown \"data-type\" string.')\n",
    "\n",
    "    # mib data always big-endian\n",
    "    endian = '>'\n",
    "    data_type += str(int(data_length))\n",
    "    data_type = np.dtype(data_type)\n",
    "    data_type = data_type.newbyteorder(endian)\n",
    "    #data_type = np.dtype(str)\n",
    "    # set header number of bits\n",
    "    hdr_multiplier = (int(data_length)/8)**-1\n",
    "    hdr_bits = int(384 * hdr_multiplier)\n",
    "\n",
    "    data = np.memmap(fp,\n",
    "                     offset=offset,\n",
    "                     dtype=data_type,\n",
    "                     mode=mmap_mode)\n",
    "\n",
    "    if record_by == 'vector':   # spectral image\n",
    "        size = (height, width, depth)\n",
    "        data = data.reshape(size)\n",
    "    elif record_by == 'image':  # stack of images\n",
    "        width_height = width * height\n",
    "        size = (depth, height, width)\n",
    "        # remove headers at the beginning of each frame and reshape\n",
    "        #data = data.reshape(-1, width_height + hdr_bits)[:, -width_height:].reshape(size)\n",
    "        # return only headers\n",
    "        data = data.reshape(-1,  width_height + hdr_bits)[:,71:79]\n",
    "        data = data [:, ]\n",
    "    elif record_by == 'dont-care':  # stack of images\n",
    "        size = (height, width)\n",
    "        data = data.reshape(size)\n",
    "    return data"
   ]
  },
  {
   "cell_type": "code",
   "execution_count": 6,
   "metadata": {},
   "outputs": [],
   "source": [
    "with open(hdr_fn) as f:\n",
    "    hdr_info = parse_hdr(f)"
   ]
  },
  {
   "cell_type": "code",
   "execution_count": 17,
   "metadata": {},
   "outputs": [
    {
     "data": {
      "text/plain": [
       "(65536, 8)"
      ]
     },
     "execution_count": 17,
     "metadata": {},
     "output_type": "execute_result"
    }
   ],
   "source": [
    "d = read_exposure(hdr_info,mib_fn)\n",
    "d.shape"
   ]
  },
  {
   "cell_type": "code",
   "execution_count": 18,
   "metadata": {
    "collapsed": true
   },
   "outputs": [],
   "source": [
    "d = read_exposure(hdr_info,mib_fn)\n",
    "exp_time = []\n",
    "for line in range(d.shape[0]):\n",
    "    str_list = [chr(d[line][n]) for n in range(d.shape[1])]\n",
    "    exp_time.append(float(''.join(str_list)))\n"
   ]
  },
  {
   "cell_type": "code",
   "execution_count": null,
   "metadata": {
    "collapsed": true
   },
   "outputs": [],
   "source": [
    "plt.plot(exp_time)"
   ]
  }
 ],
 "metadata": {
  "kernelspec": {
   "display_name": "Python 3",
   "language": "python",
   "name": "python3"
  },
  "language_info": {
   "codemirror_mode": {
    "name": "ipython",
    "version": 3
   },
   "file_extension": ".py",
   "mimetype": "text/x-python",
   "name": "python",
   "nbconvert_exporter": "python",
   "pygments_lexer": "ipython3",
   "version": "3.5.1"
  }
 },
 "nbformat": 4,
 "nbformat_minor": 2
}
