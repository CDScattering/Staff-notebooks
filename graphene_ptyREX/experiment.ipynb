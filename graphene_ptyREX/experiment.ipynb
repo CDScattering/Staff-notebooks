{
 "cells": [
  {
   "cell_type": "code",
   "execution_count": 1,
   "metadata": {},
   "outputs": [],
   "source": [
    "%matplotlib qt \n",
    "# %matplotlib inline"
   ]
  },
  {
   "cell_type": "code",
   "execution_count": 2,
   "metadata": {},
   "outputs": [],
   "source": [
    "import numpy as np\n",
    "import hyperspy.api as hs\n",
    "import os"
   ]
  },
  {
   "cell_type": "code",
   "execution_count": 3,
   "metadata": {},
   "outputs": [],
   "source": [
    "from sim_utils import *\n",
    "from recon_utils import *"
   ]
  },
  {
   "cell_type": "code",
   "execution_count": 4,
   "metadata": {},
   "outputs": [],
   "source": [
    "root_path = '/dls/e02/data/2020/cm26481-1/processing/Merlin/20200130_80kV_graphene_600C_pty'"
   ]
  },
  {
   "cell_type": "code",
   "execution_count": 5,
   "metadata": {},
   "outputs": [],
   "source": [
    "import pandas as pd"
   ]
  },
  {
   "cell_type": "code",
   "execution_count": 6,
   "metadata": {},
   "outputs": [],
   "source": [
    "data_details = pd.read_excel('/dls/e02/data/2020/cm26481-1/processing/Merlin/20200130_80kV_graphene_600C_pty/20200130_Ptychography_speadsheet.xlsx', header=7, usecols='A:R')"
   ]
  },
  {
   "cell_type": "code",
   "execution_count": 7,
   "metadata": {},
   "outputs": [
    {
     "data": {
      "text/html": [
       "<div>\n",
       "<style scoped>\n",
       "    .dataframe tbody tr th:only-of-type {\n",
       "        vertical-align: middle;\n",
       "    }\n",
       "\n",
       "    .dataframe tbody tr th {\n",
       "        vertical-align: top;\n",
       "    }\n",
       "\n",
       "    .dataframe thead th {\n",
       "        text-align: right;\n",
       "    }\n",
       "</style>\n",
       "<table border=\"1\" class=\"dataframe\">\n",
       "  <thead>\n",
       "    <tr style=\"text-align: right;\">\n",
       "      <th></th>\n",
       "      <th>Folder</th>\n",
       "      <th>File</th>\n",
       "      <th>keV</th>\n",
       "      <th>CLA</th>\n",
       "      <th>alpha</th>\n",
       "      <th>CL</th>\n",
       "      <th>Spot</th>\n",
       "      <th>A2 (kV)</th>\n",
       "      <th>Scan Mag</th>\n",
       "      <th>nominal defocus (nm)</th>\n",
       "      <th>probe positions recorded</th>\n",
       "      <th>Probe positions hdf5</th>\n",
       "      <th>Field of view (Ang)</th>\n",
       "      <th>step size (Ang)</th>\n",
       "      <th>counter depth</th>\n",
       "      <th>Saved data bit depth</th>\n",
       "      <th>frame time (ms)</th>\n",
       "      <th>Notes</th>\n",
       "    </tr>\n",
       "  </thead>\n",
       "  <tbody>\n",
       "    <tr>\n",
       "      <th>0</th>\n",
       "      <td>20200130 150828</td>\n",
       "      <td>NaN</td>\n",
       "      <td>80.0</td>\n",
       "      <td>40um</td>\n",
       "      <td>31.74</td>\n",
       "      <td>33.616</td>\n",
       "      <td>8C</td>\n",
       "      <td>4.71</td>\n",
       "      <td>20Mx</td>\n",
       "      <td>0.0</td>\n",
       "      <td>256.0</td>\n",
       "      <td>NaN</td>\n",
       "      <td>9.520000e-09</td>\n",
       "      <td>3.718750e-11</td>\n",
       "      <td>6.0</td>\n",
       "      <td>8.0</td>\n",
       "      <td>0.7</td>\n",
       "      <td>CL - 20cm on microscope,  sampling of probe to...</td>\n",
       "    </tr>\n",
       "    <tr>\n",
       "      <th>1</th>\n",
       "      <td>20200130 162759</td>\n",
       "      <td>NaN</td>\n",
       "      <td>80.0</td>\n",
       "      <td>40um</td>\n",
       "      <td>31.74</td>\n",
       "      <td>17.320</td>\n",
       "      <td>8C</td>\n",
       "      <td>4.71</td>\n",
       "      <td>20Mx</td>\n",
       "      <td>0.0</td>\n",
       "      <td>256.0</td>\n",
       "      <td>NaN</td>\n",
       "      <td>9.520000e-09</td>\n",
       "      <td>3.718750e-11</td>\n",
       "      <td>6.0</td>\n",
       "      <td>8.0</td>\n",
       "      <td>0.7</td>\n",
       "      <td>CL - 10cm on microscope,, Probe overlap: 76%; ...</td>\n",
       "    </tr>\n",
       "    <tr>\n",
       "      <th>2</th>\n",
       "      <td>20200130 163012</td>\n",
       "      <td>NaN</td>\n",
       "      <td>80.0</td>\n",
       "      <td>40um</td>\n",
       "      <td>31.74</td>\n",
       "      <td>17.320</td>\n",
       "      <td>8C</td>\n",
       "      <td>4.71</td>\n",
       "      <td>20Mx</td>\n",
       "      <td>-5.0</td>\n",
       "      <td>256.0</td>\n",
       "      <td>NaN</td>\n",
       "      <td>9.520000e-09</td>\n",
       "      <td>3.718750e-11</td>\n",
       "      <td>6.0</td>\n",
       "      <td>8.0</td>\n",
       "      <td>0.7</td>\n",
       "      <td>NaN</td>\n",
       "    </tr>\n",
       "    <tr>\n",
       "      <th>3</th>\n",
       "      <td>20200130 163208</td>\n",
       "      <td>NaN</td>\n",
       "      <td>80.0</td>\n",
       "      <td>40um</td>\n",
       "      <td>31.74</td>\n",
       "      <td>17.320</td>\n",
       "      <td>8C</td>\n",
       "      <td>4.71</td>\n",
       "      <td>20Mx</td>\n",
       "      <td>-10.0</td>\n",
       "      <td>256.0</td>\n",
       "      <td>NaN</td>\n",
       "      <td>9.520000e-09</td>\n",
       "      <td>3.718750e-11</td>\n",
       "      <td>6.0</td>\n",
       "      <td>8.0</td>\n",
       "      <td>0.7</td>\n",
       "      <td>NaN</td>\n",
       "    </tr>\n",
       "    <tr>\n",
       "      <th>4</th>\n",
       "      <td>20200130 163346</td>\n",
       "      <td>NaN</td>\n",
       "      <td>80.0</td>\n",
       "      <td>40um</td>\n",
       "      <td>31.74</td>\n",
       "      <td>17.320</td>\n",
       "      <td>8C</td>\n",
       "      <td>4.71</td>\n",
       "      <td>20Mx</td>\n",
       "      <td>-15.0</td>\n",
       "      <td>256.0</td>\n",
       "      <td>NaN</td>\n",
       "      <td>9.520000e-09</td>\n",
       "      <td>3.718750e-11</td>\n",
       "      <td>6.0</td>\n",
       "      <td>8.0</td>\n",
       "      <td>0.7</td>\n",
       "      <td>NaN</td>\n",
       "    </tr>\n",
       "    <tr>\n",
       "      <th>5</th>\n",
       "      <td>20200130 163522</td>\n",
       "      <td>NaN</td>\n",
       "      <td>80.0</td>\n",
       "      <td>40um</td>\n",
       "      <td>31.74</td>\n",
       "      <td>17.320</td>\n",
       "      <td>8C</td>\n",
       "      <td>4.71</td>\n",
       "      <td>20Mx</td>\n",
       "      <td>-20.0</td>\n",
       "      <td>256.0</td>\n",
       "      <td>NaN</td>\n",
       "      <td>9.520000e-09</td>\n",
       "      <td>3.718750e-11</td>\n",
       "      <td>6.0</td>\n",
       "      <td>8.0</td>\n",
       "      <td>0.7</td>\n",
       "      <td>NaN</td>\n",
       "    </tr>\n",
       "    <tr>\n",
       "      <th>6</th>\n",
       "      <td>20200130 163742</td>\n",
       "      <td>NaN</td>\n",
       "      <td>80.0</td>\n",
       "      <td>40um</td>\n",
       "      <td>31.74</td>\n",
       "      <td>17.320</td>\n",
       "      <td>8C</td>\n",
       "      <td>4.71</td>\n",
       "      <td>20Mx</td>\n",
       "      <td>-25.0</td>\n",
       "      <td>256.0</td>\n",
       "      <td>NaN</td>\n",
       "      <td>9.520000e-09</td>\n",
       "      <td>3.718750e-11</td>\n",
       "      <td>6.0</td>\n",
       "      <td>8.0</td>\n",
       "      <td>0.7</td>\n",
       "      <td>NaN</td>\n",
       "    </tr>\n",
       "    <tr>\n",
       "      <th>7</th>\n",
       "      <td>20200130 163907</td>\n",
       "      <td>NaN</td>\n",
       "      <td>80.0</td>\n",
       "      <td>40um</td>\n",
       "      <td>31.74</td>\n",
       "      <td>17.320</td>\n",
       "      <td>8C</td>\n",
       "      <td>4.71</td>\n",
       "      <td>20Mx</td>\n",
       "      <td>-30.0</td>\n",
       "      <td>256.0</td>\n",
       "      <td>NaN</td>\n",
       "      <td>9.520000e-09</td>\n",
       "      <td>3.718750e-11</td>\n",
       "      <td>6.0</td>\n",
       "      <td>8.0</td>\n",
       "      <td>0.7</td>\n",
       "      <td>NaN</td>\n",
       "    </tr>\n",
       "    <tr>\n",
       "      <th>8</th>\n",
       "      <td>NaN</td>\n",
       "      <td>NaN</td>\n",
       "      <td>NaN</td>\n",
       "      <td>NaN</td>\n",
       "      <td>NaN</td>\n",
       "      <td>NaN</td>\n",
       "      <td>NaN</td>\n",
       "      <td>NaN</td>\n",
       "      <td>NaN</td>\n",
       "      <td>NaN</td>\n",
       "      <td>NaN</td>\n",
       "      <td>NaN</td>\n",
       "      <td>NaN</td>\n",
       "      <td>NaN</td>\n",
       "      <td>NaN</td>\n",
       "      <td>NaN</td>\n",
       "      <td>NaN</td>\n",
       "      <td>NaN</td>\n",
       "    </tr>\n",
       "    <tr>\n",
       "      <th>9</th>\n",
       "      <td>20200131 115200</td>\n",
       "      <td>NaN</td>\n",
       "      <td>80.0</td>\n",
       "      <td>40um</td>\n",
       "      <td>31.74</td>\n",
       "      <td>14.120</td>\n",
       "      <td>8C</td>\n",
       "      <td>4.71</td>\n",
       "      <td>20Mx</td>\n",
       "      <td>0.0</td>\n",
       "      <td>256.0</td>\n",
       "      <td>NaN</td>\n",
       "      <td>9.520000e-09</td>\n",
       "      <td>3.718750e-11</td>\n",
       "      <td>6.0</td>\n",
       "      <td>8.0</td>\n",
       "      <td>0.7</td>\n",
       "      <td>CL - 8cm on microscope</td>\n",
       "    </tr>\n",
       "    <tr>\n",
       "      <th>10</th>\n",
       "      <td>20200131 135439</td>\n",
       "      <td>NaN</td>\n",
       "      <td>80.0</td>\n",
       "      <td>40um</td>\n",
       "      <td>31.74</td>\n",
       "      <td>14.120</td>\n",
       "      <td>8C</td>\n",
       "      <td>4.71</td>\n",
       "      <td>20Mx</td>\n",
       "      <td>0.0</td>\n",
       "      <td>256.0</td>\n",
       "      <td>NaN</td>\n",
       "      <td>9.520000e-09</td>\n",
       "      <td>3.718750e-11</td>\n",
       "      <td>6.0</td>\n",
       "      <td>8.0</td>\n",
       "      <td>0.7</td>\n",
       "      <td>NaN</td>\n",
       "    </tr>\n",
       "    <tr>\n",
       "      <th>11</th>\n",
       "      <td>20200131 135925</td>\n",
       "      <td>NaN</td>\n",
       "      <td>80.0</td>\n",
       "      <td>40um</td>\n",
       "      <td>31.74</td>\n",
       "      <td>14.120</td>\n",
       "      <td>8C</td>\n",
       "      <td>4.71</td>\n",
       "      <td>20Mx</td>\n",
       "      <td>-5.0</td>\n",
       "      <td>256.0</td>\n",
       "      <td>NaN</td>\n",
       "      <td>9.520000e-09</td>\n",
       "      <td>3.718750e-11</td>\n",
       "      <td>6.0</td>\n",
       "      <td>8.0</td>\n",
       "      <td>0.7</td>\n",
       "      <td>NaN</td>\n",
       "    </tr>\n",
       "    <tr>\n",
       "      <th>12</th>\n",
       "      <td>20200131 140133</td>\n",
       "      <td>NaN</td>\n",
       "      <td>80.0</td>\n",
       "      <td>40um</td>\n",
       "      <td>31.74</td>\n",
       "      <td>14.120</td>\n",
       "      <td>8C</td>\n",
       "      <td>4.71</td>\n",
       "      <td>20Mx</td>\n",
       "      <td>-10.0</td>\n",
       "      <td>256.0</td>\n",
       "      <td>NaN</td>\n",
       "      <td>9.520000e-09</td>\n",
       "      <td>3.718750e-11</td>\n",
       "      <td>6.0</td>\n",
       "      <td>8.0</td>\n",
       "      <td>0.7</td>\n",
       "      <td>NaN</td>\n",
       "    </tr>\n",
       "    <tr>\n",
       "      <th>13</th>\n",
       "      <td>20200131 140315</td>\n",
       "      <td>NaN</td>\n",
       "      <td>80.0</td>\n",
       "      <td>40um</td>\n",
       "      <td>31.74</td>\n",
       "      <td>14.120</td>\n",
       "      <td>8C</td>\n",
       "      <td>4.71</td>\n",
       "      <td>20Mx</td>\n",
       "      <td>-15.0</td>\n",
       "      <td>256.0</td>\n",
       "      <td>NaN</td>\n",
       "      <td>9.520000e-09</td>\n",
       "      <td>3.718750e-11</td>\n",
       "      <td>6.0</td>\n",
       "      <td>8.0</td>\n",
       "      <td>0.7</td>\n",
       "      <td>NaN</td>\n",
       "    </tr>\n",
       "    <tr>\n",
       "      <th>14</th>\n",
       "      <td>20200131 140508</td>\n",
       "      <td>NaN</td>\n",
       "      <td>80.0</td>\n",
       "      <td>40um</td>\n",
       "      <td>31.74</td>\n",
       "      <td>14.120</td>\n",
       "      <td>8C</td>\n",
       "      <td>4.71</td>\n",
       "      <td>20Mx</td>\n",
       "      <td>-20.0</td>\n",
       "      <td>256.0</td>\n",
       "      <td>NaN</td>\n",
       "      <td>9.520000e-09</td>\n",
       "      <td>3.718750e-11</td>\n",
       "      <td>6.0</td>\n",
       "      <td>8.0</td>\n",
       "      <td>0.7</td>\n",
       "      <td>NaN</td>\n",
       "    </tr>\n",
       "    <tr>\n",
       "      <th>15</th>\n",
       "      <td>20200131 140655</td>\n",
       "      <td>NaN</td>\n",
       "      <td>80.0</td>\n",
       "      <td>40um</td>\n",
       "      <td>31.74</td>\n",
       "      <td>14.120</td>\n",
       "      <td>8C</td>\n",
       "      <td>4.71</td>\n",
       "      <td>20Mx</td>\n",
       "      <td>-25.0</td>\n",
       "      <td>256.0</td>\n",
       "      <td>NaN</td>\n",
       "      <td>9.520000e-09</td>\n",
       "      <td>3.718750e-11</td>\n",
       "      <td>6.0</td>\n",
       "      <td>8.0</td>\n",
       "      <td>0.7</td>\n",
       "      <td>NaN</td>\n",
       "    </tr>\n",
       "    <tr>\n",
       "      <th>16</th>\n",
       "      <td>20200131 140834</td>\n",
       "      <td>NaN</td>\n",
       "      <td>80.0</td>\n",
       "      <td>40um</td>\n",
       "      <td>31.74</td>\n",
       "      <td>14.120</td>\n",
       "      <td>8C</td>\n",
       "      <td>4.71</td>\n",
       "      <td>20Mx</td>\n",
       "      <td>-30.0</td>\n",
       "      <td>256.0</td>\n",
       "      <td>NaN</td>\n",
       "      <td>9.520000e-09</td>\n",
       "      <td>3.718750e-11</td>\n",
       "      <td>6.0</td>\n",
       "      <td>8.0</td>\n",
       "      <td>0.7</td>\n",
       "      <td>NaN</td>\n",
       "    </tr>\n",
       "    <tr>\n",
       "      <th>17</th>\n",
       "      <td>NaN</td>\n",
       "      <td>NaN</td>\n",
       "      <td>NaN</td>\n",
       "      <td>NaN</td>\n",
       "      <td>NaN</td>\n",
       "      <td>NaN</td>\n",
       "      <td>NaN</td>\n",
       "      <td>NaN</td>\n",
       "      <td>NaN</td>\n",
       "      <td>NaN</td>\n",
       "      <td>NaN</td>\n",
       "      <td>NaN</td>\n",
       "      <td>NaN</td>\n",
       "      <td>NaN</td>\n",
       "      <td>NaN</td>\n",
       "      <td>NaN</td>\n",
       "      <td>NaN</td>\n",
       "      <td>NaN</td>\n",
       "    </tr>\n",
       "    <tr>\n",
       "      <th>18</th>\n",
       "      <td>20200131 142938</td>\n",
       "      <td>NaN</td>\n",
       "      <td>80.0</td>\n",
       "      <td>20um</td>\n",
       "      <td>15.50</td>\n",
       "      <td>25.468</td>\n",
       "      <td>8C</td>\n",
       "      <td>4.71</td>\n",
       "      <td>20Mx</td>\n",
       "      <td>0.0</td>\n",
       "      <td>256.0</td>\n",
       "      <td>NaN</td>\n",
       "      <td>9.520000e-09</td>\n",
       "      <td>3.718750e-11</td>\n",
       "      <td>6.0</td>\n",
       "      <td>8.0</td>\n",
       "      <td>0.7</td>\n",
       "      <td>CL - 15cm on microscope</td>\n",
       "    </tr>\n",
       "    <tr>\n",
       "      <th>19</th>\n",
       "      <td>20200131 143302</td>\n",
       "      <td>NaN</td>\n",
       "      <td>80.0</td>\n",
       "      <td>20um</td>\n",
       "      <td>15.50</td>\n",
       "      <td>25.468</td>\n",
       "      <td>8C</td>\n",
       "      <td>4.71</td>\n",
       "      <td>20Mx</td>\n",
       "      <td>-70.0</td>\n",
       "      <td>256.0</td>\n",
       "      <td>NaN</td>\n",
       "      <td>9.520000e-09</td>\n",
       "      <td>3.718750e-11</td>\n",
       "      <td>6.0</td>\n",
       "      <td>8.0</td>\n",
       "      <td>0.7</td>\n",
       "      <td>NaN</td>\n",
       "    </tr>\n",
       "    <tr>\n",
       "      <th>20</th>\n",
       "      <td>20200131 143448</td>\n",
       "      <td>NaN</td>\n",
       "      <td>80.0</td>\n",
       "      <td>20um</td>\n",
       "      <td>15.50</td>\n",
       "      <td>25.468</td>\n",
       "      <td>8C</td>\n",
       "      <td>4.71</td>\n",
       "      <td>20Mx</td>\n",
       "      <td>-150.0</td>\n",
       "      <td>256.0</td>\n",
       "      <td>NaN</td>\n",
       "      <td>9.520000e-09</td>\n",
       "      <td>3.718750e-11</td>\n",
       "      <td>6.0</td>\n",
       "      <td>8.0</td>\n",
       "      <td>0.7</td>\n",
       "      <td>NaN</td>\n",
       "    </tr>\n",
       "    <tr>\n",
       "      <th>21</th>\n",
       "      <td>NaN</td>\n",
       "      <td>NaN</td>\n",
       "      <td>NaN</td>\n",
       "      <td>NaN</td>\n",
       "      <td>NaN</td>\n",
       "      <td>NaN</td>\n",
       "      <td>NaN</td>\n",
       "      <td>NaN</td>\n",
       "      <td>NaN</td>\n",
       "      <td>NaN</td>\n",
       "      <td>NaN</td>\n",
       "      <td>NaN</td>\n",
       "      <td>NaN</td>\n",
       "      <td>NaN</td>\n",
       "      <td>NaN</td>\n",
       "      <td>NaN</td>\n",
       "      <td>NaN</td>\n",
       "      <td>NaN</td>\n",
       "    </tr>\n",
       "    <tr>\n",
       "      <th>22</th>\n",
       "      <td>20200131 154940</td>\n",
       "      <td>NaN</td>\n",
       "      <td>80.0</td>\n",
       "      <td>10um</td>\n",
       "      <td>NaN</td>\n",
       "      <td>33.616</td>\n",
       "      <td>8C</td>\n",
       "      <td>4.71</td>\n",
       "      <td>20Mx</td>\n",
       "      <td>0.0</td>\n",
       "      <td>256.0</td>\n",
       "      <td>NaN</td>\n",
       "      <td>9.520000e-09</td>\n",
       "      <td>3.718750e-11</td>\n",
       "      <td>6.0</td>\n",
       "      <td>8.0</td>\n",
       "      <td>0.7</td>\n",
       "      <td>CL - 20cm on microscope</td>\n",
       "    </tr>\n",
       "    <tr>\n",
       "      <th>23</th>\n",
       "      <td>20200131 155308</td>\n",
       "      <td>NaN</td>\n",
       "      <td>80.0</td>\n",
       "      <td>10um</td>\n",
       "      <td>NaN</td>\n",
       "      <td>33.616</td>\n",
       "      <td>8C</td>\n",
       "      <td>4.71</td>\n",
       "      <td>20Mx</td>\n",
       "      <td>-10.0</td>\n",
       "      <td>256.0</td>\n",
       "      <td>NaN</td>\n",
       "      <td>9.520000e-09</td>\n",
       "      <td>3.718750e-11</td>\n",
       "      <td>6.0</td>\n",
       "      <td>8.0</td>\n",
       "      <td>0.7</td>\n",
       "      <td>NaN</td>\n",
       "    </tr>\n",
       "    <tr>\n",
       "      <th>24</th>\n",
       "      <td>20200131 155509</td>\n",
       "      <td>NaN</td>\n",
       "      <td>80.0</td>\n",
       "      <td>10um</td>\n",
       "      <td>NaN</td>\n",
       "      <td>33.616</td>\n",
       "      <td>8C</td>\n",
       "      <td>4.71</td>\n",
       "      <td>20Mx</td>\n",
       "      <td>-20.0</td>\n",
       "      <td>256.0</td>\n",
       "      <td>NaN</td>\n",
       "      <td>9.520000e-09</td>\n",
       "      <td>3.718750e-11</td>\n",
       "      <td>6.0</td>\n",
       "      <td>8.0</td>\n",
       "      <td>0.7</td>\n",
       "      <td>NaN</td>\n",
       "    </tr>\n",
       "    <tr>\n",
       "      <th>25</th>\n",
       "      <td>20200131 155648</td>\n",
       "      <td>NaN</td>\n",
       "      <td>80.0</td>\n",
       "      <td>10um</td>\n",
       "      <td>NaN</td>\n",
       "      <td>33.616</td>\n",
       "      <td>8C</td>\n",
       "      <td>4.71</td>\n",
       "      <td>20Mx</td>\n",
       "      <td>-70.0</td>\n",
       "      <td>256.0</td>\n",
       "      <td>NaN</td>\n",
       "      <td>9.520000e-09</td>\n",
       "      <td>3.718750e-11</td>\n",
       "      <td>6.0</td>\n",
       "      <td>8.0</td>\n",
       "      <td>0.7</td>\n",
       "      <td>NaN</td>\n",
       "    </tr>\n",
       "  </tbody>\n",
       "</table>\n",
       "</div>"
      ],
      "text/plain": [
       "             Folder  File   keV   CLA  alpha      CL Spot  A2 (kV) Scan Mag  \\\n",
       "0   20200130 150828   NaN  80.0  40um  31.74  33.616   8C     4.71     20Mx   \n",
       "1   20200130 162759   NaN  80.0  40um  31.74  17.320   8C     4.71     20Mx   \n",
       "2   20200130 163012   NaN  80.0  40um  31.74  17.320   8C     4.71     20Mx   \n",
       "3   20200130 163208   NaN  80.0  40um  31.74  17.320   8C     4.71     20Mx   \n",
       "4   20200130 163346   NaN  80.0  40um  31.74  17.320   8C     4.71     20Mx   \n",
       "5   20200130 163522   NaN  80.0  40um  31.74  17.320   8C     4.71     20Mx   \n",
       "6   20200130 163742   NaN  80.0  40um  31.74  17.320   8C     4.71     20Mx   \n",
       "7   20200130 163907   NaN  80.0  40um  31.74  17.320   8C     4.71     20Mx   \n",
       "8               NaN   NaN   NaN   NaN    NaN     NaN  NaN      NaN      NaN   \n",
       "9   20200131 115200   NaN  80.0  40um  31.74  14.120   8C     4.71     20Mx   \n",
       "10  20200131 135439   NaN  80.0  40um  31.74  14.120   8C     4.71     20Mx   \n",
       "11  20200131 135925   NaN  80.0  40um  31.74  14.120   8C     4.71     20Mx   \n",
       "12  20200131 140133   NaN  80.0  40um  31.74  14.120   8C     4.71     20Mx   \n",
       "13  20200131 140315   NaN  80.0  40um  31.74  14.120   8C     4.71     20Mx   \n",
       "14  20200131 140508   NaN  80.0  40um  31.74  14.120   8C     4.71     20Mx   \n",
       "15  20200131 140655   NaN  80.0  40um  31.74  14.120   8C     4.71     20Mx   \n",
       "16  20200131 140834   NaN  80.0  40um  31.74  14.120   8C     4.71     20Mx   \n",
       "17              NaN   NaN   NaN   NaN    NaN     NaN  NaN      NaN      NaN   \n",
       "18  20200131 142938   NaN  80.0  20um  15.50  25.468   8C     4.71     20Mx   \n",
       "19  20200131 143302   NaN  80.0  20um  15.50  25.468   8C     4.71     20Mx   \n",
       "20  20200131 143448   NaN  80.0  20um  15.50  25.468   8C     4.71     20Mx   \n",
       "21              NaN   NaN   NaN   NaN    NaN     NaN  NaN      NaN      NaN   \n",
       "22  20200131 154940   NaN  80.0  10um    NaN  33.616   8C     4.71     20Mx   \n",
       "23  20200131 155308   NaN  80.0  10um    NaN  33.616   8C     4.71     20Mx   \n",
       "24  20200131 155509   NaN  80.0  10um    NaN  33.616   8C     4.71     20Mx   \n",
       "25  20200131 155648   NaN  80.0  10um    NaN  33.616   8C     4.71     20Mx   \n",
       "\n",
       "    nominal defocus (nm)  probe positions recorded  Probe positions hdf5  \\\n",
       "0                    0.0                     256.0                   NaN   \n",
       "1                    0.0                     256.0                   NaN   \n",
       "2                   -5.0                     256.0                   NaN   \n",
       "3                  -10.0                     256.0                   NaN   \n",
       "4                  -15.0                     256.0                   NaN   \n",
       "5                  -20.0                     256.0                   NaN   \n",
       "6                  -25.0                     256.0                   NaN   \n",
       "7                  -30.0                     256.0                   NaN   \n",
       "8                    NaN                       NaN                   NaN   \n",
       "9                    0.0                     256.0                   NaN   \n",
       "10                   0.0                     256.0                   NaN   \n",
       "11                  -5.0                     256.0                   NaN   \n",
       "12                 -10.0                     256.0                   NaN   \n",
       "13                 -15.0                     256.0                   NaN   \n",
       "14                 -20.0                     256.0                   NaN   \n",
       "15                 -25.0                     256.0                   NaN   \n",
       "16                 -30.0                     256.0                   NaN   \n",
       "17                   NaN                       NaN                   NaN   \n",
       "18                   0.0                     256.0                   NaN   \n",
       "19                 -70.0                     256.0                   NaN   \n",
       "20                -150.0                     256.0                   NaN   \n",
       "21                   NaN                       NaN                   NaN   \n",
       "22                   0.0                     256.0                   NaN   \n",
       "23                 -10.0                     256.0                   NaN   \n",
       "24                 -20.0                     256.0                   NaN   \n",
       "25                 -70.0                     256.0                   NaN   \n",
       "\n",
       "    Field of view (Ang)  step size (Ang)  counter depth  Saved data bit depth  \\\n",
       "0          9.520000e-09     3.718750e-11            6.0                   8.0   \n",
       "1          9.520000e-09     3.718750e-11            6.0                   8.0   \n",
       "2          9.520000e-09     3.718750e-11            6.0                   8.0   \n",
       "3          9.520000e-09     3.718750e-11            6.0                   8.0   \n",
       "4          9.520000e-09     3.718750e-11            6.0                   8.0   \n",
       "5          9.520000e-09     3.718750e-11            6.0                   8.0   \n",
       "6          9.520000e-09     3.718750e-11            6.0                   8.0   \n",
       "7          9.520000e-09     3.718750e-11            6.0                   8.0   \n",
       "8                   NaN              NaN            NaN                   NaN   \n",
       "9          9.520000e-09     3.718750e-11            6.0                   8.0   \n",
       "10         9.520000e-09     3.718750e-11            6.0                   8.0   \n",
       "11         9.520000e-09     3.718750e-11            6.0                   8.0   \n",
       "12         9.520000e-09     3.718750e-11            6.0                   8.0   \n",
       "13         9.520000e-09     3.718750e-11            6.0                   8.0   \n",
       "14         9.520000e-09     3.718750e-11            6.0                   8.0   \n",
       "15         9.520000e-09     3.718750e-11            6.0                   8.0   \n",
       "16         9.520000e-09     3.718750e-11            6.0                   8.0   \n",
       "17                  NaN              NaN            NaN                   NaN   \n",
       "18         9.520000e-09     3.718750e-11            6.0                   8.0   \n",
       "19         9.520000e-09     3.718750e-11            6.0                   8.0   \n",
       "20         9.520000e-09     3.718750e-11            6.0                   8.0   \n",
       "21                  NaN              NaN            NaN                   NaN   \n",
       "22         9.520000e-09     3.718750e-11            6.0                   8.0   \n",
       "23         9.520000e-09     3.718750e-11            6.0                   8.0   \n",
       "24         9.520000e-09     3.718750e-11            6.0                   8.0   \n",
       "25         9.520000e-09     3.718750e-11            6.0                   8.0   \n",
       "\n",
       "    frame time (ms)                                              Notes  \n",
       "0               0.7  CL - 20cm on microscope,  sampling of probe to...  \n",
       "1               0.7  CL - 10cm on microscope,, Probe overlap: 76%; ...  \n",
       "2               0.7                                                NaN  \n",
       "3               0.7                                                NaN  \n",
       "4               0.7                                                NaN  \n",
       "5               0.7                                                NaN  \n",
       "6               0.7                                                NaN  \n",
       "7               0.7                                                NaN  \n",
       "8               NaN                                                NaN  \n",
       "9               0.7                             CL - 8cm on microscope  \n",
       "10              0.7                                                NaN  \n",
       "11              0.7                                                NaN  \n",
       "12              0.7                                                NaN  \n",
       "13              0.7                                                NaN  \n",
       "14              0.7                                                NaN  \n",
       "15              0.7                                                NaN  \n",
       "16              0.7                                                NaN  \n",
       "17              NaN                                                NaN  \n",
       "18              0.7                            CL - 15cm on microscope  \n",
       "19              0.7                                                NaN  \n",
       "20              0.7                                                NaN  \n",
       "21              NaN                                                NaN  \n",
       "22              0.7                            CL - 20cm on microscope  \n",
       "23              0.7                                                NaN  \n",
       "24              0.7                                                NaN  \n",
       "25              0.7                                                NaN  "
      ]
     },
     "execution_count": 7,
     "metadata": {},
     "output_type": "execute_result"
    }
   ],
   "source": [
    "data_details"
   ]
  },
  {
   "cell_type": "code",
   "execution_count": 8,
   "metadata": {},
   "outputs": [],
   "source": [
    "data_64rad = data_details[(data_details['CLA']=='40um') & (data_details['nominal defocus (nm)']==-30.0)]"
   ]
  },
  {
   "cell_type": "code",
   "execution_count": 9,
   "metadata": {},
   "outputs": [
    {
     "data": {
      "text/html": [
       "<div>\n",
       "<style scoped>\n",
       "    .dataframe tbody tr th:only-of-type {\n",
       "        vertical-align: middle;\n",
       "    }\n",
       "\n",
       "    .dataframe tbody tr th {\n",
       "        vertical-align: top;\n",
       "    }\n",
       "\n",
       "    .dataframe thead th {\n",
       "        text-align: right;\n",
       "    }\n",
       "</style>\n",
       "<table border=\"1\" class=\"dataframe\">\n",
       "  <thead>\n",
       "    <tr style=\"text-align: right;\">\n",
       "      <th></th>\n",
       "      <th>Folder</th>\n",
       "      <th>File</th>\n",
       "      <th>keV</th>\n",
       "      <th>CLA</th>\n",
       "      <th>alpha</th>\n",
       "      <th>CL</th>\n",
       "      <th>Spot</th>\n",
       "      <th>A2 (kV)</th>\n",
       "      <th>Scan Mag</th>\n",
       "      <th>nominal defocus (nm)</th>\n",
       "      <th>probe positions recorded</th>\n",
       "      <th>Probe positions hdf5</th>\n",
       "      <th>Field of view (Ang)</th>\n",
       "      <th>step size (Ang)</th>\n",
       "      <th>counter depth</th>\n",
       "      <th>Saved data bit depth</th>\n",
       "      <th>frame time (ms)</th>\n",
       "      <th>Notes</th>\n",
       "    </tr>\n",
       "  </thead>\n",
       "  <tbody>\n",
       "    <tr>\n",
       "      <th>7</th>\n",
       "      <td>20200130 163907</td>\n",
       "      <td>NaN</td>\n",
       "      <td>80.0</td>\n",
       "      <td>40um</td>\n",
       "      <td>31.74</td>\n",
       "      <td>17.32</td>\n",
       "      <td>8C</td>\n",
       "      <td>4.71</td>\n",
       "      <td>20Mx</td>\n",
       "      <td>-30.0</td>\n",
       "      <td>256.0</td>\n",
       "      <td>NaN</td>\n",
       "      <td>9.520000e-09</td>\n",
       "      <td>3.718750e-11</td>\n",
       "      <td>6.0</td>\n",
       "      <td>8.0</td>\n",
       "      <td>0.7</td>\n",
       "      <td>NaN</td>\n",
       "    </tr>\n",
       "    <tr>\n",
       "      <th>16</th>\n",
       "      <td>20200131 140834</td>\n",
       "      <td>NaN</td>\n",
       "      <td>80.0</td>\n",
       "      <td>40um</td>\n",
       "      <td>31.74</td>\n",
       "      <td>14.12</td>\n",
       "      <td>8C</td>\n",
       "      <td>4.71</td>\n",
       "      <td>20Mx</td>\n",
       "      <td>-30.0</td>\n",
       "      <td>256.0</td>\n",
       "      <td>NaN</td>\n",
       "      <td>9.520000e-09</td>\n",
       "      <td>3.718750e-11</td>\n",
       "      <td>6.0</td>\n",
       "      <td>8.0</td>\n",
       "      <td>0.7</td>\n",
       "      <td>NaN</td>\n",
       "    </tr>\n",
       "  </tbody>\n",
       "</table>\n",
       "</div>"
      ],
      "text/plain": [
       "             Folder  File   keV   CLA  alpha     CL Spot  A2 (kV) Scan Mag  \\\n",
       "7   20200130 163907   NaN  80.0  40um  31.74  17.32   8C     4.71     20Mx   \n",
       "16  20200131 140834   NaN  80.0  40um  31.74  14.12   8C     4.71     20Mx   \n",
       "\n",
       "    nominal defocus (nm)  probe positions recorded  Probe positions hdf5  \\\n",
       "7                  -30.0                     256.0                   NaN   \n",
       "16                 -30.0                     256.0                   NaN   \n",
       "\n",
       "    Field of view (Ang)  step size (Ang)  counter depth  Saved data bit depth  \\\n",
       "7          9.520000e-09     3.718750e-11            6.0                   8.0   \n",
       "16         9.520000e-09     3.718750e-11            6.0                   8.0   \n",
       "\n",
       "    frame time (ms) Notes  \n",
       "7               0.7   NaN  \n",
       "16              0.7   NaN  "
      ]
     },
     "execution_count": 9,
     "metadata": {},
     "output_type": "execute_result"
    }
   ],
   "source": [
    "data_64rad"
   ]
  },
  {
   "cell_type": "code",
   "execution_count": 10,
   "metadata": {},
   "outputs": [
    {
     "name": "stdout",
     "output_type": "stream",
     "text": [
      "/dls/e02/data/2020/cm26481-1/processing/Merlin/20200130_80kV_graphene_600C_pty/20200130 163907\n",
      "True\n",
      "/dls/e02/data/2020/cm26481-1/processing/Merlin/20200130_80kV_graphene_600C_pty/20200131 140834\n",
      "False\n"
     ]
    }
   ],
   "source": [
    "for item in data_64rad['Folder']:\n",
    "    data_path = os.path.join(root_path, item)\n",
    "    print(data_path)\n",
    "    print(os.path.exists(data_path))"
   ]
  },
  {
   "cell_type": "code",
   "execution_count": 12,
   "metadata": {},
   "outputs": [],
   "source": [
    "test = '/dls/e02/data/2020/cm26481-1/processing/Merlin/20200130_80kV_graphene_600C_pty/20200131_140834/80kV_600C_CLA_40um_CL_8cm_8C_20Mx_A2_4p71_dfneg30nm_subset_dp.hspy'"
   ]
  },
  {
   "cell_type": "code",
   "execution_count": 12,
   "metadata": {},
   "outputs": [
    {
     "name": "stdout",
     "output_type": "stream",
     "text": [
      "<Signal2D, title: , dimensions: (|515, 515)>\n"
     ]
    }
   ],
   "source": [
    "d = hs.load(test)\n",
    "print(d)"
   ]
  },
  {
   "cell_type": "code",
   "execution_count": 13,
   "metadata": {},
   "outputs": [],
   "source": [
    "bf = get_bf_disc(d)"
   ]
  },
  {
   "cell_type": "code",
   "execution_count": 15,
   "metadata": {},
   "outputs": [
    {
     "data": {
      "text/plain": [
       "CircleROI(cx=272, cy=264, r=81.5, r_inner=0)"
      ]
     },
     "execution_count": 15,
     "metadata": {},
     "output_type": "execute_result"
    }
   ],
   "source": [
    "bf"
   ]
  },
  {
   "cell_type": "code",
   "execution_count": 14,
   "metadata": {},
   "outputs": [],
   "source": [
    "cl = calc_camera_length(d, 81.5, 0.0317, 55e-6)"
   ]
  },
  {
   "cell_type": "code",
   "execution_count": 15,
   "metadata": {},
   "outputs": [
    {
     "data": {
      "text/plain": [
       "0.008965"
      ]
     },
     "execution_count": 15,
     "metadata": {},
     "output_type": "execute_result"
    }
   ],
   "source": [
    "2* 81.5 * 55e-6"
   ]
  },
  {
   "cell_type": "code",
   "execution_count": 16,
   "metadata": {},
   "outputs": [
    {
     "data": {
      "text/plain": [
       "0.14140378548895902"
      ]
     },
     "execution_count": 16,
     "metadata": {},
     "output_type": "execute_result"
    }
   ],
   "source": [
    "cl"
   ]
  },
  {
   "cell_type": "code",
   "execution_count": 17,
   "metadata": {},
   "outputs": [],
   "source": [
    "pixelSize = calc_pixelSize(80000, 515, 55e-6, cl)"
   ]
  },
  {
   "cell_type": "code",
   "execution_count": 18,
   "metadata": {},
   "outputs": [
    {
     "data": {
      "text/plain": [
       "2.0845968595056743e-11"
      ]
     },
     "execution_count": 18,
     "metadata": {},
     "output_type": "execute_result"
    }
   ],
   "source": [
    "pixelSize"
   ]
  },
  {
   "cell_type": "code",
   "execution_count": 19,
   "metadata": {},
   "outputs": [],
   "source": [
    "probe_rad = calc_probe_size(pixelSize, [512, 512], e_lambda(80000), 30e-9, 0.0317)"
   ]
  },
  {
   "cell_type": "code",
   "execution_count": 20,
   "metadata": {},
   "outputs": [
    {
     "data": {
      "text/plain": [
       "3.493131176463247e-09"
      ]
     },
     "execution_count": 20,
     "metadata": {},
     "output_type": "execute_result"
    }
   ],
   "source": [
    "probe_rad"
   ]
  },
  {
   "cell_type": "code",
   "execution_count": 21,
   "metadata": {},
   "outputs": [],
   "source": [
    "step = data_64rad.at[16, 'step size (Ang)']"
   ]
  },
  {
   "cell_type": "code",
   "execution_count": 22,
   "metadata": {},
   "outputs": [
    {
     "data": {
      "text/plain": [
       "3.71875e-11"
      ]
     },
     "execution_count": 22,
     "metadata": {},
     "output_type": "execute_result"
    }
   ],
   "source": [
    "step"
   ]
  },
  {
   "cell_type": "code",
   "execution_count": 23,
   "metadata": {},
   "outputs": [
    {
     "data": {
      "text/plain": [
       "2.057786347892776"
      ]
     },
     "execution_count": 23,
     "metadata": {},
     "output_type": "execute_result"
    }
   ],
   "source": [
    "get_overlap(probe_rad, step*184)"
   ]
  },
  {
   "cell_type": "code",
   "execution_count": 13,
   "metadata": {},
   "outputs": [],
   "source": [
    "exp_data_list = []\n",
    "for file in os.listdir(os.path.dirname(test)):\n",
    "    if 'probe_overlap' in file:\n",
    "        exp_data_list.append(file)"
   ]
  },
  {
   "cell_type": "code",
   "execution_count": 14,
   "metadata": {},
   "outputs": [
    {
     "data": {
      "text/plain": [
       "['probe_overlap_70_skip56.hdf5',\n",
       " 'probe_overlap_95_skip9.hdf5',\n",
       " 'probe_overlap_60_skip74.hdf5',\n",
       " 'probe_overlap_90_skip18.hdf5',\n",
       " 'probe_overlap_35_skip121.hdf5',\n",
       " 'probe_overlap_80_skip36.hdf5']"
      ]
     },
     "execution_count": 14,
     "metadata": {},
     "output_type": "execute_result"
    }
   ],
   "source": [
    "exp_data_list"
   ]
  },
  {
   "cell_type": "code",
   "execution_count": null,
   "metadata": {},
   "outputs": [],
   "source": []
  },
  {
   "cell_type": "code",
   "execution_count": 20,
   "metadata": {},
   "outputs": [],
   "source": [
    "d = hs.load(os.path.join(os.path.dirname(test), '80kV_600C_CLA_40um_CL_8cm_8C_20Mx_A2_4p71_dfneg30nm_scan_array_255by255_diff_plane_515by515_.hdf5'), lazy = True)"
   ]
  },
  {
   "cell_type": "code",
   "execution_count": 21,
   "metadata": {},
   "outputs": [
    {
     "name": "stdout",
     "output_type": "stream",
     "text": [
      "<LazySignal2D, title: , dimensions: (255, 255|515, 515)>\n"
     ]
    }
   ],
   "source": [
    "print(d)"
   ]
  },
  {
   "cell_type": "code",
   "execution_count": 22,
   "metadata": {},
   "outputs": [
    {
     "data": {
      "text/html": [
       "<table>\n",
       "<tr>\n",
       "<td>\n",
       "<table>\n",
       "  <thead>\n",
       "    <tr><td> </td><th> Array </th><th> Chunk </th></tr>\n",
       "  </thead>\n",
       "  <tbody>\n",
       "    <tr><th> Bytes </th><td> 8 B </td> <td> 8 B </td></tr>\n",
       "    <tr><th> Shape </th><td> () </td> <td> () </td></tr>\n",
       "    <tr><th> Count </th><td> 76204 Tasks </td><td> 1 Chunks </td></tr>\n",
       "    <tr><th> Type </th><td> uint64 </td><td> numpy.ndarray </td></tr>\n",
       "  </tbody>\n",
       "</table>\n",
       "</td>\n",
       "<td>\n",
       "\n",
       "</td>\n",
       "</tr>\n",
       "</table>"
      ],
      "text/plain": [
       "dask.array<sum-aggregate, shape=(), dtype=uint64, chunksize=(), chunktype=numpy.ndarray>"
      ]
     },
     "execution_count": 22,
     "metadata": {},
     "output_type": "execute_result"
    }
   ],
   "source": [
    "np.sum(d.data)"
   ]
  },
  {
   "cell_type": "code",
   "execution_count": 106,
   "metadata": {},
   "outputs": [
    {
     "name": "stdout",
     "output_type": "stream",
     "text": [
      "<LazySignal2D, title: , dimensions: (29, 29|515, 515)>\n"
     ]
    }
   ],
   "source": [
    "d_95 = d.inav[::9, ::9]\n",
    "print(d_95)"
   ]
  },
  {
   "cell_type": "code",
   "execution_count": 29,
   "metadata": {},
   "outputs": [
    {
     "name": "stdout",
     "output_type": "stream",
     "text": [
      "<LazySignal2D, title: , dimensions: (15, 15|515, 515)>\n"
     ]
    }
   ],
   "source": [
    "d_90 = d.inav[::18, ::18]\n",
    "print(d_90)"
   ]
  },
  {
   "cell_type": "code",
   "execution_count": 95,
   "metadata": {},
   "outputs": [
    {
     "name": "stdout",
     "output_type": "stream",
     "text": [
      "<LazySignal2D, title: , dimensions: (8, 8|515, 515)>\n"
     ]
    }
   ],
   "source": [
    "d_80 = d.inav[::36, ::36]\n",
    "print(d_80)"
   ]
  },
  {
   "cell_type": "code",
   "execution_count": 97,
   "metadata": {},
   "outputs": [
    {
     "name": "stdout",
     "output_type": "stream",
     "text": [
      "<LazySignal2D, title: , dimensions: (5, 5|515, 515)>\n"
     ]
    }
   ],
   "source": [
    "d_70 = d.inav[::56, ::56]\n",
    "print(d_70)"
   ]
  },
  {
   "cell_type": "code",
   "execution_count": 98,
   "metadata": {},
   "outputs": [
    {
     "name": "stdout",
     "output_type": "stream",
     "text": [
      "<LazySignal2D, title: , dimensions: (4, 4|515, 515)>\n"
     ]
    }
   ],
   "source": [
    "d_60 = d.inav[::74, ::74]\n",
    "print(d_60)"
   ]
  },
  {
   "cell_type": "code",
   "execution_count": 100,
   "metadata": {},
   "outputs": [
    {
     "name": "stdout",
     "output_type": "stream",
     "text": [
      "<LazySignal2D, title: , dimensions: (3, 3|515, 515)>\n"
     ]
    }
   ],
   "source": [
    "d_35 = d.inav[::121, ::121]\n",
    "print(d_35)"
   ]
  },
  {
   "cell_type": "code",
   "execution_count": 104,
   "metadata": {},
   "outputs": [],
   "source": [
    "d_80.save(os.path.join(os.path.dirname(test),'probe_overlap_80_skip36'), extension='hdf5')\n",
    "d_70.save(os.path.join(os.path.dirname(test),'probe_overlap_70_skip56'), extension='hdf5')\n",
    "d_60.save(os.path.join(os.path.dirname(test),'probe_overlap_60_skip74'), extension='hdf5')\n",
    "d_35.save(os.path.join(os.path.dirname(test),'probe_overlap_35_skip121'), extension='hdf5')"
   ]
  },
  {
   "cell_type": "code",
   "execution_count": 107,
   "metadata": {},
   "outputs": [],
   "source": [
    "d_90.save(os.path.join(os.path.dirname(test),'probe_overlap_90_skip18'), extension='hdf5')\n",
    "d_95.save(os.path.join(os.path.dirname(test),'probe_overlap_95_skip9'), extension='hdf5')"
   ]
  },
  {
   "cell_type": "code",
   "execution_count": 25,
   "metadata": {},
   "outputs": [
    {
     "data": {
      "text/plain": [
       "6.69375e-10"
      ]
     },
     "execution_count": 25,
     "metadata": {},
     "output_type": "execute_result"
    }
   ],
   "source": [
    "step * 18"
   ]
  },
  {
   "cell_type": "code",
   "execution_count": 24,
   "metadata": {},
   "outputs": [],
   "source": [
    "file = '/dls/e02/data/2020/cm26481-1/processing/Merlin/20200130_80kV_graphene_600C_pty/20200131_140834/001_20200417-132156.hdf'"
   ]
  },
  {
   "cell_type": "code",
   "execution_count": 28,
   "metadata": {},
   "outputs": [],
   "source": [
    "ob_exp = get_obj_func(file)"
   ]
  },
  {
   "cell_type": "code",
   "execution_count": 29,
   "metadata": {},
   "outputs": [
    {
     "data": {
      "text/plain": [
       "<matplotlib.image.AxesImage at 0x7f2deab9b0d0>"
      ]
     },
     "execution_count": 29,
     "metadata": {},
     "output_type": "execute_result"
    }
   ],
   "source": [
    "plt.figure()\n",
    "plt.imshow(np.angle(ob_exp))"
   ]
  },
  {
   "cell_type": "code",
   "execution_count": 27,
   "metadata": {},
   "outputs": [],
   "source": [
    "file = '/dls/e02/data/2020/cm26481-1/processing/Merlin/20200130_80kV_graphene_600C_pty/processing/pycho/140133_40um_df-10_rot49p22_dR_0p396Ang_20200212-105522.hdf'"
   ]
  },
  {
   "cell_type": "code",
   "execution_count": 30,
   "metadata": {},
   "outputs": [],
   "source": [
    "err= get_error(file)"
   ]
  },
  {
   "cell_type": "code",
   "execution_count": 32,
   "metadata": {},
   "outputs": [
    {
     "data": {
      "text/plain": [
       "[<matplotlib.lines.Line2D at 0x7f2de96ebf10>]"
      ]
     },
     "execution_count": 32,
     "metadata": {},
     "output_type": "execute_result"
    }
   ],
   "source": [
    "plt.figure()\n",
    "plt.plot(err)"
   ]
  },
  {
   "cell_type": "code",
   "execution_count": null,
   "metadata": {},
   "outputs": [],
   "source": []
  }
 ],
 "metadata": {
  "kernelspec": {
   "display_name": "Python 3",
   "language": "python",
   "name": "python3"
  },
  "language_info": {
   "codemirror_mode": {
    "name": "ipython",
    "version": 3
   },
   "file_extension": ".py",
   "mimetype": "text/x-python",
   "name": "python",
   "nbconvert_exporter": "python",
   "pygments_lexer": "ipython3",
   "version": "3.7.6"
  }
 },
 "nbformat": 4,
 "nbformat_minor": 4
}
