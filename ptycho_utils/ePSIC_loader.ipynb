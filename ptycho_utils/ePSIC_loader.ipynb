{
 "cells": [
  {
   "cell_type": "code",
   "execution_count": 1,
   "metadata": {},
   "outputs": [
    {
     "name": "stdout",
     "output_type": "stream",
     "text": [
      "ImportError: No module named 'cv2'\n"
     ]
    },
    {
     "name": "stderr",
     "output_type": "stream",
     "text": [
      "2020-06-19 10:05:09,008:/dls_sw/apps/python/anaconda/4.6.14/64/envs/python3.7/lib/python3.7/site-packages/matplotlib/pyplot.py:225:Loaded backend module://ipykernel.pylab.backend_inline version unknown.\n"
     ]
    }
   ],
   "source": [
    "import sys\n",
    "sys.path.append('/dls_sw/i13-1/scripts/ptyrex/ptyrex_3/')\n",
    "import ptyrex\n",
    "import json\n",
    "from ptyrex import np\n",
    "from ptyrex import h5py"
   ]
  },
  {
   "cell_type": "markdown",
   "metadata": {},
   "source": [
    "Set paths"
   ]
  },
  {
   "cell_type": "code",
   "execution_count": 2,
   "metadata": {},
   "outputs": [],
   "source": [
    "#base_dir = '/dls/e02/data/2020/cm26481-1/processing/Merlin/20200130_80kV_graphene_600C_pty/20200131 143302/'\n",
    "#data_id = '20200131_143302'\n",
    "#data_filename = '80kV_600C_CLA_20um_CL_8cm_8C_20Mx_A2_4p71_dfneg70nm_scan_array_255by255_diff_plane_515by515_.hdf5'\n",
    "\n",
    "base_dir = '/dls/e02/data/2019/cm22979-6/processing/Merlin/Merlin/20191001_15kV_ptycho/MoS2_700C/20191002 160536/'\n",
    "expt_id = 'AuGe'\n",
    "data_id = '20191002_160536'\n",
    "data_filename = 'AuonGe_15kV_100umClAp_3Mx_def77_A2_1p07scan_array_253by255_diff_plane_515by515_.hdf5'\n",
    "\n",
    "raw_data_path = base_dir + data_filename"
   ]
  },
  {
   "cell_type": "markdown",
   "metadata": {},
   "source": [
    "Populate meta data file"
   ]
  },
  {
   "cell_type": "code",
   "execution_count": 3,
   "metadata": {},
   "outputs": [],
   "source": [
    "pty_expt = {}\n",
    "\n",
    "pty_expt['institute'] = 'dls'\n",
    "pty_expt['instrument'] = 'e02'\n",
    "pty_expt['datetime'] = ''\n",
    "pty_expt['expt_id'] = expt_id\n",
    "pty_expt['data_id'] = data_id\n",
    "\n",
    "pty_expt['source'] = {}\n",
    "pty_expt['source']['radiation'] = 'electron'\n",
    "pty_expt['source']['energy'] = 15e3\n",
    "\n",
    "pty_expt['detector'] = {}\n",
    "pty_expt['detector']['name'] = 'merlin'\n",
    "pty_expt['detector']['bit_depth'] = 12\n",
    "pty_expt['detector']['shape'] = [512, 512]\n",
    "pty_expt['detector']['pixel_pitch'] = [55e-6, 55e-6]\n",
    "pty_expt['detector']['position'] = [0, 0, 0.187]\n",
    "\n",
    "pty_expt['scan'] = {}\n",
    "pty_expt['scan']['element'] = 'beam'\n",
    "pty_expt['scan']['type'] = 'tv'\n",
    "pty_expt['scan']['fast_axis'] = 1\n",
    "pty_expt['scan']['step'] = [2.6e-10, 2.6e-10]\n",
    "pty_expt['scan']['shape'] = [253, 255]\n",
    "pty_expt['scan']['path'] = ''\n",
    "\n",
    "pty_expt['data'] = {}\n",
    "pty_expt['data']['path'] = raw_data_path\n",
    "pty_expt['data']['key'] = 'Experiments/__unnamed__/data'\n",
    "\n",
    "pty_expt['optics'] = {}\n",
    "pty_expt['optics']['type'] = 'lens'\n",
    "pty_expt['optics']['alpha'] = 0.017\n",
    "pty_expt['optics']['defocus'] = -30e-09"
   ]
  },
  {
   "cell_type": "code",
   "execution_count": 4,
   "metadata": {},
   "outputs": [],
   "source": [
    "with open(base_dir + 'pty_meta_' + data_id + '.json','w') as f:\n",
    "    json.dump(pty_expt, f, indent=4)"
   ]
  },
  {
   "cell_type": "markdown",
   "metadata": {},
   "source": [
    "Create scan position file"
   ]
  },
  {
   "cell_type": "code",
   "execution_count": 5,
   "metadata": {
    "scrolled": true
   },
   "outputs": [
    {
     "name": "stderr",
     "output_type": "stream",
     "text": [
      "2020-06-19 10:05:09,134:/dls_sw/i13-1/scripts/ptyrex/ptyrex_3/ptyrex/core/loader/scan.py:7:Generating scan..\n"
     ]
    },
    {
     "name": "stdout",
     "output_type": "stream",
     "text": [
      "Scan list shape: (64515, 2)\n"
     ]
    }
   ],
   "source": [
    "scan = ptyrex.core.model.scan.Scan()\n",
    "scan.type = pty_expt['scan']['type']\n",
    "scan.step = pty_expt['scan']['step']\n",
    "scan.sz = pty_expt['scan']['shape']\n",
    "scan.fast_axis = pty_expt['scan']['fast_axis']\n",
    "scan.create()\n",
    "scan.positions *= 1e6 # currently expects ums, should be all SI units eventually.\n",
    "print(\"Scan list shape:\", scan.positions.shape)"
   ]
  },
  {
   "cell_type": "markdown",
   "metadata": {},
   "source": [
    "Convert 4D data to 3D"
   ]
  },
  {
   "cell_type": "code",
   "execution_count": 6,
   "metadata": {},
   "outputs": [
    {
     "name": "stdout",
     "output_type": "stream",
     "text": [
      "4D shape: (253, 255, 515, 515)\n",
      "3D shape: (64515, 515, 515)\n"
     ]
    }
   ],
   "source": [
    "with h5py.File(pty_expt['data']['path'],'r') as f:\n",
    "    data_full = np.array(f[pty_expt['data']['key']])\n",
    "print(\"4D shape:\", data_full.shape)\n",
    "data_full = np.reshape(data_full,[np.prod(data_full.shape[:2]), data_full.shape[-2], data_full.shape[-1]])\n",
    "print(\"3D shape:\", data_full.shape)"
   ]
  },
  {
   "cell_type": "code",
   "execution_count": 8,
   "metadata": {},
   "outputs": [
    {
     "name": "stdout",
     "output_type": "stream",
     "text": [
      "/dls/e02/data/2019/cm22979-6/processing/Merlin/Merlin/20191001_15kV_ptycho/MoS2_700C/20191002 160536/pty_data_20191002_160536.h5\n"
     ]
    }
   ],
   "source": [
    "data_key = 'data/frames'\n",
    "scan_key = 'data/scan'\n",
    "filename = base_dir + 'pty_data_'+ data_id +'.h5'\n",
    "\n",
    "with h5py.File(filename,'w') as f:\n",
    "    f.create_dataset(data_key, data = data_full)\n",
    "    f.create_dataset(scan_key, data = scan.positions)\n",
    "    #Should add mask entry\n",
    "    #Think about flux readout\n",
    "    \n",
    "print(filename)"
   ]
  },
  {
   "cell_type": "code",
   "execution_count": null,
   "metadata": {},
   "outputs": [],
   "source": []
  }
 ],
 "metadata": {
  "kernelspec": {
   "display_name": "Python 3.7",
   "language": "python",
   "name": "python3"
  },
  "language_info": {
   "codemirror_mode": {
    "name": "ipython",
    "version": 3
   },
   "file_extension": ".py",
   "mimetype": "text/x-python",
   "name": "python",
   "nbconvert_exporter": "python",
   "pygments_lexer": "ipython3",
   "version": "3.7.3"
  }
 },
 "nbformat": 4,
 "nbformat_minor": 2
}
