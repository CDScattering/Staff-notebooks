{
 "cells": [
  {
   "cell_type": "code",
   "execution_count": 1,
   "metadata": {},
   "outputs": [],
   "source": [
    "%matplotlib qt\n",
    "# %matplotlib inline"
   ]
  },
  {
   "cell_type": "code",
   "execution_count": 2,
   "metadata": {},
   "outputs": [],
   "source": [
    "import numpy as np\n",
    "import os\n",
    "import h5py\n",
    "import sys\n",
    "import matplotlib.pyplot as plt"
   ]
  },
  {
   "cell_type": "code",
   "execution_count": 3,
   "metadata": {},
   "outputs": [],
   "source": [
    "sys.path.append('/dls/science/groups/e02/Mohsen/code/Git_Repos/Staff-notebooks/ptyREX_sim_matrix')"
   ]
  },
  {
   "cell_type": "code",
   "execution_count": 4,
   "metadata": {},
   "outputs": [],
   "source": [
    "from sim_utils import *\n",
    "from sim_utils import _sigma\n",
    "from recon_utils import *"
   ]
  },
  {
   "cell_type": "code",
   "execution_count": 5,
   "metadata": {},
   "outputs": [],
   "source": [
    "matrix_path = '/dls/e02/data/2020/cm26481-1/processing/pty_simulated_data_MD/sim_matrix_ptyREX_25April2020'\n",
    "# run_ID: 26042020 - 100 iterations \n",
    "# run_ID: 2000iter\n",
    "# json_files = get_ptyREX_recon_list(matrix_path, run_id = '26042020') \n",
    "json_files = get_ptyREX_recon_list(matrix_path, run_id = '2000iter')"
   ]
  },
  {
   "cell_type": "code",
   "execution_count": 6,
   "metadata": {},
   "outputs": [
    {
     "data": {
      "text/plain": [
       "112"
      ]
     },
     "execution_count": 6,
     "metadata": {},
     "output_type": "execute_result"
    }
   ],
   "source": [
    "len(json_files)"
   ]
  },
  {
   "cell_type": "code",
   "execution_count": 7,
   "metadata": {},
   "outputs": [],
   "source": [
    "# sorting the json files\n",
    "conv_angles = [0.016, 0.020, 0.024, 0.030, 0.040, 0.050, 0.064, 0.084]\n",
    "diff_overlap = [-22.5, 1.99, 18.33, 34.70, 51.00, 60.80, 69.37, 76.67]\n",
    "real_probe_overlap = [-5, 2, 15, 35, 60, 70, 80]\n",
    "\n",
    "\n",
    "focus_probes_dict = []\n",
    "defocus_probes_dict = []\n",
    "for file in json_files:\n",
    "    j_dict = json_to_dict(file)\n",
    "    if j_dict['experiment']['optics']['lens']['defocus'][0] == 0.00:\n",
    "        for i, angle in enumerate(conv_angles):\n",
    "            focus_probes_dict.append([])\n",
    "            if j_dict['process']['common']['probe']['convergence'] == angle:\n",
    "                focus_probes_dict[i].append(j_dict)\n",
    "    else:\n",
    "        for i, angle in enumerate(conv_angles):\n",
    "            defocus_probes_dict.append([])\n",
    "            if j_dict['process']['common']['probe']['convergence'] == angle:\n",
    "                defocus_probes_dict[i].append(j_dict)\n",
    "                \n",
    "for i, angle in enumerate(conv_angles):\n",
    "    #print(angle)\n",
    "    focus_probes_dict[i].sort(key=lambda e: e['process']['common']['scan']['dR'][0], reverse = True)\n",
    "    defocus_probes_dict[i].sort(key=lambda e: e['process']['common']['scan']['dR'][0], reverse = True)"
   ]
  },
  {
   "cell_type": "code",
   "execution_count": 40,
   "metadata": {},
   "outputs": [],
   "source": [
    "# focused probe cases - fft only\n",
    "rows = len(defocus_probes_dict[0])\n",
    "cols = len(conv_angles)\n",
    "#print(rows, cols)\n",
    "fig, axs = plt.subplots(nrows=rows, ncols=cols, sharex=True, sharey=True,figsize=(8, 12))\n",
    "#fig.suptitle('Focused probe conditions', fontsize = 12)\n",
    "\n",
    "for idx in range(rows):    \n",
    "      for idy in range(cols): \n",
    "            obj = crop_recon_obj(focus_probes_dict[idy][idx]['json_path'])\n",
    "            #print(idx, idy)\n",
    "            j_dict = j_dict = json_to_dict(focus_probes_dict[idy][idx]['json_path'])\n",
    "            axs[idx,idy].imshow(np.log(abs(get_fft(obj))), cmap = 'viridis')\n",
    "#             axs[idx,idy].imshow(abs(get_fft(obj)), cmap = 'viridis')\n",
    "\n",
    "            axs[idx,idy].set_xticks([])\n",
    "            axs[idx,idy].set_yticks([])\n",
    "            if idx == 0:\n",
    "                axs[idx,idy].set_title(str(1e3 * j_dict['process']['common']['probe']['convergence']) + 'mrad \\n' + \\\n",
    "                    'step size ($\\AA$) %2.2f'%(1e10*j_dict['process']['common']['scan']['dR'][0]) + '\\n' + \\\n",
    "                                       str(diff_overlap[idy]) + '%overlap', color = 'red', fontsize = 8)\n",
    "            elif idy == 0:\n",
    "                axs[idx,idy].set_title('step size ($\\AA$) %2.3f'%(1e10*j_dict['process']['common']['scan']['dR'][0]), color = 'black', fontsize = 5)\n",
    "                axs[idx, idy].set_ylabel(str(real_probe_overlap[idx]) + '%overlap', color = 'red', fontsize = 8)\n",
    "            else:\n",
    "                axs[idx,idy].set_title('%2.3f'%(1e10*j_dict['process']['common']['scan']['dR'][0]), color = 'black', fontsize = 5)\n",
    "#plt.tight_layout()"
   ]
  },
  {
   "cell_type": "code",
   "execution_count": 41,
   "metadata": {},
   "outputs": [],
   "source": [
    "# focused probe cases - obj phase only\n",
    "rows = len(defocus_probes_dict[0])\n",
    "cols = len(conv_angles)\n",
    "#print(rows, cols)\n",
    "fig, axs = plt.subplots(nrows=rows, ncols=cols, sharex=True, sharey=True,figsize=(18, 10))\n",
    "#fig.suptitle('Focused probe conditions', fontsize = 12)\n",
    "\n",
    "for idx in range(rows):    \n",
    "      for idy in range(cols): \n",
    "            obj = crop_recon_obj(focus_probes_dict[idy][idx]['json_path'])\n",
    "            #print(idx, idy)\n",
    "            j_dict = j_dict = json_to_dict(focus_probes_dict[idy][idx]['json_path'])\n",
    "            \n",
    "            img = abs(np.min(np.angle(obj))) + np.angle(obj)\n",
    "            sh0 = img.shape[0]\n",
    "            sh1 = 82\n",
    "            img_crop = img[int(sh0/2 - sh1/2):int(sh0/2 + sh1/2), int(sh0/2 - sh1/2):int(sh0/2 + sh1/2)]\n",
    "            \n",
    "            axs[idx,idy].imshow(img_crop, cmap = 'magma_r')\n",
    "#             axs[idx,idy].imshow(abs(get_fft(obj)), cmap = 'viridis')\n",
    "\n",
    "            axs[idx,idy].set_xticks([])\n",
    "            axs[idx,idy].set_yticks([])\n",
    "            if idx == 0:\n",
    "                axs[idx,idy].set_title(str(1e3 * j_dict['process']['common']['probe']['convergence']) + 'mrad \\n' + \\\n",
    "                    'step size ($\\AA$) %2.2f'%(1e10*j_dict['process']['common']['scan']['dR'][0]) + '\\n' + \\\n",
    "                                       str(diff_overlap[idy]) + '%overlap', color = 'red', fontsize = 8)\n",
    "            elif idy == 0:\n",
    "                axs[idx,idy].set_title('step size ($\\AA$) %2.3f'%(1e10*j_dict['process']['common']['scan']['dR'][0]), color = 'black', fontsize = 8)\n",
    "                axs[idx, idy].set_ylabel(str(real_probe_overlap[idx]) + '%overlap', color = 'red', fontsize = 8)\n",
    "            else:\n",
    "                axs[idx,idy].set_title('%2.3f'%(1e10*j_dict['process']['common']['scan']['dR'][0]), color = 'black', fontsize = 6)\n",
    "#plt.tight_layout()"
   ]
  },
  {
   "cell_type": "code",
   "execution_count": 42,
   "metadata": {},
   "outputs": [],
   "source": [
    "# defocused probe cases - fft only\n",
    "rows = len(defocus_probes_dict[0])\n",
    "cols = len(conv_angles)\n",
    "#print(rows, cols)\n",
    "fig, axs = plt.subplots(nrows=rows, ncols=cols, sharex=True, sharey=True,figsize=(8, 11))\n",
    "for idx in range(rows):    \n",
    "      for idy in range(cols): \n",
    "            try:\n",
    "                obj = crop_recon_obj(defocus_probes_dict[idy][idx]['json_path'])\n",
    "                #print(idx, idy)\n",
    "                j_dict = j_dict = json_to_dict(defocus_probes_dict[idy][idx]['json_path'])\n",
    "                axs[idx,idy].imshow(np.sqrt(abs(get_fft(obj))), cmap = 'viridis')\n",
    "                axs[idx,idy].set_xticks([])\n",
    "                axs[idx,idy].set_yticks([])\n",
    "                if idx == 0:\n",
    "                    axs[idx,idy].set_title(str(1e3 * j_dict['process']['common']['probe']['convergence']) + 'mrad \\n' + \\\n",
    "                        'step size ($\\AA$) %2.3f'%(1e10*j_dict['process']['common']['scan']['dR'][0])+ '\\n' + \\\n",
    "                                       str(diff_overlap[idy]) + '%overlap', color = 'red', fontsize = 8)\n",
    "                elif idy == 0:\n",
    "                    axs[idx,idy].set_title('step size ($\\AA$) %2.3f'%(1e10*j_dict['process']['common']['scan']['dR'][0]), color = 'black', fontsize = 5)\n",
    "                    axs[idx, idy].set_ylabel(str(real_probe_overlap[idx]) + '%overlap', color = 'red', fontsize = 8)\n",
    "                else:\n",
    "                    axs[idx,idy].set_title('%2.3f'%(1e10*j_dict['process']['common']['scan']['dR'][0]), color = 'black', fontsize = 5)\n",
    "            except IndexError:\n",
    "                pass\n",
    "#plt.tight_layout()            "
   ]
  },
  {
   "cell_type": "code",
   "execution_count": 43,
   "metadata": {},
   "outputs": [],
   "source": [
    "# defocused probe cases - obj phase only\n",
    "rows = len(defocus_probes_dict[0])\n",
    "cols = len(conv_angles)\n",
    "#print(rows, cols)\n",
    "fig, axs = plt.subplots(nrows=rows, ncols=cols, sharex=True, sharey=True,figsize=(8, 11))\n",
    "for idx in range(rows):    \n",
    "      for idy in range(cols): \n",
    "            try:\n",
    "                obj = crop_recon_obj(defocus_probes_dict[idy][idx]['json_path'])\n",
    "                #print(idx, idy)\n",
    "                j_dict = json_to_dict(defocus_probes_dict[idy][idx]['json_path'])\n",
    "                \n",
    "                img = abs(np.min(np.angle(obj))) + np.angle(obj)\n",
    "                sh0 = img.shape[0]\n",
    "                sh1 = 82\n",
    "                img_crop = img[int(sh0/2 - sh1/2):int(sh0/2 + sh1/2), int(sh0/2 - sh1/2):int(sh0/2 + sh1/2)]\n",
    "                \n",
    "                axs[idx,idy].imshow(img_crop, cmap = 'magma_r')\n",
    "                axs[idx,idy].set_xticks([])\n",
    "                axs[idx,idy].set_yticks([])\n",
    "                if idx == 0:\n",
    "                    axs[idx,idy].set_title(str(1e3 * j_dict['process']['common']['probe']['convergence']) + 'mrad \\n' + \\\n",
    "                        'step size ($\\AA$) %2.3f'%(1e10*j_dict['process']['common']['scan']['dR'][0])+ '\\n' + \\\n",
    "                                       str(diff_overlap[idy]) + '%overlap', color = 'red', fontsize = 8)\n",
    "                elif idy == 0:\n",
    "                    axs[idx,idy].set_title('step size ($\\AA$) %2.3f'%(1e10*j_dict['process']['common']['scan']['dR'][0]), color = 'black', fontsize = 5)\n",
    "                    axs[idx, idy].set_ylabel(str(real_probe_overlap[idx]) + '%overlap', color = 'black', fontsize = 5)\n",
    "                else:\n",
    "                    axs[idx,idy].set_title('%2.3f'%(1e10*j_dict['process']['common']['scan']['dR'][0]), color = 'black', fontsize = 5)\n",
    "            except IndexError:\n",
    "                pass\n",
    "#plt.tight_layout()            "
   ]
  },
  {
   "cell_type": "markdown",
   "metadata": {},
   "source": [
    "# Comparison with sim potential"
   ]
  },
  {
   "cell_type": "code",
   "execution_count": 8,
   "metadata": {},
   "outputs": [
    {
     "data": {
      "text/plain": [
       "'/dls/e02/data/2020/cm26481-1/processing/pty_simulated_data_MD/sim_matrix_ptyREX_25April2020/Graphene_defect_20.0mrad_0.00A_def_1.70A_step_size/Graphene_defect_20.0mrad_0.00A_def_1.70A_step_size.h5'"
      ]
     },
     "execution_count": 8,
     "metadata": {},
     "output_type": "execute_result"
    }
   ],
   "source": [
    "# we get one of the potentials as ground truth to compare the recons with.\n",
    "focus_probes_dict[4][5]['sim_path']"
   ]
  },
  {
   "cell_type": "code",
   "execution_count": 9,
   "metadata": {},
   "outputs": [],
   "source": [
    "pot = get_potential(focus_probes_dict[4][5]['sim_path'])"
   ]
  },
  {
   "cell_type": "code",
   "execution_count": 10,
   "metadata": {},
   "outputs": [
    {
     "data": {
      "text/plain": [
       "Text(0.5, 1.0, 'ideal phase shift')"
      ]
     },
     "execution_count": 10,
     "metadata": {},
     "output_type": "execute_result"
    }
   ],
   "source": [
    "sh = pot.shape[0]\n",
    "obj_pot = pot[int(0.33*sh):int(0.66*sh), int(0.33*sh):int(0.66*sh)]\n",
    "obj_pot_fft = np.fft.fftshift(np.fft.fft2(obj_pot))\n",
    "phase_ideal = _sigma(80000) * obj_pot\n",
    "fig, ax = plt.subplots(1,3,figsize=(11,4))\n",
    "im = ax[0].imshow(obj_pot)\n",
    "fig.colorbar(im, ax = ax[0])\n",
    "ax[1].imshow(np.log(abs(obj_pot_fft)), cmap = 'viridis')\n",
    "im2 = ax[2].imshow(phase_ideal)\n",
    "fig.colorbar(im2, ax = ax[2])\n",
    "ax[0].set_xticks([])\n",
    "ax[0].set_yticks([])\n",
    "ax[1].set_xticks([])\n",
    "ax[1].set_yticks([])\n",
    "ax[2].set_xticks([])\n",
    "ax[2].set_yticks([])\n",
    "ax[0].set_title('object potential in V$\\AA$')\n",
    "ax[1].set_title('fft of object potential')\n",
    "ax[2].set_title('ideal phase shift')\n",
    "# plt.tight_layout()            "
   ]
  },
  {
   "cell_type": "code",
   "execution_count": 11,
   "metadata": {},
   "outputs": [],
   "source": [
    "from skimage.metrics import structural_similarity as ssim\n",
    "from skimage.metrics import normalized_root_mse as nrmse\n",
    "from skimage.metrics import mean_squared_error as mse\n",
    "from skimage.feature import register_translation\n",
    "from scipy.ndimage import fourier_shift\n"
   ]
  },
  {
   "cell_type": "code",
   "execution_count": 12,
   "metadata": {},
   "outputs": [],
   "source": [
    "# binning the ideal phase by 2 - the sim pixelSize is half the recn pixelSize - due to the way 4DSTEM\n",
    "# data is saved in pyprimsatic\n",
    "phase_ideal_hs = hs.signals.Signal2D(phase_ideal)\n",
    "phase_ideal_bin = phase_ideal_hs.rebin(scale = (2,2))\n",
    "phase_ideal_bin = phase_ideal_bin.data"
   ]
  },
  {
   "cell_type": "code",
   "execution_count": 49,
   "metadata": {},
   "outputs": [],
   "source": [
    "offset_img_r = np.real(offset_img)"
   ]
  },
  {
   "cell_type": "code",
   "execution_count": 50,
   "metadata": {},
   "outputs": [],
   "source": [
    "ratio = np.divide(offset_img_r, phase_ideal_bin)"
   ]
  },
  {
   "cell_type": "code",
   "execution_count": 51,
   "metadata": {},
   "outputs": [],
   "source": [
    "plt.figure()\n",
    "plt.imshow(ratio, cmap = 'viridis')\n",
    "plt.colorbar()\n",
    "ratio_mean = np.mean(ratio)"
   ]
  },
  {
   "cell_type": "code",
   "execution_count": 52,
   "metadata": {},
   "outputs": [
    {
     "data": {
      "text/plain": [
       "0.9884089493296008"
      ]
     },
     "execution_count": 52,
     "metadata": {},
     "output_type": "execute_result"
    }
   ],
   "source": [
    "ratio_mean"
   ]
  },
  {
   "cell_type": "code",
   "execution_count": 13,
   "metadata": {},
   "outputs": [
    {
     "name": "stderr",
     "output_type": "stream",
     "text": [
      "/dls_sw/apps/python/anaconda/4.6.14/64/envs/epsic3.7/lib/python3.7/site-packages/ipykernel_launcher.py:19: UserWarning: Inputs have mismatched dtype.  Setting data_range based on im1.dtype.\n",
      "/dls_sw/apps/python/anaconda/4.6.14/64/envs/epsic3.7/lib/python3.7/site-packages/skimage/metrics/_structural_similarity.py:177: ComplexWarning: Casting complex values to real discards the imaginary part\n",
      "  im2 = im2.astype(np.float64)\n",
      "/dls_sw/apps/python/anaconda/4.6.14/64/envs/epsic3.7/lib/python3.7/site-packages/numpy/core/_methods.py:151: ComplexWarning: Casting complex values to real discards the imaginary part\n",
      "  ret = umr_sum(arr, axis, dtype, out, keepdims)\n",
      "/dls_sw/apps/python/anaconda/4.6.14/64/envs/epsic3.7/lib/python3.7/site-packages/numpy/core/_asarray.py:85: ComplexWarning: Casting complex values to real discards the imaginary part\n",
      "  return array(a, dtype, copy=False, order=order)\n",
      "/dls_sw/apps/python/anaconda/4.6.14/64/envs/epsic3.7/lib/python3.7/site-packages/numpy/core/_asarray.py:85: ComplexWarning: Casting complex values to real discards the imaginary part\n",
      "  return array(a, dtype, copy=False, order=order)\n",
      "/dls_sw/apps/python/anaconda/4.6.14/64/envs/epsic3.7/lib/python3.7/site-packages/numpy/core/_asarray.py:85: ComplexWarning: Casting complex values to real discards the imaginary part\n",
      "  return array(a, dtype, copy=False, order=order)\n",
      "/dls_sw/apps/python/anaconda/4.6.14/64/envs/epsic3.7/lib/python3.7/site-packages/numpy/core/_asarray.py:85: ComplexWarning: Casting complex values to real discards the imaginary part\n",
      "  return array(a, dtype, copy=False, order=order)\n",
      "/dls_sw/apps/python/anaconda/4.6.14/64/envs/epsic3.7/lib/python3.7/site-packages/numpy/core/_asarray.py:85: ComplexWarning: Casting complex values to real discards the imaginary part\n",
      "  return array(a, dtype, copy=False, order=order)\n",
      "/dls_sw/apps/python/anaconda/4.6.14/64/envs/epsic3.7/lib/python3.7/site-packages/numpy/core/_asarray.py:85: ComplexWarning: Casting complex values to real discards the imaginary part\n",
      "  return array(a, dtype, copy=False, order=order)\n",
      "/dls_sw/apps/python/anaconda/4.6.14/64/envs/epsic3.7/lib/python3.7/site-packages/numpy/core/_asarray.py:85: ComplexWarning: Casting complex values to real discards the imaginary part\n",
      "  return array(a, dtype, copy=False, order=order)\n",
      "/dls_sw/apps/python/anaconda/4.6.14/64/envs/epsic3.7/lib/python3.7/site-packages/numpy/core/_asarray.py:85: ComplexWarning: Casting complex values to real discards the imaginary part\n",
      "  return array(a, dtype, copy=False, order=order)\n"
     ]
    },
    {
     "data": {
      "text/plain": [
       "Text(0.5, 0.98, 'ssim and nrmse scores as function of convergence angle \\n defocused probe cases')"
      ]
     },
     "execution_count": 13,
     "metadata": {},
     "output_type": "execute_result"
    }
   ],
   "source": [
    "ssim_scores = []\n",
    "nrmse_scores = []\n",
    "mse_scores = []\n",
    "case_num = 0\n",
    "convergence = []\n",
    "step_size = []\n",
    "for i in range(len(conv_angles)):\n",
    "    for n in range(len(defocus_probes_dict[i])):\n",
    "        obj = crop_recon_obj(defocus_probes_dict[i][n]['json_path'])\n",
    "        convergence.append(defocus_probes_dict[i][n]['process']['common']['probe']['convergence'])\n",
    "        step_size.append(defocus_probes_dict[i][n]['process']['common']['scan']['dR'][0])\n",
    "        img = abs(np.min(np.angle(obj))) + np.angle(obj)\n",
    "        sh0 = img.shape[0]\n",
    "        sh1 = phase_ideal_bin.shape[0]\n",
    "        img_crop = img[int(sh0/2 - sh1/2):int(sh0/2 + sh1/2), int(sh0/2 - sh1/2):int(sh0/2 + sh1/2)]\n",
    "        shift, error, diffphase = register_translation(phase_ideal_bin, img_crop)\n",
    "        offset_img = fourier_shift(np.fft.fftn(img_crop), shift)\n",
    "        offset_img = np.fft.ifftn(offset_img)\n",
    "        ssim_score = ssim(phase_ideal_bin, offset_img)\n",
    "        nrmse_score = nrmse(phase_ideal_bin, offset_img, normalization= 'min-max')\n",
    "        mse_score = mse(phase_ideal_bin, offset_img)\n",
    "        ssim_scores.append(ssim_score)\n",
    "        nrmse_scores.append(nrmse_score)\n",
    "        mse_scores.append(mse_score)\n",
    "\n",
    "convergence = np.asarray(convergence)\n",
    "fig, ax = plt.subplots(1,2,figsize=(11,4))\n",
    "for angle in conv_angles:\n",
    "    inds = np.where(convergence==angle)\n",
    "    _steps = np.take(step_size, inds[0])\n",
    "    _ssim = np.take(ssim_scores, inds[0])\n",
    "    _nrmse = np.take(nrmse_scores, inds[0])\n",
    "    _mse = np.take(mse_scores, inds[0])\n",
    "\n",
    "    ax[0].plot(_steps, _ssim,label = str(angle))\n",
    "    ax[0].set_title('ssim scores')\n",
    "    ax[0].set_xlabel('step_size(m)')\n",
    "    ax[1].plot(_steps, _nrmse,label = str(angle))\n",
    "    ax[1].set_title('nrmse scores')\n",
    "    ax[1].set_xlabel('step_size(m)')\n",
    "    ax[0].legend()\n",
    "    ax[1].legend()\n",
    "fig.suptitle('ssim and nrmse scores as function of convergence angle \\n defocused probe cases')"
   ]
  },
  {
   "cell_type": "code",
   "execution_count": 54,
   "metadata": {},
   "outputs": [
    {
     "name": "stderr",
     "output_type": "stream",
     "text": [
      "/dls_sw/apps/python/anaconda/4.6.14/64/envs/epsic3.7/lib/python3.7/site-packages/ipykernel_launcher.py:19: UserWarning: Inputs have mismatched dtype.  Setting data_range based on im1.dtype.\n",
      "/dls_sw/apps/python/anaconda/4.6.14/64/envs/epsic3.7/lib/python3.7/site-packages/skimage/metrics/_structural_similarity.py:177: ComplexWarning: Casting complex values to real discards the imaginary part\n",
      "  im2 = im2.astype(np.float64)\n",
      "/dls_sw/apps/python/anaconda/4.6.14/64/envs/epsic3.7/lib/python3.7/site-packages/numpy/core/_methods.py:151: ComplexWarning: Casting complex values to real discards the imaginary part\n",
      "  ret = umr_sum(arr, axis, dtype, out, keepdims)\n",
      "/dls_sw/apps/python/anaconda/4.6.14/64/envs/epsic3.7/lib/python3.7/site-packages/numpy/core/_asarray.py:85: ComplexWarning: Casting complex values to real discards the imaginary part\n",
      "  return array(a, dtype, copy=False, order=order)\n",
      "/dls_sw/apps/python/anaconda/4.6.14/64/envs/epsic3.7/lib/python3.7/site-packages/numpy/core/_asarray.py:85: ComplexWarning: Casting complex values to real discards the imaginary part\n",
      "  return array(a, dtype, copy=False, order=order)\n",
      "/dls_sw/apps/python/anaconda/4.6.14/64/envs/epsic3.7/lib/python3.7/site-packages/numpy/core/_asarray.py:85: ComplexWarning: Casting complex values to real discards the imaginary part\n",
      "  return array(a, dtype, copy=False, order=order)\n",
      "/dls_sw/apps/python/anaconda/4.6.14/64/envs/epsic3.7/lib/python3.7/site-packages/numpy/core/_asarray.py:85: ComplexWarning: Casting complex values to real discards the imaginary part\n",
      "  return array(a, dtype, copy=False, order=order)\n",
      "/dls_sw/apps/python/anaconda/4.6.14/64/envs/epsic3.7/lib/python3.7/site-packages/numpy/core/_asarray.py:85: ComplexWarning: Casting complex values to real discards the imaginary part\n",
      "  return array(a, dtype, copy=False, order=order)\n",
      "/dls_sw/apps/python/anaconda/4.6.14/64/envs/epsic3.7/lib/python3.7/site-packages/numpy/core/_asarray.py:85: ComplexWarning: Casting complex values to real discards the imaginary part\n",
      "  return array(a, dtype, copy=False, order=order)\n",
      "/dls_sw/apps/python/anaconda/4.6.14/64/envs/epsic3.7/lib/python3.7/site-packages/numpy/core/_asarray.py:85: ComplexWarning: Casting complex values to real discards the imaginary part\n",
      "  return array(a, dtype, copy=False, order=order)\n",
      "/dls_sw/apps/python/anaconda/4.6.14/64/envs/epsic3.7/lib/python3.7/site-packages/numpy/core/_asarray.py:85: ComplexWarning: Casting complex values to real discards the imaginary part\n",
      "  return array(a, dtype, copy=False, order=order)\n"
     ]
    }
   ],
   "source": [
    "ssim_scores = []\n",
    "nrmse_scores = []\n",
    "mse_scores = []\n",
    "case_num = 0\n",
    "convergence = []\n",
    "step_size = []\n",
    "for i in range(6):\n",
    "    for n in range(len(focus_probes_dict[i])):\n",
    "        obj = crop_recon_obj(focus_probes_dict[i][n]['json_path'])\n",
    "        convergence.append(focus_probes_dict[i][n]['process']['common']['probe']['convergence'])\n",
    "        step_size.append(focus_probes_dict[i][n]['process']['common']['scan']['dR'][0])\n",
    "        img = abs(np.min(np.angle(obj))) + np.angle(obj)\n",
    "        sh0 = img.shape[0]\n",
    "        sh1 = phase_ideal_bin.shape[0]\n",
    "        img_crop = img[int(sh0/2 - sh1/2):int(sh0/2 + sh1/2), int(sh0/2 - sh1/2):int(sh0/2 + sh1/2)]\n",
    "        shift, error, diffphase = register_translation(phase_ideal_bin, img_crop)\n",
    "        offset_img = fourier_shift(np.fft.fftn(img_crop), shift)\n",
    "        offset_img = np.fft.ifftn(offset_img)\n",
    "        ssim_score = ssim(phase_ideal_bin, offset_img)\n",
    "        nrmse_score = nrmse(phase_ideal_bin, offset_img, normalization= 'min-max')\n",
    "        mse_score = mse(phase_ideal_bin, offset_img)\n",
    "        ssim_scores.append(ssim_score)\n",
    "        nrmse_scores.append(nrmse_score)\n",
    "        mse_scores.append(mse_score)\n",
    "\n",
    "convergence = np.asarray(convergence)\n",
    "fig, ax = plt.subplots(1,2,figsize=(11,4))\n",
    "for angle in conv_angles:\n",
    "    inds = np.where(convergence==angle)\n",
    "    _steps = np.take(step_size, inds[0])\n",
    "    _ssim = np.take(ssim_scores, inds[0])\n",
    "    _nrmse = np.take(nrmse_scores, inds[0])\n",
    "    _mse = np.take(mse_scores, inds[0])\n",
    "\n",
    "    ax[0].plot(_steps, _ssim,label = str(angle))\n",
    "    ax[0].set_title('ssim scores')\n",
    "    ax[0].set_xlabel('step_size(m)')\n",
    "    ax[1].plot(_steps, _nrmse,label = str(angle))\n",
    "    ax[1].set_title('nrmse scores')\n",
    "    ax[1].set_xlabel('step_size(m)')\n",
    "    ax[0].legend()\n",
    "    ax[1].legend()\n",
    "fig.suptitle('ssim and nrmse scores as function of convergence angle \\n focused probe cases')\n",
    "None"
   ]
  },
  {
   "cell_type": "code",
   "execution_count": 62,
   "metadata": {},
   "outputs": [],
   "source": [
    "# To plot objects as a function of convergence angles\n",
    "conv_angles = np.asarray(conv_angles)\n",
    "angle = 0.084\n",
    "ind = np.where(conv_angles==angle)\n",
    "\n",
    "objects = []\n",
    "step_sizes = []\n",
    "sh1 = 84\n",
    "for json_dict in defocus_probes_dict[ind[0][0]]:\n",
    "    step_size = json_dict['process']['common']['scan']['dR'][0]\n",
    "    step_sizes.append(step_size)\n",
    "    obj = crop_recon_obj(json_dict['json_path'])\n",
    "    img = abs(np.min(np.angle(obj))) + np.angle(obj)\n",
    "    sh0 = img.shape[0]\n",
    "    img_crop = img[int(sh0/2 - sh1/2):int(sh0/2 + sh1/2), int(sh0/2 - sh1/2):int(sh0/2 + sh1/2)]\n",
    "    objects.append(img_crop)\n",
    "fig, ax = plt.subplots(4,2, figsize=(8,11))\n",
    "for i, step in enumerate(step_sizes):\n",
    "\n",
    "    ax[int(i / 2), i%2].imshow(objects[i], cmap = 'magma_r')\n",
    "    ax[int(i / 2), i%2].set_title('%2.3f'%(1e10*step)+' $\\AA$' )\n",
    "\n",
    "    ax[int(i / 2), i%2].set_xticks([])\n",
    "    ax[int(i / 2), i%2].set_yticks([])\n",
    "fig.suptitle('probe convergence ' + str(angle)+ ' rad')\n",
    "None"
   ]
  },
  {
   "cell_type": "code",
   "execution_count": 32,
   "metadata": {},
   "outputs": [
    {
     "data": {
      "text/plain": [
       "array([0.016, 0.02 , 0.024, 0.03 , 0.04 , 0.05 , 0.064, 0.084])"
      ]
     },
     "execution_count": 32,
     "metadata": {},
     "output_type": "execute_result"
    }
   ],
   "source": [
    "conv_angles"
   ]
  },
  {
   "cell_type": "code",
   "execution_count": 107,
   "metadata": {},
   "outputs": [],
   "source": [
    "# To plot errors function of convergence angles\n",
    "conv_angles = np.asarray(conv_angles)\n",
    "angle = 0.016\n",
    "ind = np.where(conv_angles==angle)\n",
    "\n",
    "errors = []\n",
    "step_sizes = []\n",
    "for json_dict in focus_probes_dict[ind[0][0]]:\n",
    "    step_size = json_dict['process']['common']['scan']['dR'][0]\n",
    "    step_sizes.append(step_size)\n",
    "    name, ext = os.path.splitext(json_dict['json_path'])\n",
    "    error = get_error(name + '.hdf')\n",
    "    errors.append(error)\n",
    "fig, ax = plt.subplots(4,2, figsize=(8,12))\n",
    "for i, step in enumerate(step_sizes):\n",
    "\n",
    "    ax[int(i / 2), i%2].plot(errors[i])\n",
    "    ax[int(i / 2), i%2].set_title('%2.3f'%(1e10*step)+'$\\AA$' )\n",
    "\n",
    "fig.suptitle('error vs iter num ' + str(angle)+ 'rad')\n",
    "None"
   ]
  },
  {
   "cell_type": "markdown",
   "metadata": {},
   "source": [
    "# Evaluation using atomap"
   ]
  },
  {
   "cell_type": "code",
   "execution_count": 14,
   "metadata": {},
   "outputs": [],
   "source": [
    "%matplotlib qt\n",
    "import atomap.api as am"
   ]
  },
  {
   "cell_type": "code",
   "execution_count": 15,
   "metadata": {},
   "outputs": [
    {
     "name": "stderr",
     "output_type": "stream",
     "text": [
      "Center of mass: 100%|██████████| 149/149 [00:00<00:00, 1738.78it/s]\n",
      "Gaussian fitting: 100%|██████████| 149/149 [00:11<00:00, 13.12it/s]\n"
     ]
    }
   ],
   "source": [
    "# Getting the reference positions\n",
    "ref_hs = hs.signals.Signal2D(phase_ideal_bin)\n",
    "ref_hs_crop = ref_hs.isig[5:70,5:70]\n",
    "ref_atom_positions = am.get_atom_positions(ref_hs_crop, separation=2)\n",
    "ref_sublattice = am.Sublattice(ref_atom_positions, image=ref_hs_crop.data)\n",
    "ref_sublattice.find_nearest_neighbors()\n",
    "ref_sublattice.refine_atom_positions_using_center_of_mass()\n",
    "ref_sublattice.refine_atom_positions_using_2d_gaussian()\n",
    "ref_atom_list = ref_sublattice.atom_list"
   ]
  },
  {
   "cell_type": "code",
   "execution_count": 16,
   "metadata": {},
   "outputs": [
    {
     "data": {
      "text/plain": [
       "<Atom_Position,  (x:61.7,y:61.1,sx:0.7,sy:0.6,r:1.9,e:1.2)>"
      ]
     },
     "execution_count": 16,
     "metadata": {},
     "output_type": "execute_result"
    }
   ],
   "source": [
    "ref_atom_list[0]"
   ]
  },
  {
   "cell_type": "code",
   "execution_count": 17,
   "metadata": {},
   "outputs": [
    {
     "data": {
      "text/plain": [
       "1.338411804525878"
      ]
     },
     "execution_count": 17,
     "metadata": {},
     "output_type": "execute_result"
    }
   ],
   "source": [
    "# This is not returning the same value as e!\n",
    "ref_atom_list[0].amplitude_gaussian "
   ]
  },
  {
   "cell_type": "code",
   "execution_count": 18,
   "metadata": {},
   "outputs": [
    {
     "data": {
      "text/plain": [
       "61.694970982469904"
      ]
     },
     "execution_count": 18,
     "metadata": {},
     "output_type": "execute_result"
    }
   ],
   "source": [
    "ref_atom_list[0].pixel_x"
   ]
  },
  {
   "cell_type": "code",
   "execution_count": 19,
   "metadata": {},
   "outputs": [
    {
     "data": {
      "text/plain": [
       "0.6677949193333059"
      ]
     },
     "execution_count": 19,
     "metadata": {},
     "output_type": "execute_result"
    }
   ],
   "source": [
    "ref_atom_list[0].sigma_average"
   ]
  },
  {
   "cell_type": "code",
   "execution_count": 20,
   "metadata": {},
   "outputs": [
    {
     "name": "stdout",
     "output_type": "stream",
     "text": [
      "Number of atoms in reference:  149\n"
     ]
    }
   ],
   "source": [
    "ref_coord = []\n",
    "for i in range(len(ref_atom_list)):\n",
    "    \n",
    "    ref_coord.append(list((ref_atom_list[i].pixel_x,\n",
    "                    ref_atom_list[i].pixel_y,\n",
    "                    ref_atom_list[i].sigma_average,\n",
    "                    ref_atom_list[i].amplitude_gaussian)))\n",
    "\n",
    "ref_coord = np.asarray(ref_coord)\n",
    "print('Number of atoms in reference: ', ref_coord.shape[0])\n"
   ]
  },
  {
   "cell_type": "code",
   "execution_count": 22,
   "metadata": {},
   "outputs": [],
   "source": [
    "# Getting the experimental positions and comparison\n"
   ]
  },
  {
   "cell_type": "code",
   "execution_count": 23,
   "metadata": {},
   "outputs": [
    {
     "name": "stderr",
     "output_type": "stream",
     "text": [
      "Center of mass: 100%|██████████| 148/148 [00:00<00:00, 955.05it/s]\n",
      "Gaussian fitting: 100%|██████████| 148/148 [01:00<00:00,  2.43it/s]\n",
      "Center of mass: 100%|██████████| 125/125 [00:00<00:00, 1506.77it/s]\n",
      "Gaussian fitting: 100%|██████████| 125/125 [00:28<00:00,  4.45it/s]\n",
      "Center of mass: 100%|██████████| 136/136 [00:00<00:00, 2353.28it/s]\n",
      "Gaussian fitting: 100%|██████████| 136/136 [00:49<00:00,  2.75it/s]\n",
      "Center of mass: 100%|██████████| 135/135 [00:00<00:00, 2700.00it/s]\n",
      "Gaussian fitting: 100%|██████████| 135/135 [00:33<00:00,  4.03it/s]\n",
      "Center of mass: 100%|██████████| 143/143 [00:00<00:00, 1982.07it/s]\n",
      "Gaussian fitting: 100%|██████████| 143/143 [00:35<00:00,  4.03it/s]\n",
      "Center of mass: 100%|██████████| 141/141 [00:00<00:00, 2770.13it/s]\n",
      "Gaussian fitting: 100%|██████████| 141/141 [00:31<00:00,  4.48it/s]\n",
      "Center of mass: 100%|██████████| 140/140 [00:00<00:00, 3070.79it/s]\n",
      "Gaussian fitting: 100%|██████████| 140/140 [00:59<00:00,  2.35it/s]\n",
      "Center of mass: 100%|██████████| 146/146 [00:00<00:00, 2399.05it/s]\n",
      "Gaussian fitting: 100%|██████████| 146/146 [01:00<00:00,  2.40it/s]\n",
      "Center of mass: 100%|██████████| 141/141 [00:00<00:00, 3026.16it/s]\n",
      "Gaussian fitting: 100%|██████████| 141/141 [00:44<00:00,  3.17it/s]\n",
      "Center of mass: 100%|██████████| 150/150 [00:00<00:00, 2771.30it/s]\n",
      "Gaussian fitting: 100%|██████████| 150/150 [00:53<00:00,  2.78it/s]\n",
      "Center of mass: 100%|██████████| 135/135 [00:00<00:00, 3161.41it/s]\n",
      "Gaussian fitting: 100%|██████████| 135/135 [00:46<00:00,  2.89it/s]\n",
      "Center of mass: 100%|██████████| 146/146 [00:00<00:00, 2632.70it/s]\n",
      "Gaussian fitting: 100%|██████████| 146/146 [00:59<00:00,  2.46it/s]\n",
      "Center of mass: 100%|██████████| 146/146 [00:00<00:00, 2429.57it/s]\n",
      "Gaussian fitting: 100%|██████████| 146/146 [00:44<00:00,  3.31it/s]\n",
      "Center of mass: 100%|██████████| 145/145 [00:00<00:00, 1676.39it/s]\n",
      "Gaussian fitting: 100%|██████████| 145/145 [00:41<00:00,  3.50it/s]\n",
      "Center of mass: 100%|██████████| 141/141 [00:00<00:00, 3222.99it/s]\n",
      "Gaussian fitting: 100%|██████████| 141/141 [00:46<00:00,  3.06it/s]\n",
      "Center of mass: 100%|██████████| 132/132 [00:00<00:00, 3028.97it/s]\n",
      "Gaussian fitting: 100%|██████████| 132/132 [00:37<00:00,  3.57it/s]\n",
      "Center of mass: 100%|██████████| 129/129 [00:00<00:00, 3167.07it/s]\n",
      "Gaussian fitting: 100%|██████████| 129/129 [00:40<00:00,  3.17it/s]\n",
      "Center of mass: 100%|██████████| 142/142 [00:00<00:00, 3005.83it/s]\n",
      "Gaussian fitting: 100%|██████████| 142/142 [00:52<00:00,  2.70it/s]\n",
      "Center of mass: 100%|██████████| 124/124 [00:00<00:00, 2872.60it/s]\n",
      "Gaussian fitting: 100%|██████████| 124/124 [00:29<00:00,  4.27it/s]\n",
      "Center of mass: 100%|██████████| 139/139 [00:00<00:00, 3207.68it/s]\n",
      "Gaussian fitting: 100%|██████████| 139/139 [00:37<00:00,  3.72it/s]\n",
      "Center of mass: 100%|██████████| 131/131 [00:00<00:00, 2374.71it/s]\n",
      "Gaussian fitting: 100%|██████████| 131/131 [00:32<00:00,  4.01it/s]\n",
      "Center of mass: 100%|██████████| 142/142 [00:00<00:00, 1988.53it/s]\n",
      "Gaussian fitting: 100%|██████████| 142/142 [00:42<00:00,  3.33it/s]\n",
      "Center of mass: 100%|██████████| 143/143 [00:00<00:00, 2561.41it/s]\n",
      "Gaussian fitting: 100%|██████████| 143/143 [00:57<00:00,  2.50it/s]\n",
      "Center of mass: 100%|██████████| 148/148 [00:00<00:00, 3086.42it/s]\n",
      "Gaussian fitting: 100%|██████████| 148/148 [00:47<00:00,  3.10it/s]\n",
      "Center of mass: 100%|██████████| 116/116 [00:00<00:00, 3240.42it/s]\n",
      "Gaussian fitting: 100%|██████████| 116/116 [00:19<00:00,  6.10it/s]\n",
      "Center of mass: 100%|██████████| 137/137 [00:00<00:00, 3241.73it/s]\n",
      "Gaussian fitting: 100%|██████████| 137/137 [00:32<00:00,  4.28it/s]\n",
      "Center of mass: 100%|██████████| 135/135 [00:00<00:00, 3003.34it/s]\n",
      "Gaussian fitting: 100%|██████████| 135/135 [00:36<00:00,  3.75it/s]\n",
      "Center of mass: 100%|██████████| 133/133 [00:00<00:00, 2910.08it/s]\n",
      "Gaussian fitting: 100%|██████████| 133/133 [00:31<00:00,  4.18it/s]\n",
      "Center of mass: 100%|██████████| 133/133 [00:00<00:00, 2927.75it/s]\n",
      "Gaussian fitting: 100%|██████████| 133/133 [00:31<00:00,  4.27it/s]\n",
      "Center of mass: 100%|██████████| 138/138 [00:00<00:00, 2805.91it/s]\n",
      "Gaussian fitting: 100%|██████████| 138/138 [00:59<00:00,  2.32it/s]\n",
      "Center of mass: 100%|██████████| 134/134 [00:00<00:00, 1440.38it/s]\n",
      "Gaussian fitting: 100%|██████████| 134/134 [00:50<00:00,  2.64it/s]\n",
      "Center of mass: 100%|██████████| 141/141 [00:00<00:00, 2097.03it/s]\n",
      "Gaussian fitting: 100%|██████████| 141/141 [00:48<00:00,  2.88it/s]\n",
      "Center of mass: 100%|██████████| 116/116 [00:00<00:00, 2657.28it/s]\n",
      "Gaussian fitting: 100%|██████████| 116/116 [00:20<00:00,  5.63it/s]\n",
      "Center of mass: 100%|██████████| 122/122 [00:00<00:00, 2276.24it/s]\n",
      "Gaussian fitting: 100%|██████████| 122/122 [00:24<00:00,  5.04it/s]\n",
      "Center of mass: 100%|██████████| 108/108 [00:00<00:00, 2463.48it/s]\n",
      "Gaussian fitting: 100%|██████████| 108/108 [00:20<00:00,  5.21it/s]\n",
      "Center of mass: 100%|██████████| 115/115 [00:00<00:00, 2636.93it/s]\n",
      "Gaussian fitting: 100%|██████████| 115/115 [00:26<00:00,  4.42it/s]\n",
      "Center of mass: 100%|██████████| 134/134 [00:00<00:00, 1825.65it/s]\n",
      "Gaussian fitting: 100%|██████████| 134/134 [00:23<00:00,  5.72it/s]\n",
      "Center of mass: 100%|██████████| 134/134 [00:00<00:00, 2841.34it/s]\n",
      "Gaussian fitting: 100%|██████████| 134/134 [00:18<00:00,  7.37it/s]\n",
      "Center of mass: 100%|██████████| 146/146 [00:00<00:00, 2531.54it/s]\n",
      "Gaussian fitting: 100%|██████████| 146/146 [00:18<00:00,  7.71it/s]\n",
      "Center of mass: 100%|██████████| 153/153 [00:00<00:00, 3155.81it/s]\n",
      "Gaussian fitting: 100%|██████████| 153/153 [00:20<00:00,  7.59it/s]\n",
      "Center of mass: 100%|██████████| 113/113 [00:00<00:00, 3243.59it/s]\n",
      "Gaussian fitting: 100%|██████████| 113/113 [00:20<00:00,  5.50it/s]\n",
      "Center of mass: 100%|██████████| 110/110 [00:00<00:00, 2287.02it/s]\n",
      "Gaussian fitting: 100%|██████████| 110/110 [00:18<00:00,  6.04it/s]\n",
      "Center of mass: 100%|██████████| 133/133 [00:00<00:00, 2725.20it/s]\n",
      "Gaussian fitting: 100%|██████████| 133/133 [00:18<00:00,  7.04it/s]\n",
      "Center of mass: 100%|██████████| 148/148 [00:00<00:00, 2312.19it/s]\n",
      "Gaussian fitting: 100%|██████████| 148/148 [00:21<00:00,  6.95it/s]\n",
      "Center of mass: 100%|██████████| 150/150 [00:00<00:00, 832.73it/s]\n",
      "Gaussian fitting: 100%|██████████| 150/150 [00:21<00:00,  7.05it/s]\n",
      "Center of mass: 100%|██████████| 145/145 [00:00<00:00, 1677.89it/s]\n",
      "Gaussian fitting: 100%|██████████| 145/145 [00:25<00:00,  5.66it/s]\n",
      "Center of mass: 100%|██████████| 150/150 [00:00<00:00, 1851.59it/s]\n",
      "Gaussian fitting: 100%|██████████| 150/150 [00:14<00:00, 10.35it/s]\n",
      "Center of mass: 100%|██████████| 150/150 [00:00<00:00, 2419.75it/s]\n",
      "Gaussian fitting: 100%|██████████| 150/150 [00:15<00:00,  9.54it/s]\n",
      "Center of mass: 100%|██████████| 104/104 [00:00<00:00, 3132.53it/s]\n",
      "Gaussian fitting: 100%|██████████| 104/104 [00:14<00:00,  7.32it/s]\n",
      "Center of mass: 100%|██████████| 141/141 [00:00<00:00, 3188.16it/s]\n",
      "Gaussian fitting: 100%|██████████| 141/141 [00:22<00:00,  6.25it/s]\n",
      "Center of mass: 100%|██████████| 142/142 [00:00<00:00, 2520.05it/s]\n",
      "Gaussian fitting: 100%|██████████| 142/142 [00:27<00:00,  5.23it/s]\n",
      "Center of mass: 100%|██████████| 147/147 [00:00<00:00, 2956.33it/s]\n",
      "Gaussian fitting: 100%|██████████| 147/147 [00:20<00:00,  7.12it/s]\n",
      "Center of mass: 100%|██████████| 150/150 [00:00<00:00, 1752.98it/s]\n",
      "Gaussian fitting: 100%|██████████| 150/150 [00:20<00:00,  7.29it/s]\n",
      "Center of mass: 100%|██████████| 150/150 [00:00<00:00, 2534.16it/s]\n",
      "Gaussian fitting: 100%|██████████| 150/150 [00:14<00:00, 10.38it/s]\n",
      "Center of mass: 100%|██████████| 147/147 [00:00<00:00, 2860.46it/s]\n",
      "Gaussian fitting: 100%|██████████| 147/147 [00:19<00:00,  7.71it/s]\n",
      "Center of mass: 100%|██████████| 146/146 [00:00<00:00, 2161.39it/s]\n",
      "Gaussian fitting: 100%|██████████| 146/146 [00:18<00:00,  7.69it/s]\n"
     ]
    }
   ],
   "source": [
    "# defocused probe cases \n",
    "rows = len(defocus_probes_dict[0])\n",
    "cols = len(conv_angles)\n",
    "\n",
    "for idx in range(rows):    \n",
    "      for idy in range(cols): \n",
    "            obj = crop_recon_obj(defocus_probes_dict[idy][idx]['json_path'])\n",
    "            img = abs(np.min(np.angle(obj))) + np.angle(obj)\n",
    "            sh0 = img.shape[0]\n",
    "            sh1 = phase_ideal_bin.shape[0]\n",
    "            img_crop = img[int(sh0/2 - sh1/2):int(sh0/2 + sh1/2), int(sh0/2 - sh1/2):int(sh0/2 + sh1/2)]\n",
    "            shift, error, diffphase = register_translation(phase_ideal_bin, img_crop)\n",
    "            offset_img = fourier_shift(np.fft.fftn(img_crop), shift)\n",
    "            offset_img = np.real(np.fft.ifftn(offset_img))\n",
    "\n",
    "            img_hs = hs.signals.Signal2D(offset_img)\n",
    "            img_hs_crop = img_hs.isig[5:70,5:70]\n",
    "\n",
    "\n",
    "            exp_positions = am.get_atom_positions(img_hs_crop, separation=2)\n",
    "            exp_sublattice = am.Sublattice(exp_positions, image=img_hs_crop.data)\n",
    "\n",
    "            exp_sublattice.find_nearest_neighbors()\n",
    "            exp_sublattice.refine_atom_positions_using_center_of_mass()\n",
    "            exp_sublattice.refine_atom_positions_using_2d_gaussian()\n",
    "\n",
    "            exp_atom_list = exp_sublattice.atom_list\n",
    "\n",
    "\n",
    "            exp_coord = []\n",
    "            for i in range(len(exp_atom_list)):\n",
    "\n",
    "                exp_coord.append(list((exp_atom_list[i].pixel_x,\n",
    "                                exp_atom_list[i].pixel_y,\n",
    "                                exp_atom_list[i].sigma_average,\n",
    "                                exp_atom_list[i].amplitude_gaussian)))\n",
    "\n",
    "            exp_coord = np.asarray(exp_coord)\n",
    "            defocus_probes_dict[idy][idx]['atom_pos'] = exp_coord\n",
    "\n",
    "          "
   ]
  },
  {
   "cell_type": "code",
   "execution_count": 24,
   "metadata": {},
   "outputs": [],
   "source": [
    "# identified atom positions versus the known positions\n",
    "rows = len(defocus_probes_dict[0])\n",
    "cols = len(conv_angles)\n",
    "#print(rows, cols)\n",
    "fig, axs = plt.subplots(nrows=rows, ncols=cols, sharex=True, sharey=True,figsize=(8, 11))\n",
    "for idx in range(rows):    \n",
    "      for idy in range(cols): \n",
    "            try:\n",
    "                j_dict = json_to_dict(defocus_probes_dict[idy][idx]['json_path'])\n",
    "                exp_coord = defocus_probes_dict[idy][idx]['atom_pos']\n",
    "#                 print(json_dict['json_path'].split('/')[-2])\n",
    "#                 print('Difference in number f atoms: ', ref_coord.shape[0] - exp_coord.shape[0])\n",
    "                \n",
    "                missed_atoms = ref_coord.shape[0] - exp_coord.shape[0]\n",
    "                \n",
    "                axs[idx,idy].scatter(ref_coord[:,0], ref_coord[:,1], s = 1, c = 'g')\n",
    "                axs[idx,idy].scatter(exp_coord[:,0], exp_coord[:,1], s = 1, c = 'r')\n",
    "                axs[idx,idy].set_xticks([])\n",
    "                axs[idx,idy].set_yticks([])\n",
    "                axs[idx,idy].set_title(missed_atoms, color = 'black')\n",
    "#                 if idx == 0:\n",
    "#                     axs[idx,idy].set_title(str(1e3 * j_dict['process']['common']['probe']['convergence']) + 'mrad \\n' + \\\n",
    "#                         'step size ($\\AA$) %2.3f'%(1e10*j_dict['process']['common']['scan']['dR'][0])+ '\\n' + \\\n",
    "#                                        str(diff_overlap[idy]) + '%overlap', color = 'black', fontsize = 8)\n",
    "#                 elif idy == 0:\n",
    "#                     axs[idx,idy].set_title('step size ($\\AA$) %2.3f'%(1e10*j_dict['process']['common']['scan']['dR'][0]), color = 'black', fontsize = 5)\n",
    "#                     axs[idx, idy].set_ylabel(str(real_probe_overlap[idx]) + '%overlap', color = 'black', fontsize = 5)\n",
    "#                 else:\n",
    "#                     axs[idx,idy].set_title('%2.3f'%(1e10*j_dict['process']['common']['scan']['dR'][0]), color = 'black', fontsize = 5)\n",
    "            except IndexError:\n",
    "                pass\n",
    "#plt.tight_layout()            "
   ]
  },
  {
   "cell_type": "code",
   "execution_count": 31,
   "metadata": {},
   "outputs": [
    {
     "data": {
      "text/plain": [
       "<matplotlib.collections.PathCollection at 0x7fdcc2090e90>"
      ]
     },
     "execution_count": 31,
     "metadata": {},
     "output_type": "execute_result"
    }
   ],
   "source": [
    "plt.figure()\n",
    "plt.scatter(ref_coord[:,0], ref_coord[:,1], s = 1, c = 'g')\n",
    "exp_pos = defocus_probes_dict[0][6]['atom_pos']\n",
    "plt.scatter(exp_pos[:,0], exp_pos[:,1], s = 1, c = 'r')"
   ]
  },
  {
   "cell_type": "code",
   "execution_count": 56,
   "metadata": {},
   "outputs": [],
   "source": [
    "results_folder = '/dls/science/groups/e02/Mohsen/code/Git_Repos/Staff-notebooks/ptyREX_sim_matrix/fitting_results'\n",
    "\n",
    "rows = len(defocus_probes_dict[0])\n",
    "cols = len(conv_angles)\n",
    "for idx in range(rows):    \n",
    "      for idy in range(cols): \n",
    "            h5_file_name = os.path.join(results_folder, defocus_probes_dict[idy][idx]['json_path'].split('/')[-2] + '.h5')\n",
    "            save_dict_to_hdf5(defocus_probes_dict[idy][idx], h5_file_name)"
   ]
  },
  {
   "cell_type": "code",
   "execution_count": 57,
   "metadata": {},
   "outputs": [
    {
     "name": "stdout",
     "output_type": "stream",
     "text": [
      "{'atom_pos': array([[47.42116222, 62.10907669,  0.82690293,  0.43033646],\n",
      "       [60.18042943, 60.76739387,  1.57025419,  1.01218751],\n",
      "       [ 6.27884185, 60.57151211,  1.64482942,  1.39652989],\n",
      "       [50.86517316, 59.87881546,  0.88497388,  0.35926475],\n",
      "       [43.42158049, 59.82519518,  1.44730321,  1.17415328],\n",
      "       [33.86887706, 59.76730307,  1.61413313,  1.79769618],\n",
      "       [21.0350584 , 59.59644409,  0.65761316,  0.6808318 ],\n",
      "       [18.25126214, 59.63363769,  0.44453795,  0.28740539],\n",
      "       [13.1216083 , 59.70504054,  1.28972242,  1.67355149],\n",
      "       [57.00897678, 58.95348187,  1.        ,  0.        ],\n",
      "       [28.09070054, 58.92356827,  1.19368873,  0.66525146],\n",
      "       [53.65101126, 58.11942771,  0.5305444 ,  0.34074303],\n",
      "       [45.77654869, 57.29913357,  0.48256974,  0.1162576 ],\n",
      "       [36.00223391, 56.54303876,  0.68151732,  0.6580981 ],\n",
      "       [57.98856436, 55.99212518,  1.        ,  0.        ],\n",
      "       [16.88504168, 56.11591564,  1.        ,  0.        ],\n",
      "       [11.91172821, 55.93308361,  1.        ,  0.        ],\n",
      "       [ 8.93918279, 56.34963273,  0.38686485,  0.19180009],\n",
      "       [61.73282685, 54.95906706,  0.81246801,  0.39563601],\n",
      "       [41.06229857, 55.04567004,  1.        ,  0.        ],\n",
      "       [23.90026528, 55.33128834,  0.47728766,  0.16342712],\n",
      "       [50.98566579, 54.14457737,  1.        ,  0.        ],\n",
      "       [45.31842482, 54.36074576,  0.237604  ,  0.60158865],\n",
      "       [30.18716022, 53.64525187,  0.42986146,  0.2235618 ],\n",
      "       [26.98483283, 53.97779631,  1.        ,  0.        ],\n",
      "       [ 3.27194357, 53.86159731,  1.11910688,  0.68357059],\n",
      "       [57.67997527, 53.32037583,  0.24860729,  0.82601981],\n",
      "       [22.33226365, 51.68116456,  0.24046643,  0.66601394],\n",
      "       [15.85606795, 51.49545911,  1.37197784,  1.148579  ],\n",
      "       [ 6.02973831, 51.98907508,  1.        ,  0.        ],\n",
      "       [40.63684257, 51.21486781,  0.8127118 ,  0.24983646],\n",
      "       [24.82070683, 51.39220317,  0.42828385,  0.2125475 ],\n",
      "       [52.96329677, 48.90351065,  0.86379476,  0.39366628],\n",
      "       [38.56717272, 47.59812876,  1.69480896,  1.26194117],\n",
      "       [47.90835456, 46.98535675,  0.95541204,  0.35814345],\n",
      "       [34.89766504, 47.41182303,  0.77309951,  0.32217338],\n",
      "       [22.75773458, 46.99601928,  0.70460679,  0.19134796],\n",
      "       [17.58490189, 46.62582174,  1.14995093,  0.93643862],\n",
      "       [13.0838368 , 47.18854414,  0.79804336,  0.40447626],\n",
      "       [60.11840051, 45.14875342,  0.78022945,  0.24918078],\n",
      "       [52.74309826, 44.29378119,  0.88420037,  0.5319855 ],\n",
      "       [41.84561582, 43.66717563,  0.95584794,  0.47049019],\n",
      "       [15.07519077, 44.1134914 ,  0.95740837,  0.47588181],\n",
      "       [ 4.81689471, 43.9469711 ,  1.95902946,  2.11915367],\n",
      "       [29.5309222 , 43.27088502,  2.23075333,  2.07537718],\n",
      "       [12.06393198, 42.42220257,  0.49390061,  0.26577209],\n",
      "       [57.99955606, 40.97280396,  1.        ,  0.        ],\n",
      "       [23.30574469, 41.04566024,  1.42293781,  0.80370497],\n",
      "       [46.60885237, 40.4807936 ,  0.91282738,  0.50303497],\n",
      "       [35.95201877, 39.99140239,  1.        ,  0.        ],\n",
      "       [50.94294278, 39.58476863,  1.0525795 ,  0.37606493],\n",
      "       [13.08419128, 39.15536634,  0.87246233,  0.23562349],\n",
      "       [57.04005316, 38.00060314,  1.        ,  0.        ],\n",
      "       [20.3894279 , 38.27984357,  0.23910093,  0.82071178],\n",
      "       [41.68733395, 37.04920448,  1.16547325,  0.78990603],\n",
      "       [37.16870094, 37.42274843,  0.55534813,  0.40904492],\n",
      "       [28.25074815, 37.09713077,  0.71293718,  0.21135787],\n",
      "       [15.99654139, 36.96066193,  1.        ,  0.        ],\n",
      "       [32.4314244 , 36.41067236,  0.78819738,  0.40309015],\n",
      "       [ 4.97392444, 36.05267886,  1.        ,  0.        ],\n",
      "       [56.68138019, 35.32758437,  0.2431893 ,  0.70265176],\n",
      "       [19.98592921, 35.05379209,  1.        ,  0.        ],\n",
      "       [51.04048112, 33.84516602,  1.        ,  0.        ],\n",
      "       [47.02126183, 33.80729525,  0.81055092,  0.33520466],\n",
      "       [17.39341667, 34.00267035,  0.69632151,  0.47000897],\n",
      "       [34.50506111, 32.70084706,  1.15218023,  0.90403886],\n",
      "       [ 8.2252147 , 33.32264693,  1.08305644,  0.36295268],\n",
      "       [23.75954354, 31.8094172 ,  0.94255748,  0.30753158],\n",
      "       [60.18450773, 30.847386  ,  1.15210225,  0.77258473],\n",
      "       [12.01208793, 31.02556478,  1.        ,  0.        ],\n",
      "       [16.27057359, 29.90170785,  0.99713163,  0.52240765],\n",
      "       [44.14316597, 29.39897472,  1.31902277,  0.59641079],\n",
      "       [53.29306626, 28.40772688,  0.23827617,  0.77512454],\n",
      "       [50.00184934, 27.97704996,  1.        ,  0.        ],\n",
      "       [58.36759674, 25.82274329,  0.8014528 ,  0.39293987],\n",
      "       [38.21958574, 25.93981235,  1.03340684,  0.57137198],\n",
      "       [34.39303987, 25.85929047,  0.63477811,  0.23552708],\n",
      "       [25.98121776, 25.914963  ,  0.94407749,  0.38625487],\n",
      "       [21.4648816 , 26.10214791,  1.20861818,  0.67646833],\n",
      "       [10.52079317, 25.75497173,  1.43079661,  1.42171355],\n",
      "       [53.1952162 , 25.39200232,  0.40149634,  0.26411718],\n",
      "       [48.39329386, 23.20694469,  0.93253181,  0.40569398],\n",
      "       [16.26517041, 22.84989436,  1.34941453,  1.22661428],\n",
      "       [59.97900518, 21.91645803,  1.        ,  0.        ],\n",
      "       [56.58897561, 22.26121616,  0.24596659,  0.84868232],\n",
      "       [51.82200429, 22.38790117,  0.76379233,  0.43183683],\n",
      "       [40.02527242, 21.9993074 ,  1.        ,  0.        ],\n",
      "       [ 9.39987479, 21.23049989,  1.06447341,  0.36743547],\n",
      "       [ 4.36244442, 22.31708696,  0.24463401,  1.09696239],\n",
      "       [34.61549574, 21.17660788,  0.91189954,  0.32697384],\n",
      "       [39.98148439, 18.94976428,  1.        ,  0.        ],\n",
      "       [24.9251899 , 19.00063278,  1.        ,  0.        ],\n",
      "       [21.96237639, 18.92217927,  1.        ,  0.        ],\n",
      "       [11.4966244 , 19.39417779,  0.42179285,  0.39420459],\n",
      "       [ 2.8477203 , 19.08541171,  1.01569952,  0.42579139],\n",
      "       [47.08211401, 17.96006596,  0.88888273,  0.61009667],\n",
      "       [32.02795059, 17.27084487,  1.05211167,  0.63017959],\n",
      "       [36.93587042, 16.05395191,  1.        ,  0.        ],\n",
      "       [28.39035309, 15.62631536,  0.78256767,  0.47972183],\n",
      "       [55.88341232, 15.43535443,  0.48444428,  0.48396105],\n",
      "       [52.99779331, 14.94003698,  1.        ,  0.        ],\n",
      "       [44.03798907, 15.03315289,  1.        ,  0.        ],\n",
      "       [40.95270438, 14.96207123,  1.        ,  0.        ],\n",
      "       [59.76391865, 14.21955599,  1.34762918,  1.23829119],\n",
      "       [47.2203231 , 14.39242341,  0.48398873,  0.35394115],\n",
      "       [11.05842175, 14.3970056 ,  0.59761585,  0.53667514],\n",
      "       [16.95584202, 12.99776216,  1.        ,  0.        ],\n",
      "       [13.97778462, 12.97938303,  1.        ,  0.        ],\n",
      "       [ 5.61164148, 13.08307136,  0.55856092,  0.49750707],\n",
      "       [38.03678602, 11.71192002,  0.42484515,  0.10979741],\n",
      "       [34.98480768, 11.9573579 ,  1.        ,  0.        ],\n",
      "       [25.87602492, 11.78694966,  0.90261627,  0.5824016 ],\n",
      "       [ 3.36919216, 11.77042632,  0.44384537,  0.16440108],\n",
      "       [50.67643238, 10.80563899,  0.81374798,  0.41572667],\n",
      "       [19.95105722, 10.00660357,  1.        ,  0.        ],\n",
      "       [13.30761448,  8.65078975,  0.83141427,  0.36781959],\n",
      "       [59.98767275,  7.89431609,  1.        ,  0.        ],\n",
      "       [28.81420352,  8.2588021 ,  0.91279585,  0.48283457],\n",
      "       [ 7.75001996,  8.05697445,  0.78923401,  0.23744078],\n",
      "       [56.04211293,  6.55442494,  0.53175074,  0.61656956],\n",
      "       [40.82417047,  7.50994709,  0.81537626,  0.31196389],\n",
      "       [19.70750876,  7.3770141 ,  0.24093471,  0.60354191],\n",
      "       [ 4.34613566,  7.26284031,  1.31746678,  0.68430486],\n",
      "       [22.99961966,  5.03266368,  1.        ,  0.        ],\n",
      "       [10.59591872,  5.27912789,  0.24057476,  0.85733255],\n",
      "       [61.94488603,  3.97704182,  1.        ,  0.        ],\n",
      "       [56.68745956,  4.3411433 ,  0.23595384,  0.9578301 ],\n",
      "       [47.0176588 ,  3.99369438,  1.22081416,  0.88644742],\n",
      "       [38.0339034 ,  4.00882985,  1.        ,  0.        ],\n",
      "       [35.309348  ,  4.36750286,  0.24323291,  0.57161978],\n",
      "       [28.59234788,  4.13418019,  0.48288663,  0.15189307],\n",
      "       [25.61276175,  4.29499212,  0.21568621,  0.59791683],\n",
      "       [14.25382758,  4.20771581,  0.75109901,  0.38066665],\n",
      "       [52.71349966,  2.02390737,  1.0292963 ,  0.31138898]]), 'base_dir': '/dls/e02/data/2020/cm26481-1/processing/pty_simulated_data_MD/sim_matrix_ptyREX_25April2020/Graphene_defect_32.0mrad_162.50A_def_14.14A_step_size', 'experiment': {'data': {'data_path': '/dls/e02/data/2020/cm26481-1/processing/pty_simulated_data_MD/sim_matrix_ptyREX_25April2020/Graphene_defect_32.0mrad_162.50A_def_14.14A_step_size/Graphene_defect_32.0mrad_162.50A_def_14.14A_step_size.h5', 'dead_pixel_flag': 0, 'flat_field_flag': 0, 'key': '4DSTEM_simulation/data/datacubes/hdose_noisy_data', 'load_flag': 1, 'meta_type': 'hdf'}, 'detector': {'position': array([0.        , 0.        , 0.11464381])}, 'optics': {'FZP': {'use': 0}, 'diffuser': {'use': 0}, 'lens': {'alpha': 0.064, 'defocus': array([1.625e-08, 1.625e-08]), 'use': 1}, 'pinhole': {'use': 0}}, 'sample': {'position': array([0, 0, 0])}}, 'json_path': '/dls/e02/data/2020/cm26481-1/processing/pty_simulated_data_MD/sim_matrix_ptyREX_25April2020/Graphene_defect_32.0mrad_162.50A_def_14.14A_step_size/2000iter_20200426-222242.json', 'process': {'PIE': {'iterations': 2000}, 'common': {'detector': {'bin': array([1, 1]), 'crop': array([256, 256]), 'distance': 0.11464380986157446, 'mask_flag': 0, 'min_max': array([      0, 1000000]), 'optic_axis': array([128., 128.]), 'orientation': '00', 'pix_pitch': array([5.5e-05, 5.5e-05])}, 'object': {'load_flag': 0}, 'probe': {'aperture_shape': 'circ', 'aperture_size': 0.003668601915570383, 'convergence': 0.064, 'diffuser': 0, 'distance': -1, 'focal_dist': -1, 'load_flag': 0}, 'scan': {'N': array([2, 2]), 'dR': array([1.41446e-09, 1.41446e-09]), 'fast_axis': 1, 'load_flag': 0, 'orientation': '00', 'rotation': 0, 'type': 'tv'}, 'source': {'energy': array([80000]), 'flux': -1, 'radiation': 'electron'}}, 'cores': 1, 'gpu_flag': 1, 'save_dir': '/dls/e02/data/2020/cm26481-1/processing/pty_simulated_data_MD/sim_matrix_ptyREX_25April2020/Graphene_defect_32.0mrad_162.50A_def_14.14A_step_size', 'save_interval': 10}, 'sim_path': '/dls/e02/data/2020/cm26481-1/processing/pty_simulated_data_MD/sim_matrix_ptyREX_25April2020/Graphene_defect_32.0mrad_162.50A_def_14.14A_step_size/Graphene_defect_32.0mrad_162.50A_def_14.14A_step_size.h5'}\n"
     ]
    },
    {
     "name": "stderr",
     "output_type": "stream",
     "text": [
      "/dls_sw/apps/python/anaconda/4.6.14/64/envs/epsic3.7/lib/python3.7/site-packages/ipykernel_launcher.py:38: H5pyDeprecationWarning: dataset.value has been deprecated. Use dataset[()] instead.\n"
     ]
    }
   ],
   "source": [
    "dd = load_dict_from_hdf5('/dls/science/groups/e02/Mohsen/code/Git_Repos/Staff-notebooks/ptyREX_sim_matrix/fitting_results/Graphene_defect_32.0mrad_162.50A_def_14.14A_step_size.h5')\n",
    "print(dd)"
   ]
  },
  {
   "cell_type": "code",
   "execution_count": 49,
   "metadata": {},
   "outputs": [],
   "source": [
    "# Saving the atomic fitting data\n",
    "import numpy as np\n",
    "import h5py\n",
    "import os\n",
    "def save_dict_to_hdf5(dic, filename):\n",
    "    \"\"\"\n",
    "    ....\n",
    "    \"\"\"\n",
    "    if os.path.exists(filename):\n",
    "        with h5py.File(filename, 'a') as h5file:\n",
    "            recursively_save_dict_contents_to_group(h5file, '/', dic)\n",
    "    else:\n",
    "        \n",
    "        with h5py.File(filename, 'w') as h5file:\n",
    "            recursively_save_dict_contents_to_group(h5file, '/', dic)\n",
    "\n",
    "def recursively_save_dict_contents_to_group(h5file, path, dic):\n",
    "    \"\"\"\n",
    "    ....\n",
    "    \"\"\"\n",
    "    for key, item in dic.items():\n",
    "        if isinstance(item, (np.ndarray, list, float, int, str)):\n",
    "            h5file[path + key] = item\n",
    "        elif isinstance(item, dict):\n",
    "            recursively_save_dict_contents_to_group(h5file, path + key + '/', item)\n"
   ]
  },
  {
   "cell_type": "markdown",
   "metadata": {},
   "source": [
    "# Trials on single datasets"
   ]
  },
  {
   "cell_type": "code",
   "execution_count": 25,
   "metadata": {},
   "outputs": [],
   "source": [
    "ref_hs = hs.signals.Signal2D(phase_ideal_bin)\n",
    "ref_hs_crop = ref_hs.isig[5:70,5:70]\n",
    "ref_hs_crop.plot()"
   ]
  },
  {
   "cell_type": "code",
   "execution_count": 36,
   "metadata": {},
   "outputs": [
    {
     "name": "stderr",
     "output_type": "stream",
     "text": [
      "100%|██████████| 18/18 [00:00<00:00, 328.02it/s]\n",
      "100%|██████████| 280/280 [00:00<00:00, 3478.03it/s]\n"
     ]
    }
   ],
   "source": [
    "s_peaks = am.get_feature_separation(ref_hs_crop, separation_range=(2, 20))"
   ]
  },
  {
   "cell_type": "code",
   "execution_count": 37,
   "metadata": {},
   "outputs": [],
   "source": [
    "s_peaks.plot()"
   ]
  },
  {
   "cell_type": "code",
   "execution_count": 236,
   "metadata": {},
   "outputs": [],
   "source": [
    "ref_atom_positions = am.get_atom_positions(ref_hs_crop, separation=2)"
   ]
  },
  {
   "cell_type": "code",
   "execution_count": 237,
   "metadata": {},
   "outputs": [],
   "source": [
    "ref_sublattice = am.Sublattice(ref_atom_positions, image=ref_hs_crop.data)"
   ]
  },
  {
   "cell_type": "code",
   "execution_count": 238,
   "metadata": {},
   "outputs": [
    {
     "data": {
      "text/plain": [
       "<Sublattice,  (atoms:149,planes:0)>"
      ]
     },
     "execution_count": 238,
     "metadata": {},
     "output_type": "execute_result"
    }
   ],
   "source": [
    "ref_sublattice"
   ]
  },
  {
   "cell_type": "code",
   "execution_count": 239,
   "metadata": {},
   "outputs": [
    {
     "name": "stderr",
     "output_type": "stream",
     "text": [
      "Center of mass: 100%|██████████| 149/149 [00:00<00:00, 1791.21it/s]\n",
      "Gaussian fitting: 100%|██████████| 149/149 [00:10<00:00, 14.47it/s]\n"
     ]
    }
   ],
   "source": [
    "ref_sublattice.find_nearest_neighbors()\n",
    "ref_sublattice.refine_atom_positions_using_center_of_mass()\n",
    "ref_sublattice.refine_atom_positions_using_2d_gaussian()"
   ]
  },
  {
   "cell_type": "code",
   "execution_count": 240,
   "metadata": {},
   "outputs": [
    {
     "name": "stderr",
     "output_type": "stream",
     "text": [
      "100%|██████████| 149/149 [00:00<00:00, 2943.29it/s]\n"
     ]
    }
   ],
   "source": [
    "ref_sublattice.get_position_history().plot()"
   ]
  },
  {
   "cell_type": "code",
   "execution_count": 241,
   "metadata": {},
   "outputs": [],
   "source": [
    "ref_atom_list = ref_sublattice.atom_list"
   ]
  },
  {
   "cell_type": "code",
   "execution_count": 242,
   "metadata": {},
   "outputs": [
    {
     "data": {
      "text/plain": [
       "<Atom_Position,  (x:61.7,y:61.1,sx:0.7,sy:0.6,r:1.9,e:1.2)>"
      ]
     },
     "execution_count": 242,
     "metadata": {},
     "output_type": "execute_result"
    }
   ],
   "source": [
    "ref_atom_list[0]"
   ]
  },
  {
   "cell_type": "code",
   "execution_count": 270,
   "metadata": {},
   "outputs": [
    {
     "data": {
      "text/plain": [
       "'/dls/e02/data/2020/cm26481-1/processing/pty_simulated_data_MD/sim_matrix_ptyREX_25April2020/Graphene_defect_8.0mrad_281.70A_def_4.35A_step_size/2000iter_20200426-222252.json'"
      ]
     },
     "execution_count": 270,
     "metadata": {},
     "output_type": "execute_result"
    }
   ],
   "source": [
    "defocus_probes_dict[0][6]['json_path']"
   ]
  },
  {
   "cell_type": "code",
   "execution_count": 218,
   "metadata": {},
   "outputs": [
    {
     "data": {
      "text/plain": [
       "<matplotlib.image.AxesImage at 0x7f69c1ab6510>"
      ]
     },
     "execution_count": 218,
     "metadata": {},
     "output_type": "execute_result"
    }
   ],
   "source": [
    "plt.figure()\n",
    "plt.imshow(np.angle(test_obj))"
   ]
  },
  {
   "cell_type": "code",
   "execution_count": 271,
   "metadata": {},
   "outputs": [],
   "source": [
    "test_obj = crop_recon_obj(defocus_probes_dict[0][6]['json_path'])\n",
    "\n",
    "img = abs(np.min(np.angle(test_obj))) + np.angle(test_obj)\n",
    "sh0 = img.shape[0]\n",
    "sh1 = phase_ideal_bin.shape[0]\n",
    "img_crop = img[int(sh0/2 - sh1/2):int(sh0/2 + sh1/2), int(sh0/2 - sh1/2):int(sh0/2 + sh1/2)]\n",
    "shift, error, diffphase = register_translation(phase_ideal_bin, img_crop)\n",
    "offset_img = fourier_shift(np.fft.fftn(img_crop), shift)\n",
    "offset_img = np.real(np.fft.ifftn(offset_img))\n",
    "\n",
    "fig, ax = plt.subplots(1,2)\n",
    "ax[0].imshow(img_crop)\n",
    "ax[1].imshow(np.real(offset_img))\n",
    "\n",
    "img_hs = hs.signals.Signal2D(offset_img)\n",
    "img_hs_crop = img_hs.isig[5:70,5:70]\n",
    "img_hs_crop.plot()"
   ]
  },
  {
   "cell_type": "code",
   "execution_count": 231,
   "metadata": {},
   "outputs": [],
   "source": [
    "img_hs.plot()"
   ]
  },
  {
   "cell_type": "code",
   "execution_count": 272,
   "metadata": {},
   "outputs": [
    {
     "name": "stderr",
     "output_type": "stream",
     "text": [
      "100%|██████████| 18/18 [00:00<00:00, 565.63it/s]\n",
      "100%|██████████| 188/188 [00:00<00:00, 3748.05it/s]\n"
     ]
    }
   ],
   "source": [
    "s_peaks = am.get_feature_separation(img_hs, separation_range=(2, 20))\n",
    "s_peaks.plot()"
   ]
  },
  {
   "cell_type": "code",
   "execution_count": 273,
   "metadata": {},
   "outputs": [],
   "source": [
    "test_positions = am.get_atom_positions(img_hs_crop, separation=2)"
   ]
  },
  {
   "cell_type": "code",
   "execution_count": 274,
   "metadata": {},
   "outputs": [],
   "source": [
    "test_sublattice = am.Sublattice(test_positions, image=img_hs_crop.data)"
   ]
  },
  {
   "cell_type": "code",
   "execution_count": 275,
   "metadata": {},
   "outputs": [
    {
     "data": {
      "text/plain": [
       "<Sublattice,  (atoms:104,planes:0)>"
      ]
     },
     "execution_count": 275,
     "metadata": {},
     "output_type": "execute_result"
    }
   ],
   "source": [
    "test_sublattice"
   ]
  },
  {
   "cell_type": "code",
   "execution_count": 276,
   "metadata": {},
   "outputs": [
    {
     "name": "stderr",
     "output_type": "stream",
     "text": [
      "Center of mass: 100%|██████████| 104/104 [00:00<00:00, 3044.89it/s]\n",
      "Gaussian fitting: 100%|██████████| 104/104 [00:13<00:00,  7.64it/s]\n"
     ]
    }
   ],
   "source": [
    "test_sublattice.find_nearest_neighbors()\n",
    "test_sublattice.refine_atom_positions_using_center_of_mass()\n",
    "test_sublattice.refine_atom_positions_using_2d_gaussian()"
   ]
  },
  {
   "cell_type": "code",
   "execution_count": 184,
   "metadata": {},
   "outputs": [
    {
     "name": "stderr",
     "output_type": "stream",
     "text": [
      "100%|██████████| 239/239 [00:00<00:00, 1313.30it/s]\n"
     ]
    }
   ],
   "source": [
    "test_sublattice.get_position_history().plot()"
   ]
  },
  {
   "cell_type": "code",
   "execution_count": 65,
   "metadata": {},
   "outputs": [],
   "source": [
    "test_sublattice.plot_ellipticity_map()"
   ]
  },
  {
   "cell_type": "code",
   "execution_count": 277,
   "metadata": {},
   "outputs": [],
   "source": [
    "test_atom_list = test_sublattice.atom_list"
   ]
  },
  {
   "cell_type": "code",
   "execution_count": 278,
   "metadata": {},
   "outputs": [],
   "source": [
    "test_sublattice.plot()"
   ]
  },
  {
   "cell_type": "code",
   "execution_count": 279,
   "metadata": {},
   "outputs": [
    {
     "data": {
      "text/plain": [
       "<Atom_Position,  (x:38.6,y:61.8,sx:1.6,sy:2.2,r:0.4,e:1.4)>"
      ]
     },
     "execution_count": 279,
     "metadata": {},
     "output_type": "execute_result"
    }
   ],
   "source": [
    "test_atom_list[0]"
   ]
  },
  {
   "cell_type": "code",
   "execution_count": 280,
   "metadata": {},
   "outputs": [],
   "source": [
    "ref_coord = []\n",
    "test_coord = []\n",
    "for i in range(len(ref_atom_list)):\n",
    "    ref_coord.append(list(ref_atom_list[i].get_pixel_position()))\n",
    "for i in range(len(test_atom_list)):\n",
    "    test_coord.append(list(test_atom_list[i].get_pixel_position()))\n",
    "ref_coord = np.asarray(ref_coord)\n",
    "test_coord = np.asarray(test_coord)"
   ]
  },
  {
   "cell_type": "code",
   "execution_count": 281,
   "metadata": {},
   "outputs": [
    {
     "data": {
      "text/plain": [
       "<matplotlib.collections.PathCollection at 0x7f69c0fb71d0>"
      ]
     },
     "execution_count": 281,
     "metadata": {},
     "output_type": "execute_result"
    }
   ],
   "source": [
    "plt.figure()\n",
    "plt.scatter(ref_coord[:,0], ref_coord[:,1])\n",
    "plt.scatter(test_coord[:,0], test_coord[:,1])"
   ]
  },
  {
   "cell_type": "code",
   "execution_count": 282,
   "metadata": {},
   "outputs": [],
   "source": [
    "def atom_dist(x1, y1, x2, y2):\n",
    "    return(np.sqrt((y2-y1)**2+(x2-x1)**2))\n",
    "\n",
    "\n",
    "def check_atom_found(ref_atom, exp_list, tol):\n",
    "    distance_check = []\n",
    "    for exp_atom in exp_list:\n",
    "        distance_check.append(atom_dist(ref_atom[0], ref_atom[1], exp_atom[0], exp_atom[1]) < tol)\n",
    "    return any(distance_check)"
   ]
  },
  {
   "cell_type": "code",
   "execution_count": 283,
   "metadata": {},
   "outputs": [
    {
     "data": {
      "text/plain": [
       "149"
      ]
     },
     "execution_count": 283,
     "metadata": {},
     "output_type": "execute_result"
    }
   ],
   "source": [
    "len(ref_coord)"
   ]
  },
  {
   "cell_type": "code",
   "execution_count": 284,
   "metadata": {},
   "outputs": [
    {
     "data": {
      "text/plain": [
       "104"
      ]
     },
     "execution_count": 284,
     "metadata": {},
     "output_type": "execute_result"
    }
   ],
   "source": [
    "len(test_coord)"
   ]
  },
  {
   "cell_type": "code",
   "execution_count": 293,
   "metadata": {},
   "outputs": [
    {
     "name": "stdout",
     "output_type": "stream",
     "text": [
      "number of atoms missing:  45\n"
     ]
    }
   ],
   "source": [
    "ref_to_compare = []\n",
    "ind_to_del = []\n",
    "match_count = 0\n",
    "for i, atom in enumerate(ref_coord):\n",
    "    if check_atom_found(atom, test_coord, 2.28):\n",
    "        match_count += 1\n",
    "    else: \n",
    "        ind_to_del.append(i)\n",
    "ref_to_compare = np.delete(ref_coord, ind_to_del, 0)\n",
    "print('number of atoms missing: ', len(ref_coord) - match_count)"
   ]
  },
  {
   "cell_type": "code",
   "execution_count": 294,
   "metadata": {},
   "outputs": [
    {
     "data": {
      "text/plain": [
       "104"
      ]
     },
     "execution_count": 294,
     "metadata": {},
     "output_type": "execute_result"
    }
   ],
   "source": [
    "match_count"
   ]
  },
  {
   "cell_type": "code",
   "execution_count": 295,
   "metadata": {},
   "outputs": [
    {
     "data": {
      "text/plain": [
       "45"
      ]
     },
     "execution_count": 295,
     "metadata": {},
     "output_type": "execute_result"
    }
   ],
   "source": [
    "len(ref_coord) - len(test_coord)"
   ]
  },
  {
   "cell_type": "code",
   "execution_count": 296,
   "metadata": {},
   "outputs": [
    {
     "data": {
      "text/plain": [
       "104"
      ]
     },
     "execution_count": 296,
     "metadata": {},
     "output_type": "execute_result"
    }
   ],
   "source": [
    "len(ref_to_compare)"
   ]
  },
  {
   "cell_type": "code",
   "execution_count": 297,
   "metadata": {},
   "outputs": [
    {
     "name": "stdout",
     "output_type": "stream",
     "text": [
      "279.6274438286989\n"
     ]
    }
   ],
   "source": [
    "mse = ((ref_to_compare - test_coord)**2).mean()\n",
    "print(mse)"
   ]
  },
  {
   "cell_type": "code",
   "execution_count": null,
   "metadata": {},
   "outputs": [],
   "source": []
  }
 ],
 "metadata": {
  "kernelspec": {
   "display_name": "Python 3",
   "language": "python",
   "name": "python3"
  },
  "language_info": {
   "codemirror_mode": {
    "name": "ipython",
    "version": 3
   },
   "file_extension": ".py",
   "mimetype": "text/x-python",
   "name": "python",
   "nbconvert_exporter": "python",
   "pygments_lexer": "ipython3",
   "version": "3.7.6"
  }
 },
 "nbformat": 4,
 "nbformat_minor": 4
}
