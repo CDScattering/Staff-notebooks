{
 "cells": [
  {
   "cell_type": "code",
   "execution_count": 1,
   "metadata": {},
   "outputs": [],
   "source": [
    "%matplotlib qt\n",
    "# %matplotlib inline"
   ]
  },
  {
   "cell_type": "code",
   "execution_count": 2,
   "metadata": {},
   "outputs": [],
   "source": [
    "import numpy as np\n",
    "import os\n",
    "import h5py\n",
    "import sys\n",
    "import matplotlib.pyplot as plt"
   ]
  },
  {
   "cell_type": "code",
   "execution_count": 3,
   "metadata": {},
   "outputs": [],
   "source": [
    "sys.path.append('/dls/science/groups/e02/Mohsen/code/Git_Repos/Staff-notebooks/ptyREX_sim_matrix')"
   ]
  },
  {
   "cell_type": "code",
   "execution_count": 4,
   "metadata": {},
   "outputs": [],
   "source": [
    "from sim_utils import *\n",
    "from sim_utils import _sigma\n",
    "from recon_utils import *"
   ]
  },
  {
   "cell_type": "code",
   "execution_count": 5,
   "metadata": {},
   "outputs": [],
   "source": [
    "matrix_path = '/dls/e02/data/2020/cm26481-1/processing/pty_simulated_data_MD/sim_matrix_ptyREX_25April2020'\n",
    "# run_ID: 26042020 - 100 iterations \n",
    "# run_ID: 2000iter\n",
    "# json_files = get_ptyREX_recon_list(matrix_path, run_id = '26042020') \n",
    "json_files = get_ptyREX_recon_list(matrix_path, run_id = '2000iter')"
   ]
  },
  {
   "cell_type": "code",
   "execution_count": 6,
   "metadata": {},
   "outputs": [
    {
     "data": {
      "text/plain": [
       "112"
      ]
     },
     "execution_count": 6,
     "metadata": {},
     "output_type": "execute_result"
    }
   ],
   "source": [
    "len(json_files)"
   ]
  },
  {
   "cell_type": "code",
   "execution_count": 7,
   "metadata": {},
   "outputs": [],
   "source": [
    "# sorting the json files\n",
    "conv_angles = [0.016, 0.020, 0.024, 0.030, 0.040, 0.050, 0.064, 0.084]\n",
    "diff_overlap = [-22.5, 1.99, 18.33, 34.70, 51.00, 60.80, 69.37, 76.67]\n",
    "real_probe_overlap = [-5, 2, 15, 35, 60, 70, 80]\n",
    "\n",
    "\n",
    "focus_probes_dict = []\n",
    "defocus_probes_dict = []\n",
    "for file in json_files:\n",
    "    j_dict = json_to_dict(file)\n",
    "    if j_dict['experiment']['optics']['lens']['defocus'][0] == 0.00:\n",
    "        for i, angle in enumerate(conv_angles):\n",
    "            focus_probes_dict.append([])\n",
    "            if j_dict['process']['common']['probe']['convergence'] == angle:\n",
    "                focus_probes_dict[i].append(j_dict)\n",
    "    else:\n",
    "        for i, angle in enumerate(conv_angles):\n",
    "            defocus_probes_dict.append([])\n",
    "            if j_dict['process']['common']['probe']['convergence'] == angle:\n",
    "                defocus_probes_dict[i].append(j_dict)\n",
    "                \n",
    "for i, angle in enumerate(conv_angles):\n",
    "    #print(angle)\n",
    "    focus_probes_dict[i].sort(key=lambda e: e['process']['common']['scan']['dR'][0], reverse = True)\n",
    "    defocus_probes_dict[i].sort(key=lambda e: e['process']['common']['scan']['dR'][0], reverse = True)"
   ]
  },
  {
   "cell_type": "code",
   "execution_count": 40,
   "metadata": {},
   "outputs": [],
   "source": [
    "# focused probe cases - fft only\n",
    "rows = len(defocus_probes_dict[0])\n",
    "cols = len(conv_angles)\n",
    "#print(rows, cols)\n",
    "fig, axs = plt.subplots(nrows=rows, ncols=cols, sharex=True, sharey=True,figsize=(8, 12))\n",
    "#fig.suptitle('Focused probe conditions', fontsize = 12)\n",
    "\n",
    "for idx in range(rows):    \n",
    "      for idy in range(cols): \n",
    "            obj = crop_recon_obj(focus_probes_dict[idy][idx]['json_path'])\n",
    "            #print(idx, idy)\n",
    "            j_dict = j_dict = json_to_dict(focus_probes_dict[idy][idx]['json_path'])\n",
    "            axs[idx,idy].imshow(np.log(abs(get_fft(obj))), cmap = 'viridis')\n",
    "#             axs[idx,idy].imshow(abs(get_fft(obj)), cmap = 'viridis')\n",
    "\n",
    "            axs[idx,idy].set_xticks([])\n",
    "            axs[idx,idy].set_yticks([])\n",
    "            if idx == 0:\n",
    "                axs[idx,idy].set_title(str(1e3 * j_dict['process']['common']['probe']['convergence']) + 'mrad \\n' + \\\n",
    "                    'step size ($\\AA$) %2.2f'%(1e10*j_dict['process']['common']['scan']['dR'][0]) + '\\n' + \\\n",
    "                                       str(diff_overlap[idy]) + '%overlap', color = 'red', fontsize = 8)\n",
    "            elif idy == 0:\n",
    "                axs[idx,idy].set_title('step size ($\\AA$) %2.3f'%(1e10*j_dict['process']['common']['scan']['dR'][0]), color = 'black', fontsize = 5)\n",
    "                axs[idx, idy].set_ylabel(str(real_probe_overlap[idx]) + '%overlap', color = 'red', fontsize = 8)\n",
    "            else:\n",
    "                axs[idx,idy].set_title('%2.3f'%(1e10*j_dict['process']['common']['scan']['dR'][0]), color = 'black', fontsize = 5)\n",
    "#plt.tight_layout()"
   ]
  },
  {
   "cell_type": "code",
   "execution_count": 41,
   "metadata": {},
   "outputs": [],
   "source": [
    "# focused probe cases - obj phase only\n",
    "rows = len(defocus_probes_dict[0])\n",
    "cols = len(conv_angles)\n",
    "#print(rows, cols)\n",
    "fig, axs = plt.subplots(nrows=rows, ncols=cols, sharex=True, sharey=True,figsize=(18, 10))\n",
    "#fig.suptitle('Focused probe conditions', fontsize = 12)\n",
    "\n",
    "for idx in range(rows):    \n",
    "      for idy in range(cols): \n",
    "            obj = crop_recon_obj(focus_probes_dict[idy][idx]['json_path'])\n",
    "            #print(idx, idy)\n",
    "            j_dict = j_dict = json_to_dict(focus_probes_dict[idy][idx]['json_path'])\n",
    "            \n",
    "            img = abs(np.min(np.angle(obj))) + np.angle(obj)\n",
    "            sh0 = img.shape[0]\n",
    "            sh1 = 82\n",
    "            img_crop = img[int(sh0/2 - sh1/2):int(sh0/2 + sh1/2), int(sh0/2 - sh1/2):int(sh0/2 + sh1/2)]\n",
    "            \n",
    "            axs[idx,idy].imshow(img_crop, cmap = 'magma_r')\n",
    "#             axs[idx,idy].imshow(abs(get_fft(obj)), cmap = 'viridis')\n",
    "\n",
    "            axs[idx,idy].set_xticks([])\n",
    "            axs[idx,idy].set_yticks([])\n",
    "            if idx == 0:\n",
    "                axs[idx,idy].set_title(str(1e3 * j_dict['process']['common']['probe']['convergence']) + 'mrad \\n' + \\\n",
    "                    'step size ($\\AA$) %2.2f'%(1e10*j_dict['process']['common']['scan']['dR'][0]) + '\\n' + \\\n",
    "                                       str(diff_overlap[idy]) + '%overlap', color = 'red', fontsize = 8)\n",
    "            elif idy == 0:\n",
    "                axs[idx,idy].set_title('step size ($\\AA$) %2.3f'%(1e10*j_dict['process']['common']['scan']['dR'][0]), color = 'black', fontsize = 8)\n",
    "                axs[idx, idy].set_ylabel(str(real_probe_overlap[idx]) + '%overlap', color = 'red', fontsize = 8)\n",
    "            else:\n",
    "                axs[idx,idy].set_title('%2.3f'%(1e10*j_dict['process']['common']['scan']['dR'][0]), color = 'black', fontsize = 6)\n",
    "#plt.tight_layout()"
   ]
  },
  {
   "cell_type": "code",
   "execution_count": 42,
   "metadata": {},
   "outputs": [],
   "source": [
    "# defocused probe cases - fft only\n",
    "rows = len(defocus_probes_dict[0])\n",
    "cols = len(conv_angles)\n",
    "#print(rows, cols)\n",
    "fig, axs = plt.subplots(nrows=rows, ncols=cols, sharex=True, sharey=True,figsize=(8, 11))\n",
    "for idx in range(rows):    \n",
    "      for idy in range(cols): \n",
    "            try:\n",
    "                obj = crop_recon_obj(defocus_probes_dict[idy][idx]['json_path'])\n",
    "                #print(idx, idy)\n",
    "                j_dict = j_dict = json_to_dict(defocus_probes_dict[idy][idx]['json_path'])\n",
    "                axs[idx,idy].imshow(np.sqrt(abs(get_fft(obj))), cmap = 'viridis')\n",
    "                axs[idx,idy].set_xticks([])\n",
    "                axs[idx,idy].set_yticks([])\n",
    "                if idx == 0:\n",
    "                    axs[idx,idy].set_title(str(1e3 * j_dict['process']['common']['probe']['convergence']) + 'mrad \\n' + \\\n",
    "                        'step size ($\\AA$) %2.3f'%(1e10*j_dict['process']['common']['scan']['dR'][0])+ '\\n' + \\\n",
    "                                       str(diff_overlap[idy]) + '%overlap', color = 'red', fontsize = 8)\n",
    "                elif idy == 0:\n",
    "                    axs[idx,idy].set_title('step size ($\\AA$) %2.3f'%(1e10*j_dict['process']['common']['scan']['dR'][0]), color = 'black', fontsize = 5)\n",
    "                    axs[idx, idy].set_ylabel(str(real_probe_overlap[idx]) + '%overlap', color = 'red', fontsize = 8)\n",
    "                else:\n",
    "                    axs[idx,idy].set_title('%2.3f'%(1e10*j_dict['process']['common']['scan']['dR'][0]), color = 'black', fontsize = 5)\n",
    "            except IndexError:\n",
    "                pass\n",
    "#plt.tight_layout()            "
   ]
  },
  {
   "cell_type": "code",
   "execution_count": 43,
   "metadata": {},
   "outputs": [],
   "source": [
    "# defocused probe cases - obj phase only\n",
    "rows = len(defocus_probes_dict[0])\n",
    "cols = len(conv_angles)\n",
    "#print(rows, cols)\n",
    "fig, axs = plt.subplots(nrows=rows, ncols=cols, sharex=True, sharey=True,figsize=(8, 11))\n",
    "for idx in range(rows):    \n",
    "      for idy in range(cols): \n",
    "            try:\n",
    "                obj = crop_recon_obj(defocus_probes_dict[idy][idx]['json_path'])\n",
    "                #print(idx, idy)\n",
    "                j_dict = json_to_dict(defocus_probes_dict[idy][idx]['json_path'])\n",
    "                \n",
    "                img = abs(np.min(np.angle(obj))) + np.angle(obj)\n",
    "                sh0 = img.shape[0]\n",
    "                sh1 = 82\n",
    "                img_crop = img[int(sh0/2 - sh1/2):int(sh0/2 + sh1/2), int(sh0/2 - sh1/2):int(sh0/2 + sh1/2)]\n",
    "                \n",
    "                axs[idx,idy].imshow(img_crop, cmap = 'magma_r')\n",
    "                axs[idx,idy].set_xticks([])\n",
    "                axs[idx,idy].set_yticks([])\n",
    "                if idx == 0:\n",
    "                    axs[idx,idy].set_title(str(1e3 * j_dict['process']['common']['probe']['convergence']) + 'mrad \\n' + \\\n",
    "                        'step size ($\\AA$) %2.3f'%(1e10*j_dict['process']['common']['scan']['dR'][0])+ '\\n' + \\\n",
    "                                       str(diff_overlap[idy]) + '%overlap', color = 'red', fontsize = 8)\n",
    "                elif idy == 0:\n",
    "                    axs[idx,idy].set_title('step size ($\\AA$) %2.3f'%(1e10*j_dict['process']['common']['scan']['dR'][0]), color = 'black', fontsize = 5)\n",
    "                    axs[idx, idy].set_ylabel(str(real_probe_overlap[idx]) + '%overlap', color = 'black', fontsize = 5)\n",
    "                else:\n",
    "                    axs[idx,idy].set_title('%2.3f'%(1e10*j_dict['process']['common']['scan']['dR'][0]), color = 'black', fontsize = 5)\n",
    "            except IndexError:\n",
    "                pass\n",
    "#plt.tight_layout()            "
   ]
  },
  {
   "cell_type": "markdown",
   "metadata": {},
   "source": [
    "# Comparison with sim potential"
   ]
  },
  {
   "cell_type": "code",
   "execution_count": 8,
   "metadata": {},
   "outputs": [
    {
     "data": {
      "text/plain": [
       "'/dls/e02/data/2020/cm26481-1/processing/pty_simulated_data_MD/sim_matrix_ptyREX_25April2020/Graphene_defect_20.0mrad_0.00A_def_1.70A_step_size/Graphene_defect_20.0mrad_0.00A_def_1.70A_step_size.h5'"
      ]
     },
     "execution_count": 8,
     "metadata": {},
     "output_type": "execute_result"
    }
   ],
   "source": [
    "# we get one of the potentials as ground truth to compare the recons with.\n",
    "focus_probes_dict[4][5]['sim_path']"
   ]
  },
  {
   "cell_type": "code",
   "execution_count": 9,
   "metadata": {},
   "outputs": [],
   "source": [
    "pot = get_potential(focus_probes_dict[4][5]['sim_path'])"
   ]
  },
  {
   "cell_type": "code",
   "execution_count": 10,
   "metadata": {},
   "outputs": [
    {
     "data": {
      "text/plain": [
       "Text(0.5, 1.0, 'ideal phase shift')"
      ]
     },
     "execution_count": 10,
     "metadata": {},
     "output_type": "execute_result"
    }
   ],
   "source": [
    "sh = pot.shape[0]\n",
    "obj_pot = pot[int(0.33*sh):int(0.66*sh), int(0.33*sh):int(0.66*sh)]\n",
    "obj_pot_fft = np.fft.fftshift(np.fft.fft2(obj_pot))\n",
    "phase_ideal = _sigma(80000) * obj_pot\n",
    "fig, ax = plt.subplots(1,3,figsize=(11,4))\n",
    "im = ax[0].imshow(obj_pot)\n",
    "fig.colorbar(im, ax = ax[0])\n",
    "ax[1].imshow(np.log(abs(obj_pot_fft)), cmap = 'viridis')\n",
    "im2 = ax[2].imshow(phase_ideal)\n",
    "fig.colorbar(im2, ax = ax[2])\n",
    "ax[0].set_xticks([])\n",
    "ax[0].set_yticks([])\n",
    "ax[1].set_xticks([])\n",
    "ax[1].set_yticks([])\n",
    "ax[2].set_xticks([])\n",
    "ax[2].set_yticks([])\n",
    "ax[0].set_title('object potential in V$\\AA$')\n",
    "ax[1].set_title('fft of object potential')\n",
    "ax[2].set_title('ideal phase shift')\n",
    "# plt.tight_layout()            "
   ]
  },
  {
   "cell_type": "code",
   "execution_count": 11,
   "metadata": {},
   "outputs": [],
   "source": [
    "from skimage.metrics import structural_similarity as ssim\n",
    "from skimage.metrics import normalized_root_mse as nrmse\n",
    "from skimage.metrics import mean_squared_error as mse\n",
    "from skimage.feature import register_translation\n",
    "from scipy.ndimage import fourier_shift\n"
   ]
  },
  {
   "cell_type": "code",
   "execution_count": 12,
   "metadata": {},
   "outputs": [],
   "source": [
    "# binning the ideal phase by 2 - the sim pixelSize is half the recn pixelSize - due to the way 4DSTEM\n",
    "# data is saved in pyprimsatic\n",
    "phase_ideal_hs = hs.signals.Signal2D(phase_ideal)\n",
    "phase_ideal_bin = phase_ideal_hs.rebin(scale = (2,2))\n",
    "phase_ideal_bin = phase_ideal_bin.data"
   ]
  },
  {
   "cell_type": "code",
   "execution_count": 49,
   "metadata": {},
   "outputs": [],
   "source": [
    "offset_img_r = np.real(offset_img)"
   ]
  },
  {
   "cell_type": "code",
   "execution_count": 50,
   "metadata": {},
   "outputs": [],
   "source": [
    "ratio = np.divide(offset_img_r, phase_ideal_bin)"
   ]
  },
  {
   "cell_type": "code",
   "execution_count": 51,
   "metadata": {},
   "outputs": [],
   "source": [
    "plt.figure()\n",
    "plt.imshow(ratio, cmap = 'viridis')\n",
    "plt.colorbar()\n",
    "ratio_mean = np.mean(ratio)"
   ]
  },
  {
   "cell_type": "code",
   "execution_count": 52,
   "metadata": {},
   "outputs": [
    {
     "data": {
      "text/plain": [
       "0.9884089493296008"
      ]
     },
     "execution_count": 52,
     "metadata": {},
     "output_type": "execute_result"
    }
   ],
   "source": [
    "ratio_mean"
   ]
  },
  {
   "cell_type": "code",
   "execution_count": 13,
   "metadata": {},
   "outputs": [
    {
     "name": "stderr",
     "output_type": "stream",
     "text": [
      "/dls_sw/apps/python/anaconda/4.6.14/64/envs/epsic3.7/lib/python3.7/site-packages/ipykernel_launcher.py:19: UserWarning: Inputs have mismatched dtype.  Setting data_range based on im1.dtype.\n",
      "/dls_sw/apps/python/anaconda/4.6.14/64/envs/epsic3.7/lib/python3.7/site-packages/skimage/metrics/_structural_similarity.py:177: ComplexWarning: Casting complex values to real discards the imaginary part\n",
      "  im2 = im2.astype(np.float64)\n",
      "/dls_sw/apps/python/anaconda/4.6.14/64/envs/epsic3.7/lib/python3.7/site-packages/numpy/core/_methods.py:151: ComplexWarning: Casting complex values to real discards the imaginary part\n",
      "  ret = umr_sum(arr, axis, dtype, out, keepdims)\n",
      "/dls_sw/apps/python/anaconda/4.6.14/64/envs/epsic3.7/lib/python3.7/site-packages/numpy/core/_asarray.py:85: ComplexWarning: Casting complex values to real discards the imaginary part\n",
      "  return array(a, dtype, copy=False, order=order)\n",
      "/dls_sw/apps/python/anaconda/4.6.14/64/envs/epsic3.7/lib/python3.7/site-packages/numpy/core/_asarray.py:85: ComplexWarning: Casting complex values to real discards the imaginary part\n",
      "  return array(a, dtype, copy=False, order=order)\n",
      "/dls_sw/apps/python/anaconda/4.6.14/64/envs/epsic3.7/lib/python3.7/site-packages/numpy/core/_asarray.py:85: ComplexWarning: Casting complex values to real discards the imaginary part\n",
      "  return array(a, dtype, copy=False, order=order)\n",
      "/dls_sw/apps/python/anaconda/4.6.14/64/envs/epsic3.7/lib/python3.7/site-packages/numpy/core/_asarray.py:85: ComplexWarning: Casting complex values to real discards the imaginary part\n",
      "  return array(a, dtype, copy=False, order=order)\n",
      "/dls_sw/apps/python/anaconda/4.6.14/64/envs/epsic3.7/lib/python3.7/site-packages/numpy/core/_asarray.py:85: ComplexWarning: Casting complex values to real discards the imaginary part\n",
      "  return array(a, dtype, copy=False, order=order)\n",
      "/dls_sw/apps/python/anaconda/4.6.14/64/envs/epsic3.7/lib/python3.7/site-packages/numpy/core/_asarray.py:85: ComplexWarning: Casting complex values to real discards the imaginary part\n",
      "  return array(a, dtype, copy=False, order=order)\n",
      "/dls_sw/apps/python/anaconda/4.6.14/64/envs/epsic3.7/lib/python3.7/site-packages/numpy/core/_asarray.py:85: ComplexWarning: Casting complex values to real discards the imaginary part\n",
      "  return array(a, dtype, copy=False, order=order)\n",
      "/dls_sw/apps/python/anaconda/4.6.14/64/envs/epsic3.7/lib/python3.7/site-packages/numpy/core/_asarray.py:85: ComplexWarning: Casting complex values to real discards the imaginary part\n",
      "  return array(a, dtype, copy=False, order=order)\n"
     ]
    },
    {
     "data": {
      "text/plain": [
       "Text(0.5, 0.98, 'ssim and nrmse scores as function of convergence angle \\n defocused probe cases')"
      ]
     },
     "execution_count": 13,
     "metadata": {},
     "output_type": "execute_result"
    }
   ],
   "source": [
    "ssim_scores = []\n",
    "nrmse_scores = []\n",
    "mse_scores = []\n",
    "case_num = 0\n",
    "convergence = []\n",
    "step_size = []\n",
    "for i in range(len(conv_angles)):\n",
    "    for n in range(len(defocus_probes_dict[i])):\n",
    "        obj = crop_recon_obj(defocus_probes_dict[i][n]['json_path'])\n",
    "        convergence.append(defocus_probes_dict[i][n]['process']['common']['probe']['convergence'])\n",
    "        step_size.append(defocus_probes_dict[i][n]['process']['common']['scan']['dR'][0])\n",
    "        img = abs(np.min(np.angle(obj))) + np.angle(obj)\n",
    "        sh0 = img.shape[0]\n",
    "        sh1 = phase_ideal_bin.shape[0]\n",
    "        img_crop = img[int(sh0/2 - sh1/2):int(sh0/2 + sh1/2), int(sh0/2 - sh1/2):int(sh0/2 + sh1/2)]\n",
    "        shift, error, diffphase = register_translation(phase_ideal_bin, img_crop)\n",
    "        offset_img = fourier_shift(np.fft.fftn(img_crop), shift)\n",
    "        offset_img = np.fft.ifftn(offset_img)\n",
    "        ssim_score = ssim(phase_ideal_bin, offset_img)\n",
    "        nrmse_score = nrmse(phase_ideal_bin, offset_img, normalization= 'min-max')\n",
    "        mse_score = mse(phase_ideal_bin, offset_img)\n",
    "        ssim_scores.append(ssim_score)\n",
    "        nrmse_scores.append(nrmse_score)\n",
    "        mse_scores.append(mse_score)\n",
    "\n",
    "convergence = np.asarray(convergence)\n",
    "fig, ax = plt.subplots(1,2,figsize=(11,4))\n",
    "for angle in conv_angles:\n",
    "    inds = np.where(convergence==angle)\n",
    "    _steps = np.take(step_size, inds[0])\n",
    "    _ssim = np.take(ssim_scores, inds[0])\n",
    "    _nrmse = np.take(nrmse_scores, inds[0])\n",
    "    _mse = np.take(mse_scores, inds[0])\n",
    "\n",
    "    ax[0].plot(_steps, _ssim,label = str(angle))\n",
    "    ax[0].set_title('ssim scores')\n",
    "    ax[0].set_xlabel('step_size(m)')\n",
    "    ax[1].plot(_steps, _nrmse,label = str(angle))\n",
    "    ax[1].set_title('nrmse scores')\n",
    "    ax[1].set_xlabel('step_size(m)')\n",
    "    ax[0].legend()\n",
    "    ax[1].legend()\n",
    "fig.suptitle('ssim and nrmse scores as function of convergence angle \\n defocused probe cases')"
   ]
  },
  {
   "cell_type": "code",
   "execution_count": 54,
   "metadata": {},
   "outputs": [
    {
     "name": "stderr",
     "output_type": "stream",
     "text": [
      "/dls_sw/apps/python/anaconda/4.6.14/64/envs/epsic3.7/lib/python3.7/site-packages/ipykernel_launcher.py:19: UserWarning: Inputs have mismatched dtype.  Setting data_range based on im1.dtype.\n",
      "/dls_sw/apps/python/anaconda/4.6.14/64/envs/epsic3.7/lib/python3.7/site-packages/skimage/metrics/_structural_similarity.py:177: ComplexWarning: Casting complex values to real discards the imaginary part\n",
      "  im2 = im2.astype(np.float64)\n",
      "/dls_sw/apps/python/anaconda/4.6.14/64/envs/epsic3.7/lib/python3.7/site-packages/numpy/core/_methods.py:151: ComplexWarning: Casting complex values to real discards the imaginary part\n",
      "  ret = umr_sum(arr, axis, dtype, out, keepdims)\n",
      "/dls_sw/apps/python/anaconda/4.6.14/64/envs/epsic3.7/lib/python3.7/site-packages/numpy/core/_asarray.py:85: ComplexWarning: Casting complex values to real discards the imaginary part\n",
      "  return array(a, dtype, copy=False, order=order)\n",
      "/dls_sw/apps/python/anaconda/4.6.14/64/envs/epsic3.7/lib/python3.7/site-packages/numpy/core/_asarray.py:85: ComplexWarning: Casting complex values to real discards the imaginary part\n",
      "  return array(a, dtype, copy=False, order=order)\n",
      "/dls_sw/apps/python/anaconda/4.6.14/64/envs/epsic3.7/lib/python3.7/site-packages/numpy/core/_asarray.py:85: ComplexWarning: Casting complex values to real discards the imaginary part\n",
      "  return array(a, dtype, copy=False, order=order)\n",
      "/dls_sw/apps/python/anaconda/4.6.14/64/envs/epsic3.7/lib/python3.7/site-packages/numpy/core/_asarray.py:85: ComplexWarning: Casting complex values to real discards the imaginary part\n",
      "  return array(a, dtype, copy=False, order=order)\n",
      "/dls_sw/apps/python/anaconda/4.6.14/64/envs/epsic3.7/lib/python3.7/site-packages/numpy/core/_asarray.py:85: ComplexWarning: Casting complex values to real discards the imaginary part\n",
      "  return array(a, dtype, copy=False, order=order)\n",
      "/dls_sw/apps/python/anaconda/4.6.14/64/envs/epsic3.7/lib/python3.7/site-packages/numpy/core/_asarray.py:85: ComplexWarning: Casting complex values to real discards the imaginary part\n",
      "  return array(a, dtype, copy=False, order=order)\n",
      "/dls_sw/apps/python/anaconda/4.6.14/64/envs/epsic3.7/lib/python3.7/site-packages/numpy/core/_asarray.py:85: ComplexWarning: Casting complex values to real discards the imaginary part\n",
      "  return array(a, dtype, copy=False, order=order)\n",
      "/dls_sw/apps/python/anaconda/4.6.14/64/envs/epsic3.7/lib/python3.7/site-packages/numpy/core/_asarray.py:85: ComplexWarning: Casting complex values to real discards the imaginary part\n",
      "  return array(a, dtype, copy=False, order=order)\n"
     ]
    }
   ],
   "source": [
    "ssim_scores = []\n",
    "nrmse_scores = []\n",
    "mse_scores = []\n",
    "case_num = 0\n",
    "convergence = []\n",
    "step_size = []\n",
    "for i in range(6):\n",
    "    for n in range(len(focus_probes_dict[i])):\n",
    "        obj = crop_recon_obj(focus_probes_dict[i][n]['json_path'])\n",
    "        convergence.append(focus_probes_dict[i][n]['process']['common']['probe']['convergence'])\n",
    "        step_size.append(focus_probes_dict[i][n]['process']['common']['scan']['dR'][0])\n",
    "        img = abs(np.min(np.angle(obj))) + np.angle(obj)\n",
    "        sh0 = img.shape[0]\n",
    "        sh1 = phase_ideal_bin.shape[0]\n",
    "        img_crop = img[int(sh0/2 - sh1/2):int(sh0/2 + sh1/2), int(sh0/2 - sh1/2):int(sh0/2 + sh1/2)]\n",
    "        shift, error, diffphase = register_translation(phase_ideal_bin, img_crop)\n",
    "        offset_img = fourier_shift(np.fft.fftn(img_crop), shift)\n",
    "        offset_img = np.fft.ifftn(offset_img)\n",
    "        ssim_score = ssim(phase_ideal_bin, offset_img)\n",
    "        nrmse_score = nrmse(phase_ideal_bin, offset_img, normalization= 'min-max')\n",
    "        mse_score = mse(phase_ideal_bin, offset_img)\n",
    "        ssim_scores.append(ssim_score)\n",
    "        nrmse_scores.append(nrmse_score)\n",
    "        mse_scores.append(mse_score)\n",
    "\n",
    "convergence = np.asarray(convergence)\n",
    "fig, ax = plt.subplots(1,2,figsize=(11,4))\n",
    "for angle in conv_angles:\n",
    "    inds = np.where(convergence==angle)\n",
    "    _steps = np.take(step_size, inds[0])\n",
    "    _ssim = np.take(ssim_scores, inds[0])\n",
    "    _nrmse = np.take(nrmse_scores, inds[0])\n",
    "    _mse = np.take(mse_scores, inds[0])\n",
    "\n",
    "    ax[0].plot(_steps, _ssim,label = str(angle))\n",
    "    ax[0].set_title('ssim scores')\n",
    "    ax[0].set_xlabel('step_size(m)')\n",
    "    ax[1].plot(_steps, _nrmse,label = str(angle))\n",
    "    ax[1].set_title('nrmse scores')\n",
    "    ax[1].set_xlabel('step_size(m)')\n",
    "    ax[0].legend()\n",
    "    ax[1].legend()\n",
    "fig.suptitle('ssim and nrmse scores as function of convergence angle \\n focused probe cases')\n",
    "None"
   ]
  },
  {
   "cell_type": "code",
   "execution_count": 62,
   "metadata": {},
   "outputs": [],
   "source": [
    "# To plot objects as a function of convergence angles\n",
    "conv_angles = np.asarray(conv_angles)\n",
    "angle = 0.084\n",
    "ind = np.where(conv_angles==angle)\n",
    "\n",
    "objects = []\n",
    "step_sizes = []\n",
    "sh1 = 84\n",
    "for json_dict in defocus_probes_dict[ind[0][0]]:\n",
    "    step_size = json_dict['process']['common']['scan']['dR'][0]\n",
    "    step_sizes.append(step_size)\n",
    "    obj = crop_recon_obj(json_dict['json_path'])\n",
    "    img = abs(np.min(np.angle(obj))) + np.angle(obj)\n",
    "    sh0 = img.shape[0]\n",
    "    img_crop = img[int(sh0/2 - sh1/2):int(sh0/2 + sh1/2), int(sh0/2 - sh1/2):int(sh0/2 + sh1/2)]\n",
    "    objects.append(img_crop)\n",
    "fig, ax = plt.subplots(4,2, figsize=(8,11))\n",
    "for i, step in enumerate(step_sizes):\n",
    "\n",
    "    ax[int(i / 2), i%2].imshow(objects[i], cmap = 'magma_r')\n",
    "    ax[int(i / 2), i%2].set_title('%2.3f'%(1e10*step)+' $\\AA$' )\n",
    "\n",
    "    ax[int(i / 2), i%2].set_xticks([])\n",
    "    ax[int(i / 2), i%2].set_yticks([])\n",
    "fig.suptitle('probe convergence ' + str(angle)+ ' rad')\n",
    "None"
   ]
  },
  {
   "cell_type": "code",
   "execution_count": 32,
   "metadata": {},
   "outputs": [
    {
     "data": {
      "text/plain": [
       "array([0.016, 0.02 , 0.024, 0.03 , 0.04 , 0.05 , 0.064, 0.084])"
      ]
     },
     "execution_count": 32,
     "metadata": {},
     "output_type": "execute_result"
    }
   ],
   "source": [
    "conv_angles"
   ]
  },
  {
   "cell_type": "code",
   "execution_count": 107,
   "metadata": {},
   "outputs": [],
   "source": [
    "# To plot errors function of convergence angles\n",
    "conv_angles = np.asarray(conv_angles)\n",
    "angle = 0.016\n",
    "ind = np.where(conv_angles==angle)\n",
    "\n",
    "errors = []\n",
    "step_sizes = []\n",
    "for json_dict in focus_probes_dict[ind[0][0]]:\n",
    "    step_size = json_dict['process']['common']['scan']['dR'][0]\n",
    "    step_sizes.append(step_size)\n",
    "    name, ext = os.path.splitext(json_dict['json_path'])\n",
    "    error = get_error(name + '.hdf')\n",
    "    errors.append(error)\n",
    "fig, ax = plt.subplots(4,2, figsize=(8,12))\n",
    "for i, step in enumerate(step_sizes):\n",
    "\n",
    "    ax[int(i / 2), i%2].plot(errors[i])\n",
    "    ax[int(i / 2), i%2].set_title('%2.3f'%(1e10*step)+'$\\AA$' )\n",
    "\n",
    "fig.suptitle('error vs iter num ' + str(angle)+ 'rad')\n",
    "None"
   ]
  },
  {
   "cell_type": "markdown",
   "metadata": {},
   "source": [
    "# Evaluation using atomap"
   ]
  },
  {
   "cell_type": "code",
   "execution_count": 14,
   "metadata": {},
   "outputs": [],
   "source": [
    "%matplotlib qt\n",
    "import atomap.api as am"
   ]
  },
  {
   "cell_type": "code",
   "execution_count": 15,
   "metadata": {},
   "outputs": [
    {
     "name": "stderr",
     "output_type": "stream",
     "text": [
      "Center of mass: 100%|██████████| 149/149 [00:00<00:00, 1738.78it/s]\n",
      "Gaussian fitting: 100%|██████████| 149/149 [00:11<00:00, 13.12it/s]\n"
     ]
    }
   ],
   "source": [
    "# Getting the reference positions\n",
    "ref_hs = hs.signals.Signal2D(phase_ideal_bin)\n",
    "ref_hs_crop = ref_hs.isig[5:70,5:70]\n",
    "ref_atom_positions = am.get_atom_positions(ref_hs_crop, separation=2)\n",
    "ref_sublattice = am.Sublattice(ref_atom_positions, image=ref_hs_crop.data)\n",
    "ref_sublattice.find_nearest_neighbors()\n",
    "ref_sublattice.refine_atom_positions_using_center_of_mass()\n",
    "ref_sublattice.refine_atom_positions_using_2d_gaussian()\n",
    "ref_atom_list = ref_sublattice.atom_list"
   ]
  },
  {
   "cell_type": "code",
   "execution_count": 16,
   "metadata": {},
   "outputs": [
    {
     "data": {
      "text/plain": [
       "<Atom_Position,  (x:61.7,y:61.1,sx:0.7,sy:0.6,r:1.9,e:1.2)>"
      ]
     },
     "execution_count": 16,
     "metadata": {},
     "output_type": "execute_result"
    }
   ],
   "source": [
    "ref_atom_list[0]"
   ]
  },
  {
   "cell_type": "code",
   "execution_count": 17,
   "metadata": {},
   "outputs": [
    {
     "data": {
      "text/plain": [
       "1.338411804525878"
      ]
     },
     "execution_count": 17,
     "metadata": {},
     "output_type": "execute_result"
    }
   ],
   "source": [
    "# This is not returning the same value as e!\n",
    "ref_atom_list[0].amplitude_gaussian "
   ]
  },
  {
   "cell_type": "code",
   "execution_count": 18,
   "metadata": {},
   "outputs": [
    {
     "data": {
      "text/plain": [
       "61.694970982469904"
      ]
     },
     "execution_count": 18,
     "metadata": {},
     "output_type": "execute_result"
    }
   ],
   "source": [
    "ref_atom_list[0].pixel_x"
   ]
  },
  {
   "cell_type": "code",
   "execution_count": 19,
   "metadata": {},
   "outputs": [
    {
     "data": {
      "text/plain": [
       "0.6677949193333059"
      ]
     },
     "execution_count": 19,
     "metadata": {},
     "output_type": "execute_result"
    }
   ],
   "source": [
    "ref_atom_list[0].sigma_average"
   ]
  },
  {
   "cell_type": "code",
   "execution_count": 20,
   "metadata": {},
   "outputs": [
    {
     "name": "stdout",
     "output_type": "stream",
     "text": [
      "Number of atoms in reference:  149\n"
     ]
    }
   ],
   "source": [
    "ref_coord = []\n",
    "for i in range(len(ref_atom_list)):\n",
    "    \n",
    "    ref_coord.append(list((ref_atom_list[i].pixel_x,\n",
    "                    ref_atom_list[i].pixel_y,\n",
    "                    ref_atom_list[i].sigma_average,\n",
    "                    ref_atom_list[i].amplitude_gaussian)))\n",
    "\n",
    "ref_coord = np.asarray(ref_coord)\n",
    "print('Number of atoms in reference: ', ref_coord.shape[0])\n"
   ]
  },
  {
   "cell_type": "code",
   "execution_count": 22,
   "metadata": {},
   "outputs": [],
   "source": [
    "# Getting the experimental positions and comparison\n"
   ]
  },
  {
   "cell_type": "code",
   "execution_count": null,
   "metadata": {},
   "outputs": [
    {
     "name": "stderr",
     "output_type": "stream",
     "text": [
      "Center of mass: 100%|██████████| 148/148 [00:00<00:00, 955.05it/s]\n",
      "Gaussian fitting: 100%|██████████| 148/148 [01:00<00:00,  2.43it/s]\n",
      "Center of mass: 100%|██████████| 125/125 [00:00<00:00, 1506.77it/s]\n",
      "Gaussian fitting: 100%|██████████| 125/125 [00:28<00:00,  4.45it/s]\n",
      "Center of mass: 100%|██████████| 136/136 [00:00<00:00, 2353.28it/s]\n",
      "Gaussian fitting: 100%|██████████| 136/136 [00:49<00:00,  2.75it/s]\n",
      "Center of mass: 100%|██████████| 135/135 [00:00<00:00, 2700.00it/s]\n",
      "Gaussian fitting: 100%|██████████| 135/135 [00:33<00:00,  4.03it/s]\n",
      "Center of mass: 100%|██████████| 143/143 [00:00<00:00, 1982.07it/s]\n",
      "Gaussian fitting: 100%|██████████| 143/143 [00:35<00:00,  4.03it/s]\n",
      "Center of mass: 100%|██████████| 141/141 [00:00<00:00, 2770.13it/s]\n",
      "Gaussian fitting: 100%|██████████| 141/141 [00:31<00:00,  4.48it/s]\n",
      "Center of mass: 100%|██████████| 140/140 [00:00<00:00, 3070.79it/s]\n",
      "Gaussian fitting:  64%|██████▍   | 90/140 [00:39<00:17,  2.93it/s]"
     ]
    }
   ],
   "source": [
    "# defocused probe cases \n",
    "rows = len(defocus_probes_dict[0])\n",
    "cols = len(conv_angles)\n",
    "\n",
    "for idx in range(rows):    \n",
    "      for idy in range(cols): \n",
    "            obj = crop_recon_obj(defocus_probes_dict[idy][idx]['json_path'])\n",
    "            img = abs(np.min(np.angle(obj))) + np.angle(obj)\n",
    "            sh0 = img.shape[0]\n",
    "            sh1 = phase_ideal_bin.shape[0]\n",
    "            img_crop = img[int(sh0/2 - sh1/2):int(sh0/2 + sh1/2), int(sh0/2 - sh1/2):int(sh0/2 + sh1/2)]\n",
    "            shift, error, diffphase = register_translation(phase_ideal_bin, img_crop)\n",
    "            offset_img = fourier_shift(np.fft.fftn(img_crop), shift)\n",
    "            offset_img = np.real(np.fft.ifftn(offset_img))\n",
    "\n",
    "            img_hs = hs.signals.Signal2D(offset_img)\n",
    "            img_hs_crop = img_hs.isig[5:70,5:70]\n",
    "\n",
    "\n",
    "            exp_positions = am.get_atom_positions(img_hs_crop, separation=2)\n",
    "            exp_sublattice = am.Sublattice(exp_positions, image=img_hs_crop.data)\n",
    "\n",
    "            exp_sublattice.find_nearest_neighbors()\n",
    "            exp_sublattice.refine_atom_positions_using_center_of_mass()\n",
    "            exp_sublattice.refine_atom_positions_using_2d_gaussian()\n",
    "\n",
    "            exp_atom_list = exp_sublattice.atom_list\n",
    "\n",
    "\n",
    "            exp_coord = []\n",
    "            for i in range(len(exp_atom_list)):\n",
    "\n",
    "                exp_coord.append(list((exp_atom_list[i].pixel_x,\n",
    "                                exp_atom_list[i].pixel_y,\n",
    "                                exp_atom_list[i].sigma_average,\n",
    "                                exp_atom_list[i].amplitude_gaussian)))\n",
    "\n",
    "            exp_coord = np.asarray(exp_coord)\n",
    "            defocus_probes_dict[idy][idx]['atom_pos'] = exp_coord\n",
    "\n",
    "          "
   ]
  },
  {
   "cell_type": "code",
   "execution_count": 110,
   "metadata": {},
   "outputs": [],
   "source": [
    "# identified atom positions versus the known positions\n",
    "rows = len(defocus_probes_dict[0])\n",
    "cols = len(conv_angles)\n",
    "#print(rows, cols)\n",
    "fig, axs = plt.subplots(nrows=rows, ncols=cols, sharex=True, sharey=True,figsize=(8, 11))\n",
    "for idx in range(rows):    \n",
    "      for idy in range(cols): \n",
    "            try:\n",
    "                j_dict = json_to_dict(defocus_probes_dict[idy][idx]['json_path'])\n",
    "                exp_coord = defocus_probes_dict[idy][idx]['atom_pos']\n",
    "#                 print(json_dict['json_path'].split('/')[-2])\n",
    "#                 print('Difference in number f atoms: ', ref_coord.shape[0] - exp_coord.shape[0])\n",
    "                \n",
    "                missed_atoms = ref_coord.shape[0] - exp_coord.shape[0]\n",
    "                \n",
    "                axs[idx,idy].scatter(ref_coord[:,0], ref_coord[:,1], s = 1, c = 'g')\n",
    "                axs[idx,idy].scatter(exp_coord[:,0], exp_coord[:,1], s = 1, c = 'r')\n",
    "                axs[idx,idy].set_xticks([])\n",
    "                axs[idx,idy].set_yticks([])\n",
    "                axs[idx,idy].set_title(missed_atoms, color = 'black')\n",
    "#                 if idx == 0:\n",
    "#                     axs[idx,idy].set_title(str(1e3 * j_dict['process']['common']['probe']['convergence']) + 'mrad \\n' + \\\n",
    "#                         'step size ($\\AA$) %2.3f'%(1e10*j_dict['process']['common']['scan']['dR'][0])+ '\\n' + \\\n",
    "#                                        str(diff_overlap[idy]) + '%overlap', color = 'black', fontsize = 8)\n",
    "#                 elif idy == 0:\n",
    "#                     axs[idx,idy].set_title('step size ($\\AA$) %2.3f'%(1e10*j_dict['process']['common']['scan']['dR'][0]), color = 'black', fontsize = 5)\n",
    "#                     axs[idx, idy].set_ylabel(str(real_probe_overlap[idx]) + '%overlap', color = 'black', fontsize = 5)\n",
    "#                 else:\n",
    "#                     axs[idx,idy].set_title('%2.3f'%(1e10*j_dict['process']['common']['scan']['dR'][0]), color = 'black', fontsize = 5)\n",
    "            except IndexError:\n",
    "                pass\n",
    "#plt.tight_layout()            "
   ]
  },
  {
   "cell_type": "code",
   "execution_count": 105,
   "metadata": {},
   "outputs": [
    {
     "data": {
      "text/plain": [
       "'Graphene_defect_8.0mrad_0.00A_def_1.83A_step_size'"
      ]
     },
     "execution_count": 105,
     "metadata": {},
     "output_type": "execute_result"
    }
   ],
   "source": [
    "json_dict['json_path'].split('/')[-2]"
   ]
  },
  {
   "cell_type": "markdown",
   "metadata": {},
   "source": [
    "# Trials"
   ]
  },
  {
   "cell_type": "code",
   "execution_count": 66,
   "metadata": {},
   "outputs": [],
   "source": [
    "ref_hs = hs.signals.Signal2D(phase_ideal_bin)\n",
    "ref_hs_crop = ref_hs.isig[5:70,5:70]\n",
    "ref_hs_crop.plot()"
   ]
  },
  {
   "cell_type": "code",
   "execution_count": 36,
   "metadata": {},
   "outputs": [
    {
     "name": "stderr",
     "output_type": "stream",
     "text": [
      "100%|██████████| 18/18 [00:00<00:00, 328.02it/s]\n",
      "100%|██████████| 280/280 [00:00<00:00, 3478.03it/s]\n"
     ]
    }
   ],
   "source": [
    "s_peaks = am.get_feature_separation(ref_hs_crop, separation_range=(2, 20))"
   ]
  },
  {
   "cell_type": "code",
   "execution_count": 37,
   "metadata": {},
   "outputs": [],
   "source": [
    "s_peaks.plot()"
   ]
  },
  {
   "cell_type": "code",
   "execution_count": 236,
   "metadata": {},
   "outputs": [],
   "source": [
    "ref_atom_positions = am.get_atom_positions(ref_hs_crop, separation=2)"
   ]
  },
  {
   "cell_type": "code",
   "execution_count": 237,
   "metadata": {},
   "outputs": [],
   "source": [
    "ref_sublattice = am.Sublattice(ref_atom_positions, image=ref_hs_crop.data)"
   ]
  },
  {
   "cell_type": "code",
   "execution_count": 238,
   "metadata": {},
   "outputs": [
    {
     "data": {
      "text/plain": [
       "<Sublattice,  (atoms:149,planes:0)>"
      ]
     },
     "execution_count": 238,
     "metadata": {},
     "output_type": "execute_result"
    }
   ],
   "source": [
    "ref_sublattice"
   ]
  },
  {
   "cell_type": "code",
   "execution_count": 239,
   "metadata": {},
   "outputs": [
    {
     "name": "stderr",
     "output_type": "stream",
     "text": [
      "Center of mass: 100%|██████████| 149/149 [00:00<00:00, 1791.21it/s]\n",
      "Gaussian fitting: 100%|██████████| 149/149 [00:10<00:00, 14.47it/s]\n"
     ]
    }
   ],
   "source": [
    "ref_sublattice.find_nearest_neighbors()\n",
    "ref_sublattice.refine_atom_positions_using_center_of_mass()\n",
    "ref_sublattice.refine_atom_positions_using_2d_gaussian()"
   ]
  },
  {
   "cell_type": "code",
   "execution_count": 240,
   "metadata": {},
   "outputs": [
    {
     "name": "stderr",
     "output_type": "stream",
     "text": [
      "100%|██████████| 149/149 [00:00<00:00, 2943.29it/s]\n"
     ]
    }
   ],
   "source": [
    "ref_sublattice.get_position_history().plot()"
   ]
  },
  {
   "cell_type": "code",
   "execution_count": 241,
   "metadata": {},
   "outputs": [],
   "source": [
    "ref_atom_list = ref_sublattice.atom_list"
   ]
  },
  {
   "cell_type": "code",
   "execution_count": 242,
   "metadata": {},
   "outputs": [
    {
     "data": {
      "text/plain": [
       "<Atom_Position,  (x:61.7,y:61.1,sx:0.7,sy:0.6,r:1.9,e:1.2)>"
      ]
     },
     "execution_count": 242,
     "metadata": {},
     "output_type": "execute_result"
    }
   ],
   "source": [
    "ref_atom_list[0]"
   ]
  },
  {
   "cell_type": "code",
   "execution_count": 270,
   "metadata": {},
   "outputs": [
    {
     "data": {
      "text/plain": [
       "'/dls/e02/data/2020/cm26481-1/processing/pty_simulated_data_MD/sim_matrix_ptyREX_25April2020/Graphene_defect_8.0mrad_281.70A_def_4.35A_step_size/2000iter_20200426-222252.json'"
      ]
     },
     "execution_count": 270,
     "metadata": {},
     "output_type": "execute_result"
    }
   ],
   "source": [
    "defocus_probes_dict[0][6]['json_path']"
   ]
  },
  {
   "cell_type": "code",
   "execution_count": 218,
   "metadata": {},
   "outputs": [
    {
     "data": {
      "text/plain": [
       "<matplotlib.image.AxesImage at 0x7f69c1ab6510>"
      ]
     },
     "execution_count": 218,
     "metadata": {},
     "output_type": "execute_result"
    }
   ],
   "source": [
    "plt.figure()\n",
    "plt.imshow(np.angle(test_obj))"
   ]
  },
  {
   "cell_type": "code",
   "execution_count": 271,
   "metadata": {},
   "outputs": [],
   "source": [
    "test_obj = crop_recon_obj(defocus_probes_dict[0][6]['json_path'])\n",
    "\n",
    "img = abs(np.min(np.angle(test_obj))) + np.angle(test_obj)\n",
    "sh0 = img.shape[0]\n",
    "sh1 = phase_ideal_bin.shape[0]\n",
    "img_crop = img[int(sh0/2 - sh1/2):int(sh0/2 + sh1/2), int(sh0/2 - sh1/2):int(sh0/2 + sh1/2)]\n",
    "shift, error, diffphase = register_translation(phase_ideal_bin, img_crop)\n",
    "offset_img = fourier_shift(np.fft.fftn(img_crop), shift)\n",
    "offset_img = np.real(np.fft.ifftn(offset_img))\n",
    "\n",
    "fig, ax = plt.subplots(1,2)\n",
    "ax[0].imshow(img_crop)\n",
    "ax[1].imshow(np.real(offset_img))\n",
    "\n",
    "img_hs = hs.signals.Signal2D(offset_img)\n",
    "img_hs_crop = img_hs.isig[5:70,5:70]\n",
    "img_hs_crop.plot()"
   ]
  },
  {
   "cell_type": "code",
   "execution_count": 231,
   "metadata": {},
   "outputs": [],
   "source": [
    "img_hs.plot()"
   ]
  },
  {
   "cell_type": "code",
   "execution_count": 272,
   "metadata": {},
   "outputs": [
    {
     "name": "stderr",
     "output_type": "stream",
     "text": [
      "100%|██████████| 18/18 [00:00<00:00, 565.63it/s]\n",
      "100%|██████████| 188/188 [00:00<00:00, 3748.05it/s]\n"
     ]
    }
   ],
   "source": [
    "s_peaks = am.get_feature_separation(img_hs, separation_range=(2, 20))\n",
    "s_peaks.plot()"
   ]
  },
  {
   "cell_type": "code",
   "execution_count": 273,
   "metadata": {},
   "outputs": [],
   "source": [
    "test_positions = am.get_atom_positions(img_hs_crop, separation=2)"
   ]
  },
  {
   "cell_type": "code",
   "execution_count": 274,
   "metadata": {},
   "outputs": [],
   "source": [
    "test_sublattice = am.Sublattice(test_positions, image=img_hs_crop.data)"
   ]
  },
  {
   "cell_type": "code",
   "execution_count": 275,
   "metadata": {},
   "outputs": [
    {
     "data": {
      "text/plain": [
       "<Sublattice,  (atoms:104,planes:0)>"
      ]
     },
     "execution_count": 275,
     "metadata": {},
     "output_type": "execute_result"
    }
   ],
   "source": [
    "test_sublattice"
   ]
  },
  {
   "cell_type": "code",
   "execution_count": 276,
   "metadata": {},
   "outputs": [
    {
     "name": "stderr",
     "output_type": "stream",
     "text": [
      "Center of mass: 100%|██████████| 104/104 [00:00<00:00, 3044.89it/s]\n",
      "Gaussian fitting: 100%|██████████| 104/104 [00:13<00:00,  7.64it/s]\n"
     ]
    }
   ],
   "source": [
    "test_sublattice.find_nearest_neighbors()\n",
    "test_sublattice.refine_atom_positions_using_center_of_mass()\n",
    "test_sublattice.refine_atom_positions_using_2d_gaussian()"
   ]
  },
  {
   "cell_type": "code",
   "execution_count": 184,
   "metadata": {},
   "outputs": [
    {
     "name": "stderr",
     "output_type": "stream",
     "text": [
      "100%|██████████| 239/239 [00:00<00:00, 1313.30it/s]\n"
     ]
    }
   ],
   "source": [
    "test_sublattice.get_position_history().plot()"
   ]
  },
  {
   "cell_type": "code",
   "execution_count": 65,
   "metadata": {},
   "outputs": [],
   "source": [
    "test_sublattice.plot_ellipticity_map()"
   ]
  },
  {
   "cell_type": "code",
   "execution_count": 277,
   "metadata": {},
   "outputs": [],
   "source": [
    "test_atom_list = test_sublattice.atom_list"
   ]
  },
  {
   "cell_type": "code",
   "execution_count": 278,
   "metadata": {},
   "outputs": [],
   "source": [
    "test_sublattice.plot()"
   ]
  },
  {
   "cell_type": "code",
   "execution_count": 279,
   "metadata": {},
   "outputs": [
    {
     "data": {
      "text/plain": [
       "<Atom_Position,  (x:38.6,y:61.8,sx:1.6,sy:2.2,r:0.4,e:1.4)>"
      ]
     },
     "execution_count": 279,
     "metadata": {},
     "output_type": "execute_result"
    }
   ],
   "source": [
    "test_atom_list[0]"
   ]
  },
  {
   "cell_type": "code",
   "execution_count": 280,
   "metadata": {},
   "outputs": [],
   "source": [
    "ref_coord = []\n",
    "test_coord = []\n",
    "for i in range(len(ref_atom_list)):\n",
    "    ref_coord.append(list(ref_atom_list[i].get_pixel_position()))\n",
    "for i in range(len(test_atom_list)):\n",
    "    test_coord.append(list(test_atom_list[i].get_pixel_position()))\n",
    "ref_coord = np.asarray(ref_coord)\n",
    "test_coord = np.asarray(test_coord)"
   ]
  },
  {
   "cell_type": "code",
   "execution_count": 281,
   "metadata": {},
   "outputs": [
    {
     "data": {
      "text/plain": [
       "<matplotlib.collections.PathCollection at 0x7f69c0fb71d0>"
      ]
     },
     "execution_count": 281,
     "metadata": {},
     "output_type": "execute_result"
    }
   ],
   "source": [
    "plt.figure()\n",
    "plt.scatter(ref_coord[:,0], ref_coord[:,1])\n",
    "plt.scatter(test_coord[:,0], test_coord[:,1])"
   ]
  },
  {
   "cell_type": "code",
   "execution_count": 282,
   "metadata": {},
   "outputs": [],
   "source": [
    "def atom_dist(x1, y1, x2, y2):\n",
    "    return(np.sqrt((y2-y1)**2+(x2-x1)**2))\n",
    "\n",
    "\n",
    "def check_atom_found(ref_atom, exp_list, tol):\n",
    "    distance_check = []\n",
    "    for exp_atom in exp_list:\n",
    "        distance_check.append(atom_dist(ref_atom[0], ref_atom[1], exp_atom[0], exp_atom[1]) < tol)\n",
    "    return any(distance_check)"
   ]
  },
  {
   "cell_type": "code",
   "execution_count": 283,
   "metadata": {},
   "outputs": [
    {
     "data": {
      "text/plain": [
       "149"
      ]
     },
     "execution_count": 283,
     "metadata": {},
     "output_type": "execute_result"
    }
   ],
   "source": [
    "len(ref_coord)"
   ]
  },
  {
   "cell_type": "code",
   "execution_count": 284,
   "metadata": {},
   "outputs": [
    {
     "data": {
      "text/plain": [
       "104"
      ]
     },
     "execution_count": 284,
     "metadata": {},
     "output_type": "execute_result"
    }
   ],
   "source": [
    "len(test_coord)"
   ]
  },
  {
   "cell_type": "code",
   "execution_count": 293,
   "metadata": {},
   "outputs": [
    {
     "name": "stdout",
     "output_type": "stream",
     "text": [
      "number of atoms missing:  45\n"
     ]
    }
   ],
   "source": [
    "ref_to_compare = []\n",
    "ind_to_del = []\n",
    "match_count = 0\n",
    "for i, atom in enumerate(ref_coord):\n",
    "    if check_atom_found(atom, test_coord, 2.28):\n",
    "        match_count += 1\n",
    "    else: \n",
    "        ind_to_del.append(i)\n",
    "ref_to_compare = np.delete(ref_coord, ind_to_del, 0)\n",
    "print('number of atoms missing: ', len(ref_coord) - match_count)"
   ]
  },
  {
   "cell_type": "code",
   "execution_count": 294,
   "metadata": {},
   "outputs": [
    {
     "data": {
      "text/plain": [
       "104"
      ]
     },
     "execution_count": 294,
     "metadata": {},
     "output_type": "execute_result"
    }
   ],
   "source": [
    "match_count"
   ]
  },
  {
   "cell_type": "code",
   "execution_count": 295,
   "metadata": {},
   "outputs": [
    {
     "data": {
      "text/plain": [
       "45"
      ]
     },
     "execution_count": 295,
     "metadata": {},
     "output_type": "execute_result"
    }
   ],
   "source": [
    "len(ref_coord) - len(test_coord)"
   ]
  },
  {
   "cell_type": "code",
   "execution_count": 296,
   "metadata": {},
   "outputs": [
    {
     "data": {
      "text/plain": [
       "104"
      ]
     },
     "execution_count": 296,
     "metadata": {},
     "output_type": "execute_result"
    }
   ],
   "source": [
    "len(ref_to_compare)"
   ]
  },
  {
   "cell_type": "code",
   "execution_count": 297,
   "metadata": {},
   "outputs": [
    {
     "name": "stdout",
     "output_type": "stream",
     "text": [
      "279.6274438286989\n"
     ]
    }
   ],
   "source": [
    "mse = ((ref_to_compare - test_coord)**2).mean()\n",
    "print(mse)"
   ]
  },
  {
   "cell_type": "code",
   "execution_count": null,
   "metadata": {},
   "outputs": [],
   "source": []
  }
 ],
 "metadata": {
  "kernelspec": {
   "display_name": "Python 3",
   "language": "python",
   "name": "python3"
  },
  "language_info": {
   "codemirror_mode": {
    "name": "ipython",
    "version": 3
   },
   "file_extension": ".py",
   "mimetype": "text/x-python",
   "name": "python",
   "nbconvert_exporter": "python",
   "pygments_lexer": "ipython3",
   "version": "3.7.6"
  }
 },
 "nbformat": 4,
 "nbformat_minor": 4
}
