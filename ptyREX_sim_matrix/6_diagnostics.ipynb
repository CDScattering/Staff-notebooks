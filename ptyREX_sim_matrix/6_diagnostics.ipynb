{
 "cells": [
  {
   "cell_type": "code",
   "execution_count": 1,
   "metadata": {},
   "outputs": [],
   "source": [
    "%matplotlib qt"
   ]
  },
  {
   "cell_type": "code",
   "execution_count": 2,
   "metadata": {},
   "outputs": [
    {
     "name": "stderr",
     "output_type": "stream",
     "text": [
      "WARNING:silx.opencl.common:Unable to import pyOpenCl. Please install it from: http://pypi.python.org/pypi/pyopencl\n"
     ]
    }
   ],
   "source": [
    "import sys\n",
    "sys.path.append('/dls/science/groups/e02/Mohsen/code/Git_Repos/Merlin-Medipix/')\n",
    "import epsic_tools.api as epsic"
   ]
  },
  {
   "cell_type": "code",
   "execution_count": 4,
   "metadata": {},
   "outputs": [],
   "source": [
    "# # Saving the atomic fitting data\n",
    "# import numpy as np\n",
    "# import h5py\n",
    "# import os\n",
    "# def save_dict_to_hdf5(dic, filename):\n",
    "#     \"\"\"\n",
    "#     ....\n",
    "#     \"\"\"\n",
    "#     if os.path.exists(filename):\n",
    "#         with h5py.File(filename, 'a') as h5file:\n",
    "#             recursively_save_dict_contents_to_group(h5file, '/', dic)\n",
    "#     else:\n",
    "        \n",
    "#         with h5py.File(filename, 'w') as h5file:\n",
    "#             recursively_save_dict_contents_to_group(h5file, '/', dic)\n",
    "\n",
    "# def recursively_save_dict_contents_to_group(h5file, path, dic):\n",
    "#     \"\"\"\n",
    "#     ....\n",
    "#     \"\"\"\n",
    "#     for key, item in dic.items():\n",
    "#         if isinstance(item, (np.ndarray, list, float, int, str)):\n",
    "#             h5file[path + key] = item\n",
    "#         elif isinstance(item, dict):\n",
    "#             recursively_save_dict_contents_to_group(h5file, path + key + '/', item)\n",
    "\n",
    "            \n",
    "# def load_dict_from_hdf5(filename):\n",
    "#     \"\"\"\n",
    "#     ....\n",
    "#     \"\"\"\n",
    "#     with h5py.File(filename, 'r') as h5file:\n",
    "#         return recursively_load_dict_contents_from_group(h5file, '/')\n",
    "\n",
    "# def recursively_load_dict_contents_from_group(h5file, path):\n",
    "#     \"\"\"\n",
    "#     ....\n",
    "#     \"\"\"\n",
    "#     ans = {}\n",
    "#     for key, item in h5file[path].items():\n",
    "#         if isinstance(item, h5py._hl.dataset.Dataset):\n",
    "#             ans[key] = item[()]\n",
    "#         elif isinstance(item, h5py._hl.group.Group):\n",
    "#             ans[key] = recursively_load_dict_contents_from_group(h5file, path + key + '/')\n",
    "#     return ans"
   ]
  },
  {
   "cell_type": "code",
   "execution_count": 5,
   "metadata": {},
   "outputs": [],
   "source": [
    "data_file = '/dls/science/groups/e02/Mohsen/code/Git_Repos/Staff-notebooks/ptyREX_sim_matrix/fitting_results/Graphene_defect_25.0mrad_181.36A_def_2.17A_step_size.h5'\n",
    "data_dict = load_dict_from_hdf5(data_file)"
   ]
  },
  {
   "cell_type": "code",
   "execution_count": 6,
   "metadata": {
    "collapsed": true,
    "jupyter": {
     "outputs_hidden": true
    }
   },
   "outputs": [
    {
     "data": {
      "text/plain": [
       "{'atom_pos': array([[161.68821904, 164.40397512,   2.88087499,   3.45808138],\n",
       "        [146.0519949 , 163.71566921,   1.46972364,   0.55848319],\n",
       "        [ 72.83913155, 164.26900931,   1.3725945 ,   0.42495654],\n",
       "        ...,\n",
       "        [ 60.77515737,   3.37201579,   1.69148253,   2.02392036],\n",
       "        [ 36.46536451,   3.57475785,   1.68410643,   1.95912481],\n",
       "        [ 28.46505426,   3.64961524,   1.6439582 ,   2.00195949]]),\n",
       " 'base_dir': '/dls/e02/data/2020/cm26481-1/processing/pty_simulated_data_MD/sim_matrix_ptyREX_4June2020_512pixArray/Graphene_defect_25.0mrad_181.36A_def_2.17A_step_size',\n",
       " 'experiment': {'data': {'data_path': '/dls/e02/data/2020/cm26481-1/processing/pty_simulated_data_MD/sim_matrix_ptyREX_4June2020_512pixArray/Graphene_defect_25.0mrad_181.36A_def_2.17A_step_size/Graphene_defect_25.0mrad_181.36A_def_2.17A_step_size.h5',\n",
       "   'dead_pixel_flag': 0,\n",
       "   'flat_field_flag': 0,\n",
       "   'key': '4DSTEM_simulation/data/datacubes/hdose_noisy_data',\n",
       "   'load_flag': 1,\n",
       "   'meta_type': 'hdf'},\n",
       "  'detector': {'position': array([0.        , 0.        , 0.11470963])},\n",
       "  'optics': {'FZP': {'use': 0},\n",
       "   'diffuser': {'use': 0},\n",
       "   'lens': {'alpha': 0.05,\n",
       "    'defocus': array([1.81359e-08, 1.81359e-08]),\n",
       "    'use': 1},\n",
       "   'pinhole': {'use': 0}},\n",
       "  'sample': {'position': array([0, 0, 0])}},\n",
       " 'json_path': '/dls/e02/data/2020/cm26481-1/processing/pty_simulated_data_MD/sim_matrix_ptyREX_4June2020_512pixArray/Graphene_defect_25.0mrad_181.36A_def_2.17A_step_size/2000iter_20200604-155420.json',\n",
       " 'process': {'PIE': {'iterations': 2000},\n",
       "  'common': {'detector': {'bin': array([1, 1]),\n",
       "    'crop': array([512, 512]),\n",
       "    'distance': 0.11470962889594202,\n",
       "    'mask_flag': 0,\n",
       "    'min_max': array([      0, 1000000]),\n",
       "    'optic_axis': array([256., 256.]),\n",
       "    'orientation': '00',\n",
       "    'pix_pitch': array([5.5e-05, 5.5e-05])},\n",
       "   'object': {'load_flag': 0},\n",
       "   'probe': {'aperture_shape': 'circ',\n",
       "    'aperture_size': 0.0028677407223985504,\n",
       "    'convergence': 0.05,\n",
       "    'diffuser': 0,\n",
       "    'distance': -1,\n",
       "    'focal_dist': -1,\n",
       "    'load_flag': 0},\n",
       "   'scan': {'N': array([13, 13]),\n",
       "    'dR': array([2.1737e-10, 2.1737e-10]),\n",
       "    'fast_axis': 1,\n",
       "    'load_flag': 0,\n",
       "    'orientation': '00',\n",
       "    'rotation': 0,\n",
       "    'type': 'tv'},\n",
       "   'source': {'energy': array([80000]), 'flux': -1, 'radiation': 'electron'}},\n",
       "  'cores': 1,\n",
       "  'gpu_flag': 1,\n",
       "  'save_dir': '/dls/e02/data/2020/cm26481-1/processing/pty_simulated_data_MD/sim_matrix_ptyREX_4June2020_512pixArray/Graphene_defect_25.0mrad_181.36A_def_2.17A_step_size',\n",
       "  'save_interval': 10},\n",
       " 'sampling_factor': 8.416889772148036,\n",
       " 'sim_path': '/dls/e02/data/2020/cm26481-1/processing/pty_simulated_data_MD/sim_matrix_ptyREX_4June2020_512pixArray/Graphene_defect_25.0mrad_181.36A_def_2.17A_step_size/Graphene_defect_25.0mrad_181.36A_def_2.17A_step_size.h5'}"
      ]
     },
     "execution_count": 6,
     "metadata": {},
     "output_type": "execute_result"
    }
   ],
   "source": [
    "data_dict"
   ]
  },
  {
   "cell_type": "code",
   "execution_count": 7,
   "metadata": {},
   "outputs": [
    {
     "data": {
      "text/plain": [
       "array([[161.68821904, 164.40397512,   2.88087499,   3.45808138],\n",
       "       [146.0519949 , 163.71566921,   1.46972364,   0.55848319],\n",
       "       [ 72.83913155, 164.26900931,   1.3725945 ,   0.42495654],\n",
       "       ...,\n",
       "       [ 60.77515737,   3.37201579,   1.69148253,   2.02392036],\n",
       "       [ 36.46536451,   3.57475785,   1.68410643,   1.95912481],\n",
       "       [ 28.46505426,   3.64961524,   1.6439582 ,   2.00195949]])"
      ]
     },
     "execution_count": 7,
     "metadata": {},
     "output_type": "execute_result"
    }
   ],
   "source": [
    "data_dict.pop('atom_pos')"
   ]
  },
  {
   "cell_type": "code",
   "execution_count": 8,
   "metadata": {},
   "outputs": [
    {
     "data": {
      "text/plain": [
       "8.416889772148036"
      ]
     },
     "execution_count": 8,
     "metadata": {},
     "output_type": "execute_result"
    }
   ],
   "source": [
    "data_dict.pop('sampling_factor')"
   ]
  },
  {
   "cell_type": "code",
   "execution_count": 9,
   "metadata": {},
   "outputs": [
    {
     "data": {
      "text/plain": [
       "'/dls/e02/data/2020/cm26481-1/processing/pty_simulated_data_MD/sim_matrix_ptyREX_4June2020_512pixArray/Graphene_defect_25.0mrad_181.36A_def_2.17A_step_size/2000iter_20200604-155420.json'"
      ]
     },
     "execution_count": 9,
     "metadata": {},
     "output_type": "execute_result"
    }
   ],
   "source": [
    "data_dict['json_path']"
   ]
  },
  {
   "cell_type": "code",
   "execution_count": 10,
   "metadata": {},
   "outputs": [],
   "source": [
    "import json\n",
    "import os\n",
    "\n",
    "\n",
    "def duplicate_json(source_json_path, new_json_path, param_to_change = None):\n",
    "    \"\"\"\n",
    "    This gets a source json file and duplicates it, changing a parameter if declared\n",
    "    Parameters\n",
    "    ____________\n",
    "    source_json_path: str\n",
    "        full path of the starting json file\n",
    "    new_json_path: str\n",
    "        full path of the new json file\n",
    "    param_to_change: tuple of (str, new_val) \n",
    "        default None - key of the parameter to be changed as first el of tuple and the new value as the second el.\n",
    "    Returns\n",
    "    ____________\n",
    "    data_dict: dict\n",
    "        The new dict if anything changed.\n",
    "    \n",
    "    TODO: Fix the ugly limited dict depth implementation!\n",
    "    \"\"\"\n",
    "    data_dict = epsic.ptycho_utils.json_to_dict(source_json_path)\n",
    "    if param_to_change == None:\n",
    "        with open(new_json_path, 'w') as outfile:\n",
    "            json.dump(data_dict, outfile, indent = 4)\n",
    "    else:\n",
    "        if isinstance(param_to_change[0], str):\n",
    "            if _finditem(data_dict, param_to_change[0]) is not None:\n",
    "                p = _finditem(data_dict, param_to_change[0])\n",
    "                keys = _get_path(p)\n",
    "#                 print(keys)\n",
    "                keys.append(param_to_change[0])\n",
    "                if len(keys)==4:\n",
    "                    data_dict[keys[0]][keys[1]][keys[2]][keys[3]] = param_to_change[1]\n",
    "                elif len(keys)==3:\n",
    "                    data_dict[keys[0]][keys[1]][keys[2]] = param_to_change[1]\n",
    "                elif len(keys)==2:\n",
    "                    data_dict[keys[0]][keys[1]] = param_to_change[1]\n",
    "                with open(new_json_path, 'w') as outfile:\n",
    "                    json.dump(data_dict, outfile, indent = 4)\n",
    "                return data_dict\n",
    "            else:\n",
    "                raise KeyError('The key provided does not exist in the dict.')                \n",
    "        else:\n",
    "            raise TypeError('param_to_change has to be a string.')\n",
    "    return \n",
    "\n",
    "\n",
    "def _finditem(obj, key):\n",
    "    if key in obj: return obj[key]\n",
    "    for k, v in obj.items():\n",
    "        if isinstance(v,dict):\n",
    "            item = _finditem(v, key)\n",
    "            path = []\n",
    "            if item is not None:\n",
    "                path.append('*'+k)\n",
    "                return [item, path]\n",
    "            \n",
    "def _get_path(bad_list):\n",
    "    path = []\n",
    "    while len(bad_list) == 2:\n",
    "        try:\n",
    "            if bad_list[1][0][0] == '*':\n",
    "                path.append(bad_list.pop()[0][1:])\n",
    "                bad_list = bad_list[0]\n",
    "                try: len(bad_list)\n",
    "                except:\n",
    "                    return path\n",
    "        except: return path\n",
    "    else:\n",
    "        pass\n",
    "    return path"
   ]
  },
  {
   "cell_type": "markdown",
   "metadata": {},
   "source": [
    "# Defocus"
   ]
  },
  {
   "cell_type": "code",
   "execution_count": 11,
   "metadata": {},
   "outputs": [
    {
     "data": {
      "text/plain": [
       "[[[array([1.81359e-08, 1.81359e-08]), ['*lens']], ['*optics']],\n",
       " ['*experiment']]"
      ]
     },
     "execution_count": 11,
     "metadata": {},
     "output_type": "execute_result"
    }
   ],
   "source": [
    "_finditem(data_dict, 'defocus')"
   ]
  },
  {
   "cell_type": "code",
   "execution_count": 21,
   "metadata": {},
   "outputs": [
    {
     "name": "stdout",
     "output_type": "stream",
     "text": [
      "[1.450872e-08 1.632231e-08 1.994949e-08 2.176308e-08]\n"
     ]
    }
   ],
   "source": [
    "def_start_val = 1.81359e-08\n",
    "pct_change = np.array([-20, -10, 10, 20])\n",
    "def_new_vals = def_start_val * (1 + pct_change / 100)\n",
    "print(def_new_vals)"
   ]
  },
  {
   "cell_type": "code",
   "execution_count": 18,
   "metadata": {},
   "outputs": [],
   "source": [
    "save_path = '/dls/e02/data/2020/cm26481-1/processing/pty_simulated_data_MD/sim_ptyREX_Defocus'\n",
    "if os.path.exists(save_path) is False:\n",
    "    os.mkdir(save_path)\n",
    "    "
   ]
  },
  {
   "cell_type": "code",
   "execution_count": 36,
   "metadata": {},
   "outputs": [
    {
     "name": "stdout",
     "output_type": "stream",
     "text": [
      "/dls/e02/data/2020/cm26481-1/processing/pty_simulated_data_MD/sim_ptyREX_Defocus/defocus_145.0872A/ptyREX_defocus_145.0872A.json\n",
      "/dls/e02/data/2020/cm26481-1/processing/pty_simulated_data_MD/sim_ptyREX_Defocus/defocus_163.2231A/ptyREX_defocus_163.2231A.json\n",
      "/dls/e02/data/2020/cm26481-1/processing/pty_simulated_data_MD/sim_ptyREX_Defocus/defocus_199.4949A/ptyREX_defocus_199.4949A.json\n",
      "/dls/e02/data/2020/cm26481-1/processing/pty_simulated_data_MD/sim_ptyREX_Defocus/defocus_217.6308A/ptyREX_defocus_217.6308A.json\n"
     ]
    }
   ],
   "source": [
    "for i in range(len(def_new_vals)):\n",
    "    folder = os.path.join(save_path, 'defocus_'+str(np.round(def_new_vals[i] * 1e10,5))+'A')\n",
    "    if os.path.exists(folder) is False:\n",
    "        os.mkdir(folder)\n",
    "\n",
    "    new_name = os.path.join(save_path, folder, 'ptyREX_defocus_'+str(np.round(def_new_vals[i] * 1e10,5))+'A.json')\n",
    "    print(new_name)\n",
    "    new_dict = duplicate_json(data_dict['json_path'], new_name, param_to_change=('defocus', [def_new_vals[i], def_new_vals[i]]))\n",
    "    duplicate_json(new_name, new_name, param_to_change=('save_dir', os.path.dirname(new_name)))\n",
    "    "
   ]
  },
  {
   "cell_type": "code",
   "execution_count": 37,
   "metadata": {},
   "outputs": [
    {
     "name": "stdout",
     "output_type": "stream",
     "text": [
      "['/dls/e02/data/2020/cm26481-1/processing/pty_simulated_data_MD/sim_ptyREX_Defocus/defocus_163.2231A', '/dls/e02/data/2020/cm26481-1/processing/pty_simulated_data_MD/sim_ptyREX_Defocus/defocus_199.4949A', '/dls/e02/data/2020/cm26481-1/processing/pty_simulated_data_MD/sim_ptyREX_Defocus/defocus_217.6308A', '/dls/e02/data/2020/cm26481-1/processing/pty_simulated_data_MD/sim_ptyREX_Defocus/defocus_145.0872A']\n"
     ]
    }
   ],
   "source": [
    "run_dirs = epsic.sim_utils.get_ptyREX_ready(save_path)\n",
    "print(run_dirs)"
   ]
  },
  {
   "cell_type": "code",
   "execution_count": 38,
   "metadata": {},
   "outputs": [],
   "source": [
    "script_path = '/dls/science/groups/e02/Mohsen/code/Git_Repos/Staff-notebooks/ptyREX_sim_matrix'\n",
    "for path in run_dirs:\n",
    "    it = os.scandir(path)\n",
    "    for entry in it:\n",
    "#         print(entry.name)\n",
    "        if entry.is_file():\n",
    "            if entry.name.startswith('ptyREX'):\n",
    "                output_folder = os.path.dirname(entry.path)\n",
    "                json_file = os.path.splitext(entry.name)[0]\n",
    "#                 json_file = entry.name\n",
    "\n",
    "                os.system('\\n cd '+ output_folder + '\\n module load global/cluster \\n qsub '+ script_path + '/ptyREX_batch_submit.sh '+ output_folder + ' ' + json_file + ' 2000iter')"
   ]
  },
  {
   "cell_type": "code",
   "execution_count": null,
   "metadata": {},
   "outputs": [],
   "source": []
  },
  {
   "cell_type": "markdown",
   "metadata": {},
   "source": [
    "# Probe step size"
   ]
  },
  {
   "cell_type": "code",
   "execution_count": 43,
   "metadata": {},
   "outputs": [
    {
     "data": {
      "text/plain": [
       "[[[array([2.1737e-10, 2.1737e-10]), ['*scan']], ['*common']], ['*process']]"
      ]
     },
     "execution_count": 43,
     "metadata": {},
     "output_type": "execute_result"
    }
   ],
   "source": [
    "_finditem(data_dict, 'dR')"
   ]
  },
  {
   "cell_type": "code",
   "execution_count": 45,
   "metadata": {},
   "outputs": [
    {
     "name": "stdout",
     "output_type": "stream",
     "text": [
      "[1.73896e-10 1.95633e-10 2.39107e-10 2.60844e-10]\n"
     ]
    }
   ],
   "source": [
    "dR_start_val = 2.1737e-10\n",
    "pct_change = np.array([-20, -10, 10, 20])\n",
    "dR_new_vals = dR_start_val * (1 + pct_change / 100)\n",
    "print(dR_new_vals)"
   ]
  },
  {
   "cell_type": "code",
   "execution_count": 46,
   "metadata": {},
   "outputs": [],
   "source": [
    "save_path = '/dls/e02/data/2020/cm26481-1/processing/pty_simulated_data_MD/sim_ptyREX_dR'\n",
    "if os.path.exists(save_path) is False:\n",
    "    os.mkdir(save_path)\n",
    "    "
   ]
  },
  {
   "cell_type": "code",
   "execution_count": 47,
   "metadata": {},
   "outputs": [
    {
     "name": "stdout",
     "output_type": "stream",
     "text": [
      "/dls/e02/data/2020/cm26481-1/processing/pty_simulated_data_MD/sim_ptyREX_dR/dR_1.73896A/ptyREX_dR_145.0872A.json\n",
      "/dls/e02/data/2020/cm26481-1/processing/pty_simulated_data_MD/sim_ptyREX_dR/dR_1.95633A/ptyREX_dR_163.2231A.json\n",
      "/dls/e02/data/2020/cm26481-1/processing/pty_simulated_data_MD/sim_ptyREX_dR/dR_2.39107A/ptyREX_dR_199.4949A.json\n",
      "/dls/e02/data/2020/cm26481-1/processing/pty_simulated_data_MD/sim_ptyREX_dR/dR_2.60844A/ptyREX_dR_217.6308A.json\n"
     ]
    }
   ],
   "source": [
    "for i in range(len(dR_new_vals)):\n",
    "    folder = os.path.join(save_path, 'dR_'+str(np.round(dR_new_vals[i] * 1e10,5))+'A')\n",
    "    if os.path.exists(folder) is False:\n",
    "        os.mkdir(folder)\n",
    "\n",
    "    new_name = os.path.join(save_path, folder, 'ptyREX_dR_'+str(np.round(def_new_vals[i] * 1e10,5))+'A.json')\n",
    "    print(new_name)\n",
    "    new_dict = duplicate_json(data_dict['json_path'], new_name, param_to_change=('dR', [dR_new_vals[i], dR_new_vals[i]]))\n",
    "    duplicate_json(new_name, new_name, param_to_change=('save_dir', os.path.dirname(new_name)))\n",
    "    "
   ]
  },
  {
   "cell_type": "code",
   "execution_count": 48,
   "metadata": {},
   "outputs": [
    {
     "name": "stdout",
     "output_type": "stream",
     "text": [
      "['/dls/e02/data/2020/cm26481-1/processing/pty_simulated_data_MD/sim_ptyREX_dR/dR_1.73896A', '/dls/e02/data/2020/cm26481-1/processing/pty_simulated_data_MD/sim_ptyREX_dR/dR_2.39107A', '/dls/e02/data/2020/cm26481-1/processing/pty_simulated_data_MD/sim_ptyREX_dR/dR_1.95633A', '/dls/e02/data/2020/cm26481-1/processing/pty_simulated_data_MD/sim_ptyREX_dR/dR_2.60844A']\n"
     ]
    }
   ],
   "source": [
    "run_dirs = epsic.sim_utils.get_ptyREX_ready(save_path)\n",
    "print(run_dirs)"
   ]
  },
  {
   "cell_type": "code",
   "execution_count": 49,
   "metadata": {},
   "outputs": [],
   "source": [
    "script_path = '/dls/science/groups/e02/Mohsen/code/Git_Repos/Staff-notebooks/ptyREX_sim_matrix'\n",
    "for path in run_dirs:\n",
    "    it = os.scandir(path)\n",
    "    for entry in it:\n",
    "#         print(entry.name)\n",
    "        if entry.is_file():\n",
    "            if entry.name.startswith('ptyREX'):\n",
    "                output_folder = os.path.dirname(entry.path)\n",
    "                json_file = os.path.splitext(entry.name)[0]\n",
    "#                 json_file = entry.name\n",
    "\n",
    "                os.system('\\n cd '+ output_folder + '\\n module load global/cluster \\n qsub '+ script_path + '/ptyREX_batch_submit.sh '+ output_folder + ' ' + json_file + ' 2000iter')"
   ]
  },
  {
   "cell_type": "markdown",
   "metadata": {},
   "source": [
    "# Scan rotation angle"
   ]
  },
  {
   "cell_type": "code",
   "execution_count": 162,
   "metadata": {},
   "outputs": [
    {
     "name": "stdout",
     "output_type": "stream",
     "text": [
      "[-10  -8  -6  -4  -2   0   2   4   6   8  10]\n"
     ]
    }
   ],
   "source": [
    "save_path = '/dls/e02/data/2020/cm26481-1/processing/pty_simulated_data_MD/sim_ptycREX_ScanRot'\n",
    "if os.path.exists(save_path) is False:\n",
    "    os.mkdir(save_path)\n",
    "    \n",
    "rot_angles = np.arange(-10, 12, 2)\n",
    "print(rot_angles)"
   ]
  },
  {
   "cell_type": "code",
   "execution_count": 163,
   "metadata": {},
   "outputs": [],
   "source": [
    "for i in range(len(rot_angles)):\n",
    "    os.mkdir(os.path.join(save_path, 'rotation_'+str(rot_angles[i])))\n",
    "    folder = os.path.join(save_path, 'rotation_'+str(rot_angles[i]))\n",
    "    new_name = os.path.join(save_path, folder, 'ptyREX_rotation_'+str(rot_angles[i])+'.json')\n",
    "    new_dict = duplicate_json(data_dict['json_path'], new_name, param_to_change=('rotation', int(rot_angles[i])))\n",
    "    duplicate_json(new_name, new_name, param_to_change=('save_dir', os.path.dirname(new_name)))\n",
    "    \n",
    "    "
   ]
  },
  {
   "cell_type": "code",
   "execution_count": 164,
   "metadata": {},
   "outputs": [],
   "source": [
    "run_dirs = epsic.sim_utils.get_ptyREX_ready(save_path)"
   ]
  },
  {
   "cell_type": "code",
   "execution_count": 165,
   "metadata": {},
   "outputs": [
    {
     "data": {
      "text/plain": [
       "['/dls/e02/data/2020/cm26481-1/processing/pty_simulated_data_MD/sim_ptycREX_ScanRot/rotation_4',\n",
       " '/dls/e02/data/2020/cm26481-1/processing/pty_simulated_data_MD/sim_ptycREX_ScanRot/rotation_-6',\n",
       " '/dls/e02/data/2020/cm26481-1/processing/pty_simulated_data_MD/sim_ptycREX_ScanRot/rotation_8',\n",
       " '/dls/e02/data/2020/cm26481-1/processing/pty_simulated_data_MD/sim_ptycREX_ScanRot/rotation_-8',\n",
       " '/dls/e02/data/2020/cm26481-1/processing/pty_simulated_data_MD/sim_ptycREX_ScanRot/rotation_2',\n",
       " '/dls/e02/data/2020/cm26481-1/processing/pty_simulated_data_MD/sim_ptycREX_ScanRot/rotation_0',\n",
       " '/dls/e02/data/2020/cm26481-1/processing/pty_simulated_data_MD/sim_ptycREX_ScanRot/rotation_10',\n",
       " '/dls/e02/data/2020/cm26481-1/processing/pty_simulated_data_MD/sim_ptycREX_ScanRot/rotation_-10',\n",
       " '/dls/e02/data/2020/cm26481-1/processing/pty_simulated_data_MD/sim_ptycREX_ScanRot/rotation_-2',\n",
       " '/dls/e02/data/2020/cm26481-1/processing/pty_simulated_data_MD/sim_ptycREX_ScanRot/rotation_-4',\n",
       " '/dls/e02/data/2020/cm26481-1/processing/pty_simulated_data_MD/sim_ptycREX_ScanRot/rotation_6']"
      ]
     },
     "execution_count": 165,
     "metadata": {},
     "output_type": "execute_result"
    }
   ],
   "source": [
    "run_dirs"
   ]
  },
  {
   "cell_type": "code",
   "execution_count": 178,
   "metadata": {},
   "outputs": [],
   "source": [
    "script_path = '/dls/science/groups/e02/Mohsen/code/Git_Repos/Staff-notebooks/ptyREX_sim_matrix'\n",
    "for path in run_dirs:\n",
    "    it = os.scandir(path)\n",
    "    for entry in it:\n",
    "#         print(entry.name)\n",
    "        if entry.is_file():\n",
    "            if entry.name.startswith('ptyREX'):\n",
    "                output_folder = os.path.dirname(entry.path)\n",
    "                json_file = os.path.splitext(entry.name)[0]\n",
    "#                 json_file = entry.name\n",
    "\n",
    "                os.system('\\n cd '+ output_folder + '\\n module load global/cluster \\n qsub '+ script_path + '/ptyREX_batch_submit.sh '+ output_folder + ' ' + json_file + ' 2000iter')"
   ]
  },
  {
   "cell_type": "code",
   "execution_count": 8,
   "metadata": {},
   "outputs": [],
   "source": [
    "epsic.ptycho_utils.plot_ptyREX_output('/dls/e02/data/2020/cm26481-1/processing/pty_simulated_data_MD/sim_ptycREX_ScanRot/rotation_-10/2000iter_20200607-233637.json')"
   ]
  },
  {
   "cell_type": "code",
   "execution_count": 39,
   "metadata": {},
   "outputs": [
    {
     "data": {
      "text/plain": [
       "{'base_dir': '/dls/e02/data/2020/cm26481-1/processing/pty_simulated_data_MD/sim_matrix_ptyREX_4June2020_512pixArray/Graphene_defect_25.0mrad_181.36A_def_2.17A_step_size',\n",
       " 'experiment': {'data': {'data_path': '/dls/e02/data/2020/cm26481-1/processing/pty_simulated_data_MD/sim_matrix_ptyREX_4June2020_512pixArray/Graphene_defect_25.0mrad_181.36A_def_2.17A_step_size/Graphene_defect_25.0mrad_181.36A_def_2.17A_step_size.h5',\n",
       "   'dead_pixel_flag': 0,\n",
       "   'flat_field_flag': 0,\n",
       "   'key': '4DSTEM_simulation/data/datacubes/hdose_noisy_data',\n",
       "   'load_flag': 1,\n",
       "   'meta_type': 'hdf'},\n",
       "  'detector': {'position': array([0.        , 0.        , 0.11470963])},\n",
       "  'optics': {'FZP': {'use': 0},\n",
       "   'diffuser': {'use': 0},\n",
       "   'lens': {'alpha': 0.05,\n",
       "    'defocus': array([1.81359e-08, 1.81359e-08]),\n",
       "    'use': 1},\n",
       "   'pinhole': {'use': 0}},\n",
       "  'sample': {'position': array([0, 0, 0])}},\n",
       " 'json_path': '/dls/e02/data/2020/cm26481-1/processing/pty_simulated_data_MD/sim_matrix_ptyREX_4June2020_512pixArray/Graphene_defect_25.0mrad_181.36A_def_2.17A_step_size/2000iter_20200604-155420.json',\n",
       " 'process': {'PIE': {'iterations': 2000},\n",
       "  'common': {'detector': {'bin': array([1, 1]),\n",
       "    'crop': array([512, 512]),\n",
       "    'distance': 0.11470962889594202,\n",
       "    'mask_flag': 0,\n",
       "    'min_max': array([      0, 1000000]),\n",
       "    'optic_axis': array([256., 256.]),\n",
       "    'orientation': '00',\n",
       "    'pix_pitch': array([5.5e-05, 5.5e-05])},\n",
       "   'object': {'load_flag': 0},\n",
       "   'probe': {'aperture_shape': 'circ',\n",
       "    'aperture_size': 0.0028677407223985504,\n",
       "    'convergence': 0.05,\n",
       "    'diffuser': 0,\n",
       "    'distance': -1,\n",
       "    'focal_dist': -1,\n",
       "    'load_flag': 0},\n",
       "   'scan': {'N': array([13, 13]),\n",
       "    'dR': array([2.1737e-10, 2.1737e-10]),\n",
       "    'fast_axis': 1,\n",
       "    'load_flag': 0,\n",
       "    'orientation': '00',\n",
       "    'rotation': 0,\n",
       "    'type': 'tv'},\n",
       "   'source': {'energy': array([80000]), 'flux': -1, 'radiation': 'electron'}},\n",
       "  'cores': 1,\n",
       "  'gpu_flag': 1,\n",
       "  'save_dir': '/dls/e02/data/2020/cm26481-1/processing/pty_simulated_data_MD/sim_matrix_ptyREX_4June2020_512pixArray/Graphene_defect_25.0mrad_181.36A_def_2.17A_step_size',\n",
       "  'save_interval': 10},\n",
       " 'sim_path': '/dls/e02/data/2020/cm26481-1/processing/pty_simulated_data_MD/sim_matrix_ptyREX_4June2020_512pixArray/Graphene_defect_25.0mrad_181.36A_def_2.17A_step_size/Graphene_defect_25.0mrad_181.36A_def_2.17A_step_size.h5'}"
      ]
     },
     "execution_count": 39,
     "metadata": {},
     "output_type": "execute_result"
    }
   ],
   "source": [
    "data_dict\n"
   ]
  },
  {
   "cell_type": "code",
   "execution_count": 5,
   "metadata": {},
   "outputs": [],
   "source": [
    "epsic.ptycho_utils.plot_ptyREX_output('/dls/e02/data/2020/cm26481-1/processing/pty_simulated_data_MD/sim_ptyREX_dR/dR_2.60844A/2000iter_20200610-184757.json')"
   ]
  },
  {
   "cell_type": "code",
   "execution_count": 6,
   "metadata": {},
   "outputs": [],
   "source": [
    "correct_cond = '/dls/e02/data/2020/cm26481-1/processing/pty_simulated_data_MD/sim_matrix_ptyREX_4June2020_512pixArray/Graphene_defect_25.0mrad_181.36A_def_2.17A_step_size/2000iter_20200604-155420.json'\n",
    "epsic.ptycho_utils.plot_ptyREX_output(correct_cond)"
   ]
  },
  {
   "cell_type": "code",
   "execution_count": null,
   "metadata": {},
   "outputs": [],
   "source": []
  }
 ],
 "metadata": {
  "kernelspec": {
   "display_name": "Python 3",
   "language": "python",
   "name": "python3"
  },
  "language_info": {
   "codemirror_mode": {
    "name": "ipython",
    "version": 3
   },
   "file_extension": ".py",
   "mimetype": "text/x-python",
   "name": "python",
   "nbconvert_exporter": "python",
   "pygments_lexer": "ipython3",
   "version": "3.7.6"
  }
 },
 "nbformat": 4,
 "nbformat_minor": 4
}
