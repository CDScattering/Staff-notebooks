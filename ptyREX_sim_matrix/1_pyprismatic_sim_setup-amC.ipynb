{
 "cells": [
  {
   "cell_type": "markdown",
   "metadata": {},
   "source": [
    "This notebook determines the input parameters for the simulated datasets.\n",
    "Based on the object, we look at the diffraction overlap at the various convergence semi-angle values.\n",
    "We then look into deciding on the probes and step sizes in order to reach a wide range of overlap values."
   ]
  },
  {
   "cell_type": "code",
   "execution_count": 10,
   "metadata": {},
   "outputs": [],
   "source": [
    "# %matplotlib qt\n",
    "%matplotlib inline"
   ]
  },
  {
   "cell_type": "code",
   "execution_count": 2,
   "metadata": {},
   "outputs": [],
   "source": [
    "import numpy as np\n",
    "import hyperspy.api as hs\n",
    "import os\n",
    "import h5py\n",
    "import sys"
   ]
  },
  {
   "cell_type": "code",
   "execution_count": 3,
   "metadata": {},
   "outputs": [
    {
     "name": "stderr",
     "output_type": "stream",
     "text": [
      "WARNING:silx.opencl.common:Unable to import pyOpenCl. Please install it from: http://pypi.python.org/pypi/pyopencl\n"
     ]
    }
   ],
   "source": [
    "sys.path.append('/dls/science/groups/e02/Mohsen/code/Git_Repos/Merlin-Medipix/')\n",
    "import epsic_tools.api as epsic"
   ]
  },
  {
   "cell_type": "markdown",
   "metadata": {},
   "source": [
    "# sim starting parameters:\n",
    "For instructions on prismatic refer to:\n",
    "https://prism-em.com/tutorial-SuperSTEM/\n",
    "\n",
    "Accelerating voltage: 80 kV\n",
    " \n"
   ]
  },
  {
   "cell_type": "markdown",
   "metadata": {},
   "source": [
    "**Determining sampling conditions**"
   ]
  },
  {
   "cell_type": "markdown",
   "metadata": {},
   "source": [
    "Aiming for 512*512 detector pixel array, knowing our object is 2 * 43.50 A in size, we can calculate the simulation PixelSize: "
   ]
  },
  {
   "cell_type": "code",
   "execution_count": 4,
   "metadata": {},
   "outputs": [
    {
     "name": "stdout",
     "output_type": "stream",
     "text": [
      "sim pixel size (m):  8.49609375e-12\n"
     ]
    }
   ],
   "source": [
    "cell_dim = 43.5e-10 #in m\n",
    "tiling_factor = 2\n",
    "detector_pix_array = 512\n",
    "pixel_size = cell_dim*tiling_factor / (2*detector_pix_array)\n",
    "print('sim pixel size (m): ', pixel_size)"
   ]
  },
  {
   "cell_type": "code",
   "execution_count": 5,
   "metadata": {},
   "outputs": [
    {
     "name": "stdout",
     "output_type": "stream",
     "text": [
      "This gives us maximum scattering angle of  122.86999999999999 mrad\n"
     ]
    }
   ],
   "source": [
    "e_0 = 80000\n",
    "l = epsic.ptycho_utils.e_lambda(e_0)\n",
    "alpha_max = l / (4 * pixel_size)\n",
    "print('This gives us maximum scattering angle of ',np.round(alpha_max,5) * 1e3, 'mrad')"
   ]
  },
  {
   "cell_type": "markdown",
   "metadata": {},
   "source": [
    "We can also now calculate the pixel size in reciprocal plane:"
   ]
  },
  {
   "cell_type": "code",
   "execution_count": 6,
   "metadata": {},
   "outputs": [
    {
     "name": "stdout",
     "output_type": "stream",
     "text": [
      "mrad per pixel:  0.23998368260249545\n",
      "pixel per mrad:  4.166949974079619\n"
     ]
    }
   ],
   "source": [
    "print('mrad per pixel: ', alpha_max * 1e3 / detector_pix_array )\n",
    "print('pixel per mrad: ', (alpha_max * 1e3 / detector_pix_array)**-1)"
   ]
  },
  {
   "cell_type": "markdown",
   "metadata": {},
   "source": [
    "we can also calculate the camera length:"
   ]
  },
  {
   "cell_type": "code",
   "execution_count": 7,
   "metadata": {},
   "outputs": [
    {
     "name": "stdout",
     "output_type": "stream",
     "text": [
      "0.11459112428718954\n"
     ]
    }
   ],
   "source": [
    "detector_pixel_size = 55e-6 \n",
    "CL = (detector_pix_array / 2) * detector_pixel_size / alpha_max\n",
    "print(CL)"
   ]
  },
  {
   "cell_type": "markdown",
   "metadata": {},
   "source": [
    "Based on the above convergence semi-angle values, in each case we define the follwoing probe:\n",
    "\n",
    "with maximum defocus - defined as the probe with diameter equal to half the reconstrction array, \n"
   ]
  },
  {
   "cell_type": "code",
   "execution_count": 8,
   "metadata": {},
   "outputs": [
    {
     "name": "stdout",
     "output_type": "stream",
     "text": [
      "2.175e-09\n"
     ]
    }
   ],
   "source": [
    "probe_diameter = pixel_size * detector_pix_array / 2\n",
    "print(probe_diameter)"
   ]
  },
  {
   "cell_type": "code",
   "execution_count": 11,
   "metadata": {},
   "outputs": [
    {
     "data": {
      "image/png": "[encoded data removed]",
      "text/plain": [
       "<Figure size 720x288 with 3 Axes>"
      ]
     },
     "metadata": {
      "needs_background": "light"
     },
     "output_type": "display_data"
    }
   ],
   "source": [
    "number_probe_pos = np.arange(2, 100)\n",
    "step_size = cell_dim * tiling_factor / number_probe_pos\n",
    "s_factor = epsic.ptycho_utils.get_sampling_factor(pixel_size * detector_pix_array, probe_diameter, number_probe_pos, step_size)\n",
    "probe_overlap = epsic.sim_utils.get_overlap(probe_diameter/2, step_size)\n",
    "import matplotlib.pyplot as plt\n",
    "fig = plt.figure(figsize=(10, 4))\n",
    "plt.subplot(1, 3, 1)\n",
    "plt.plot(step_size[:10], s_factor[:10])\n",
    "plt.xlabel('step size (m)')\n",
    "plt.ylabel('sampling factor')\n",
    "plt.subplot(1, 3, 2)\n",
    "plt.plot(number_probe_pos[:10], s_factor[:10])\n",
    "plt.xlabel('number of probe positions')\n",
    "plt.ylabel('sampling factor')\n",
    "plt.subplot(1, 3, 3)\n",
    "plt.plot(number_probe_pos[:10], probe_overlap[:10])\n",
    "plt.xlabel('number of probe positions')\n",
    "plt.ylabel('probe overlap (%)')\n",
    "plt.tight_layout(pad = 2)"
   ]
  },
  {
   "cell_type": "markdown",
   "metadata": {},
   "source": [
    "So we need to have more than 4 probe positionsin each direction, equivalent to zero percent probe overlap, to have sampling factor more than 1. "
   ]
  },
  {
   "cell_type": "code",
   "execution_count": 12,
   "metadata": {},
   "outputs": [
    {
     "name": "stdout",
     "output_type": "stream",
     "text": [
      "8.49609375e-12\n",
      "electron wavelength (m):  4.175716077283421e-12\n",
      "target probe radius(m): 1.0875e-09\n",
      "probe with convergence semi-angle  0.008  mrad will need defocus of:  2.813459998762848e-08 m\n",
      "target probe radius(m): 1.0875e-09\n",
      "probe with convergence semi-angle  0.01  mrad will need defocus of:  2.604637497583561e-08 m\n",
      "target probe radius(m): 1.0875e-09\n",
      "probe with convergence semi-angle  0.012  mrad will need defocus of:  2.4420649958240884e-08 m\n",
      "target probe radius(m): 1.0875e-09\n",
      "probe with convergence semi-angle  0.015  mrad will need defocus of:  2.2294562418436144e-08 m\n",
      "target probe radius(m): 1.0875e-09\n",
      "probe with convergence semi-angle  0.02  mrad will need defocus of:  1.9767749806658994e-08 m\n",
      "target probe radius(m): 1.0875e-09\n",
      "probe with convergence semi-angle  0.025  mrad will need defocus of:  1.809093712237313e-08 m\n",
      "target probe radius(m): 1.0875e-09\n",
      "probe with convergence semi-angle  0.032  mrad will need defocus of:  1.6172774208029276e-08 m\n",
      "target probe radius(m): 1.0875e-09\n",
      "probe with convergence semi-angle  0.042  mrad will need defocus of:  1.43776303520962e-08 m\n"
     ]
    }
   ],
   "source": [
    "print(pixel_size)\n",
    "image_size = [detector_pix_array, detector_pix_array]\n",
    "print('electron wavelength (m): ', l)\n",
    "conv_semi_list = [0.008, 0.010, 0.012, 0.015, 0.020, 0.025, 0.032, 0.042]\n",
    "def_vals = [] \n",
    "probes = []\n",
    "\n",
    "for angle in conv_semi_list:  \n",
    "    def_val = epsic.sim_utils.max_defocus(pixel_size, image_size, l, angle)\n",
    "    print('probe with convergence semi-angle ', angle, ' mrad will need defocus of: ',def_val, 'm')\n",
    "    def_vals.append(def_val)\n",
    "    probe = epsic.sim_utils.calc_probe_size(pixel_size, image_size, l, def_val, angle, plot_probe= False, return_probeArr= True)\n",
    "    probes.append(probe)\n",
    "probes = np.asanyarray(probes)"
   ]
  },
  {
   "cell_type": "code",
   "execution_count": 13,
   "metadata": {},
   "outputs": [
    {
     "data": {
      "text/plain": [
       "[2.813459998762848e-08,\n",
       " 2.604637497583561e-08,\n",
       " 2.4420649958240884e-08,\n",
       " 2.2294562418436144e-08,\n",
       " 1.9767749806658994e-08,\n",
       " 1.809093712237313e-08,\n",
       " 1.6172774208029276e-08,\n",
       " 1.43776303520962e-08]"
      ]
     },
     "execution_count": 13,
     "metadata": {},
     "output_type": "execute_result"
    }
   ],
   "source": [
    "def_vals"
   ]
  },
  {
   "cell_type": "code",
   "execution_count": 14,
   "metadata": {},
   "outputs": [
    {
     "data": {
      "text/plain": [
       "(8, 2)"
      ]
     },
     "execution_count": 14,
     "metadata": {},
     "output_type": "execute_result"
    }
   ],
   "source": [
    "probes.shape"
   ]
  },
  {
   "cell_type": "markdown",
   "metadata": {},
   "source": [
    "**Total number of cases: 64**\n",
    "\n",
    "8 probes (all defocussed)\n",
    "each case to be rastered on cell with 8 different probe overlap values\n",
    "\n",
    "Total : 8 * 8"
   ]
  },
  {
   "cell_type": "code",
   "execution_count": 15,
   "metadata": {},
   "outputs": [
    {
     "data": {
      "text/plain": [
       "[0.008, 0.01, 0.012, 0.015, 0.02, 0.025, 0.032, 0.042]"
      ]
     },
     "execution_count": 15,
     "metadata": {},
     "output_type": "execute_result"
    }
   ],
   "source": [
    "conv_semi_list"
   ]
  },
  {
   "cell_type": "code",
   "execution_count": 16,
   "metadata": {},
   "outputs": [],
   "source": [
    "probe_overlaps = [0, 5, 15, 35, 60, 70, 80, 90]\n",
    "step_sizes = []\n",
    "for i in np.arange(probes.shape[0]):\n",
    "    for overlap in probe_overlaps:\n",
    "        step_sizes.append(epsic.sim_utils.get_step_size(probes[i][0], overlap / 100))\n"
   ]
  },
  {
   "cell_type": "code",
   "execution_count": 17,
   "metadata": {},
   "outputs": [
    {
     "data": {
      "text/plain": [
       "8"
      ]
     },
     "execution_count": 17,
     "metadata": {},
     "output_type": "execute_result"
    }
   ],
   "source": [
    "len(probe_overlaps)"
   ]
  },
  {
   "cell_type": "code",
   "execution_count": 18,
   "metadata": {},
   "outputs": [
    {
     "data": {
      "text/plain": [
       "[Text(0, 0.5, 'step size (m)'),\n",
       " Text(0.5, 1.0, 'scan step sizes for target overlap values')]"
      ]
     },
     "execution_count": 18,
     "metadata": {},
     "output_type": "execute_result"
    },
    {
     "data": {
      "image/png": "[encoded data removed]",
      "text/plain": [
       "<Figure size 432x288 with 1 Axes>"
      ]
     },
     "metadata": {
      "needs_background": "light"
     },
     "output_type": "display_data"
    }
   ],
   "source": [
    "fig, ax = plt.subplots()\n",
    "\n",
    "ax.plot(step_sizes, 'bo')\n",
    "\n",
    "# ax.annotate('Focussed probes', xy=(15, 1.6e-9),\n",
    "#             bbox=dict(boxstyle=\"round\", fc=\"none\", ec=\"gray\"),\n",
    "#             xytext=(10, 5e-10), textcoords='offset points', ha='center')\n",
    "# ax.annotate('Defocussed probes', xy=(65, 1.6e-9),\n",
    "#             bbox=dict(boxstyle=\"round\", fc=\"none\", ec=\"gray\"),\n",
    "#             xytext=(60, 5e-10), textcoords='offset points', ha='center')\n",
    "ax.set(title='scan step sizes for target overlap values',\n",
    "       ylabel='step size (m)')"
   ]
  },
  {
   "cell_type": "code",
   "execution_count": 19,
   "metadata": {},
   "outputs": [
    {
     "data": {
      "text/plain": [
       "Text(0.5, 0, 'sim conditions')"
      ]
     },
     "execution_count": 19,
     "metadata": {},
     "output_type": "execute_result"
    },
    {
     "data": {
      "image/png": "[encoded data removed]",
      "text/plain": [
       "<Figure size 432x288 with 1 Axes>"
      ]
     },
     "metadata": {
      "needs_background": "light"
     },
     "output_type": "display_data"
    }
   ],
   "source": [
    "probe_overlaps_all = probe_overlaps * probes.shape[0]\n",
    "plt.plot(probe_overlaps_all, 'ro')\n",
    "plt.ylabel('probe overlap (%)')\n",
    "plt.xlabel('sim conditions')"
   ]
  },
  {
   "cell_type": "code",
   "execution_count": 20,
   "metadata": {},
   "outputs": [
    {
     "data": {
      "text/plain": [
       "64"
      ]
     },
     "execution_count": 20,
     "metadata": {},
     "output_type": "execute_result"
    }
   ],
   "source": [
    "len(probe_overlaps_all)"
   ]
  },
  {
   "cell_type": "code",
   "execution_count": 21,
   "metadata": {},
   "outputs": [
    {
     "data": {
      "text/plain": [
       "Text(0.5, 0, 'sim conditions')"
      ]
     },
     "execution_count": 21,
     "metadata": {},
     "output_type": "execute_result"
    },
    {
     "data": {
      "image/png": "[encoded data removed]",
      "text/plain": [
       "<Figure size 432x288 with 1 Axes>"
      ]
     },
     "metadata": {
      "needs_background": "light"
     },
     "output_type": "display_data"
    }
   ],
   "source": [
    "def_vals_all = [y for x in def_vals for y in (x,)*len(probe_overlaps)]\n",
    "plt.plot(def_vals_all, 'ko')\n",
    "plt.ylabel('defocus (m)')\n",
    "plt.xlabel('sim conditions')"
   ]
  },
  {
   "cell_type": "code",
   "execution_count": 22,
   "metadata": {},
   "outputs": [
    {
     "data": {
      "text/plain": [
       "Text(0.5, 0, 'sim conditions')"
      ]
     },
     "execution_count": 22,
     "metadata": {},
     "output_type": "execute_result"
    },
    {
     "data": {
      "image/png": "[encoded data removed]",
      "text/plain": [
       "<Figure size 432x288 with 1 Axes>"
      ]
     },
     "metadata": {
      "needs_background": "light"
     },
     "output_type": "display_data"
    }
   ],
   "source": [
    "conv_semi_all = [y for x in conv_semi_list for y in (x,)*len(probe_overlaps)]\n",
    "plt.plot(conv_semi_all, 'bo')\n",
    "plt.ylabel('convergence semi_angle (rad)')\n",
    "plt.xlabel('sim conditions')"
   ]
  },
  {
   "cell_type": "code",
   "execution_count": 23,
   "metadata": {},
   "outputs": [],
   "source": [
    "conv_semi_all = np.asarray(conv_semi_all)\n",
    "def_vals_all = np.asarray(def_vals_all)\n",
    "step_sizes = np.asarray(step_sizes)\n",
    "numbers_probe_pos = cell_dim * tiling_factor / step_sizes\n",
    "sampling_factors = epsic.ptycho_utils.get_sampling_factor(pixel_size*detector_pix_array, probe_diameter, numbers_probe_pos, step_sizes)\n",
    "sim_conditions = np.vstack((conv_semi_all, def_vals_all, step_sizes, sampling_factors))"
   ]
  },
  {
   "cell_type": "code",
   "execution_count": 24,
   "metadata": {},
   "outputs": [
    {
     "name": "stdout",
     "output_type": "stream",
     "text": [
      "sampling factor now ranges from  1.0003472075729518  to  8.2206198912873\n"
     ]
    }
   ],
   "source": [
    "print('sampling factor now ranges from ', min(sampling_factors), ' to ', max(sampling_factors))"
   ]
  },
  {
   "cell_type": "code",
   "execution_count": 25,
   "metadata": {},
   "outputs": [
    {
     "data": {
      "text/plain": [
       "array([8.00000000e-03, 2.81346000e-08, 8.69597441e-10, 2.17483190e+00])"
      ]
     },
     "execution_count": 25,
     "metadata": {},
     "output_type": "execute_result"
    }
   ],
   "source": [
    "sim_conditions[:,4]\n",
    "# convergence semi-angle (rad), defocus (m), step_size (m)"
   ]
  },
  {
   "cell_type": "code",
   "execution_count": 26,
   "metadata": {},
   "outputs": [
    {
     "data": {
      "text/plain": [
       "(4, 64)"
      ]
     },
     "execution_count": 26,
     "metadata": {},
     "output_type": "execute_result"
    }
   ],
   "source": [
    "sim_conditions.shape"
   ]
  },
  {
   "cell_type": "code",
   "execution_count": 31,
   "metadata": {},
   "outputs": [],
   "source": [
    "np.save('sim_condtions_64cases_def_512det_amC', sim_conditions)"
   ]
  },
  {
   "cell_type": "code",
   "execution_count": 27,
   "metadata": {},
   "outputs": [
    {
     "data": {
      "image/png": "[encoded data removed]",
      "text/plain": [
       "<Figure size 792x360 with 3 Axes>"
      ]
     },
     "metadata": {
      "needs_background": "light"
     },
     "output_type": "display_data"
    }
   ],
   "source": [
    "fig, axs = plt.subplots(1,3, figsize=(11, 5))\n",
    "title = 'sim conditions'\n",
    "fig.suptitle(title, fontsize = 15)\n",
    "\n",
    "for i, ax in enumerate(axs.ravel()):\n",
    "    ax.plot(sim_conditions[i,:], 'o')\n",
    "    if i==0:\n",
    "        ax.set_title('convergence semi_angle (rad)')\n",
    "    if i==1:\n",
    "        ax.set_title('defocus value (m)')\n",
    "    if i==2:\n",
    "        ax.set_title('step size (m)')\n"
   ]
  },
  {
   "cell_type": "markdown",
   "metadata": {},
   "source": [
    "# Submitting the sim matrix to cluster"
   ]
  },
  {
   "cell_type": "code",
   "execution_count": 33,
   "metadata": {},
   "outputs": [
    {
     "data": {
      "text/plain": [
       "8.49609375e-12"
      ]
     },
     "execution_count": 33,
     "metadata": {},
     "output_type": "execute_result"
    }
   ],
   "source": [
    "pixel_size"
   ]
  },
  {
   "cell_type": "code",
   "execution_count": 34,
   "metadata": {},
   "outputs": [],
   "source": [
    "xyz = '/dls/science/groups/e02/Mohsen/code/Git_Repos/Staff-notebooks/ptyREX_sim_matrix/xyz_files/amorCarbon_43p5nmCube.xyz'\n",
    "sim_npy = '/dls/science/groups/e02/Mohsen/code/Git_Repos/Staff-notebooks/ptyREX_sim_matrix/sim_condtions_64cases_def_512det_amC.npy'\n",
    "root_path = '/dls/e02/data/2020/cm26481-1/processing/pty_simulated_data_MD/sim_matrix_ptyREX_amC_16June2020_512pixArray/'\n",
    "script_path = '/dls/science/groups/e02/Mohsen/code/Git_Repos/Staff-notebooks/ptyREX_sim_matrix/'\n",
    "dose = 2.5e8\n",
    "shell_file = '/dls/science/groups/e02/Mohsen/code/Git_Repos/Staff-notebooks/ptyREX_sim_matrix/pyprismatic_matrix.sh'\n"
   ]
  },
  {
   "cell_type": "code",
   "execution_count": 35,
   "metadata": {},
   "outputs": [],
   "source": [
    "import sys\n",
    "import os\n",
    "sys.path.append(script_path)"
   ]
  },
  {
   "cell_type": "code",
   "execution_count": 36,
   "metadata": {},
   "outputs": [
    {
     "data": {
      "text/plain": [
       "0"
      ]
     },
     "execution_count": 36,
     "metadata": {},
     "output_type": "execute_result"
    }
   ],
   "source": [
    "command_str = '\\n cd '+ script_path + '\\n module load global/cluster \\n qsub pyprismatic_matrix.sh ' + xyz + ' ' + str(pixel_size)+ ' '+ sim_npy + ' ' + root_path + ' ' + script_path + ' ' + str(dose)\n",
    "os.system(command_str)"
   ]
  },
  {
   "cell_type": "code",
   "execution_count": null,
   "metadata": {},
   "outputs": [],
   "source": []
  }
 ],
 "metadata": {
  "kernelspec": {
   "display_name": "Python 3",
   "language": "python",
   "name": "python3"
  },
  "language_info": {
   "codemirror_mode": {
    "name": "ipython",
    "version": 3
   },
   "file_extension": ".py",
   "mimetype": "text/x-python",
   "name": "python",
   "nbconvert_exporter": "python",
   "pygments_lexer": "ipython3",
   "version": "3.7.6"
  }
 },
 "nbformat": 4,
 "nbformat_minor": 4
}
