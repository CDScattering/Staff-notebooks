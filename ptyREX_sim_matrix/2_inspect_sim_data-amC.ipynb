{
 "cells": [
  {
   "cell_type": "markdown",
   "metadata": {},
   "source": [
    "This notebook looks into the simulated datasets in some detail."
   ]
  },
  {
   "cell_type": "code",
   "execution_count": 1,
   "metadata": {},
   "outputs": [],
   "source": [
    "# %matplotlib qt \n",
    "%matplotlib inline"
   ]
  },
  {
   "cell_type": "code",
   "execution_count": 2,
   "metadata": {},
   "outputs": [],
   "source": [
    "# import matplotlib\n",
    "# #matplotlib.use('Qt4Agg')\n",
    "# matplotlib.use('nbAgg')\n",
    "import matplotlib.pyplot as plt"
   ]
  },
  {
   "cell_type": "code",
   "execution_count": 3,
   "metadata": {},
   "outputs": [],
   "source": [
    "#%matplotlib qt\n",
    "import hyperspy.api as hs\n",
    "import numpy as np\n",
    "import os\n",
    "import h5py\n",
    "import sys"
   ]
  },
  {
   "cell_type": "code",
   "execution_count": 4,
   "metadata": {},
   "outputs": [
    {
     "name": "stderr",
     "output_type": "stream",
     "text": [
      "WARNING:silx.opencl.common:Unable to import pyOpenCl. Please install it from: http://pypi.python.org/pypi/pyopencl\n"
     ]
    }
   ],
   "source": [
    "sys.path.append('/dls/science/groups/e02/Mohsen/code/Git_Repos/Merlin-Medipix/')\n",
    "import epsic_tools.api as epsic"
   ]
  },
  {
   "cell_type": "markdown",
   "metadata": {},
   "source": [
    "Reading the data"
   ]
  },
  {
   "cell_type": "code",
   "execution_count": 5,
   "metadata": {},
   "outputs": [],
   "source": [
    "sim_root_path = '/dls/e02/data/2020/cm26481-1/processing/pty_simulated_data_MD/sim_matrix_ptyREX_amC_16June2020_512pixArray/'\n",
    "sim_paths = []\n",
    "sim_names = []\n",
    "for dirname, dirnames, filenames in os.walk(sim_root_path):\n",
    "    for filename in filenames:\n",
    "        if filename.endswith('.h5'):\n",
    "            sim_paths.append(os.path.join(dirname, filename))\n",
    "            sim_names.append(filename)"
   ]
  },
  {
   "cell_type": "markdown",
   "metadata": {},
   "source": [
    "checking different convergence semi-angles"
   ]
  },
  {
   "cell_type": "code",
   "execution_count": 6,
   "metadata": {},
   "outputs": [],
   "source": [
    "sim_names.sort()\n",
    "sim_paths.sort()"
   ]
  },
  {
   "cell_type": "code",
   "execution_count": 7,
   "metadata": {},
   "outputs": [
    {
     "name": "stdout",
     "output_type": "stream",
     "text": [
      "[ 0 ] amorCarbon_43p5nmCube_10.0mrad_260.46A_def_14.08A_step_size.h5\n",
      "[ 1 ] amorCarbon_43p5nmCube_10.0mrad_260.46A_def_18.41A_step_size.h5\n",
      "[ 2 ] amorCarbon_43p5nmCube_10.0mrad_260.46A_def_2.17A_step_size.h5\n",
      "[ 3 ] amorCarbon_43p5nmCube_10.0mrad_260.46A_def_20.58A_step_size.h5\n",
      "[ 4 ] amorCarbon_43p5nmCube_10.0mrad_260.46A_def_21.66A_step_size.h5\n",
      "[ 5 ] amorCarbon_43p5nmCube_10.0mrad_260.46A_def_4.33A_step_size.h5\n",
      "[ 6 ] amorCarbon_43p5nmCube_10.0mrad_260.46A_def_6.50A_step_size.h5\n",
      "[ 7 ] amorCarbon_43p5nmCube_10.0mrad_260.46A_def_8.66A_step_size.h5\n",
      "[ 8 ] amorCarbon_43p5nmCube_12.0mrad_244.21A_def_14.09A_step_size.h5\n",
      "[ 9 ] amorCarbon_43p5nmCube_12.0mrad_244.21A_def_18.42A_step_size.h5\n",
      "[ 10 ] amorCarbon_43p5nmCube_12.0mrad_244.21A_def_2.17A_step_size.h5\n",
      "[ 11 ] amorCarbon_43p5nmCube_12.0mrad_244.21A_def_20.59A_step_size.h5\n",
      "[ 12 ] amorCarbon_43p5nmCube_12.0mrad_244.21A_def_21.67A_step_size.h5\n",
      "[ 13 ] amorCarbon_43p5nmCube_12.0mrad_244.21A_def_4.33A_step_size.h5\n",
      "[ 14 ] amorCarbon_43p5nmCube_12.0mrad_244.21A_def_6.50A_step_size.h5\n",
      "[ 15 ] amorCarbon_43p5nmCube_12.0mrad_244.21A_def_8.67A_step_size.h5\n",
      "[ 16 ] amorCarbon_43p5nmCube_15.0mrad_222.95A_def_14.06A_step_size.h5\n",
      "[ 17 ] amorCarbon_43p5nmCube_15.0mrad_222.95A_def_18.39A_step_size.h5\n",
      "[ 18 ] amorCarbon_43p5nmCube_15.0mrad_222.95A_def_2.16A_step_size.h5\n",
      "[ 19 ] amorCarbon_43p5nmCube_15.0mrad_222.95A_def_20.55A_step_size.h5\n",
      "[ 20 ] amorCarbon_43p5nmCube_15.0mrad_222.95A_def_21.63A_step_size.h5\n",
      "[ 21 ] amorCarbon_43p5nmCube_15.0mrad_222.95A_def_4.33A_step_size.h5\n",
      "[ 22 ] amorCarbon_43p5nmCube_15.0mrad_222.95A_def_6.49A_step_size.h5\n",
      "[ 23 ] amorCarbon_43p5nmCube_15.0mrad_222.95A_def_8.65A_step_size.h5\n",
      "[ 24 ] amorCarbon_43p5nmCube_20.0mrad_197.68A_def_14.04A_step_size.h5\n",
      "[ 25 ] amorCarbon_43p5nmCube_20.0mrad_197.68A_def_18.36A_step_size.h5\n",
      "[ 26 ] amorCarbon_43p5nmCube_20.0mrad_197.68A_def_2.16A_step_size.h5\n",
      "[ 27 ] amorCarbon_43p5nmCube_20.0mrad_197.68A_def_20.52A_step_size.h5\n",
      "[ 28 ] amorCarbon_43p5nmCube_20.0mrad_197.68A_def_21.60A_step_size.h5\n",
      "[ 29 ] amorCarbon_43p5nmCube_20.0mrad_197.68A_def_4.32A_step_size.h5\n",
      "[ 30 ] amorCarbon_43p5nmCube_20.0mrad_197.68A_def_6.48A_step_size.h5\n",
      "[ 31 ] amorCarbon_43p5nmCube_20.0mrad_197.68A_def_8.64A_step_size.h5\n",
      "[ 32 ] amorCarbon_43p5nmCube_25.0mrad_180.91A_def_14.09A_step_size.h5\n",
      "[ 33 ] amorCarbon_43p5nmCube_25.0mrad_180.91A_def_18.43A_step_size.h5\n",
      "[ 34 ] amorCarbon_43p5nmCube_25.0mrad_180.91A_def_2.17A_step_size.h5\n",
      "[ 35 ] amorCarbon_43p5nmCube_25.0mrad_180.91A_def_20.59A_step_size.h5\n",
      "[ 36 ] amorCarbon_43p5nmCube_25.0mrad_180.91A_def_21.68A_step_size.h5\n",
      "[ 37 ] amorCarbon_43p5nmCube_25.0mrad_180.91A_def_4.34A_step_size.h5\n",
      "[ 38 ] amorCarbon_43p5nmCube_25.0mrad_180.91A_def_6.50A_step_size.h5\n",
      "[ 39 ] amorCarbon_43p5nmCube_25.0mrad_180.91A_def_8.67A_step_size.h5\n",
      "[ 40 ] amorCarbon_43p5nmCube_32.0mrad_161.73A_def_14.05A_step_size.h5\n",
      "[ 41 ] amorCarbon_43p5nmCube_32.0mrad_161.73A_def_18.37A_step_size.h5\n",
      "[ 42 ] amorCarbon_43p5nmCube_32.0mrad_161.73A_def_2.16A_step_size.h5\n",
      "[ 43 ] amorCarbon_43p5nmCube_32.0mrad_161.73A_def_20.53A_step_size.h5\n",
      "[ 44 ] amorCarbon_43p5nmCube_32.0mrad_161.73A_def_21.61A_step_size.h5\n",
      "[ 45 ] amorCarbon_43p5nmCube_32.0mrad_161.73A_def_4.32A_step_size.h5\n",
      "[ 46 ] amorCarbon_43p5nmCube_32.0mrad_161.73A_def_6.48A_step_size.h5\n",
      "[ 47 ] amorCarbon_43p5nmCube_32.0mrad_161.73A_def_8.64A_step_size.h5\n",
      "[ 48 ] amorCarbon_43p5nmCube_42.0mrad_143.78A_def_14.06A_step_size.h5\n",
      "[ 49 ] amorCarbon_43p5nmCube_42.0mrad_143.78A_def_18.39A_step_size.h5\n",
      "[ 50 ] amorCarbon_43p5nmCube_42.0mrad_143.78A_def_2.16A_step_size.h5\n",
      "[ 51 ] amorCarbon_43p5nmCube_42.0mrad_143.78A_def_20.55A_step_size.h5\n",
      "[ 52 ] amorCarbon_43p5nmCube_42.0mrad_143.78A_def_21.64A_step_size.h5\n",
      "[ 53 ] amorCarbon_43p5nmCube_42.0mrad_143.78A_def_4.33A_step_size.h5\n",
      "[ 54 ] amorCarbon_43p5nmCube_42.0mrad_143.78A_def_6.49A_step_size.h5\n",
      "[ 55 ] amorCarbon_43p5nmCube_42.0mrad_143.78A_def_8.65A_step_size.h5\n",
      "[ 56 ] amorCarbon_43p5nmCube_8.0mrad_281.35A_def_14.13A_step_size.h5\n",
      "[ 57 ] amorCarbon_43p5nmCube_8.0mrad_281.35A_def_18.48A_step_size.h5\n",
      "[ 58 ] amorCarbon_43p5nmCube_8.0mrad_281.35A_def_2.17A_step_size.h5\n",
      "[ 59 ] amorCarbon_43p5nmCube_8.0mrad_281.35A_def_20.65A_step_size.h5\n",
      "[ 60 ] amorCarbon_43p5nmCube_8.0mrad_281.35A_def_21.74A_step_size.h5\n",
      "[ 61 ] amorCarbon_43p5nmCube_8.0mrad_281.35A_def_4.35A_step_size.h5\n",
      "[ 62 ] amorCarbon_43p5nmCube_8.0mrad_281.35A_def_6.52A_step_size.h5\n",
      "[ 63 ] amorCarbon_43p5nmCube_8.0mrad_281.35A_def_8.70A_step_size.h5\n"
     ]
    }
   ],
   "source": [
    "for i, file in enumerate(sim_names):\n",
    "    print('[',i,']', file)"
   ]
  },
  {
   "cell_type": "code",
   "execution_count": 8,
   "metadata": {},
   "outputs": [],
   "source": [
    "def_8mrad = []\n",
    "def_10mrad = []\n",
    "def_12mrad = []\n",
    "def_15mrad = []\n",
    "def_20mrad = []\n",
    "def_25mrad = []\n",
    "def_32mrad = []\n",
    "def_42mrad = []\n",
    "for sim in sim_paths:\n",
    "    if '8.0mrad' in sim:\n",
    "        def_8mrad.append(sim)\n",
    "    if '10.0mrad' in sim:\n",
    "        def_10mrad.append(sim)\n",
    "    if '12.0mrad' in sim:\n",
    "        def_12mrad.append(sim)\n",
    "    if '15.0mrad' in sim:\n",
    "        def_15mrad.append(sim)\n",
    "    if '20.0mrad' in sim:\n",
    "        def_20mrad.append(sim)\n",
    "    if '25.0mrad' in sim:\n",
    "        def_25mrad.append(sim)\n",
    "    if '32.0mrad' in sim:\n",
    "        def_32mrad.append(sim)\n",
    "    if '42.0mrad' in sim:\n",
    "        def_42mrad.append(sim)"
   ]
  },
  {
   "cell_type": "code",
   "execution_count": 9,
   "metadata": {},
   "outputs": [
    {
     "name": "stdout",
     "output_type": "stream",
     "text": [
      "Dataset shape is (2, 2, 512, 512)\n",
      "Dataset shape is (2, 2, 512, 512)\n",
      "Dataset shape is (2, 2, 512, 512)\n",
      "Dataset shape is (2, 2, 512, 512)\n",
      "Dataset shape is (2, 2, 512, 512)\n",
      "Dataset shape is (2, 2, 512, 512)\n",
      "Dataset shape is (2, 2, 512, 512)\n",
      "Dataset shape is (2, 2, 512, 512)\n"
     ]
    }
   ],
   "source": [
    "sum_dp = []\n",
    "scan_sizes = [] \n",
    "conv_array = [def_8mrad[0], def_10mrad[0], def_12mrad[0], def_15mrad[0], def_20mrad[0], def_25mrad[0], def_32mrad[0], def_42mrad[0]]\n",
    "for data in conv_array:\n",
    "    d = epsic.sim_utils.sim_to_hs(data)\n",
    "    d_sum = d.sum()\n",
    "    sum_dp.append(d_sum.data)\n",
    "sum_dp = hs.signals.Signal2D(sum_dp)"
   ]
  },
  {
   "cell_type": "code",
   "execution_count": 10,
   "metadata": {},
   "outputs": [
    {
     "name": "stderr",
     "output_type": "stream",
     "text": [
      "WARNING:hyperspy.io:`signal_type=''` not understood. Setting signal type to `LazySignal2D`\n",
      "WARNING:hyperspy.io:`signal_type=''` not understood. Setting signal type to `LazySignal2D`\n",
      "WARNING:hyperspy.io:`signal_type=''` not understood. Setting signal type to `LazySignal2D`\n",
      "WARNING:hyperspy.io:`signal_type=''` not understood. Setting signal type to `LazySignal2D`\n",
      "WARNING:hyperspy.io:`signal_type=''` not understood. Setting signal type to `LazySignal2D`\n",
      "WARNING:hyperspy.io:`signal_type=''` not understood. Setting signal type to `LazySignal2D`\n",
      "WARNING:hyperspy.io:`signal_type=''` not understood. Setting signal type to `LazySignal2D`\n",
      "WARNING:hyperspy.io:`signal_type=''` not understood. Setting signal type to `LazySignal2D`\n",
      "WARNING:hyperspy.io:`signal_type=''` not understood. Setting signal type to `LazySignal2D`\n",
      "WARNING:hyperspy.io:`signal_type=''` not understood. Setting signal type to `LazySignal2D`\n",
      "WARNING:hyperspy.io:`signal_type=''` not understood. Setting signal type to `LazySignal2D`\n",
      "WARNING:hyperspy.io:`signal_type=''` not understood. Setting signal type to `LazySignal2D`\n",
      "WARNING:hyperspy.io:`signal_type=''` not understood. Setting signal type to `LazySignal2D`\n",
      "WARNING:hyperspy.io:`signal_type=''` not understood. Setting signal type to `LazySignal2D`\n",
      "WARNING:hyperspy.io:`signal_type=''` not understood. Setting signal type to `LazySignal2D`\n",
      "WARNING:hyperspy.io:`signal_type=''` not understood. Setting signal type to `LazySignal2D`\n",
      "WARNING:hyperspy.io:`signal_type=''` not understood. Setting signal type to `LazySignal2D`\n",
      "WARNING:hyperspy.io:`signal_type=''` not understood. Setting signal type to `Signal2D`\n"
     ]
    },
    {
     "data": {
      "image/png": "[encoded data removed]",
      "text/plain": [
       "<Figure size 432x144 with 1 Axes>"
      ]
     },
     "metadata": {
      "needs_background": "light"
     },
     "output_type": "display_data"
    }
   ],
   "source": [
    "collage = hs.stack([image for image in sum_dp], axis=0)\n",
    "collage.plot(colorbar=False, scalebar=False, axes_off = True, vmax = 150, cmap = 'inferno')"
   ]
  },
  {
   "cell_type": "code",
   "execution_count": 11,
   "metadata": {},
   "outputs": [],
   "source": [
    "pixel_size = 8.5048828125e-12\n",
    "detector_pix_array = 512\n",
    "image_size = [detector_pix_array, detector_pix_array]\n",
    "l = epsic.ptycho_utils.e_lambda(80000)\n",
    "detector_pixel_size = 55e-6 "
   ]
  },
  {
   "cell_type": "code",
   "execution_count": 12,
   "metadata": {},
   "outputs": [
    {
     "name": "stdout",
     "output_type": "stream",
     "text": [
      "Dataset shape is (2, 2, 512, 512)\n",
      "( 4.3545e-09 2.1649314153120275e-09 2 1.408e-09 )\n",
      "[ 0 ] amorCarbon_43p5nmCube_10.0mrad_260.46A_def_14.08A_step_size.h5   1.2187471557216323\n",
      "Dataset shape is (2, 2, 512, 512)\n",
      "( 4.3545e-09 2.1649314153120275e-09 2 1.8410000000000002e-09 )\n",
      "[ 1 ] amorCarbon_43p5nmCube_10.0mrad_260.46A_def_18.41A_step_size.h5   1.0870131184362333\n",
      "Dataset shape is (13, 13, 512, 512)\n",
      "( 4.3545e-09 2.1649314153120275e-09 13 2.17e-10 )\n",
      "[ 2 ] amorCarbon_43p5nmCube_10.0mrad_260.46A_def_2.17A_step_size.h5   5.935134631863452\n",
      "Dataset shape is (2, 2, 512, 512)\n",
      "( 4.3545e-09 2.1649314153120275e-09 2 2.0579999999999997e-09 )\n",
      "[ 3 ] amorCarbon_43p5nmCube_10.0mrad_260.46A_def_20.58A_step_size.h5   1.0311557474532775\n",
      "Dataset shape is (2, 2, 512, 512)\n",
      "( 4.3545e-09 2.1649314153120275e-09 2 2.166e-09 )\n",
      "[ 4 ] amorCarbon_43p5nmCube_10.0mrad_260.46A_def_21.66A_step_size.h5   1.0054419205542358\n",
      "Dataset shape is (7, 7, 512, 512)\n",
      "( 4.3545e-09 2.1649314153120275e-09 7 4.33e-10 )\n",
      "[ 5 ] amorCarbon_43p5nmCube_10.0mrad_260.46A_def_4.33A_step_size.h5   3.1998676174516265\n",
      "Dataset shape is (5, 5, 512, 512)\n",
      "( 4.3545e-09 2.1649314153120275e-09 5 6.5e-10 )\n",
      "[ 6 ] amorCarbon_43p5nmCube_10.0mrad_260.46A_def_6.50A_step_size.h5   2.2846603762264484\n",
      "Dataset shape is (4, 4, 512, 512)\n",
      "( 4.3545e-09 2.1649314153120275e-09 4 8.66e-10 )\n",
      "[ 7 ] amorCarbon_43p5nmCube_10.0mrad_260.46A_def_8.66A_step_size.h5   1.8284957814009295\n",
      "Dataset shape is (2, 2, 512, 512)\n",
      "( 4.3545e-09 2.169355810583199e-09 2 1.409e-09 )\n",
      "[ 8 ] amorCarbon_43p5nmCube_12.0mrad_244.21A_def_14.09A_step_size.h5   1.2168996685911748\n",
      "Dataset shape is (2, 2, 512, 512)\n",
      "( 4.3545e-09 2.169355810583199e-09 2 1.8420000000000003e-09 )\n",
      "[ 9 ] amorCarbon_43p5nmCube_12.0mrad_244.21A_def_18.42A_step_size.h5   1.0855431942764788\n",
      "Dataset shape is (13, 13, 512, 512)\n",
      "( 4.3545e-09 2.169355810583199e-09 13 2.17e-10 )\n",
      "[ 10 ] amorCarbon_43p5nmCube_12.0mrad_244.21A_def_2.17A_step_size.h5   5.929633390673603\n",
      "Dataset shape is (2, 2, 512, 512)\n",
      "( 4.3545e-09 2.169355810583199e-09 2 2.059e-09 )\n",
      "[ 11 ] amorCarbon_43p5nmCube_12.0mrad_244.21A_def_20.59A_step_size.h5   1.0298329173484106\n",
      "Dataset shape is (2, 2, 512, 512)\n",
      "( 4.3545e-09 2.169355810583199e-09 2 2.167e-09 )\n",
      "[ 12 ] amorCarbon_43p5nmCube_12.0mrad_244.21A_def_21.67A_step_size.h5   1.004184202175596\n",
      "Dataset shape is (7, 7, 512, 512)\n",
      "( 4.3545e-09 2.169355810583199e-09 7 4.33e-10 )\n",
      "[ 13 ] amorCarbon_43p5nmCube_12.0mrad_244.21A_def_4.33A_step_size.h5   3.1968979462717244\n",
      "Dataset shape is (5, 5, 512, 512)\n",
      "( 4.3545e-09 2.169355810583199e-09 5 6.5e-10 )\n",
      "[ 14 ] amorCarbon_43p5nmCube_12.0mrad_244.21A_def_6.50A_step_size.h5   2.282540961998141\n",
      "Dataset shape is (4, 4, 512, 512)\n",
      "( 4.3545e-09 2.169355810583199e-09 4 8.67e-10 )\n",
      "[ 15 ] amorCarbon_43p5nmCube_12.0mrad_244.21A_def_8.67A_step_size.h5   1.825649982057687\n",
      "Dataset shape is (2, 2, 512, 512)\n",
      "( 4.3545e-09 2.1674017116759314e-09 2 1.4060000000000001e-09 )\n",
      "[ 16 ] amorCarbon_43p5nmCube_15.0mrad_222.95A_def_14.06A_step_size.h5   1.2185867560794703\n",
      "Dataset shape is (2, 2, 512, 512)\n",
      "( 4.3545e-09 2.1674017116759314e-09 2 1.8390000000000002e-09 )\n",
      "[ 17 ] amorCarbon_43p5nmCube_15.0mrad_222.95A_def_18.39A_step_size.h5   1.086885518072139\n",
      "Dataset shape is (13, 13, 512, 512)\n",
      "( 4.3545e-09 2.1674017116759314e-09 13 2.1600000000000003e-10 )\n",
      "[ 18 ] amorCarbon_43p5nmCube_15.0mrad_222.95A_def_2.16A_step_size.h5   5.947018494060507\n",
      "Dataset shape is (2, 2, 512, 512)\n",
      "( 4.3545e-09 2.1674017116759314e-09 2 2.055e-09 )\n",
      "[ 19 ] amorCarbon_43p5nmCube_15.0mrad_222.95A_def_20.55A_step_size.h5   1.0312851067577928\n",
      "Dataset shape is (2, 2, 512, 512)\n",
      "( 4.3545e-09 2.1674017116759314e-09 2 2.163e-09 )\n",
      "[ 20 ] amorCarbon_43p5nmCube_15.0mrad_222.95A_def_21.63A_step_size.h5   1.005564908276083\n",
      "Dataset shape is (7, 7, 512, 512)\n",
      "( 4.3545e-09 2.1674017116759314e-09 7 4.33e-10 )\n",
      "[ 21 ] amorCarbon_43p5nmCube_15.0mrad_222.95A_def_4.33A_step_size.h5   3.1982088650906237\n",
      "Dataset shape is (5, 5, 512, 512)\n",
      "( 4.3545e-09 2.1674017116759314e-09 5 6.49e-10 )\n",
      "[ 22 ] amorCarbon_43p5nmCube_15.0mrad_222.95A_def_6.49A_step_size.h5   2.285394064774318\n",
      "Dataset shape is (4, 4, 512, 512)\n",
      "( 4.3545e-09 2.1674017116759314e-09 4 8.650000000000001e-10 )\n",
      "[ 23 ] amorCarbon_43p5nmCube_15.0mrad_222.95A_def_8.65A_step_size.h5   1.8286991579581022\n",
      "Dataset shape is (2, 2, 512, 512)\n",
      "( 4.3545e-09 2.1574404995098195e-09 2 1.404e-09 )\n",
      "[ 24 ] amorCarbon_43p5nmCube_20.0mrad_197.68A_def_14.04A_step_size.h5   1.2226794187911698\n",
      "Dataset shape is (2, 2, 512, 512)\n",
      "( 4.3545e-09 2.1574404995098195e-09 2 1.836e-09 )\n",
      "[ 25 ] amorCarbon_43p5nmCube_20.0mrad_197.68A_def_18.36A_step_size.h5   1.0904131413838516\n",
      "Dataset shape is (13, 13, 512, 512)\n",
      "( 4.3545e-09 2.1574404995098195e-09 13 2.1600000000000003e-10 )\n",
      "[ 26 ] amorCarbon_43p5nmCube_20.0mrad_197.68A_def_2.16A_step_size.h5   5.959491439659308\n",
      "Dataset shape is (2, 2, 512, 512)\n",
      "( 4.3545e-09 2.1574404995098195e-09 2 2.052e-09 )\n",
      "[ 27 ] amorCarbon_43p5nmCube_20.0mrad_197.68A_def_20.52A_step_size.h5   1.034460518091911\n",
      "Dataset shape is (2, 2, 512, 512)\n",
      "( 4.3545e-09 2.1574404995098195e-09 2 2.1600000000000004e-09 )\n",
      "[ 28 ] amorCarbon_43p5nmCube_20.0mrad_197.68A_def_21.60A_step_size.h5   1.0085836737053788\n",
      "Dataset shape is (7, 7, 512, 512)\n",
      "( 4.3545e-09 2.1574404995098195e-09 7 4.3200000000000006e-10 )\n",
      "[ 29 ] amorCarbon_43p5nmCube_20.0mrad_197.68A_def_4.32A_step_size.h5   3.2089569290473197\n",
      "Dataset shape is (5, 5, 512, 512)\n",
      "( 4.3545e-09 2.1574404995098195e-09 5 6.48e-10 )\n",
      "[ 30 ] amorCarbon_43p5nmCube_20.0mrad_197.68A_def_6.48A_step_size.h5   2.292112092176657\n",
      "Dataset shape is (4, 4, 512, 512)\n",
      "( 4.3545e-09 2.1574404995098195e-09 4 8.640000000000001e-10 )\n",
      "[ 31 ] amorCarbon_43p5nmCube_20.0mrad_197.68A_def_8.64A_step_size.h5   1.833689673741326\n",
      "Dataset shape is (2, 2, 512, 512)\n",
      "( 4.3545e-09 2.165419512629562e-09 2 1.409e-09 )\n",
      "[ 32 ] amorCarbon_43p5nmCube_25.0mrad_180.91A_def_14.09A_step_size.h5   1.2182397686153417\n",
      "Dataset shape is (2, 2, 512, 512)\n",
      "( 4.3545e-09 2.165419512629562e-09 2 1.843e-09 )\n",
      "[ 33 ] amorCarbon_43p5nmCube_25.0mrad_180.91A_def_18.43A_step_size.h5   1.0863383900512462\n",
      "Dataset shape is (13, 13, 512, 512)\n",
      "( 4.3545e-09 2.165419512629562e-09 13 2.17e-10 )\n",
      "[ 34 ] amorCarbon_43p5nmCube_25.0mrad_180.91A_def_2.17A_step_size.h5   5.934527236501112\n",
      "Dataset shape is (2, 2, 512, 512)\n",
      "( 4.3545e-09 2.165419512629562e-09 2 2.059e-09 )\n",
      "[ 35 ] amorCarbon_43p5nmCube_25.0mrad_180.91A_def_20.59A_step_size.h5   1.0307925117241652\n",
      "Dataset shape is (2, 2, 512, 512)\n",
      "( 4.3545e-09 2.165419512629562e-09 2 2.168e-09 )\n",
      "[ 36 ] amorCarbon_43p5nmCube_25.0mrad_180.91A_def_21.68A_step_size.h5   1.00486463110922\n",
      "Dataset shape is (7, 7, 512, 512)\n",
      "( 4.3545e-09 2.165419512629562e-09 7 4.34e-10 )\n",
      "[ 37 ] amorCarbon_43p5nmCube_25.0mrad_180.91A_def_4.34A_step_size.h5   3.195514665808292\n",
      "Dataset shape is (5, 5, 512, 512)\n",
      "( 4.3545e-09 2.165419512629562e-09 5 6.5e-10 )\n",
      "[ 38 ] amorCarbon_43p5nmCube_25.0mrad_180.91A_def_6.50A_step_size.h5   2.284426370259469\n",
      "Dataset shape is (4, 4, 512, 512)\n",
      "( 4.3545e-09 2.165419512629562e-09 4 8.67e-10 )\n",
      "[ 39 ] amorCarbon_43p5nmCube_25.0mrad_180.91A_def_8.67A_step_size.h5   1.827157676097079\n",
      "Dataset shape is (2, 2, 512, 512)\n",
      "( 4.3545e-09 2.1604776316683687e-09 2 1.4050000000000002e-09 )\n",
      "[ 40 ] amorCarbon_43p5nmCube_32.0mrad_161.73A_def_14.05A_step_size.h5   1.221294998830894\n",
      "Dataset shape is (2, 2, 512, 512)\n",
      "( 4.3545e-09 2.1604776316683687e-09 2 1.8370000000000002e-09 )\n",
      "[ 41 ] amorCarbon_43p5nmCube_32.0mrad_161.73A_def_18.37A_step_size.h5   1.0893119114671883\n",
      "Dataset shape is (13, 13, 512, 512)\n",
      "( 4.3545e-09 2.1604776316683687e-09 13 2.1600000000000003e-10 )\n",
      "[ 42 ] amorCarbon_43p5nmCube_32.0mrad_161.73A_def_2.16A_step_size.h5   5.9556829497509325\n",
      "Dataset shape is (2, 2, 512, 512)\n",
      "( 4.3545e-09 2.1604776316683687e-09 2 2.0530000000000003e-09 )\n",
      "[ 43 ] amorCarbon_43p5nmCube_32.0mrad_161.73A_def_20.53A_step_size.h5   1.033469352553746\n",
      "Dataset shape is (2, 2, 512, 512)\n",
      "( 4.3545e-09 2.1604776316683687e-09 2 2.161e-09 )\n",
      "[ 44 ] amorCarbon_43p5nmCube_32.0mrad_161.73A_def_21.61A_step_size.h5   1.0076414530274642\n",
      "Dataset shape is (7, 7, 512, 512)\n",
      "( 4.3545e-09 2.1604776316683687e-09 7 4.3200000000000006e-10 )\n",
      "[ 45 ] amorCarbon_43p5nmCube_32.0mrad_161.73A_def_4.32A_step_size.h5   3.20690620371204\n",
      "Dataset shape is (5, 5, 512, 512)\n",
      "( 4.3545e-09 2.1604776316683687e-09 5 6.48e-10 )\n",
      "[ 46 ] amorCarbon_43p5nmCube_32.0mrad_161.73A_def_6.48A_step_size.h5   2.290647288365743\n",
      "Dataset shape is (4, 4, 512, 512)\n",
      "( 4.3545e-09 2.1604776316683687e-09 4 8.640000000000001e-10 )\n",
      "[ 47 ] amorCarbon_43p5nmCube_32.0mrad_161.73A_def_8.64A_step_size.h5   1.832517830692595\n",
      "Dataset shape is (2, 2, 512, 512)\n",
      "( 4.3545e-09 2.1627499574283484e-09 2 1.4060000000000001e-09 )\n",
      "[ 48 ] amorCarbon_43p5nmCube_42.0mrad_143.78A_def_14.06A_step_size.h5   1.220175145903992\n",
      "Dataset shape is (2, 2, 512, 512)\n",
      "( 4.3545e-09 2.1627499574283484e-09 2 1.8390000000000002e-09 )\n",
      "[ 49 ] amorCarbon_43p5nmCube_42.0mrad_143.78A_def_18.39A_step_size.h5   1.0881489464170169\n",
      "Dataset shape is (13, 13, 512, 512)\n",
      "( 4.3545e-09 2.1627499574283484e-09 13 2.1600000000000003e-10 )\n",
      "[ 50 ] amorCarbon_43p5nmCube_42.0mrad_143.78A_def_2.16A_step_size.h5   5.952836690345883\n",
      "Dataset shape is (2, 2, 512, 512)\n",
      "( 4.3545e-09 2.1627499574283484e-09 2 2.055e-09 )\n",
      "[ 51 ] amorCarbon_43p5nmCube_42.0mrad_143.78A_def_20.55A_step_size.h5   1.032422510568889\n",
      "Dataset shape is (2, 2, 512, 512)\n",
      "( 4.3545e-09 2.1627499574283484e-09 2 2.164e-09 )\n",
      "[ 52 ] amorCarbon_43p5nmCube_42.0mrad_143.78A_def_21.64A_step_size.h5   1.006413599779208\n",
      "Dataset shape is (7, 7, 512, 512)\n",
      "( 4.3545e-09 2.1627499574283484e-09 7 4.33e-10 )\n",
      "[ 53 ] amorCarbon_43p5nmCube_42.0mrad_143.78A_def_4.33A_step_size.h5   3.2013338520792036\n",
      "Dataset shape is (5, 5, 512, 512)\n",
      "( 4.3545e-09 2.1627499574283484e-09 5 6.49e-10 )\n",
      "[ 54 ] amorCarbon_43p5nmCube_42.0mrad_143.78A_def_6.49A_step_size.h5   2.2876280740505606\n",
      "Dataset shape is (4, 4, 512, 512)\n",
      "( 4.3545e-09 2.1627499574283484e-09 4 8.650000000000001e-10 )\n",
      "[ 55 ] amorCarbon_43p5nmCube_42.0mrad_143.78A_def_8.65A_step_size.h5   1.8304871163736764\n",
      "Dataset shape is (2, 2, 512, 512)\n",
      "( 4.3545e-09 2.1733222670589627e-09 2 1.4130000000000002e-09 )\n",
      "[ 56 ] amorCarbon_43p5nmCube_8.0mrad_281.35A_def_14.13A_step_size.h5   1.2141965154656882\n",
      "Dataset shape is (2, 2, 512, 512)\n",
      "( 4.3545e-09 2.1733222670589627e-09 2 1.848e-09 )\n",
      "[ 57 ] amorCarbon_43p5nmCube_8.0mrad_281.35A_def_18.48A_step_size.h5   1.0828527809547357\n",
      "Dataset shape is (13, 13, 512, 512)\n",
      "( 4.3545e-09 2.1733222670589627e-09 13 2.17e-10 )\n",
      "[ 58 ] amorCarbon_43p5nmCube_8.0mrad_281.35A_def_2.17A_step_size.h5   5.924710207466242\n",
      "Dataset shape is (2, 2, 512, 512)\n",
      "( 4.3545e-09 2.1733222670589627e-09 2 2.065e-09 )\n",
      "[ 59 ] amorCarbon_43p5nmCube_8.0mrad_281.35A_def_20.65A_step_size.h5   1.0274112551195063\n",
      "Dataset shape is (2, 2, 512, 512)\n",
      "( 4.3545e-09 2.1733222670589627e-09 2 2.1739999999999997e-09 )\n",
      "[ 60 ] amorCarbon_43p5nmCube_8.0mrad_281.35A_def_21.74A_step_size.h5   1.0016510699000682\n",
      "Dataset shape is (7, 7, 512, 512)\n",
      "( 4.3545e-09 2.1733222670589627e-09 7 4.35e-10 )\n",
      "[ 61 ] amorCarbon_43p5nmCube_8.0mrad_281.35A_def_4.35A_step_size.h5   3.186226883552801\n",
      "Dataset shape is (5, 5, 512, 512)\n",
      "( 4.3545e-09 2.1733222670589627e-09 5 6.52e-10 )\n",
      "[ 62 ] amorCarbon_43p5nmCube_8.0mrad_281.35A_def_6.52A_step_size.h5   2.276828331568672\n",
      "Dataset shape is (4, 4, 512, 512)\n",
      "( 4.3545e-09 2.1733222670589627e-09 4 8.7e-10 )\n",
      "[ 63 ] amorCarbon_43p5nmCube_8.0mrad_281.35A_def_8.70A_step_size.h5   1.8207010763158868\n"
     ]
    }
   ],
   "source": [
    "\n",
    "sampling_factors = []\n",
    "for i, file in enumerate(sim_names):\n",
    "    conv_semi = float(sim_names[i].split('_')[-6][:-4])*1e-3\n",
    "    defocus = float(sim_names[i].split('_')[-5][:-1])*1e-10\n",
    "    step_size = float(sim_names[i].split('_')[-3][:-1])*1e-10\n",
    "\n",
    "    rad, probe = epsic.sim_utils.calc_probe_size(pixel_size, image_size, l, defocus, conv_semi, plot_probe=False, return_probeArr=True)\n",
    "    n_pix = probe.shape[0]\n",
    "    d = epsic.sim_utils.sim_to_hs(sim_paths[i])\n",
    "    scan_size = list(d.data.shape[:2])\n",
    "    n = scan_size[0]\n",
    "    print('(',pixel_size * n_pix, 2*rad, n, step_size, ')')\n",
    "#         print(2*rad)\n",
    "#         print(n)\n",
    "#         print(step_size)\n",
    "    s_factor = epsic.ptycho_utils.get_sampling_factor(pixel_size * n_pix, 2*rad, n, step_size)\n",
    "\n",
    "    print('[',i,']', file, ' ', s_factor)\n",
    "    sampling_factors.append(s_factor)\n"
   ]
  },
  {
   "cell_type": "code",
   "execution_count": 13,
   "metadata": {},
   "outputs": [
    {
     "data": {
      "text/plain": [
       "<matplotlib.collections.PathCollection at 0x7fb1d732e490>"
      ]
     },
     "execution_count": 13,
     "metadata": {},
     "output_type": "execute_result"
    },
    {
     "data": {
      "image/png": "[encoded data removed]",
      "text/plain": [
       "<Figure size 432x288 with 1 Axes>"
      ]
     },
     "metadata": {
      "needs_background": "light"
     },
     "output_type": "display_data"
    }
   ],
   "source": [
    "import matplotlib.pyplot as plt\n",
    "plt.figure()\n",
    "# plt.scatter(np.arange(len(sampling_factors_def)),sampling_factors_foc, marker='o', label='focussed')\n",
    "plt.scatter(np.arange(len(sampling_factors)),sampling_factors, marker='^')\n"
   ]
  }
 ],
 "metadata": {
  "kernelspec": {
   "display_name": "Python 3",
   "language": "python",
   "name": "python3"
  },
  "language_info": {
   "codemirror_mode": {
    "name": "ipython",
    "version": 3
   },
   "file_extension": ".py",
   "mimetype": "text/x-python",
   "name": "python",
   "nbconvert_exporter": "python",
   "pygments_lexer": "ipython3",
   "version": "3.7.6"
  }
 },
 "nbformat": 4,
 "nbformat_minor": 4
}
