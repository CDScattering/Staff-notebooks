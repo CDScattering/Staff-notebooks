{
 "cells": [
  {
   "cell_type": "markdown",
   "metadata": {},
   "source": [
    "# Writing the json files "
   ]
  },
  {
   "cell_type": "code",
   "execution_count": 1,
   "metadata": {},
   "outputs": [],
   "source": [
    "import sys\n",
    "sys.path.append('/dls/science/groups/e02/Mohsen/code/Git_Repos/Staff-notebooks/ptyREX_sim_matrix')\n",
    "from recon_utils import *"
   ]
  },
  {
   "cell_type": "code",
   "execution_count": 2,
   "metadata": {},
   "outputs": [],
   "source": [
    "sim_matrix_path = '/dls/e02/data/2020/cm26481-1/processing/pty_simulated_data_MD/sim_matrix_ptyREX_25April2020'"
   ]
  },
  {
   "cell_type": "code",
   "execution_count": 3,
   "metadata": {},
   "outputs": [],
   "source": [
    "dirs_to_prep = get_raw_dir_list(sim_matrix_path, get_all = True)"
   ]
  },
  {
   "cell_type": "code",
   "execution_count": 4,
   "metadata": {},
   "outputs": [],
   "source": [
    "for path in dirs_to_prep:\n",
    "    it = os.scandir(path)\n",
    "    for entry in it:\n",
    "        if entry.is_file():\n",
    "            if entry.name.endswith('txt'):\n",
    "                entry_path = '/'+os.path.join(*entry.path.split('/')[:-1])\n",
    "                for item in os.listdir(entry_path):\n",
    "                    if item.endswith('h5'):\n",
    "                        params_file = os.path.join(entry_path, entry)\n",
    "                        h5_file = os.path.join(entry_path, item)\n",
    "                        exp_dict = parse_params_file(params_file, h5_file)\n",
    "                        write_ptyrex_json(exp_dict, 2000)\n",
    "#                         print(os.path.join(entry_path, item))"
   ]
  },
  {
   "cell_type": "markdown",
   "metadata": {},
   "source": [
    "# Running ptyREX"
   ]
  },
  {
   "cell_type": "code",
   "execution_count": 5,
   "metadata": {},
   "outputs": [],
   "source": [
    "dirs_to_run_ptyREX = get_ptyREX_ready(sim_matrix_path) "
   ]
  },
  {
   "cell_type": "code",
   "execution_count": 7,
   "metadata": {},
   "outputs": [],
   "source": [
    "script_path = '/dls/science/groups/e02/Mohsen/code/Git_Repos/Staff-notebooks/ptyREX_sim_matrix'"
   ]
  },
  {
   "cell_type": "code",
   "execution_count": 6,
   "metadata": {},
   "outputs": [
    {
     "data": {
      "text/plain": [
       "112"
      ]
     },
     "execution_count": 6,
     "metadata": {},
     "output_type": "execute_result"
    }
   ],
   "source": [
    "len(dirs_to_run_ptyREX)"
   ]
  },
  {
   "cell_type": "code",
   "execution_count": null,
   "metadata": {},
   "outputs": [],
   "source": [
    "for path in dirs_to_run_ptyREX:\n",
    "    it = os.scandir(path)\n",
    "    for entry in it:\n",
    "        if entry.is_file():\n",
    "            if entry.name.startswith('ptyREX'):\n",
    "                output_folder = os.path.dirname(entry.path)\n",
    "                json_file = os.path.splitext(entry.name)[0]\n",
    "                os.system('\\n cd '+ output_folder + '\\n module load global/cluster \\n qsub '+ script_path + '/ptyREX_batch_submit.sh '+ output_folder + ' ' + json_file + ' 2000iter')"
   ]
  },
  {
   "cell_type": "code",
   "execution_count": null,
   "metadata": {},
   "outputs": [],
   "source": []
  }
 ],
 "metadata": {
  "kernelspec": {
   "display_name": "Python 3",
   "language": "python",
   "name": "python3"
  },
  "language_info": {
   "codemirror_mode": {
    "name": "ipython",
    "version": 3
   },
   "file_extension": ".py",
   "mimetype": "text/x-python",
   "name": "python",
   "nbconvert_exporter": "python",
   "pygments_lexer": "ipython3",
   "version": "3.7.6"
  }
 },
 "nbformat": 4,
 "nbformat_minor": 4
}
