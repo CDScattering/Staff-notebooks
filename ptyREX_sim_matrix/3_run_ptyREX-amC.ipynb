{
 "cells": [
  {
   "cell_type": "markdown",
   "metadata": {},
   "source": [
    "# Writing the json files "
   ]
  },
  {
   "cell_type": "code",
   "execution_count": 1,
   "metadata": {},
   "outputs": [
    {
     "name": "stderr",
     "output_type": "stream",
     "text": [
      "WARNING:silx.opencl.common:Unable to import pyOpenCl. Please install it from: http://pypi.python.org/pypi/pyopencl\n"
     ]
    }
   ],
   "source": [
    "import sys\n",
    "import os\n",
    "sys.path.append('/dls/science/groups/e02/Mohsen/code/Git_Repos/Merlin-Medipix/')\n",
    "import epsic_tools.api as epsic"
   ]
  },
  {
   "cell_type": "code",
   "execution_count": 2,
   "metadata": {},
   "outputs": [],
   "source": [
    "sim_matrix_path = '/dls/e02/data/2020/cm26481-1/processing/pty_simulated_data_MD/sim_matrix_ptyREX_amC_16June2020_512pixArray/'"
   ]
  },
  {
   "cell_type": "code",
   "execution_count": 3,
   "metadata": {},
   "outputs": [],
   "source": [
    "dirs_to_prep = epsic.sim_utils.get_raw_dir_list(sim_matrix_path, get_all = True)"
   ]
  },
  {
   "cell_type": "code",
   "execution_count": 4,
   "metadata": {},
   "outputs": [],
   "source": [
    "iteration_number = 2000\n",
    "for path in dirs_to_prep:\n",
    "    it = os.scandir(path)\n",
    "    for entry in it:\n",
    "        if entry.is_file():\n",
    "            if entry.name.endswith('txt'):\n",
    "                entry_path = '/'+os.path.join(*entry.path.split('/')[:-1])\n",
    "                for item in os.listdir(entry_path):\n",
    "                    if item.endswith('h5'):\n",
    "                        params_file = os.path.join(entry_path, entry)\n",
    "                        h5_file = os.path.join(entry_path, item)\n",
    "                        exp_dict = epsic.sim_utils.parse_params_file(params_file, h5_file)\n",
    "                        epsic.sim_utils.write_ptyrex_json(exp_dict, iteration_number)\n",
    "#                         print(os.path.join(entry_path, item))"
   ]
  },
  {
   "cell_type": "code",
   "execution_count": 18,
   "metadata": {},
   "outputs": [],
   "source": [
    "# # To delete json files\n",
    "# json_files = []\n",
    "# for path in dirs_to_prep:\n",
    "#     it = os.scandir(path)\n",
    "#     for entry in it:\n",
    "#         if entry.is_file():\n",
    "#             if entry.name.endswith('json'):\n",
    "#                 json_files.append(entry.path)\n",
    "# for json_file in json_files:\n",
    "#     os.remove(json_file)"
   ]
  },
  {
   "cell_type": "markdown",
   "metadata": {},
   "source": [
    "# Running ptyREX"
   ]
  },
  {
   "cell_type": "code",
   "execution_count": 5,
   "metadata": {},
   "outputs": [],
   "source": [
    "dirs_to_run_ptyREX = epsic.sim_utils.get_ptyREX_ready(sim_matrix_path) "
   ]
  },
  {
   "cell_type": "code",
   "execution_count": 6,
   "metadata": {},
   "outputs": [],
   "source": [
    "script_path = '/dls/science/groups/e02/Mohsen/code/Git_Repos/Staff-notebooks/ptyREX_sim_matrix'"
   ]
  },
  {
   "cell_type": "code",
   "execution_count": 7,
   "metadata": {},
   "outputs": [
    {
     "data": {
      "text/plain": [
       "64"
      ]
     },
     "execution_count": 7,
     "metadata": {},
     "output_type": "execute_result"
    }
   ],
   "source": [
    "len(dirs_to_run_ptyREX)"
   ]
  },
  {
   "cell_type": "code",
   "execution_count": 8,
   "metadata": {},
   "outputs": [],
   "source": [
    "for path in dirs_to_run_ptyREX:\n",
    "    it = os.scandir(path)\n",
    "    for entry in it:\n",
    "        if entry.is_file():\n",
    "            if entry.name.startswith('ptyREX'):\n",
    "                output_folder = os.path.dirname(entry.path)\n",
    "                json_file = os.path.splitext(entry.name)[0]\n",
    "                os.system('\\n cd '+ output_folder + '\\n module load global/cluster \\n qsub '+ script_path + '/ptyREX_batch_submit.sh '+ output_folder + ' ' + json_file + ' 2000iter')"
   ]
  },
  {
   "cell_type": "code",
   "execution_count": null,
   "metadata": {},
   "outputs": [],
   "source": []
  }
 ],
 "metadata": {
  "kernelspec": {
   "display_name": "Python 3",
   "language": "python",
   "name": "python3"
  },
  "language_info": {
   "codemirror_mode": {
    "name": "ipython",
    "version": 3
   },
   "file_extension": ".py",
   "mimetype": "text/x-python",
   "name": "python",
   "nbconvert_exporter": "python",
   "pygments_lexer": "ipython3",
   "version": "3.7.6"
  }
 },
 "nbformat": 4,
 "nbformat_minor": 4
}
