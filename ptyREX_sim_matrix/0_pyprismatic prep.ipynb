{
 "cells": [
  {
   "cell_type": "markdown",
   "metadata": {},
   "source": [
    "# Starting from the CSV file of the positions"
   ]
  },
  {
   "cell_type": "code",
   "execution_count": 1,
   "metadata": {},
   "outputs": [],
   "source": [
    "# amorphous C file\n",
    "csv_file = '/dls/science/groups/e02/Mohsen/code/Git_Repos/Staff-notebooks/ptyREX_sim_matrix/xyz_files/not_in_use/atoms_amorCarbon_50nmCube_x_y_z_ID.txt'"
   ]
  },
  {
   "cell_type": "code",
   "execution_count": 2,
   "metadata": {},
   "outputs": [],
   "source": [
    "import numpy as np\n",
    "import csv\n",
    "final_row = 0\n",
    "read_dict = {}\n",
    "\n",
    "with open(csv_file, 'r') as csvfile:\n",
    "    xyzreader = csv.reader(csvfile, delimiter=' ', quotechar='|')\n",
    "    for i,row in enumerate(xyzreader):\n",
    "        read_dict[i] = row\n",
    "        final_row = i\n",
    "    csvfile.close()"
   ]
  },
  {
   "cell_type": "code",
   "execution_count": 3,
   "metadata": {},
   "outputs": [],
   "source": [
    "while len(read_dict[final_row])>5:\n",
    "    for element in read_dict:\n",
    "        for k,el in enumerate(read_dict[element]):\n",
    "            if el == '':\n",
    "                read_dict[element].pop(k)"
   ]
  },
  {
   "cell_type": "code",
   "execution_count": 4,
   "metadata": {},
   "outputs": [],
   "source": [
    "atom_pos = []\n",
    "atom_id = []\n",
    "for i in range(len(read_dict)):\n",
    "    atom_pos.append([float(i) for i in read_dict[i][0].split(',')[:3]])\n",
    "    atom_id.append([int(i) for i in read_dict[i][0].split(',')[3]])"
   ]
  },
  {
   "cell_type": "code",
   "execution_count": 5,
   "metadata": {},
   "outputs": [],
   "source": [
    "z_dim = []\n",
    "x_dim = []\n",
    "y_dim = []\n",
    "for i, atom in enumerate(atom_pos):\n",
    "#     print(atom_pos[i][2])\n",
    "    z_dim.append(atom_pos[i][2])\n",
    "    x_dim.append(atom_pos[i][0])\n",
    "    y_dim.append(atom_pos[i][1])"
   ]
  },
  {
   "cell_type": "code",
   "execution_count": 6,
   "metadata": {},
   "outputs": [
    {
     "data": {
      "text/plain": [
       "13760"
      ]
     },
     "execution_count": 6,
     "metadata": {},
     "output_type": "execute_result"
    }
   ],
   "source": [
    "len(x_dim)"
   ]
  },
  {
   "cell_type": "code",
   "execution_count": 7,
   "metadata": {},
   "outputs": [
    {
     "data": {
      "text/plain": [
       "49.99912"
      ]
     },
     "execution_count": 7,
     "metadata": {},
     "output_type": "execute_result"
    }
   ],
   "source": [
    "max(y_dim) - min(y_dim)"
   ]
  },
  {
   "cell_type": "code",
   "execution_count": 8,
   "metadata": {},
   "outputs": [
    {
     "data": {
      "text/plain": [
       "49.99835"
      ]
     },
     "execution_count": 8,
     "metadata": {},
     "output_type": "execute_result"
    }
   ],
   "source": [
    "max(x_dim) - min(x_dim)"
   ]
  },
  {
   "cell_type": "code",
   "execution_count": 9,
   "metadata": {},
   "outputs": [
    {
     "data": {
      "text/plain": [
       "13760"
      ]
     },
     "execution_count": 9,
     "metadata": {},
     "output_type": "execute_result"
    }
   ],
   "source": [
    "len(x_dim)"
   ]
  },
  {
   "cell_type": "code",
   "execution_count": 10,
   "metadata": {},
   "outputs": [
    {
     "data": {
      "text/plain": [
       "30.728"
      ]
     },
     "execution_count": 10,
     "metadata": {},
     "output_type": "execute_result"
    }
   ],
   "source": [
    "x_dim[0]"
   ]
  },
  {
   "cell_type": "code",
   "execution_count": 12,
   "metadata": {},
   "outputs": [],
   "source": [
    "to_crop = 43.5\n",
    "to_del = []\n",
    "for i, val in enumerate(x_dim):\n",
    "    if val > to_crop:\n",
    "        to_del.append(i)\n",
    "\n",
    "for i, val in enumerate(y_dim):\n",
    "    if val > to_crop:\n",
    "        to_del.append(i)\n",
    "\n",
    "for i in sorted(to_del, reverse=True):\n",
    "    del x_dim[i]\n",
    "    del y_dim[i]\n",
    "    del z_dim[i]\n",
    "    del atom_id[i]\n"
   ]
  },
  {
   "cell_type": "code",
   "execution_count": 17,
   "metadata": {},
   "outputs": [
    {
     "data": {
      "text/plain": [
       "10153"
      ]
     },
     "execution_count": 17,
     "metadata": {},
     "output_type": "execute_result"
    }
   ],
   "source": [
    "len(atom_id)"
   ]
  },
  {
   "cell_type": "code",
   "execution_count": 14,
   "metadata": {},
   "outputs": [
    {
     "data": {
      "text/plain": [
       "10153"
      ]
     },
     "execution_count": 14,
     "metadata": {},
     "output_type": "execute_result"
    }
   ],
   "source": [
    "len(y_dim)"
   ]
  },
  {
   "cell_type": "code",
   "execution_count": 16,
   "metadata": {},
   "outputs": [
    {
     "data": {
      "text/plain": [
       "43.49135"
      ]
     },
     "execution_count": 16,
     "metadata": {},
     "output_type": "execute_result"
    }
   ],
   "source": [
    "max(x_dim) - min(x_dim)"
   ]
  },
  {
   "cell_type": "code",
   "execution_count": 18,
   "metadata": {},
   "outputs": [],
   "source": [
    "final_row = len(x_dim)"
   ]
  },
  {
   "cell_type": "code",
   "execution_count": 31,
   "metadata": {},
   "outputs": [
    {
     "data": {
      "text/plain": [
       "10153"
      ]
     },
     "execution_count": 31,
     "metadata": {},
     "output_type": "execute_result"
    }
   ],
   "source": [
    "final_row"
   ]
  },
  {
   "cell_type": "code",
   "execution_count": 24,
   "metadata": {},
   "outputs": [],
   "source": [
    "title = ['Amorphous C']\n",
    "CellDim = ['    43.50 43.50 50.00']\n"
   ]
  },
  {
   "cell_type": "code",
   "execution_count": 32,
   "metadata": {},
   "outputs": [],
   "source": [
    "filename = '/dls/science/groups/e02/Mohsen/code/Git_Repos/Staff-notebooks/ptyREX_sim_matrix/xyz_files/test.txt'\n",
    "\n",
    "with open(filename, 'w', newline='') as csvfile:\n",
    "    xyzwriter = csv.writer(csvfile, delimiter= ' ', quotechar=' ')\n",
    "    xyzwriter.writerow(title)\n",
    "    xyzwriter.writerow(CellDim)\n",
    "    for j in range(final_row):\n",
    "        if j>1:\n",
    "            xyzwriter.writerow([atom_id[j][0],x_dim[j],y_dim[j],z_dim[j],'1.0',0.080])\n",
    "    xyzwriter.writerow(['-l'])\n",
    "    csvfile.close()"
   ]
  },
  {
   "cell_type": "code",
   "execution_count": null,
   "metadata": {},
   "outputs": [],
   "source": []
  },
  {
   "cell_type": "code",
   "execution_count": null,
   "metadata": {},
   "outputs": [],
   "source": []
  },
  {
   "cell_type": "code",
   "execution_count": null,
   "metadata": {},
   "outputs": [],
   "source": []
  },
  {
   "cell_type": "code",
   "execution_count": null,
   "metadata": {},
   "outputs": [],
   "source": []
  },
  {
   "cell_type": "code",
   "execution_count": null,
   "metadata": {},
   "outputs": [],
   "source": [
    "def xyz_converter(filename,debye_waller):\n",
    "    import csv\n",
    "    \n",
    "    final_row = 0\n",
    "    read_dict = {}\n",
    "    \n",
    "    with open(filename, 'r') as csvfile:\n",
    "        xyzreader = csv.reader(csvfile, delimiter=' ', quotechar='|')\n",
    "        for i,row in enumerate(xyzreader):\n",
    "            read_dict[i] = row\n",
    "            final_row = i\n",
    "        csvfile.close()\n",
    "    while len(read_dict[final_row])>5:\n",
    "        for element in read_dict:\n",
    "            for k,el in enumerate(read_dict[element]):\n",
    "                if el == '':\n",
    "                    read_dict[element].pop(k)\n",
    "    with open(filename, 'w', newline='') as csvfile:\n",
    "         xyzwriter = csv.writer(csvfile, delimiter=' ')\n",
    "         xyzwriter.writerow(read_dict[0])\n",
    "         xyzwriter.writerow([read_dict[1][4],read_dict[1][4],read_dict[1][4]])\n",
    "         for j in range(final_row):\n",
    "             if j>1:\n",
    "                 xyzwriter.writerow([read_dict[j][4],read_dict[j][1],read_dict[j][2],read_dict[j][3],'1.0',debye_waller])\n",
    "         csvfile.close()"
   ]
  },
  {
   "cell_type": "code",
   "execution_count": null,
   "metadata": {},
   "outputs": [],
   "source": []
  },
  {
   "cell_type": "markdown",
   "metadata": {},
   "source": [
    "# Importing and manipulating atomic models"
   ]
  },
  {
   "cell_type": "markdown",
   "metadata": {},
   "source": [
    "Import the atomic simulation environment."
   ]
  },
  {
   "cell_type": "code",
   "execution_count": 4,
   "metadata": {},
   "outputs": [],
   "source": [
    "import ase.io as io\n",
    "from ase.visualize import view"
   ]
  },
  {
   "cell_type": "markdown",
   "metadata": {},
   "source": [
    "Import the atom locations from the file."
   ]
  },
  {
   "cell_type": "code",
   "execution_count": 3,
   "metadata": {},
   "outputs": [],
   "source": [
    "filename = r'C:\\Users\\Thomas Slater\\Documents\\AuModel_Atlas\\AuModel\\Cuboctahedron/Au0055_cubo.cfg' #(xyz,cfg etc...)\n",
    "atoms = io.read(filename)"
   ]
  },
  {
   "cell_type": "code",
   "execution_count": 5,
   "metadata": {},
   "outputs": [],
   "source": [
    "view(atoms)"
   ]
  },
  {
   "cell_type": "markdown",
   "metadata": {},
   "source": [
    "We can then save the file as an xyz file."
   ]
  },
  {
   "cell_type": "code",
   "execution_count": 8,
   "metadata": {},
   "outputs": [],
   "source": [
    "writefilename = r'C:\\Users\\Thomas Slater\\Documents\\AuModel_Atlas\\AuModel\\Cuboctahedron/Au0055_cubo_test.xyz'\n",
    "io.write(writefilename,atoms,columns=['symbols','numbers','positions'])"
   ]
  },
  {
   "cell_type": "markdown",
   "metadata": {},
   "source": [
    "In order for the xyz file to be read by pyprismatic we need to convert it to a slightly different format. This can be done using the following function:"
   ]
  },
  {
   "cell_type": "code",
   "execution_count": 14,
   "metadata": {},
   "outputs": [],
   "source": [
    "def xyz_converter(filename,debye_waller):\n",
    "    import csv\n",
    "    \n",
    "    final_row = 0\n",
    "    read_dict = {}\n",
    "    \n",
    "    with open(filename, 'r') as csvfile:\n",
    "        xyzreader = csv.reader(csvfile, delimiter=' ', quotechar='|')\n",
    "        for i,row in enumerate(xyzreader):\n",
    "            read_dict[i] = row\n",
    "            final_row = i\n",
    "        csvfile.close()\n",
    "    while len(read_dict[final_row])>5:\n",
    "        for element in read_dict:\n",
    "            for k,el in enumerate(read_dict[element]):\n",
    "                if el == '':\n",
    "                    read_dict[element].pop(k)\n",
    "    with open(filename, 'w', newline='') as csvfile:\n",
    "         xyzwriter = csv.writer(csvfile, delimiter=' ')\n",
    "         xyzwriter.writerow(read_dict[0])\n",
    "         xyzwriter.writerow([read_dict[1][4],read_dict[1][4],read_dict[1][4]])\n",
    "         for j in range(final_row):\n",
    "             if j>1:\n",
    "                 xyzwriter.writerow([read_dict[j][4],read_dict[j][1],read_dict[j][2],read_dict[j][3],'1.0',debye_waller])\n",
    "         csvfile.close()"
   ]
  },
  {
   "cell_type": "markdown",
   "metadata": {},
   "source": [
    "At the moment we don't have a nice way to set the Debye-Waller factors but I'll think about that..."
   ]
  },
  {
   "cell_type": "code",
   "execution_count": 15,
   "metadata": {},
   "outputs": [],
   "source": [
    "xyz_converter(writefilename,debye_waller=0.075)"
   ]
  },
  {
   "cell_type": "markdown",
   "metadata": {},
   "source": [
    "Once you have written an xyz file we can use this to do a simulation."
   ]
  },
  {
   "cell_type": "code",
   "execution_count": null,
   "metadata": {},
   "outputs": [],
   "source": []
  }
 ],
 "metadata": {
  "kernelspec": {
   "display_name": "Python 3",
   "language": "python",
   "name": "python3"
  },
  "language_info": {
   "codemirror_mode": {
    "name": "ipython",
    "version": 3
   },
   "file_extension": ".py",
   "mimetype": "text/x-python",
   "name": "python",
   "nbconvert_exporter": "python",
   "pygments_lexer": "ipython3",
   "version": "3.7.6"
  }
 },
 "nbformat": 4,
 "nbformat_minor": 4
}
