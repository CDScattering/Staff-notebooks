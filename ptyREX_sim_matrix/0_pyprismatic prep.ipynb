{
 "cells": [
  {
   "cell_type": "markdown",
   "metadata": {},
   "source": [
    "# Starting from the CSV file of the positions"
   ]
  },
  {
   "cell_type": "markdown",
   "metadata": {},
   "source": [
    "This notebook loads a reference am-C atomic coordinationsfile and saves an xyz version cropped to the follwoing dimensions: CellDim :43.50 43.50 50.00\n",
    "\n",
    "This file is from:\n",
    "https://aip.scitation.org/doi/10.1063/1.4831669\n",
    "\n",
    "referenced here: \n",
    "https://prism-em.com/tutorial-classic/"
   ]
  },
  {
   "cell_type": "code",
   "execution_count": 25,
   "metadata": {},
   "outputs": [],
   "source": [
    "%matplotlib qt5"
   ]
  },
  {
   "cell_type": "code",
   "execution_count": 2,
   "metadata": {},
   "outputs": [],
   "source": [
    "# amorphous C file\n",
    "csv_file = '/dls/science/groups/e02/Mohsen/code/Git_Repos/Staff-notebooks/ptyREX_sim_matrix/xyz_files/not_in_use/atoms_amorCarbon_50nmCube_x_y_z_ID.txt'"
   ]
  },
  {
   "cell_type": "code",
   "execution_count": 3,
   "metadata": {},
   "outputs": [],
   "source": [
    "import numpy as np\n",
    "import csv\n",
    "final_row = 0\n",
    "read_dict = {}\n",
    "\n",
    "with open(csv_file, 'r') as csvfile:\n",
    "    xyzreader = csv.reader(csvfile, delimiter=' ', quotechar='|')\n",
    "    for i,row in enumerate(xyzreader):\n",
    "        read_dict[i] = row\n",
    "        final_row = i\n",
    "    csvfile.close()"
   ]
  },
  {
   "cell_type": "code",
   "execution_count": 4,
   "metadata": {},
   "outputs": [],
   "source": [
    "while len(read_dict[final_row])>5:\n",
    "    for element in read_dict:\n",
    "        for k,el in enumerate(read_dict[element]):\n",
    "            if el == '':\n",
    "                read_dict[element].pop(k)"
   ]
  },
  {
   "cell_type": "code",
   "execution_count": 5,
   "metadata": {},
   "outputs": [],
   "source": [
    "atom_pos = []\n",
    "atom_id = []\n",
    "for i in range(len(read_dict)):\n",
    "    atom_pos.append([float(i) for i in read_dict[i][0].split(',')[:3]])\n",
    "    atom_id.append([int(i) for i in read_dict[i][0].split(',')[3]])"
   ]
  },
  {
   "cell_type": "code",
   "execution_count": 6,
   "metadata": {},
   "outputs": [],
   "source": [
    "z_dim = []\n",
    "x_dim = []\n",
    "y_dim = []\n",
    "for i, atom in enumerate(atom_pos):\n",
    "#     print(atom_pos[i][2])\n",
    "    z_dim.append(atom_pos[i][2])\n",
    "    x_dim.append(atom_pos[i][0])\n",
    "    y_dim.append(atom_pos[i][1])"
   ]
  },
  {
   "cell_type": "code",
   "execution_count": 7,
   "metadata": {},
   "outputs": [
    {
     "data": {
      "text/plain": [
       "13760"
      ]
     },
     "execution_count": 7,
     "metadata": {},
     "output_type": "execute_result"
    }
   ],
   "source": [
    "len(x_dim)"
   ]
  },
  {
   "cell_type": "code",
   "execution_count": 8,
   "metadata": {},
   "outputs": [
    {
     "data": {
      "text/plain": [
       "49.99912"
      ]
     },
     "execution_count": 8,
     "metadata": {},
     "output_type": "execute_result"
    }
   ],
   "source": [
    "max(y_dim) - min(y_dim)"
   ]
  },
  {
   "cell_type": "code",
   "execution_count": 9,
   "metadata": {},
   "outputs": [
    {
     "data": {
      "text/plain": [
       "49.99835"
      ]
     },
     "execution_count": 9,
     "metadata": {},
     "output_type": "execute_result"
    }
   ],
   "source": [
    "max(x_dim) - min(x_dim)"
   ]
  },
  {
   "cell_type": "code",
   "execution_count": 10,
   "metadata": {},
   "outputs": [
    {
     "data": {
      "text/plain": [
       "13760"
      ]
     },
     "execution_count": 10,
     "metadata": {},
     "output_type": "execute_result"
    }
   ],
   "source": [
    "len(x_dim)"
   ]
  },
  {
   "cell_type": "code",
   "execution_count": 11,
   "metadata": {},
   "outputs": [
    {
     "data": {
      "text/plain": [
       "30.728"
      ]
     },
     "execution_count": 11,
     "metadata": {},
     "output_type": "execute_result"
    }
   ],
   "source": [
    "x_dim[0]"
   ]
  },
  {
   "cell_type": "code",
   "execution_count": 12,
   "metadata": {},
   "outputs": [],
   "source": [
    "to_crop = 43.5\n",
    "to_del = []\n",
    "for i, val in enumerate(x_dim):\n",
    "    if val > to_crop:\n",
    "        to_del.append(i)\n",
    "\n",
    "for i, val in enumerate(y_dim):\n",
    "    if val > to_crop:\n",
    "        to_del.append(i)\n",
    "\n",
    "for i in sorted(to_del, reverse=True):\n",
    "    del x_dim[i]\n",
    "    del y_dim[i]\n",
    "    del z_dim[i]\n",
    "    del atom_id[i]\n"
   ]
  },
  {
   "cell_type": "code",
   "execution_count": 13,
   "metadata": {},
   "outputs": [
    {
     "data": {
      "text/plain": [
       "10153"
      ]
     },
     "execution_count": 13,
     "metadata": {},
     "output_type": "execute_result"
    }
   ],
   "source": [
    "len(atom_id)"
   ]
  },
  {
   "cell_type": "code",
   "execution_count": 14,
   "metadata": {},
   "outputs": [
    {
     "data": {
      "text/plain": [
       "10153"
      ]
     },
     "execution_count": 14,
     "metadata": {},
     "output_type": "execute_result"
    }
   ],
   "source": [
    "len(y_dim)"
   ]
  },
  {
   "cell_type": "code",
   "execution_count": 15,
   "metadata": {},
   "outputs": [
    {
     "data": {
      "text/plain": [
       "43.49135"
      ]
     },
     "execution_count": 15,
     "metadata": {},
     "output_type": "execute_result"
    }
   ],
   "source": [
    "max(x_dim) - min(x_dim)"
   ]
  },
  {
   "cell_type": "code",
   "execution_count": 16,
   "metadata": {},
   "outputs": [],
   "source": [
    "final_row = len(x_dim)"
   ]
  },
  {
   "cell_type": "code",
   "execution_count": 17,
   "metadata": {},
   "outputs": [
    {
     "data": {
      "text/plain": [
       "10153"
      ]
     },
     "execution_count": 17,
     "metadata": {},
     "output_type": "execute_result"
    }
   ],
   "source": [
    "final_row"
   ]
  },
  {
   "cell_type": "code",
   "execution_count": 18,
   "metadata": {},
   "outputs": [],
   "source": [
    "title = ['Amorphous C']\n",
    "CellDim = ['    43.50 43.50 50.00']\n"
   ]
  },
  {
   "cell_type": "code",
   "execution_count": 32,
   "metadata": {},
   "outputs": [],
   "source": [
    "filename = '/dls/science/groups/e02/Mohsen/code/Git_Repos/Staff-notebooks/ptyREX_sim_matrix/xyz_files/test.txt'\n",
    "\n",
    "with open(filename, 'w', newline='') as csvfile:\n",
    "    xyzwriter = csv.writer(csvfile, delimiter= ' ', quotechar=' ')\n",
    "    xyzwriter.writerow(title)\n",
    "    xyzwriter.writerow(CellDim)\n",
    "    for j in range(final_row):\n",
    "        if j>1:\n",
    "            xyzwriter.writerow([atom_id[j][0],x_dim[j],y_dim[j],z_dim[j],'1.0',0.080])\n",
    "    xyzwriter.writerow(['-l'])\n",
    "    csvfile.close()"
   ]
  },
  {
   "cell_type": "code",
   "execution_count": 20,
   "metadata": {},
   "outputs": [
    {
     "name": "stdout",
     "output_type": "stream",
     "text": [
      "Variable        Type             Data/Info\n",
      "------------------------------------------\n",
      "CellDim         list             n=1\n",
      "atom            list             n=3\n",
      "atom_id         list             n=10153\n",
      "atom_pos        list             n=13760\n",
      "csv             module           <module 'csv' from '/dls_<...>.7/lib/python3.7/csv.py'>\n",
      "csv_file        str              /dls/science/groups/e02/M<...>bon_50nmCube_x_y_z_ID.txt\n",
      "csvfile         TextIOWrapper    <_io.TextIOWrapper name='<...>ode='r' encoding='UTF-8'>\n",
      "final_row       int              10153\n",
      "i               int              2\n",
      "np              module           <module 'numpy' from '/dl<...>kages/numpy/__init__.py'>\n",
      "read_dict       dict             n=13760\n",
      "row             list             n=1\n",
      "title           list             n=1\n",
      "to_crop         float            43.5\n",
      "to_del          list             n=3607\n",
      "val             float            34.147\n",
      "x_dim           list             n=10153\n",
      "xyz_converter   function         <function xyz_converter at 0x7f6cd5a7f0e0>\n",
      "xyzreader       reader           <_csv.reader object at 0x7f6cd5a50f50>\n",
      "y_dim           list             n=10153\n",
      "z_dim           list             n=10153\n"
     ]
    }
   ],
   "source": [
    "whos"
   ]
  },
  {
   "cell_type": "code",
   "execution_count": 27,
   "metadata": {},
   "outputs": [],
   "source": [
    "# This import registers the 3D projection, but is otherwise unused.\n",
    "from mpl_toolkits.mplot3d import Axes3D  # noqa: F401 unused import\n",
    "\n",
    "import matplotlib.pyplot as plt\n",
    "import numpy as np\n",
    "\n",
    "\n",
    "fig = plt.figure()\n",
    "ax = fig.add_subplot(111, projection='3d')\n",
    "\n",
    "n = 100\n",
    "\n",
    "# For each set of style and range settings, plot n random points in the box\n",
    "# defined by x in [23, 32], y in [0, 100], z in [zlow, zhigh].\n",
    "for counter, atom in enumerate(x_dim):\n",
    "\n",
    "    ax.scatter(x_dim[counter], y_dim[counter], z_dim[counter], marker='o')\n",
    "\n",
    "ax.set_xlabel('X Label')\n",
    "ax.set_ylabel('Y Label')\n",
    "ax.set_zlabel('Z Label')\n",
    "\n",
    "plt.show()"
   ]
  },
  {
   "cell_type": "code",
   "execution_count": null,
   "metadata": {},
   "outputs": [],
   "source": []
  },
  {
   "cell_type": "code",
   "execution_count": 19,
   "metadata": {},
   "outputs": [],
   "source": [
    "def xyz_converter(filename,debye_waller):\n",
    "    import csv\n",
    "    \n",
    "    final_row = 0\n",
    "    read_dict = {}\n",
    "    \n",
    "    with open(filename, 'r') as csvfile:\n",
    "        xyzreader = csv.reader(csvfile, delimiter=' ', quotechar='|')\n",
    "        for i,row in enumerate(xyzreader):\n",
    "            read_dict[i] = row\n",
    "            final_row = i\n",
    "        csvfile.close()\n",
    "    while len(read_dict[final_row])>5:\n",
    "        for element in read_dict:\n",
    "            for k,el in enumerate(read_dict[element]):\n",
    "                if el == '':\n",
    "                    read_dict[element].pop(k)\n",
    "    with open(filename, 'w', newline='') as csvfile:\n",
    "         xyzwriter = csv.writer(csvfile, delimiter=' ')\n",
    "         xyzwriter.writerow(read_dict[0])\n",
    "         xyzwriter.writerow([read_dict[1][4],read_dict[1][4],read_dict[1][4]])\n",
    "         for j in range(final_row):\n",
    "             if j>1:\n",
    "                 xyzwriter.writerow([read_dict[j][4],read_dict[j][1],read_dict[j][2],read_dict[j][3],'1.0',debye_waller])\n",
    "         csvfile.close()"
   ]
  },
  {
   "cell_type": "code",
   "execution_count": null,
   "metadata": {},
   "outputs": [],
   "source": []
  }
 ],
 "metadata": {
  "kernelspec": {
   "display_name": "Python 3",
   "language": "python",
   "name": "python3"
  },
  "language_info": {
   "codemirror_mode": {
    "name": "ipython",
    "version": 3
   },
   "file_extension": ".py",
   "mimetype": "text/x-python",
   "name": "python",
   "nbconvert_exporter": "python",
   "pygments_lexer": "ipython3",
   "version": "3.7.6"
  }
 },
 "nbformat": 4,
 "nbformat_minor": 4
}
