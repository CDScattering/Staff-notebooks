{
 "cells": [
  {
   "cell_type": "code",
   "execution_count": 1,
   "metadata": {},
   "outputs": [],
   "source": [
    "%matplotlib qt\n",
    "# %matplotlib inline"
   ]
  },
  {
   "cell_type": "code",
   "execution_count": 2,
   "metadata": {},
   "outputs": [],
   "source": [
    "import numpy as np\n",
    "import os\n",
    "import h5py\n",
    "import sys\n",
    "import matplotlib.pyplot as plt\n",
    "import hyperspy.api as hs"
   ]
  },
  {
   "cell_type": "code",
   "execution_count": 3,
   "metadata": {},
   "outputs": [
    {
     "name": "stderr",
     "output_type": "stream",
     "text": [
      "WARNING:silx.opencl.common:Unable to import pyOpenCl. Please install it from: http://pypi.python.org/pypi/pyopencl\n"
     ]
    }
   ],
   "source": [
    "sys.path.append('/dls/science/groups/e02/Mohsen/code/Git_Repos/Merlin-Medipix/')\n",
    "import epsic_tools.api as epsic"
   ]
  },
  {
   "cell_type": "code",
   "execution_count": 4,
   "metadata": {},
   "outputs": [],
   "source": [
    "matrix_path = '/dls/e02/data/2020/cm26481-1/processing/pty_simulated_data_MD/sim_matrix_ptyREX_amC_16June2020_512pixArray/'\n",
    "# run_ID: 26042020 - 100 iterations \n",
    "# run_ID: 2000iter\n",
    "# json_files = get_ptyREX_recon_list(matrix_path, run_id = '26042020') \n",
    "json_files = epsic.sim_utils.get_ptyREX_recon_list(matrix_path, run_id = '2000iter')"
   ]
  },
  {
   "cell_type": "code",
   "execution_count": 5,
   "metadata": {},
   "outputs": [
    {
     "data": {
      "text/plain": [
       "64"
      ]
     },
     "execution_count": 5,
     "metadata": {},
     "output_type": "execute_result"
    }
   ],
   "source": [
    "len(json_files)"
   ]
  },
  {
   "cell_type": "code",
   "execution_count": 6,
   "metadata": {},
   "outputs": [],
   "source": [
    "# sorting the json files\n",
    "\n",
    "\n",
    "conv_angles = [0.016, 0.020, 0.024, 0.030, 0.040, 0.050, 0.064, 0.084]\n",
    "real_probe_overlap = [0, 5, 15, 35, 60, 70, 80, 90]\n",
    "\n",
    "\n",
    "data_list_of_dicts = []\n",
    "for file in json_files:\n",
    "    j_dict = epsic.sim_utils.json_to_dict_sim(file)\n",
    "\n",
    "    for i, angle in enumerate(conv_angles):\n",
    "        data_list_of_dicts.append([])\n",
    "        if j_dict['process']['common']['probe']['convergence'] == angle:\n",
    "            data_list_of_dicts[i].append(j_dict)\n",
    "                \n",
    "for i, angle in enumerate(conv_angles):\n",
    "    #print(angle)\n",
    "    data_list_of_dicts[i].sort(key=lambda e: e['process']['common']['scan']['dR'][0], reverse = True)\n"
   ]
  },
  {
   "cell_type": "code",
   "execution_count": 45,
   "metadata": {},
   "outputs": [],
   "source": [
    "# fft of obj phase \n",
    "\n",
    "rows = len(data_list_of_dicts[0])\n",
    "cols = len(conv_angles)\n",
    "#print(rows, cols)\n",
    "fig, axs = plt.subplots(nrows=rows, ncols=cols, sharex=True, sharey=True,figsize=(8, 11))\n",
    "for idx in range(rows):    \n",
    "      for idy in range(cols): \n",
    "            try:\n",
    "                obj = epsic.ptycho_utils.crop_recon_obj(data_list_of_dicts[idy][idx]['json_path'])\n",
    "                #print(idx, idy)\n",
    "                j_dict = j_dict = epsic.sim_utils.json_to_dict_sim(data_list_of_dicts[idy][idx]['json_path'])\n",
    "                axs[idx,idy].imshow(abs(epsic.ptycho_utils.get_fft(obj, crop = 0.65, apply_hann=True)), cmap = 'viridis')\n",
    "#                 axs[idx,idy].imshow(np.log(abs(epsic.ptycho_utils.get_fft(obj))), cmap = 'viridis')\n",
    "\n",
    "\n",
    "                axs[idx,idy].set_xticks([])\n",
    "                axs[idx,idy].set_yticks([])\n",
    "#                 if idx == 0:\n",
    "#                     axs[idx,idy].set_title(str(1e3 * j_dict['process']['common']['probe']['convergence']) + 'mrad \\n' + \\\n",
    "#                         'step size ($\\AA$) %2.3f'%(1e10*j_dict['process']['common']['scan']['dR'][0])+ '\\n' + \\\n",
    "#                                        str(diff_overlap[idy]) + '%overlap', color = 'red', fontsize = 8)\n",
    "#                 elif idy == 0:\n",
    "#                     axs[idx,idy].set_title('step size ($\\AA$) %2.3f'%(1e10*j_dict['process']['common']['scan']['dR'][0]), color = 'black', fontsize = 5)\n",
    "#                     axs[idx, idy].set_ylabel(str(real_probe_overlap[idx]) + '%overlap', color = 'red', fontsize = 8)\n",
    "#                 else:\n",
    "#                     axs[idx,idy].set_title('%2.3f'%(1e10*j_dict['process']['common']['scan']['dR'][0]), color = 'black', fontsize = 5)\n",
    "            except IndexError:\n",
    "                pass\n",
    "#plt.tight_layout()            "
   ]
  },
  {
   "cell_type": "code",
   "execution_count": 46,
   "metadata": {},
   "outputs": [],
   "source": [
    "# obj phase \n",
    "rows = len(data_list_of_dicts[0])\n",
    "cols = len(conv_angles)\n",
    "#print(rows, cols)\n",
    "fig, axs = plt.subplots(nrows=rows, ncols=cols, sharex=True, sharey=True,figsize=(8, 11))\n",
    "for idx in range(rows):    \n",
    "      for idy in range(cols): \n",
    "            try:\n",
    "                obj = epsic.ptycho_utils.crop_recon_obj(data_list_of_dicts[idy][idx]['json_path'])\n",
    "                #print(idx, idy)\n",
    "                j_dict = epsic.sim_utils.json_to_dict_sim(data_list_of_dicts[idy][idx]['json_path'])\n",
    "                \n",
    "                img = abs(np.min(np.angle(obj))) + np.angle(obj)\n",
    "                sh0 = img.shape[0]\n",
    "                sh1 = 340\n",
    "                img_crop = img[int(sh0/2 - sh1/2):int(sh0/2 + sh1/2), int(sh0/2 - sh1/2):int(sh0/2 + sh1/2)]\n",
    "                \n",
    "                axs[idx,idy].imshow(img_crop, cmap = 'magma_r')\n",
    "                axs[idx,idy].set_xticks([])\n",
    "                axs[idx,idy].set_yticks([])\n",
    "                if idx == 0:\n",
    "                    axs[idx,idy].set_title(str(1e3 * j_dict['process']['common']['probe']['convergence']) + 'mrad \\n' + \\\n",
    "                        'step size ($\\AA$) %2.3f'%(1e10*j_dict['process']['common']['scan']['dR'][0]), color = 'red', fontsize = 8)\n",
    "                elif idy == 0:\n",
    "                    axs[idx,idy].set_title('step size ($\\AA$) %2.3f'%(1e10*j_dict['process']['common']['scan']['dR'][0]), color = 'black', fontsize = 5),\n",
    "                else:\n",
    "                    axs[idx,idy].set_title('%2.3f'%(1e10*j_dict['process']['common']['scan']['dR'][0]), color = 'black', fontsize = 5)\n",
    "            except IndexError:\n",
    "                pass\n",
    "#plt.tight_layout()            "
   ]
  },
  {
   "cell_type": "markdown",
   "metadata": {},
   "source": [
    "# Comparison with sim potential"
   ]
  },
  {
   "cell_type": "code",
   "execution_count": 7,
   "metadata": {},
   "outputs": [
    {
     "data": {
      "text/plain": [
       "'/dls/e02/data/2020/cm26481-1/processing/pty_simulated_data_MD/sim_matrix_ptyREX_amC_16June2020_512pixArray/amorCarbon_43p5nmCube_12.0mrad_244.21A_def_18.42A_step_size/amorCarbon_43p5nmCube_12.0mrad_244.21A_def_18.42A_step_size.h5'"
      ]
     },
     "execution_count": 7,
     "metadata": {},
     "output_type": "execute_result"
    }
   ],
   "source": [
    "# we get one of the potentials as ground truth to compare the recons with.\n",
    "data_list_of_dicts[2][2]['sim_path']"
   ]
  },
  {
   "cell_type": "code",
   "execution_count": 8,
   "metadata": {},
   "outputs": [],
   "source": [
    "pot = epsic.sim_utils.get_potential(data_list_of_dicts[2][2]['sim_path'])"
   ]
  },
  {
   "cell_type": "code",
   "execution_count": 9,
   "metadata": {},
   "outputs": [
    {
     "data": {
      "text/plain": [
       "(1024, 1024)"
      ]
     },
     "execution_count": 9,
     "metadata": {},
     "output_type": "execute_result"
    }
   ],
   "source": [
    "# summing the sloces\n",
    "pot = np.sum(pot, axis = 2)\n",
    "pot.shape"
   ]
  },
  {
   "cell_type": "code",
   "execution_count": 51,
   "metadata": {},
   "outputs": [
    {
     "data": {
      "text/plain": [
       "Text(0.5, 1.0, 'ideal phase shift')"
      ]
     },
     "execution_count": 51,
     "metadata": {},
     "output_type": "execute_result"
    }
   ],
   "source": [
    "sh = pot.shape[0]\n",
    "obj_pot = pot[int(0.33*sh):int(0.66*sh), int(0.33*sh):int(0.66*sh)]\n",
    "obj_pot_fft = np.fft.fftshift(np.fft.fft2(obj_pot))\n",
    "test = epsic.ptycho_utils.get_fft(obj_pot, crop=0.33, apply_hann=True)\n",
    "phase_ideal = epsic.sim_utils._sigma(80000) * obj_pot\n",
    "fig, ax = plt.subplots(1,3,figsize=(11,4))\n",
    "im = ax[0].imshow(obj_pot)\n",
    "fig.colorbar(im, ax = ax[0])\n",
    "ax[1].imshow(np.log(abs(obj_pot_fft)), cmap = 'viridis')\n",
    "im2 = ax[2].imshow(phase_ideal)\n",
    "fig.colorbar(im2, ax = ax[2])\n",
    "ax[0].set_xticks([])\n",
    "ax[0].set_yticks([])\n",
    "ax[1].set_xticks([])\n",
    "ax[1].set_yticks([])\n",
    "ax[2].set_xticks([])\n",
    "ax[2].set_yticks([])\n",
    "ax[0].set_title('object potential in V$\\AA$')\n",
    "ax[1].set_title('fft of object potential')\n",
    "ax[2].set_title('ideal phase shift')\n",
    "# plt.tight_layout()            "
   ]
  },
  {
   "cell_type": "code",
   "execution_count": 11,
   "metadata": {},
   "outputs": [
    {
     "data": {
      "text/plain": [
       "(338, 338)"
      ]
     },
     "execution_count": 11,
     "metadata": {},
     "output_type": "execute_result"
    }
   ],
   "source": [
    "obj_pot.shape"
   ]
  },
  {
   "cell_type": "code",
   "execution_count": 13,
   "metadata": {},
   "outputs": [],
   "source": [
    "# binning the ideal phase by 2 - the sim pixelSize is half the recn pixelSize - due to the way 4DSTEM\n",
    "# data is saved in pyprimsatic\n",
    "phase_ideal_hs = hs.signals.Signal2D(phase_ideal)\n",
    "phase_ideal_bin = phase_ideal_hs.rebin(scale = (2,2))\n",
    "phase_ideal_bin = phase_ideal_bin.data"
   ]
  },
  {
   "cell_type": "code",
   "execution_count": 14,
   "metadata": {},
   "outputs": [
    {
     "data": {
      "text/plain": [
       "(169, 169)"
      ]
     },
     "execution_count": 14,
     "metadata": {},
     "output_type": "execute_result"
    }
   ],
   "source": [
    "phase_ideal_bin.shape"
   ]
  },
  {
   "cell_type": "code",
   "execution_count": 18,
   "metadata": {},
   "outputs": [],
   "source": [
    "# offset_img_r = np.real(offset_img)"
   ]
  },
  {
   "cell_type": "code",
   "execution_count": 50,
   "metadata": {},
   "outputs": [],
   "source": [
    "# ratio = np.divide(offset_img_r, phase_ideal_bin)"
   ]
  },
  {
   "cell_type": "code",
   "execution_count": 51,
   "metadata": {},
   "outputs": [],
   "source": [
    "# plt.figure()\n",
    "# plt.imshow(ratio, cmap = 'viridis')\n",
    "# plt.colorbar()\n",
    "# ratio_mean = np.mean(ratio)"
   ]
  },
  {
   "cell_type": "code",
   "execution_count": 52,
   "metadata": {},
   "outputs": [
    {
     "data": {
      "text/plain": [
       "0.9884089493296008"
      ]
     },
     "execution_count": 52,
     "metadata": {},
     "output_type": "execute_result"
    }
   ],
   "source": [
    "# ratio_mean"
   ]
  },
  {
   "cell_type": "markdown",
   "metadata": {},
   "source": [
    "# Evaluate by radial profiles"
   ]
  },
  {
   "cell_type": "code",
   "execution_count": 15,
   "metadata": {},
   "outputs": [
    {
     "data": {
      "text/plain": [
       "numpy.ndarray"
      ]
     },
     "execution_count": 15,
     "metadata": {},
     "output_type": "execute_result"
    }
   ],
   "source": [
    "type(phase_ideal_bin)"
   ]
  },
  {
   "cell_type": "code",
   "execution_count": 16,
   "metadata": {},
   "outputs": [],
   "source": [
    "phase_ideal_bin_fft = epsic.ptycho_utils.get_fft(phase_ideal_bin, crop = None, apply_hann=True)\n",
    "sh = phase_ideal_bin_fft.shape[0]\n",
    "ideal_profile = epsic.radial_profile.radial_profile(phase_ideal_bin_fft, center = (sh//2,sh//2))"
   ]
  },
  {
   "cell_type": "code",
   "execution_count": 17,
   "metadata": {},
   "outputs": [
    {
     "data": {
      "text/plain": [
       "[<matplotlib.lines.Line2D at 0x7f68eed7a190>]"
      ]
     },
     "execution_count": 17,
     "metadata": {},
     "output_type": "execute_result"
    }
   ],
   "source": [
    "plt.figure()\n",
    "plt.plot(ideal_profile)"
   ]
  },
  {
   "cell_type": "code",
   "execution_count": 18,
   "metadata": {},
   "outputs": [],
   "source": [
    "\n",
    "# fft of obj phase \n",
    "\n",
    "rows = len(data_list_of_dicts[0])\n",
    "cols = len(conv_angles)\n",
    "fft_line_profiles = []\n",
    "#print(rows, cols)\n",
    "# fig, axs = plt.subplots(nrows=rows, ncols=cols, sharex=True, sharey=True,figsize=(8, 11))\n",
    "for idx in range(rows):    \n",
    "      for idy in range(cols): \n",
    "            try:\n",
    "                obj = epsic.ptycho_utils.crop_recon_obj(data_list_of_dicts[idy][idx]['json_path'])\n",
    "                #print(idx, idy)\n",
    "                obj_fft = epsic.ptycho_utils.get_fft(np.angle(obj), crop = None, apply_hann=True)\n",
    "                sh = obj_fft.shape[0]\n",
    "                fft_prof = epsic.radial_profile.radial_profile(obj_fft, center = (sh//2,sh//2))\n",
    "                fft_line_profiles.append(fft_prof)\n",
    "\n",
    "            except IndexError:\n",
    "                pass\n",
    "#plt.tight_layout()      "
   ]
  },
  {
   "cell_type": "code",
   "execution_count": 19,
   "metadata": {},
   "outputs": [],
   "source": [
    "fft_line_profiles_np = np.asarray(fft_line_profiles)"
   ]
  },
  {
   "cell_type": "code",
   "execution_count": 20,
   "metadata": {},
   "outputs": [],
   "source": [
    "fft_line_profiles_reshaped = fft_line_profiles_np.reshape(8,8)"
   ]
  },
  {
   "cell_type": "code",
   "execution_count": 21,
   "metadata": {},
   "outputs": [
    {
     "data": {
      "text/plain": [
       "(8, 8)"
      ]
     },
     "execution_count": 21,
     "metadata": {},
     "output_type": "execute_result"
    }
   ],
   "source": [
    "fft_line_profiles_reshaped.shape"
   ]
  },
  {
   "cell_type": "code",
   "execution_count": 27,
   "metadata": {},
   "outputs": [],
   "source": [
    "probe_overlaps = [0, 5, 15, 35, 60, 70, 80, 90]\n",
    "conv_angles = [0.016, 0.020, 0.024, 0.030, 0.040, 0.050, 0.064, 0.084]"
   ]
  },
  {
   "cell_type": "code",
   "execution_count": 48,
   "metadata": {},
   "outputs": [
    {
     "data": {
      "text/plain": [
       "<matplotlib.legend.Legend at 0x7f68e71c8f90>"
      ]
     },
     "execution_count": 48,
     "metadata": {},
     "output_type": "execute_result"
    }
   ],
   "source": [
    "plt.figure()\n",
    "plt.plot(ideal_profile, label='ideal')\n",
    "for i in range(8):\n",
    "    plt.plot(fft_line_profiles_reshaped[5][i], label = 'probe overlap '+ str(probe_overlaps[i]))\n",
    "\n",
    "plt.legend()"
   ]
  },
  {
   "cell_type": "code",
   "execution_count": 50,
   "metadata": {},
   "outputs": [
    {
     "data": {
      "text/plain": [
       "<matplotlib.legend.Legend at 0x7f68e6bac1d0>"
      ]
     },
     "execution_count": 50,
     "metadata": {},
     "output_type": "execute_result"
    }
   ],
   "source": [
    "plt.figure()\n",
    "plt.plot(ideal_profile, label='ideal')\n",
    "for i in range(8):\n",
    "    plt.plot(fft_line_profiles_reshaped[i][5], label = 'conv angle '+ str(conv_angles[i]))\n",
    "\n",
    "plt.legend()"
   ]
  },
  {
   "cell_type": "code",
   "execution_count": null,
   "metadata": {},
   "outputs": [],
   "source": []
  },
  {
   "cell_type": "code",
   "execution_count": null,
   "metadata": {},
   "outputs": [],
   "source": []
  },
  {
   "cell_type": "code",
   "execution_count": null,
   "metadata": {},
   "outputs": [],
   "source": []
  },
  {
   "cell_type": "code",
   "execution_count": null,
   "metadata": {},
   "outputs": [],
   "source": []
  },
  {
   "cell_type": "code",
   "execution_count": null,
   "metadata": {},
   "outputs": [],
   "source": []
  },
  {
   "cell_type": "code",
   "execution_count": null,
   "metadata": {},
   "outputs": [],
   "source": []
  },
  {
   "cell_type": "code",
   "execution_count": 55,
   "metadata": {},
   "outputs": [
    {
     "ename": "ImportError",
     "evalue": "cannot import name 'window' from 'skimage.filters' (/dls_sw/apps/python/anaconda/4.6.14/64/envs/epsic3.7/lib/python3.7/site-packages/skimage/filters/__init__.py)",
     "output_type": "error",
     "traceback": [
      "\u001b[0;31m---------------------------------------------------------------------------\u001b[0m",
      "\u001b[0;31mImportError\u001b[0m                               Traceback (most recent call last)",
      "\u001b[0;32m<ipython-input-55-30984a5aca30>\u001b[0m in \u001b[0;36m<module>\u001b[0;34m\u001b[0m\n\u001b[1;32m      5\u001b[0m \u001b[0;32mfrom\u001b[0m \u001b[0mskimage\u001b[0m\u001b[0;34m.\u001b[0m\u001b[0mcolor\u001b[0m \u001b[0;32mimport\u001b[0m \u001b[0mrgb2gray\u001b[0m\u001b[0;34m\u001b[0m\u001b[0;34m\u001b[0m\u001b[0m\n\u001b[1;32m      6\u001b[0m \u001b[0;32mfrom\u001b[0m \u001b[0mskimage\u001b[0m\u001b[0;34m.\u001b[0m\u001b[0mdata\u001b[0m \u001b[0;32mimport\u001b[0m \u001b[0mastronaut\u001b[0m\u001b[0;34m\u001b[0m\u001b[0;34m\u001b[0m\u001b[0m\n\u001b[0;32m----> 7\u001b[0;31m \u001b[0;32mfrom\u001b[0m \u001b[0mskimage\u001b[0m\u001b[0;34m.\u001b[0m\u001b[0mfilters\u001b[0m \u001b[0;32mimport\u001b[0m \u001b[0mwindow\u001b[0m\u001b[0;34m\u001b[0m\u001b[0;34m\u001b[0m\u001b[0m\n\u001b[0m\u001b[1;32m      8\u001b[0m \u001b[0;34m\u001b[0m\u001b[0m\n\u001b[1;32m      9\u001b[0m \u001b[0mimage\u001b[0m \u001b[0;34m=\u001b[0m \u001b[0mimg_as_float\u001b[0m\u001b[0;34m(\u001b[0m\u001b[0mrgb2gray\u001b[0m\u001b[0;34m(\u001b[0m\u001b[0mastronaut\u001b[0m\u001b[0;34m(\u001b[0m\u001b[0;34m)\u001b[0m\u001b[0;34m)\u001b[0m\u001b[0;34m)\u001b[0m\u001b[0;34m\u001b[0m\u001b[0;34m\u001b[0m\u001b[0m\n",
      "\u001b[0;31mImportError\u001b[0m: cannot import name 'window' from 'skimage.filters' (/dls_sw/apps/python/anaconda/4.6.14/64/envs/epsic3.7/lib/python3.7/site-packages/skimage/filters/__init__.py)"
     ]
    }
   ],
   "source": [
    "import matplotlib.pyplot as plt\n",
    "import numpy as np\n",
    "from scipy.fftpack import fft2, fftshift\n",
    "from skimage import img_as_float\n",
    "from skimage.color import rgb2gray\n",
    "from skimage.data import astronaut\n",
    "from skimage.filters import window\n",
    "\n",
    "image = img_as_float(rgb2gray(astronaut()))\n",
    "\n",
    "wimage = image * window('hann', image.shape)\n",
    "\n",
    "image_f = np.abs(fftshift(fft2(image)))\n",
    "wimage_f = np.abs(fftshift(fft2(wimage)))\n",
    "\n",
    "fig, axes = plt.subplots(2, 2, figsize=(8, 8))\n",
    "ax = axes.ravel()\n",
    "ax[0].set_title(\"Original image\")\n",
    "ax[0].imshow(image, cmap='gray')\n",
    "ax[1].set_title(\"Windowed image\")\n",
    "ax[1].imshow(wimage, cmap='gray')\n",
    "ax[2].set_title(\"Original FFT (frequency)\")\n",
    "ax[2].imshow(np.log(image_f), cmap='magma')\n",
    "ax[3].set_title(\"Window + FFT (frequency)\")\n",
    "ax[3].imshow(np.log(wimage_f), cmap='magma')\n",
    "plt.show()"
   ]
  },
  {
   "cell_type": "code",
   "execution_count": null,
   "metadata": {},
   "outputs": [],
   "source": []
  },
  {
   "cell_type": "code",
   "execution_count": 74,
   "metadata": {},
   "outputs": [
    {
     "name": "stderr",
     "output_type": "stream",
     "text": [
      "/dls_sw/apps/python/anaconda/4.6.14/64/envs/epsic3.7/lib/python3.7/site-packages/ipykernel_launcher.py:19: UserWarning: Inputs have mismatched dtype.  Setting data_range based on im1.dtype.\n",
      "/dls_sw/apps/python/anaconda/4.6.14/64/envs/epsic3.7/lib/python3.7/site-packages/skimage/metrics/_structural_similarity.py:177: ComplexWarning: Casting complex values to real discards the imaginary part\n",
      "  im2 = im2.astype(np.float64)\n",
      "/dls_sw/apps/python/anaconda/4.6.14/64/envs/epsic3.7/lib/python3.7/site-packages/numpy/core/_methods.py:151: ComplexWarning: Casting complex values to real discards the imaginary part\n",
      "  ret = umr_sum(arr, axis, dtype, out, keepdims)\n",
      "/dls_sw/apps/python/anaconda/4.6.14/64/envs/epsic3.7/lib/python3.7/site-packages/numpy/core/_asarray.py:85: ComplexWarning: Casting complex values to real discards the imaginary part\n",
      "  return array(a, dtype, copy=False, order=order)\n",
      "/dls_sw/apps/python/anaconda/4.6.14/64/envs/epsic3.7/lib/python3.7/site-packages/numpy/core/_asarray.py:85: ComplexWarning: Casting complex values to real discards the imaginary part\n",
      "  return array(a, dtype, copy=False, order=order)\n",
      "/dls_sw/apps/python/anaconda/4.6.14/64/envs/epsic3.7/lib/python3.7/site-packages/numpy/core/_asarray.py:85: ComplexWarning: Casting complex values to real discards the imaginary part\n",
      "  return array(a, dtype, copy=False, order=order)\n"
     ]
    },
    {
     "data": {
      "text/plain": [
       "Text(0.5, 0.98, 'ssim and nrmse scores as function of convergence angle')"
      ]
     },
     "execution_count": 74,
     "metadata": {},
     "output_type": "execute_result"
    }
   ],
   "source": [
    "ssim_scores = []\n",
    "nrmse_scores = []\n",
    "mse_scores = []\n",
    "case_num = 0\n",
    "convergence = []\n",
    "step_size = []\n",
    "for i in range(len(conv_angles)):\n",
    "    for n in range(len(data_list_of_dicts[i])):\n",
    "        obj = epsic.ptycho_utils.crop_recon_obj(data_list_of_dicts[i][n]['json_path'])\n",
    "        convergence.append(data_list_of_dicts[i][n]['process']['common']['probe']['convergence'])\n",
    "        step_size.append(data_list_of_dicts[i][n]['process']['common']['scan']['dR'][0])\n",
    "        img = abs(np.min(np.angle(obj))) + np.angle(obj)\n",
    "        sh0 = img.shape[0]\n",
    "        sh1 = phase_ideal_bin.shape[0]\n",
    "        img_crop = img[int(sh0/2 - sh1/2):int(sh0/2 + sh1/2), int(sh0/2 - sh1/2):int(sh0/2 + sh1/2)]\n",
    "        shift, error, diffphase = register_translation(phase_ideal_bin, img_crop)\n",
    "        offset_img = fourier_shift(np.fft.fftn(img_crop), shift)\n",
    "        offset_img = np.fft.ifftn(offset_img)\n",
    "        ssim_score = ssim(phase_ideal_bin, offset_img)\n",
    "        nrmse_score = nrmse(phase_ideal_bin, offset_img, normalization= 'min-max')\n",
    "        mse_score = mse(phase_ideal_bin, offset_img)\n",
    "        ssim_scores.append(ssim_score)\n",
    "        nrmse_scores.append(nrmse_score)\n",
    "        mse_scores.append(mse_score)\n",
    "\n",
    "convergence = np.asarray(convergence)\n",
    "fig, ax = plt.subplots(1,2,figsize=(11,4))\n",
    "for angle in conv_angles:\n",
    "    inds = np.where(convergence==angle)\n",
    "    _steps = np.take(step_size, inds[0])\n",
    "    _ssim = np.take(ssim_scores, inds[0])\n",
    "    _nrmse = np.take(nrmse_scores, inds[0])\n",
    "    _mse = np.take(mse_scores, inds[0])\n",
    "\n",
    "    ax[0].plot(_steps, _ssim,label = str(angle))\n",
    "    ax[0].set_title('ssim scores')\n",
    "    ax[0].set_xlabel('step_size(m)')\n",
    "    ax[1].plot(_steps, _nrmse,label = str(angle))\n",
    "    ax[1].set_title('nrmse scores')\n",
    "    ax[1].set_xlabel('step_size(m)')\n",
    "    ax[0].legend()\n",
    "    ax[1].legend()\n",
    "fig.suptitle('ssim and nrmse scores as function of convergence angle')"
   ]
  },
  {
   "cell_type": "code",
   "execution_count": 91,
   "metadata": {},
   "outputs": [
    {
     "name": "stdout",
     "output_type": "stream",
     "text": [
      "(array([2]),)\n"
     ]
    }
   ],
   "source": [
    "# To plot objects as a function of convergence angles\n",
    "conv_angles = np.asarray(conv_angles)\n",
    "angle = 0.084\n",
    "ind = np.where(conv_angles==angle)\n",
    "print(ind)\n",
    "objects = []\n",
    "step_sizes = []\n",
    "sh1 = 200\n",
    "for json_dict in data_list_of_dicts[ind[0][0]]:\n",
    "    step_size = json_dict['process']['common']['scan']['dR'][0]\n",
    "    step_sizes.append(step_size)\n",
    "    obj = epsic.ptycho_utils.crop_recon_obj(json_dict['json_path'])\n",
    "    img = abs(np.min(np.angle(obj))) + np.angle(obj)\n",
    "    sh0 = img.shape[0]\n",
    "    img_crop = img[int(sh0/2 - sh1/2):int(sh0/2 + sh1/2), int(sh0/2 - sh1/2):int(sh0/2 + sh1/2)]\n",
    "    objects.append(img_crop)\n",
    "fig, ax = plt.subplots(4,2, figsize=(8,11))\n",
    "n_cols = 2\n",
    "for i, step in enumerate(step_sizes):\n",
    "\n",
    "    ax[i // n_cols, i%n_cols].imshow(objects[i], cmap = 'magma_r')\n",
    "    ax[i // n_cols, i%n_cols].set_title('%2.3f'%(1e10*step)+' $\\AA$' )\n",
    "\n",
    "    ax[int(i / n_cols), i%n_cols].set_xticks([])\n",
    "    ax[int(i / n_cols), i%n_cols].set_yticks([])\n",
    "fig.suptitle('probe convergence ' + str(angle)+ ' rad')\n",
    "None"
   ]
  },
  {
   "cell_type": "code",
   "execution_count": 79,
   "metadata": {},
   "outputs": [
    {
     "data": {
      "text/plain": [
       "array([0.05 , 0.064, 0.084])"
      ]
     },
     "execution_count": 79,
     "metadata": {},
     "output_type": "execute_result"
    }
   ],
   "source": [
    "conv_angles"
   ]
  },
  {
   "cell_type": "code",
   "execution_count": 81,
   "metadata": {},
   "outputs": [],
   "source": [
    "# To plot errors function of convergence angles\n",
    "conv_angles = np.asarray(conv_angles)\n",
    "angle = 0.050\n",
    "ind = np.where(conv_angles==angle)\n",
    "\n",
    "errors = []\n",
    "step_sizes = []\n",
    "for json_dict in data_list_of_dicts[ind[0][0]]:\n",
    "    step_size = json_dict['process']['common']['scan']['dR'][0]\n",
    "    step_sizes.append(step_size)\n",
    "    name, ext = os.path.splitext(json_dict['json_path'])\n",
    "    error = epsic.ptycho_utils.get_error(name + '.hdf')\n",
    "    errors.append(error)\n",
    "fig, ax = plt.subplots(4,2, figsize=(8,12))\n",
    "for i, step in enumerate(step_sizes):\n",
    "\n",
    "    ax[int(i / 2), i%2].plot(errors[i])\n",
    "    ax[int(i / 2), i%2].set_title('%2.3f'%(1e10*step)+'$\\AA$' )\n",
    "\n",
    "fig.suptitle('error vs iter num ' + str(angle)+ 'rad')\n",
    "None"
   ]
  },
  {
   "cell_type": "markdown",
   "metadata": {},
   "source": [
    "# Evaluation using atomap"
   ]
  },
  {
   "cell_type": "code",
   "execution_count": 15,
   "metadata": {},
   "outputs": [],
   "source": [
    "%matplotlib qt\n",
    "import atomap.api as am"
   ]
  },
  {
   "cell_type": "code",
   "execution_count": 16,
   "metadata": {},
   "outputs": [],
   "source": [
    "ref_hs = hs.signals.Signal2D(phase_ideal_bin)\n",
    "ref_hs.plot()"
   ]
  },
  {
   "cell_type": "code",
   "execution_count": 17,
   "metadata": {},
   "outputs": [
    {
     "name": "stderr",
     "output_type": "stream",
     "text": [
      "Center of mass: 100%|██████████| 282/282 [00:00<00:00, 5349.39it/s]\n",
      "Gaussian fitting: 100%|██████████| 282/282 [00:05<00:00, 48.75it/s]\n"
     ]
    }
   ],
   "source": [
    "# Getting the reference positions\n",
    "ref_hs = hs.signals.Signal2D(phase_ideal_bin)\n",
    "# ref_hs_crop = ref_hs.isig[5:70,5:70]\n",
    "ref_atom_positions = am.get_atom_positions(ref_hs, separation=4)\n",
    "ref_sublattice = am.Sublattice(ref_atom_positions, image=ref_hs.data)\n",
    "ref_sublattice.find_nearest_neighbors()\n",
    "ref_sublattice.refine_atom_positions_using_center_of_mass()\n",
    "ref_sublattice.refine_atom_positions_using_2d_gaussian()\n",
    "ref_atom_list = ref_sublattice.atom_list"
   ]
  },
  {
   "cell_type": "code",
   "execution_count": 18,
   "metadata": {},
   "outputs": [],
   "source": [
    "ref_sublattice.plot()"
   ]
  },
  {
   "cell_type": "code",
   "execution_count": 19,
   "metadata": {},
   "outputs": [
    {
     "data": {
      "text/plain": [
       "5.891599456829207"
      ]
     },
     "execution_count": 19,
     "metadata": {},
     "output_type": "execute_result"
    }
   ],
   "source": [
    "# This is not returning the same value as e!\n",
    "ref_atom_list[0].amplitude_gaussian "
   ]
  },
  {
   "cell_type": "code",
   "execution_count": 20,
   "metadata": {},
   "outputs": [
    {
     "data": {
      "text/plain": [
       "134.14714481805655"
      ]
     },
     "execution_count": 20,
     "metadata": {},
     "output_type": "execute_result"
    }
   ],
   "source": [
    "ref_atom_list[0].pixel_x"
   ]
  },
  {
   "cell_type": "code",
   "execution_count": 21,
   "metadata": {},
   "outputs": [
    {
     "data": {
      "text/plain": [
       "1.2057729108139426"
      ]
     },
     "execution_count": 21,
     "metadata": {},
     "output_type": "execute_result"
    }
   ],
   "source": [
    "ref_atom_list[0].sigma_average"
   ]
  },
  {
   "cell_type": "code",
   "execution_count": 22,
   "metadata": {},
   "outputs": [
    {
     "name": "stdout",
     "output_type": "stream",
     "text": [
      "Number of atoms in reference:  282\n"
     ]
    }
   ],
   "source": [
    "ref_coord = []\n",
    "for i in range(len(ref_atom_list)):\n",
    "    \n",
    "    ref_coord.append(list((ref_atom_list[i].pixel_x,\n",
    "                    ref_atom_list[i].pixel_y,\n",
    "                    ref_atom_list[i].sigma_average,\n",
    "                    ref_atom_list[i].amplitude_gaussian)))\n",
    "\n",
    "ref_coord = np.asarray(ref_coord)\n",
    "print('Number of atoms in reference: ', ref_coord.shape[0])\n"
   ]
  },
  {
   "cell_type": "code",
   "execution_count": 23,
   "metadata": {},
   "outputs": [],
   "source": [
    "np.save('ground_truth_positions', ref_coord)"
   ]
  },
  {
   "cell_type": "code",
   "execution_count": 24,
   "metadata": {},
   "outputs": [],
   "source": [
    "# Getting the experimental positions and comparison\n"
   ]
  },
  {
   "cell_type": "code",
   "execution_count": 25,
   "metadata": {},
   "outputs": [],
   "source": [
    "# Calculating the sampling factor directly from the json dicts\n",
    "rows = len(data_list_of_dicts[0])\n",
    "cols = len(conv_angles)\n",
    "sampling_factors = []\n",
    "#print(rows, cols)\n",
    "for idx in range(rows):    \n",
    "      for idy in range(cols): \n",
    "            l = epsic.ptycho_utils.e_lambda(data_list_of_dicts[idy][idx]['process']['common']['source']['energy'][0])\n",
    "            CL = data_list_of_dicts[idy][idx]['process']['common']['detector']['distance']\n",
    "            det_pix_array = data_list_of_dicts[idy][idx]['process']['common']['detector']['crop']\n",
    "            det_pitch = data_list_of_dicts[idy][idx]['process']['common']['detector']['pix_pitch'][0]\n",
    "            num_probe_pos = data_list_of_dicts[idy][idx]['process']['common']['scan']['N'][0]\n",
    "            probe_semi_angle = data_list_of_dicts[idy][idx]['process']['common']['probe']['convergence']\n",
    "            probe_step_size = data_list_of_dicts[idy][idx]['process']['common']['scan']['dR'][0]\n",
    "            defocus = data_list_of_dicts[idy][idx]['experiment']['optics']['lens']['defocus'][0]\n",
    "            \n",
    "            recon_pix_size = l * CL / (det_pix_array[0] * det_pitch)\n",
    "            probe_rad = epsic.sim_utils.calc_probe_size(recon_pix_size, det_pix_array, l, defocus, probe_semi_angle, plot_probe=False)\n",
    "            s = epsic.ptycho_utils.get_sampling_factor( recon_pix_size * det_pix_array[0], 2 * probe_rad, num_probe_pos, probe_step_size)\n",
    "            sampling_factors.append(s)\n",
    "            \n",
    "            data_list_of_dicts[idy][idx]['sampling_factor'] = s"
   ]
  },
  {
   "cell_type": "code",
   "execution_count": 26,
   "metadata": {},
   "outputs": [
    {
     "name": "stderr",
     "output_type": "stream",
     "text": [
      "Center of mass: 100%|██████████| 271/271 [00:00<00:00, 5385.36it/s]\n",
      "Gaussian fitting: 100%|██████████| 271/271 [00:08<00:00, 30.82it/s]\n",
      "Center of mass: 100%|██████████| 278/278 [00:00<00:00, 5469.07it/s]\n",
      "Gaussian fitting: 100%|██████████| 278/278 [00:07<00:00, 35.77it/s]\n",
      "Center of mass: 100%|██████████| 266/266 [00:00<00:00, 6357.94it/s]\n",
      "Gaussian fitting: 100%|██████████| 266/266 [00:09<00:00, 28.93it/s]\n",
      "Center of mass: 100%|██████████| 276/276 [00:00<00:00, 6323.76it/s]\n",
      "Gaussian fitting: 100%|██████████| 276/276 [00:08<00:00, 34.04it/s]\n",
      "Center of mass: 100%|██████████| 301/301 [00:00<00:00, 5476.64it/s]\n",
      "Gaussian fitting: 100%|██████████| 301/301 [00:09<00:00, 31.28it/s]\n",
      "Center of mass: 100%|██████████| 272/272 [00:00<00:00, 6547.13it/s]\n",
      "Gaussian fitting: 100%|██████████| 272/272 [00:08<00:00, 33.63it/s]\n",
      "Center of mass: 100%|██████████| 296/296 [00:00<00:00, 6178.32it/s]\n",
      "Gaussian fitting: 100%|██████████| 296/296 [00:09<00:00, 31.94it/s]\n",
      "Center of mass: 100%|██████████| 285/285 [00:00<00:00, 6291.69it/s]\n",
      "Gaussian fitting: 100%|██████████| 285/285 [00:09<00:00, 31.03it/s]\n",
      "Center of mass: 100%|██████████| 279/279 [00:00<00:00, 5425.43it/s]\n",
      "Gaussian fitting: 100%|██████████| 279/279 [00:06<00:00, 46.39it/s]\n",
      "Center of mass: 100%|██████████| 278/278 [00:00<00:00, 5733.36it/s]\n",
      "Gaussian fitting: 100%|██████████| 278/278 [00:06<00:00, 43.37it/s]\n",
      "Center of mass: 100%|██████████| 258/258 [00:00<00:00, 6166.79it/s]\n",
      "Gaussian fitting: 100%|██████████| 258/258 [00:06<00:00, 40.58it/s]\n",
      "Center of mass: 100%|██████████| 270/270 [00:00<00:00, 6439.31it/s]\n",
      "Gaussian fitting: 100%|██████████| 270/270 [00:06<00:00, 44.43it/s]\n",
      "Center of mass: 100%|██████████| 284/284 [00:00<00:00, 5192.46it/s]\n",
      "Gaussian fitting: 100%|██████████| 284/284 [00:06<00:00, 40.88it/s]\n",
      "Center of mass: 100%|██████████| 285/285 [00:00<00:00, 6294.77it/s]\n",
      "Gaussian fitting: 100%|██████████| 285/285 [00:10<00:00, 27.10it/s]\n",
      "Center of mass: 100%|██████████| 288/288 [00:00<00:00, 6316.06it/s]\n",
      "Gaussian fitting: 100%|██████████| 288/288 [00:09<00:00, 31.54it/s]\n",
      "Center of mass: 100%|██████████| 287/287 [00:00<00:00, 5598.86it/s]\n",
      "Gaussian fitting: 100%|██████████| 287/287 [00:09<00:00, 30.09it/s]\n",
      "Center of mass: 100%|██████████| 281/281 [00:00<00:00, 6201.85it/s]\n",
      "Gaussian fitting: 100%|██████████| 281/281 [00:06<00:00, 40.37it/s]\n",
      "Center of mass: 100%|██████████| 286/286 [00:00<00:00, 6154.90it/s]\n",
      "Gaussian fitting: 100%|██████████| 286/286 [00:08<00:00, 33.72it/s]\n",
      "Center of mass: 100%|██████████| 272/272 [00:00<00:00, 6149.04it/s]\n",
      "Gaussian fitting: 100%|██████████| 272/272 [00:06<00:00, 41.18it/s]\n",
      "Center of mass: 100%|██████████| 254/254 [00:00<00:00, 5093.24it/s]\n",
      "Gaussian fitting: 100%|██████████| 254/254 [00:06<00:00, 41.53it/s]\n",
      "Center of mass: 100%|██████████| 273/273 [00:00<00:00, 6401.66it/s]\n",
      "Gaussian fitting: 100%|██████████| 273/273 [00:07<00:00, 36.52it/s]\n",
      "Center of mass: 100%|██████████| 280/280 [00:00<00:00, 5523.18it/s]\n",
      "Gaussian fitting: 100%|██████████| 280/280 [00:08<00:00, 31.88it/s]\n",
      "Center of mass: 100%|██████████| 275/275 [00:00<00:00, 6285.64it/s]\n",
      "Gaussian fitting: 100%|██████████| 275/275 [00:08<00:00, 33.29it/s]\n",
      "Center of mass: 100%|██████████| 279/279 [00:00<00:00, 6001.48it/s]\n",
      "Gaussian fitting: 100%|██████████| 279/279 [00:08<00:00, 31.49it/s]\n",
      "Center of mass: 100%|██████████| 275/275 [00:00<00:00, 5712.75it/s]\n",
      "Gaussian fitting: 100%|██████████| 275/275 [00:08<00:00, 33.03it/s]\n",
      "Center of mass: 100%|██████████| 270/270 [00:00<00:00, 6375.76it/s]\n",
      "Gaussian fitting: 100%|██████████| 270/270 [00:07<00:00, 34.79it/s]\n",
      "Center of mass: 100%|██████████| 259/259 [00:00<00:00, 6488.27it/s]\n",
      "Gaussian fitting: 100%|██████████| 259/259 [00:10<00:00, 25.68it/s]\n",
      "Center of mass: 100%|██████████| 272/272 [00:00<00:00, 6225.24it/s]\n",
      "Gaussian fitting: 100%|██████████| 272/272 [00:07<00:00, 34.64it/s]\n",
      "Center of mass: 100%|██████████| 272/272 [00:00<00:00, 5363.46it/s]\n",
      "Gaussian fitting: 100%|██████████| 272/272 [00:05<00:00, 46.00it/s]\n",
      "Center of mass: 100%|██████████| 257/257 [00:00<00:00, 6148.57it/s]\n",
      "Gaussian fitting: 100%|██████████| 257/257 [00:05<00:00, 43.44it/s]\n",
      "Center of mass: 100%|██████████| 254/254 [00:00<00:00, 5927.78it/s]\n",
      "Gaussian fitting: 100%|██████████| 254/254 [00:07<00:00, 34.70it/s]\n",
      "Center of mass: 100%|██████████| 274/274 [00:00<00:00, 5631.48it/s]\n",
      "Gaussian fitting: 100%|██████████| 274/274 [00:08<00:00, 31.48it/s]\n",
      "Center of mass: 100%|██████████| 231/231 [00:00<00:00, 5119.03it/s]\n",
      "Gaussian fitting: 100%|██████████| 231/231 [00:05<00:00, 44.27it/s]\n",
      "Center of mass: 100%|██████████| 241/241 [00:00<00:00, 6196.15it/s]\n",
      "Gaussian fitting: 100%|██████████| 241/241 [00:05<00:00, 47.57it/s]\n",
      "Center of mass: 100%|██████████| 218/218 [00:00<00:00, 6147.07it/s]\n",
      "Gaussian fitting: 100%|██████████| 218/218 [00:04<00:00, 47.23it/s]\n",
      "Center of mass: 100%|██████████| 229/229 [00:00<00:00, 5850.58it/s]\n",
      "Gaussian fitting: 100%|██████████| 229/229 [00:05<00:00, 44.52it/s]\n",
      "Center of mass: 100%|██████████| 252/252 [00:00<00:00, 6038.31it/s]\n",
      "Gaussian fitting: 100%|██████████| 252/252 [00:05<00:00, 43.84it/s]\n",
      "Center of mass: 100%|██████████| 284/284 [00:00<00:00, 4814.76it/s]\n",
      "Gaussian fitting: 100%|██████████| 284/284 [00:06<00:00, 46.92it/s]\n",
      "Center of mass: 100%|██████████| 279/279 [00:00<00:00, 5477.26it/s]\n",
      "Gaussian fitting: 100%|██████████| 279/279 [00:05<00:00, 46.96it/s]\n",
      "Center of mass: 100%|██████████| 282/282 [00:00<00:00, 6185.29it/s]\n",
      "Gaussian fitting: 100%|██████████| 282/282 [00:06<00:00, 46.35it/s]\n",
      "Center of mass: 100%|██████████| 217/217 [00:00<00:00, 5157.82it/s]\n",
      "Gaussian fitting: 100%|██████████| 217/217 [00:04<00:00, 45.93it/s]\n",
      "Center of mass: 100%|██████████| 219/219 [00:00<00:00, 5429.99it/s]\n",
      "Gaussian fitting: 100%|██████████| 219/219 [00:05<00:00, 41.79it/s]\n",
      "Center of mass: 100%|██████████| 244/244 [00:00<00:00, 6389.17it/s]\n",
      "Gaussian fitting: 100%|██████████| 244/244 [00:05<00:00, 47.90it/s]\n",
      "Center of mass: 100%|██████████| 272/272 [00:00<00:00, 5590.40it/s]\n",
      "Gaussian fitting: 100%|██████████| 272/272 [00:05<00:00, 47.56it/s]\n",
      "Center of mass: 100%|██████████| 271/271 [00:00<00:00, 6280.49it/s]\n",
      "Gaussian fitting: 100%|██████████| 271/271 [00:05<00:00, 45.17it/s]\n",
      "Center of mass: 100%|██████████| 279/279 [00:00<00:00, 3602.90it/s]\n",
      "Gaussian fitting: 100%|██████████| 279/279 [00:06<00:00, 46.20it/s]\n",
      "Center of mass: 100%|██████████| 285/285 [00:00<00:00, 6231.79it/s]\n",
      "Gaussian fitting: 100%|██████████| 285/285 [00:06<00:00, 46.09it/s]\n",
      "Center of mass: 100%|██████████| 278/278 [00:00<00:00, 6061.35it/s]\n",
      "Gaussian fitting: 100%|██████████| 278/278 [00:05<00:00, 46.67it/s]\n",
      "Center of mass: 100%|██████████| 230/230 [00:00<00:00, 5556.78it/s]\n",
      "Gaussian fitting: 100%|██████████| 230/230 [00:05<00:00, 44.46it/s]\n",
      "Center of mass: 100%|██████████| 259/259 [00:00<00:00, 5838.16it/s]\n",
      "Gaussian fitting: 100%|██████████| 259/259 [00:05<00:00, 47.08it/s]\n",
      "Center of mass: 100%|██████████| 272/272 [00:00<00:00, 5795.62it/s]\n",
      "Gaussian fitting: 100%|██████████| 272/272 [00:05<00:00, 47.59it/s]\n",
      "Center of mass: 100%|██████████| 271/271 [00:00<00:00, 5640.75it/s]\n",
      "Gaussian fitting: 100%|██████████| 271/271 [00:05<00:00, 47.21it/s]\n",
      "Center of mass: 100%|██████████| 279/279 [00:00<00:00, 6219.53it/s]\n",
      "Gaussian fitting: 100%|██████████| 279/279 [00:06<00:00, 46.07it/s]\n",
      "Center of mass: 100%|██████████| 279/279 [00:00<00:00, 5957.70it/s]\n",
      "Gaussian fitting: 100%|██████████| 279/279 [00:05<00:00, 48.45it/s]\n",
      "Center of mass: 100%|██████████| 280/280 [00:00<00:00, 6310.71it/s]\n",
      "Gaussian fitting: 100%|██████████| 280/280 [00:06<00:00, 45.39it/s]\n",
      "Center of mass: 100%|██████████| 281/281 [00:00<00:00, 5866.48it/s]\n",
      "Gaussian fitting: 100%|██████████| 281/281 [00:06<00:00, 45.93it/s]\n",
      "Center of mass: 100%|██████████| 263/263 [00:00<00:00, 6568.43it/s]\n",
      "Gaussian fitting: 100%|██████████| 263/263 [00:05<00:00, 46.39it/s]\n",
      "Center of mass: 100%|██████████| 261/261 [00:00<00:00, 5835.08it/s]\n",
      "Gaussian fitting: 100%|██████████| 261/261 [00:05<00:00, 48.53it/s]\n",
      "Center of mass: 100%|██████████| 273/273 [00:00<00:00, 6114.15it/s]\n",
      "Gaussian fitting: 100%|██████████| 273/273 [00:05<00:00, 48.32it/s]\n",
      "Center of mass: 100%|██████████| 270/270 [00:00<00:00, 6129.27it/s]\n",
      "Gaussian fitting: 100%|██████████| 270/270 [00:05<00:00, 49.58it/s]\n",
      "Center of mass: 100%|██████████| 278/278 [00:00<00:00, 5942.15it/s]\n",
      "Gaussian fitting: 100%|██████████| 278/278 [00:06<00:00, 44.62it/s]\n",
      "Center of mass: 100%|██████████| 282/282 [00:00<00:00, 5738.24it/s]\n",
      "Gaussian fitting: 100%|██████████| 282/282 [00:06<00:00, 45.61it/s]\n",
      "Center of mass: 100%|██████████| 236/236 [00:00<00:00, 6166.56it/s]\n",
      "Gaussian fitting: 100%|██████████| 236/236 [00:05<00:00, 43.28it/s]\n",
      "Center of mass: 100%|██████████| 254/254 [00:00<00:00, 6085.26it/s]\n",
      "Gaussian fitting: 100%|██████████| 254/254 [00:06<00:00, 41.06it/s]\n"
     ]
    }
   ],
   "source": [
    "rows = len(data_list_of_dicts[0])\n",
    "cols = len(conv_angles)\n",
    "\n",
    "for idx in range(rows):    \n",
    "      for idy in range(cols): \n",
    "            obj = epsic.ptycho_utils.crop_recon_obj(data_list_of_dicts[idy][idx]['json_path'])\n",
    "            img = abs(np.min(np.angle(obj))) + np.angle(obj)\n",
    "            sh0 = img.shape[0]\n",
    "            sh1 = phase_ideal_bin.shape[0]\n",
    "            img_crop = img[int(sh0/2 - sh1/2):int(sh0/2 + sh1/2), int(sh0/2 - sh1/2):int(sh0/2 + sh1/2)]\n",
    "            shift, error, diffphase = register_translation(phase_ideal_bin, img_crop)\n",
    "            offset_img = fourier_shift(np.fft.fftn(img_crop), shift)\n",
    "            offset_img = np.real(np.fft.ifftn(offset_img))\n",
    "\n",
    "            img_hs = hs.signals.Signal2D(offset_img)\n",
    "#             img_hs_crop = img_hs.isig[5:70,5:70]\n",
    "\n",
    "\n",
    "            exp_positions = am.get_atom_positions(img_hs, separation=4)\n",
    "            exp_sublattice = am.Sublattice(exp_positions, image=img_hs.data)\n",
    "\n",
    "            exp_sublattice.find_nearest_neighbors()\n",
    "            exp_sublattice.refine_atom_positions_using_center_of_mass()\n",
    "            exp_sublattice.refine_atom_positions_using_2d_gaussian()\n",
    "\n",
    "            exp_atom_list = exp_sublattice.atom_list\n",
    "\n",
    "\n",
    "            exp_coord = []\n",
    "            for i in range(len(exp_atom_list)):\n",
    "\n",
    "                exp_coord.append(list((exp_atom_list[i].pixel_x,\n",
    "                                exp_atom_list[i].pixel_y,\n",
    "                                exp_atom_list[i].sigma_average,\n",
    "                                exp_atom_list[i].amplitude_gaussian)))\n",
    "\n",
    "            exp_coord = np.asarray(exp_coord)\n",
    "            data_list_of_dicts[idy][idx]['atom_pos'] = exp_coord\n",
    "\n",
    "          "
   ]
  },
  {
   "cell_type": "code",
   "execution_count": 27,
   "metadata": {},
   "outputs": [],
   "source": [
    "# identified atom positions versus the known positions\n",
    "rows = len(data_list_of_dicts[0])\n",
    "cols = len(conv_angles)\n",
    "#print(rows, cols)\n",
    "# fig, axs = plt.subplots(nrows=rows, ncols=cols, sharex=True, sharey=True,figsize=(8, 11))\n",
    "fig, axs = plt.subplots(nrows=rows, ncols=cols, figsize=(8, 11))\n",
    "\n",
    "for idx in range(rows):    \n",
    "      for idy in range(cols): \n",
    "            try:\n",
    "                j_dict = epsic.sim_utils.json_to_dict_sim(data_list_of_dicts[idy][idx]['json_path'])\n",
    "                exp_coord = data_list_of_dicts[idy][idx]['atom_pos']\n",
    "                \n",
    "                missed_atoms = ref_coord.shape[0] - exp_coord.shape[0]\n",
    "                s = data_list_of_dicts[idy][idx]['sampling_factor']\n",
    "                axs[idx,idy].scatter(ref_coord[:,0], ref_coord[:,1], s = 1, c = 'g')\n",
    "                axs[idx,idy].scatter(exp_coord[:,0], exp_coord[:,1], s = 1, c = 'r')\n",
    "                axs[idx,idy].set_xticks([])\n",
    "                axs[idx,idy].set_yticks([])\n",
    "                axs[idx,idy].set_title(str(missed_atoms) + '       ' + str(np.round(s,1)), color = 'black', fontsize = 7)\n",
    "\n",
    "            except IndexError:\n",
    "                pass\n",
    "fig.tight_layout(pad = 1.0)            "
   ]
  },
  {
   "cell_type": "code",
   "execution_count": 28,
   "metadata": {},
   "outputs": [
    {
     "data": {
      "text/plain": [
       "[<matplotlib.lines.Line2D at 0x7f7b544be390>]"
      ]
     },
     "execution_count": 28,
     "metadata": {},
     "output_type": "execute_result"
    }
   ],
   "source": [
    "plt.figure()\n",
    "plt.plot(sampling_factors)"
   ]
  },
  {
   "cell_type": "code",
   "execution_count": 29,
   "metadata": {},
   "outputs": [
    {
     "data": {
      "text/plain": [
       "<matplotlib.collections.PathCollection at 0x7f7b47aad650>"
      ]
     },
     "execution_count": 29,
     "metadata": {},
     "output_type": "execute_result"
    }
   ],
   "source": [
    "# plotting individual dataset\n",
    "plt.figure()\n",
    "plt.scatter(ref_coord[:,0], ref_coord[:,1], s = 5, c = 'g')\n",
    "exp_pos = data_list_of_dicts[7][7]['atom_pos']\n",
    "plt.scatter(exp_pos[:,0], exp_pos[:,1], s = 5, c = 'r')"
   ]
  },
  {
   "cell_type": "code",
   "execution_count": null,
   "metadata": {},
   "outputs": [],
   "source": []
  },
  {
   "cell_type": "code",
   "execution_count": 32,
   "metadata": {},
   "outputs": [],
   "source": [
    "# Saving the fitted data into hdf file\n",
    "results_folder = '/dls/science/groups/e02/Mohsen/code/Git_Repos/Staff-notebooks/ptyREX_sim_matrix/fitting_results'\n",
    "\n",
    "rows = len(data_list_of_dicts[0])\n",
    "cols = len(conv_angles)\n",
    "for idx in range(rows):    \n",
    "      for idy in range(cols): \n",
    "            h5_file_name = os.path.join(results_folder, data_list_of_dicts[idy][idx]['json_path'].split('/')[-2] + '.h5')\n",
    "            save_dict_to_hdf5(data_list_of_dicts[idy][idx], h5_file_name)"
   ]
  },
  {
   "cell_type": "code",
   "execution_count": 33,
   "metadata": {},
   "outputs": [],
   "source": [
    "dd = load_dict_from_hdf5('/dls/science/groups/e02/Mohsen/code/Git_Repos/Staff-notebooks/ptyREX_sim_matrix/fitting_results/graphene_512_64matrix/Graphene_defect_8.0mrad_281.75A_def_2.18A_step_size.h5')\n"
   ]
  },
  {
   "cell_type": "code",
   "execution_count": 34,
   "metadata": {},
   "outputs": [
    {
     "data": {
      "text/plain": [
       "{'atom_pos': array([[121.41388905, 163.86922113,   1.68823719,   0.72288737],\n",
       "        [113.00532043, 164.16584041,   1.70654456,   1.05055257],\n",
       "        [ 96.50912662, 164.13181785,   1.97042467,   1.20076947],\n",
       "        ...,\n",
       "        [ 98.23902267,  10.10589817,   1.55754718,   0.49673928],\n",
       "        [ 89.56400168,  10.0962495 ,   1.78996969,   0.84017837],\n",
       "        [ 64.93901982,  10.33318438,   1.76751978,   0.82241142]]),\n",
       " 'base_dir': '/dls/e02/data/2020/cm26481-1/processing/pty_simulated_data_MD/sim_matrix_ptyREX_4June2020_512pixArray/Graphene_defect_8.0mrad_281.75A_def_2.18A_step_size',\n",
       " 'experiment': {'data': {'data_path': '/dls/e02/data/2020/cm26481-1/processing/pty_simulated_data_MD/sim_matrix_ptyREX_4June2020_512pixArray/Graphene_defect_8.0mrad_281.75A_def_2.18A_step_size/Graphene_defect_8.0mrad_281.75A_def_2.18A_step_size.h5',\n",
       "   'dead_pixel_flag': 0,\n",
       "   'flat_field_flag': 0,\n",
       "   'key': '4DSTEM_simulation/data/datacubes/hdose_noisy_data',\n",
       "   'load_flag': 1,\n",
       "   'meta_type': 'hdf'},\n",
       "  'detector': {'position': array([0.        , 0.        , 0.11470963])},\n",
       "  'optics': {'FZP': {'use': 0},\n",
       "   'diffuser': {'use': 0},\n",
       "   'lens': {'alpha': 0.016,\n",
       "    'defocus': array([2.81752e-08, 2.81752e-08]),\n",
       "    'use': 1},\n",
       "   'pinhole': {'use': 0}},\n",
       "  'sample': {'position': array([0, 0, 0])}},\n",
       " 'json_path': '/dls/e02/data/2020/cm26481-1/processing/pty_simulated_data_MD/sim_matrix_ptyREX_4June2020_512pixArray/Graphene_defect_8.0mrad_281.75A_def_2.18A_step_size/2000iter_20200604-155413.json',\n",
       " 'process': {'PIE': {'iterations': 2000},\n",
       "  'common': {'detector': {'bin': array([1, 1]),\n",
       "    'crop': array([512, 512]),\n",
       "    'distance': 0.11470962889594202,\n",
       "    'mask_flag': 0,\n",
       "    'min_max': array([      0, 1000000]),\n",
       "    'optic_axis': array([256., 256.]),\n",
       "    'orientation': '00',\n",
       "    'pix_pitch': array([5.5e-05, 5.5e-05])},\n",
       "   'object': {'load_flag': 0},\n",
       "   'probe': {'aperture_shape': 'circ',\n",
       "    'aperture_size': 0.0009176770311675361,\n",
       "    'convergence': 0.016,\n",
       "    'diffuser': 0,\n",
       "    'distance': -1,\n",
       "    'focal_dist': -1,\n",
       "    'load_flag': 0},\n",
       "   'scan': {'N': array([13, 13]),\n",
       "    'dR': array([2.17692e-10, 2.17692e-10]),\n",
       "    'fast_axis': 1,\n",
       "    'load_flag': 0,\n",
       "    'orientation': '00',\n",
       "    'rotation': 0,\n",
       "    'type': 'tv'},\n",
       "   'source': {'energy': array([80000]), 'flux': -1, 'radiation': 'electron'}},\n",
       "  'cores': 1,\n",
       "  'gpu_flag': 1,\n",
       "  'save_dir': '/dls/e02/data/2020/cm26481-1/processing/pty_simulated_data_MD/sim_matrix_ptyREX_4June2020_512pixArray/Graphene_defect_8.0mrad_281.75A_def_2.18A_step_size',\n",
       "  'save_interval': 10},\n",
       " 'sampling_factor': 8.747865673433239,\n",
       " 'sim_path': '/dls/e02/data/2020/cm26481-1/processing/pty_simulated_data_MD/sim_matrix_ptyREX_4June2020_512pixArray/Graphene_defect_8.0mrad_281.75A_def_2.18A_step_size/Graphene_defect_8.0mrad_281.75A_def_2.18A_step_size.h5'}"
      ]
     },
     "execution_count": 34,
     "metadata": {},
     "output_type": "execute_result"
    }
   ],
   "source": [
    "dd"
   ]
  },
  {
   "cell_type": "code",
   "execution_count": 31,
   "metadata": {},
   "outputs": [],
   "source": [
    "# Saving the atomic fitting data\n",
    "import numpy as np\n",
    "import h5py\n",
    "import os\n",
    "def save_dict_to_hdf5(dic, filename):\n",
    "    \"\"\"\n",
    "    ....\n",
    "    \"\"\"\n",
    "    if os.path.exists(filename):\n",
    "        with h5py.File(filename, 'a') as h5file:\n",
    "            recursively_save_dict_contents_to_group(h5file, '/', dic)\n",
    "    else:\n",
    "        \n",
    "        with h5py.File(filename, 'w') as h5file:\n",
    "            recursively_save_dict_contents_to_group(h5file, '/', dic)\n",
    "\n",
    "def recursively_save_dict_contents_to_group(h5file, path, dic):\n",
    "    \"\"\"\n",
    "    ....\n",
    "    \"\"\"\n",
    "    for key, item in dic.items():\n",
    "        if isinstance(item, (np.ndarray, list, float, int, str)):\n",
    "            h5file[path + key] = item\n",
    "        elif isinstance(item, dict):\n",
    "            recursively_save_dict_contents_to_group(h5file, path + key + '/', item)\n",
    "\n",
    "            \n",
    "def load_dict_from_hdf5(filename):\n",
    "    \"\"\"\n",
    "    ....\n",
    "    \"\"\"\n",
    "    with h5py.File(filename, 'r') as h5file:\n",
    "        return recursively_load_dict_contents_from_group(h5file, '/')\n",
    "\n",
    "def recursively_load_dict_contents_from_group(h5file, path):\n",
    "    \"\"\"\n",
    "    ....\n",
    "    \"\"\"\n",
    "    ans = {}\n",
    "    for key, item in h5file[path].items():\n",
    "        if isinstance(item, h5py._hl.dataset.Dataset):\n",
    "            ans[key] = item[()]\n",
    "        elif isinstance(item, h5py._hl.group.Group):\n",
    "            ans[key] = recursively_load_dict_contents_from_group(h5file, path + key + '/')\n",
    "    return ans"
   ]
  },
  {
   "cell_type": "markdown",
   "metadata": {},
   "source": [
    "# Trials on single datasets"
   ]
  },
  {
   "cell_type": "code",
   "execution_count": 25,
   "metadata": {},
   "outputs": [],
   "source": [
    "ref_hs = hs.signals.Signal2D(phase_ideal_bin)\n",
    "ref_hs_crop = ref_hs.isig[5:70,5:70]\n",
    "ref_hs_crop.plot()"
   ]
  },
  {
   "cell_type": "code",
   "execution_count": 36,
   "metadata": {},
   "outputs": [
    {
     "name": "stderr",
     "output_type": "stream",
     "text": [
      "100%|██████████| 18/18 [00:00<00:00, 328.02it/s]\n",
      "100%|██████████| 280/280 [00:00<00:00, 3478.03it/s]\n"
     ]
    }
   ],
   "source": [
    "s_peaks = am.get_feature_separation(ref_hs_crop, separation_range=(2, 20))"
   ]
  },
  {
   "cell_type": "code",
   "execution_count": 37,
   "metadata": {},
   "outputs": [],
   "source": [
    "s_peaks.plot()"
   ]
  },
  {
   "cell_type": "code",
   "execution_count": 236,
   "metadata": {},
   "outputs": [],
   "source": [
    "ref_atom_positions = am.get_atom_positions(ref_hs_crop, separation=2)"
   ]
  },
  {
   "cell_type": "code",
   "execution_count": 237,
   "metadata": {},
   "outputs": [],
   "source": [
    "ref_sublattice = am.Sublattice(ref_atom_positions, image=ref_hs_crop.data)"
   ]
  },
  {
   "cell_type": "code",
   "execution_count": 238,
   "metadata": {},
   "outputs": [
    {
     "data": {
      "text/plain": [
       "<Sublattice,  (atoms:149,planes:0)>"
      ]
     },
     "execution_count": 238,
     "metadata": {},
     "output_type": "execute_result"
    }
   ],
   "source": [
    "ref_sublattice"
   ]
  },
  {
   "cell_type": "code",
   "execution_count": 239,
   "metadata": {},
   "outputs": [
    {
     "name": "stderr",
     "output_type": "stream",
     "text": [
      "Center of mass: 100%|██████████| 149/149 [00:00<00:00, 1791.21it/s]\n",
      "Gaussian fitting: 100%|██████████| 149/149 [00:10<00:00, 14.47it/s]\n"
     ]
    }
   ],
   "source": [
    "ref_sublattice.find_nearest_neighbors()\n",
    "ref_sublattice.refine_atom_positions_using_center_of_mass()\n",
    "ref_sublattice.refine_atom_positions_using_2d_gaussian()"
   ]
  },
  {
   "cell_type": "code",
   "execution_count": 240,
   "metadata": {},
   "outputs": [
    {
     "name": "stderr",
     "output_type": "stream",
     "text": [
      "100%|██████████| 149/149 [00:00<00:00, 2943.29it/s]\n"
     ]
    }
   ],
   "source": [
    "ref_sublattice.get_position_history().plot()"
   ]
  },
  {
   "cell_type": "code",
   "execution_count": 241,
   "metadata": {},
   "outputs": [],
   "source": [
    "ref_atom_list = ref_sublattice.atom_list"
   ]
  },
  {
   "cell_type": "code",
   "execution_count": 242,
   "metadata": {},
   "outputs": [
    {
     "data": {
      "text/plain": [
       "<Atom_Position,  (x:61.7,y:61.1,sx:0.7,sy:0.6,r:1.9,e:1.2)>"
      ]
     },
     "execution_count": 242,
     "metadata": {},
     "output_type": "execute_result"
    }
   ],
   "source": [
    "ref_atom_list[0]"
   ]
  },
  {
   "cell_type": "code",
   "execution_count": 176,
   "metadata": {},
   "outputs": [
    {
     "data": {
      "text/plain": [
       "{'process': {'gpu_flag': 1,\n",
       "  'save_interval': 10,\n",
       "  'PIE': {'iterations': 2000},\n",
       "  'common': {'source': {'flux': -1,\n",
       "    'energy': [80000],\n",
       "    'radiation': 'electron'},\n",
       "   'detector': {'bin': [1, 1],\n",
       "    'distance': 0.11470962889594202,\n",
       "    'orientation': '00',\n",
       "    'min_max': [0, 1000000],\n",
       "    'crop': [512, 512],\n",
       "    'mask_flag': 0,\n",
       "    'optic_axis': [256.0, 256.0],\n",
       "    'pix_pitch': [5.5e-05, 5.5e-05]},\n",
       "   'probe': {'distance': -1,\n",
       "    'aperture_size': 0.0028677407223985504,\n",
       "    'focal_dist': -1,\n",
       "    'load_flag': 0,\n",
       "    'diffuser': 0,\n",
       "    'convergence': 0.05,\n",
       "    'aperture_shape': 'circ'},\n",
       "   'object': {'load_flag': 0},\n",
       "   'scan': {'fast_axis': 1,\n",
       "    'orientation': '00',\n",
       "    'type': 'tv',\n",
       "    'N': [13, 13],\n",
       "    'load_flag': 0,\n",
       "    'rotation': 0,\n",
       "    'dR': [2.1737000000000002e-10, 2.1737000000000002e-10]}},\n",
       "  'save_dir': '/dls/e02/data/2020/cm26481-1/processing/pty_simulated_data_MD/sim_matrix_ptyREX_4June2020_512pixArray/Graphene_defect_25.0mrad_181.36A_def_2.17A_step_size',\n",
       "  'cores': 1},\n",
       " 'experiment': {'sample': {'position': [0, 0, 0]},\n",
       "  'optics': {'lens': {'defocus': [1.8135900000000002e-08,\n",
       "     1.8135900000000002e-08],\n",
       "    'alpha': 0.05,\n",
       "    'use': 1},\n",
       "   'pinhole': {'use': 0},\n",
       "   'FZP': {'use': 0},\n",
       "   'diffuser': {'use': 0}},\n",
       "  'detector': {'position': [0, 0, 0.11470962889594202]},\n",
       "  'data': {'dead_pixel_flag': 0,\n",
       "   'data_path': '/dls/e02/data/2020/cm26481-1/processing/pty_simulated_data_MD/sim_matrix_ptyREX_4June2020_512pixArray/Graphene_defect_25.0mrad_181.36A_def_2.17A_step_size/Graphene_defect_25.0mrad_181.36A_def_2.17A_step_size.h5',\n",
       "   'meta_type': 'hdf',\n",
       "   'key': '4DSTEM_simulation/data/datacubes/hdose_noisy_data',\n",
       "   'load_flag': 1,\n",
       "   'flat_field_flag': 0}},\n",
       " 'base_dir': '/dls/e02/data/2020/cm26481-1/processing/pty_simulated_data_MD/sim_matrix_ptyREX_4June2020_512pixArray/Graphene_defect_25.0mrad_181.36A_def_2.17A_step_size',\n",
       " 'json_path': '/dls/e02/data/2020/cm26481-1/processing/pty_simulated_data_MD/sim_matrix_ptyREX_4June2020_512pixArray/Graphene_defect_25.0mrad_181.36A_def_2.17A_step_size/2000iter_20200604-155420.json',\n",
       " 'sim_path': '/dls/e02/data/2020/cm26481-1/processing/pty_simulated_data_MD/sim_matrix_ptyREX_4June2020_512pixArray/Graphene_defect_25.0mrad_181.36A_def_2.17A_step_size/Graphene_defect_25.0mrad_181.36A_def_2.17A_step_size.h5',\n",
       " 'atom_pos': array([[161.68821904, 164.40397512,   2.88087499,   3.45808138],\n",
       "        [146.0519949 , 163.71566921,   1.46972364,   0.55848319],\n",
       "        [ 72.83913155, 164.26900931,   1.3725945 ,   0.42495654],\n",
       "        ...,\n",
       "        [ 60.77515737,   3.37201579,   1.69148253,   2.02392036],\n",
       "        [ 36.46536451,   3.57475785,   1.68410643,   1.95912481],\n",
       "        [ 28.46505426,   3.64961524,   1.6439582 ,   2.00195949]]),\n",
       " 'sampling_factor': 8.416889772148036}"
      ]
     },
     "execution_count": 176,
     "metadata": {},
     "output_type": "execute_result"
    }
   ],
   "source": [
    "data_list_of_dicts[5][7]"
   ]
  },
  {
   "cell_type": "code",
   "execution_count": 218,
   "metadata": {},
   "outputs": [
    {
     "data": {
      "text/plain": [
       "<matplotlib.image.AxesImage at 0x7f69c1ab6510>"
      ]
     },
     "execution_count": 218,
     "metadata": {},
     "output_type": "execute_result"
    }
   ],
   "source": [
    "plt.figure()\n",
    "plt.imshow(np.angle(test_obj))"
   ]
  },
  {
   "cell_type": "code",
   "execution_count": 271,
   "metadata": {},
   "outputs": [],
   "source": [
    "test_obj = crop_recon_obj(data_list_of_dicts[0][6]['json_path'])\n",
    "\n",
    "img = abs(np.min(np.angle(test_obj))) + np.angle(test_obj)\n",
    "sh0 = img.shape[0]\n",
    "sh1 = phase_ideal_bin.shape[0]\n",
    "img_crop = img[int(sh0/2 - sh1/2):int(sh0/2 + sh1/2), int(sh0/2 - sh1/2):int(sh0/2 + sh1/2)]\n",
    "shift, error, diffphase = register_translation(phase_ideal_bin, img_crop)\n",
    "offset_img = fourier_shift(np.fft.fftn(img_crop), shift)\n",
    "offset_img = np.real(np.fft.ifftn(offset_img))\n",
    "\n",
    "fig, ax = plt.subplots(1,2)\n",
    "ax[0].imshow(img_crop)\n",
    "ax[1].imshow(np.real(offset_img))\n",
    "\n",
    "img_hs = hs.signals.Signal2D(offset_img)\n",
    "img_hs_crop = img_hs.isig[5:70,5:70]\n",
    "img_hs_crop.plot()"
   ]
  },
  {
   "cell_type": "code",
   "execution_count": 231,
   "metadata": {},
   "outputs": [],
   "source": [
    "img_hs.plot()"
   ]
  },
  {
   "cell_type": "code",
   "execution_count": 272,
   "metadata": {},
   "outputs": [
    {
     "name": "stderr",
     "output_type": "stream",
     "text": [
      "100%|██████████| 18/18 [00:00<00:00, 565.63it/s]\n",
      "100%|██████████| 188/188 [00:00<00:00, 3748.05it/s]\n"
     ]
    }
   ],
   "source": [
    "s_peaks = am.get_feature_separation(img_hs, separation_range=(2, 20))\n",
    "s_peaks.plot()"
   ]
  },
  {
   "cell_type": "code",
   "execution_count": 273,
   "metadata": {},
   "outputs": [],
   "source": [
    "test_positions = am.get_atom_positions(img_hs_crop, separation=2)"
   ]
  },
  {
   "cell_type": "code",
   "execution_count": 274,
   "metadata": {},
   "outputs": [],
   "source": [
    "test_sublattice = am.Sublattice(test_positions, image=img_hs_crop.data)"
   ]
  },
  {
   "cell_type": "code",
   "execution_count": 275,
   "metadata": {},
   "outputs": [
    {
     "data": {
      "text/plain": [
       "<Sublattice,  (atoms:104,planes:0)>"
      ]
     },
     "execution_count": 275,
     "metadata": {},
     "output_type": "execute_result"
    }
   ],
   "source": [
    "test_sublattice"
   ]
  },
  {
   "cell_type": "code",
   "execution_count": 276,
   "metadata": {},
   "outputs": [
    {
     "name": "stderr",
     "output_type": "stream",
     "text": [
      "Center of mass: 100%|██████████| 104/104 [00:00<00:00, 3044.89it/s]\n",
      "Gaussian fitting: 100%|██████████| 104/104 [00:13<00:00,  7.64it/s]\n"
     ]
    }
   ],
   "source": [
    "test_sublattice.find_nearest_neighbors()\n",
    "test_sublattice.refine_atom_positions_using_center_of_mass()\n",
    "test_sublattice.refine_atom_positions_using_2d_gaussian()"
   ]
  },
  {
   "cell_type": "code",
   "execution_count": 184,
   "metadata": {},
   "outputs": [
    {
     "name": "stderr",
     "output_type": "stream",
     "text": [
      "100%|██████████| 239/239 [00:00<00:00, 1313.30it/s]\n"
     ]
    }
   ],
   "source": [
    "test_sublattice.get_position_history().plot()"
   ]
  },
  {
   "cell_type": "code",
   "execution_count": 65,
   "metadata": {},
   "outputs": [],
   "source": [
    "test_sublattice.plot_ellipticity_map()"
   ]
  },
  {
   "cell_type": "code",
   "execution_count": 277,
   "metadata": {},
   "outputs": [],
   "source": [
    "test_atom_list = test_sublattice.atom_list"
   ]
  },
  {
   "cell_type": "code",
   "execution_count": 278,
   "metadata": {},
   "outputs": [],
   "source": [
    "test_sublattice.plot()"
   ]
  },
  {
   "cell_type": "code",
   "execution_count": 279,
   "metadata": {},
   "outputs": [
    {
     "data": {
      "text/plain": [
       "<Atom_Position,  (x:38.6,y:61.8,sx:1.6,sy:2.2,r:0.4,e:1.4)>"
      ]
     },
     "execution_count": 279,
     "metadata": {},
     "output_type": "execute_result"
    }
   ],
   "source": [
    "test_atom_list[0]"
   ]
  },
  {
   "cell_type": "code",
   "execution_count": 280,
   "metadata": {},
   "outputs": [],
   "source": [
    "ref_coord = []\n",
    "test_coord = []\n",
    "for i in range(len(ref_atom_list)):\n",
    "    ref_coord.append(list(ref_atom_list[i].get_pixel_position()))\n",
    "for i in range(len(test_atom_list)):\n",
    "    test_coord.append(list(test_atom_list[i].get_pixel_position()))\n",
    "ref_coord = np.asarray(ref_coord)\n",
    "test_coord = np.asarray(test_coord)"
   ]
  },
  {
   "cell_type": "code",
   "execution_count": 281,
   "metadata": {},
   "outputs": [
    {
     "data": {
      "text/plain": [
       "<matplotlib.collections.PathCollection at 0x7f69c0fb71d0>"
      ]
     },
     "execution_count": 281,
     "metadata": {},
     "output_type": "execute_result"
    }
   ],
   "source": [
    "plt.figure()\n",
    "plt.scatter(ref_coord[:,0], ref_coord[:,1])\n",
    "plt.scatter(test_coord[:,0], test_coord[:,1])"
   ]
  },
  {
   "cell_type": "code",
   "execution_count": 282,
   "metadata": {},
   "outputs": [],
   "source": [
    "def atom_dist(x1, y1, x2, y2):\n",
    "    return(np.sqrt((y2-y1)**2+(x2-x1)**2))\n",
    "\n",
    "\n",
    "def check_atom_found(ref_atom, exp_list, tol):\n",
    "    distance_check = []\n",
    "    for exp_atom in exp_list:\n",
    "        distance_check.append(atom_dist(ref_atom[0], ref_atom[1], exp_atom[0], exp_atom[1]) < tol)\n",
    "    return any(distance_check)"
   ]
  },
  {
   "cell_type": "code",
   "execution_count": 283,
   "metadata": {},
   "outputs": [
    {
     "data": {
      "text/plain": [
       "149"
      ]
     },
     "execution_count": 283,
     "metadata": {},
     "output_type": "execute_result"
    }
   ],
   "source": [
    "len(ref_coord)"
   ]
  },
  {
   "cell_type": "code",
   "execution_count": 284,
   "metadata": {},
   "outputs": [
    {
     "data": {
      "text/plain": [
       "104"
      ]
     },
     "execution_count": 284,
     "metadata": {},
     "output_type": "execute_result"
    }
   ],
   "source": [
    "len(test_coord)"
   ]
  },
  {
   "cell_type": "code",
   "execution_count": 293,
   "metadata": {},
   "outputs": [
    {
     "name": "stdout",
     "output_type": "stream",
     "text": [
      "number of atoms missing:  45\n"
     ]
    }
   ],
   "source": [
    "ref_to_compare = []\n",
    "ind_to_del = []\n",
    "match_count = 0\n",
    "for i, atom in enumerate(ref_coord):\n",
    "    if check_atom_found(atom, test_coord, 2.28):\n",
    "        match_count += 1\n",
    "    else: \n",
    "        ind_to_del.append(i)\n",
    "ref_to_compare = np.delete(ref_coord, ind_to_del, 0)\n",
    "print('number of atoms missing: ', len(ref_coord) - match_count)"
   ]
  },
  {
   "cell_type": "code",
   "execution_count": 294,
   "metadata": {},
   "outputs": [
    {
     "data": {
      "text/plain": [
       "104"
      ]
     },
     "execution_count": 294,
     "metadata": {},
     "output_type": "execute_result"
    }
   ],
   "source": [
    "match_count"
   ]
  },
  {
   "cell_type": "code",
   "execution_count": 295,
   "metadata": {},
   "outputs": [
    {
     "data": {
      "text/plain": [
       "45"
      ]
     },
     "execution_count": 295,
     "metadata": {},
     "output_type": "execute_result"
    }
   ],
   "source": [
    "len(ref_coord) - len(test_coord)"
   ]
  },
  {
   "cell_type": "code",
   "execution_count": 296,
   "metadata": {},
   "outputs": [
    {
     "data": {
      "text/plain": [
       "104"
      ]
     },
     "execution_count": 296,
     "metadata": {},
     "output_type": "execute_result"
    }
   ],
   "source": [
    "len(ref_to_compare)"
   ]
  },
  {
   "cell_type": "code",
   "execution_count": 297,
   "metadata": {},
   "outputs": [
    {
     "name": "stdout",
     "output_type": "stream",
     "text": [
      "279.6274438286989\n"
     ]
    }
   ],
   "source": [
    "mse = ((ref_to_compare - test_coord)**2).mean()\n",
    "print(mse)"
   ]
  },
  {
   "cell_type": "code",
   "execution_count": null,
   "metadata": {},
   "outputs": [],
   "source": []
  }
 ],
 "metadata": {
  "kernelspec": {
   "display_name": "Python 3",
   "language": "python",
   "name": "python3"
  },
  "language_info": {
   "codemirror_mode": {
    "name": "ipython",
    "version": 3
   },
   "file_extension": ".py",
   "mimetype": "text/x-python",
   "name": "python",
   "nbconvert_exporter": "python",
   "pygments_lexer": "ipython3",
   "version": "3.7.6"
  }
 },
 "nbformat": 4,
 "nbformat_minor": 4
}
