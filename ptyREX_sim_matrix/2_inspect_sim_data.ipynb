{
 "cells": [
  {
   "cell_type": "code",
   "execution_count": 1,
   "metadata": {},
   "outputs": [],
   "source": [
    "%matplotlib qt \n",
    "#%matplotlib inline"
   ]
  },
  {
   "cell_type": "code",
   "execution_count": 2,
   "metadata": {},
   "outputs": [],
   "source": [
    "# import matplotlib\n",
    "# #matplotlib.use('Qt4Agg')\n",
    "# matplotlib.use('nbAgg')\n",
    "import matplotlib.pyplot as plt"
   ]
  },
  {
   "cell_type": "code",
   "execution_count": 3,
   "metadata": {},
   "outputs": [],
   "source": [
    "#%matplotlib qt\n",
    "import hyperspy.api as hs\n",
    "import numpy as np\n",
    "import os\n",
    "import h5py\n",
    "import sys"
   ]
  },
  {
   "cell_type": "code",
   "execution_count": 4,
   "metadata": {},
   "outputs": [
    {
     "name": "stderr",
     "output_type": "stream",
     "text": [
      "WARNING:silx.opencl.common:Unable to import pyOpenCl. Please install it from: http://pypi.python.org/pypi/pyopencl\n"
     ]
    }
   ],
   "source": [
    "sys.path.append('/dls/science/groups/e02/Mohsen/code/Git_Repos/Merlin-Medipix/')\n",
    "import epsic_tools.api as epsic"
   ]
  },
  {
   "cell_type": "code",
   "execution_count": 5,
   "metadata": {},
   "outputs": [],
   "source": [
    "# Reading the data"
   ]
  },
  {
   "cell_type": "code",
   "execution_count": 6,
   "metadata": {},
   "outputs": [],
   "source": [
    "sim_root_path = '/dls/e02/data/2020/cm26481-1/processing/pty_simulated_data_MD/sim_matrix_ptyREX_4June2020_512pixArray/'\n",
    "sim_paths = []\n",
    "sim_names = []\n",
    "for dirname, dirnames, filenames in os.walk(sim_root_path):\n",
    "    for filename in filenames:\n",
    "        if filename.endswith('.h5'):\n",
    "            sim_paths.append(os.path.join(dirname, filename))\n",
    "            sim_names.append(filename)"
   ]
  },
  {
   "cell_type": "code",
   "execution_count": 7,
   "metadata": {},
   "outputs": [],
   "source": [
    "# checking different convergence semi-angles"
   ]
  },
  {
   "cell_type": "code",
   "execution_count": 8,
   "metadata": {},
   "outputs": [],
   "source": [
    "sim_names.sort()\n",
    "sim_paths.sort()"
   ]
  },
  {
   "cell_type": "code",
   "execution_count": 9,
   "metadata": {},
   "outputs": [
    {
     "name": "stdout",
     "output_type": "stream",
     "text": [
      "[ 0 ] Graphene_defect_10.0mrad_261.59A_def_14.15A_step_size.h5\n",
      "[ 1 ] Graphene_defect_10.0mrad_261.59A_def_18.50A_step_size.h5\n",
      "[ 2 ] Graphene_defect_10.0mrad_261.59A_def_2.18A_step_size.h5\n",
      "[ 3 ] Graphene_defect_10.0mrad_261.59A_def_20.68A_step_size.h5\n",
      "[ 4 ] Graphene_defect_10.0mrad_261.59A_def_21.77A_step_size.h5\n",
      "[ 5 ] Graphene_defect_10.0mrad_261.59A_def_4.35A_step_size.h5\n",
      "[ 6 ] Graphene_defect_10.0mrad_261.59A_def_6.53A_step_size.h5\n",
      "[ 7 ] Graphene_defect_10.0mrad_261.59A_def_8.71A_step_size.h5\n",
      "[ 8 ] Graphene_defect_12.0mrad_244.14A_def_14.10A_step_size.h5\n",
      "[ 9 ] Graphene_defect_12.0mrad_244.14A_def_18.43A_step_size.h5\n",
      "[ 10 ] Graphene_defect_12.0mrad_244.14A_def_2.17A_step_size.h5\n",
      "[ 11 ] Graphene_defect_12.0mrad_244.14A_def_20.60A_step_size.h5\n",
      "[ 12 ] Graphene_defect_12.0mrad_244.14A_def_21.69A_step_size.h5\n",
      "[ 13 ] Graphene_defect_12.0mrad_244.14A_def_4.34A_step_size.h5\n",
      "[ 14 ] Graphene_defect_12.0mrad_244.14A_def_6.51A_step_size.h5\n",
      "[ 15 ] Graphene_defect_12.0mrad_244.14A_def_8.67A_step_size.h5\n",
      "[ 16 ] Graphene_defect_15.0mrad_222.70A_def_14.07A_step_size.h5\n",
      "[ 17 ] Graphene_defect_15.0mrad_222.70A_def_18.39A_step_size.h5\n",
      "[ 18 ] Graphene_defect_15.0mrad_222.70A_def_2.16A_step_size.h5\n",
      "[ 19 ] Graphene_defect_15.0mrad_222.70A_def_20.56A_step_size.h5\n",
      "[ 20 ] Graphene_defect_15.0mrad_222.70A_def_21.64A_step_size.h5\n",
      "[ 21 ] Graphene_defect_15.0mrad_222.70A_def_4.33A_step_size.h5\n",
      "[ 22 ] Graphene_defect_15.0mrad_222.70A_def_6.49A_step_size.h5\n",
      "[ 23 ] Graphene_defect_15.0mrad_222.70A_def_8.66A_step_size.h5\n",
      "[ 24 ] Graphene_defect_20.0mrad_198.24A_def_14.08A_step_size.h5\n",
      "[ 25 ] Graphene_defect_20.0mrad_198.24A_def_18.41A_step_size.h5\n",
      "[ 26 ] Graphene_defect_20.0mrad_198.24A_def_2.17A_step_size.h5\n",
      "[ 27 ] Graphene_defect_20.0mrad_198.24A_def_20.58A_step_size.h5\n",
      "[ 28 ] Graphene_defect_20.0mrad_198.24A_def_21.66A_step_size.h5\n",
      "[ 29 ] Graphene_defect_20.0mrad_198.24A_def_4.33A_step_size.h5\n",
      "[ 30 ] Graphene_defect_20.0mrad_198.24A_def_6.50A_step_size.h5\n",
      "[ 31 ] Graphene_defect_20.0mrad_198.24A_def_8.67A_step_size.h5\n",
      "[ 32 ] Graphene_defect_25.0mrad_181.36A_def_14.13A_step_size.h5\n",
      "[ 33 ] Graphene_defect_25.0mrad_181.36A_def_18.48A_step_size.h5\n",
      "[ 34 ] Graphene_defect_25.0mrad_181.36A_def_2.17A_step_size.h5\n",
      "[ 35 ] Graphene_defect_25.0mrad_181.36A_def_20.65A_step_size.h5\n",
      "[ 36 ] Graphene_defect_25.0mrad_181.36A_def_21.74A_step_size.h5\n",
      "[ 37 ] Graphene_defect_25.0mrad_181.36A_def_4.35A_step_size.h5\n",
      "[ 38 ] Graphene_defect_25.0mrad_181.36A_def_6.52A_step_size.h5\n",
      "[ 39 ] Graphene_defect_25.0mrad_181.36A_def_8.69A_step_size.h5\n",
      "[ 40 ] Graphene_defect_32.0mrad_162.08A_def_14.09A_step_size.h5\n",
      "[ 41 ] Graphene_defect_32.0mrad_162.08A_def_18.43A_step_size.h5\n",
      "[ 42 ] Graphene_defect_32.0mrad_162.08A_def_2.17A_step_size.h5\n",
      "[ 43 ] Graphene_defect_32.0mrad_162.08A_def_20.59A_step_size.h5\n",
      "[ 44 ] Graphene_defect_32.0mrad_162.08A_def_21.68A_step_size.h5\n",
      "[ 45 ] Graphene_defect_32.0mrad_162.08A_def_4.34A_step_size.h5\n",
      "[ 46 ] Graphene_defect_32.0mrad_162.08A_def_6.50A_step_size.h5\n",
      "[ 47 ] Graphene_defect_32.0mrad_162.08A_def_8.67A_step_size.h5\n",
      "[ 48 ] Graphene_defect_42.0mrad_144.04A_def_14.10A_step_size.h5\n",
      "[ 49 ] Graphene_defect_42.0mrad_144.04A_def_18.44A_step_size.h5\n",
      "[ 50 ] Graphene_defect_42.0mrad_144.04A_def_2.17A_step_size.h5\n",
      "[ 51 ] Graphene_defect_42.0mrad_144.04A_def_20.61A_step_size.h5\n",
      "[ 52 ] Graphene_defect_42.0mrad_144.04A_def_21.69A_step_size.h5\n",
      "[ 53 ] Graphene_defect_42.0mrad_144.04A_def_4.34A_step_size.h5\n",
      "[ 54 ] Graphene_defect_42.0mrad_144.04A_def_6.51A_step_size.h5\n",
      "[ 55 ] Graphene_defect_42.0mrad_144.04A_def_8.68A_step_size.h5\n",
      "[ 56 ] Graphene_defect_8.0mrad_281.75A_def_14.15A_step_size.h5\n",
      "[ 57 ] Graphene_defect_8.0mrad_281.75A_def_18.50A_step_size.h5\n",
      "[ 58 ] Graphene_defect_8.0mrad_281.75A_def_2.18A_step_size.h5\n",
      "[ 59 ] Graphene_defect_8.0mrad_281.75A_def_20.68A_step_size.h5\n",
      "[ 60 ] Graphene_defect_8.0mrad_281.75A_def_21.77A_step_size.h5\n",
      "[ 61 ] Graphene_defect_8.0mrad_281.75A_def_4.35A_step_size.h5\n",
      "[ 62 ] Graphene_defect_8.0mrad_281.75A_def_6.53A_step_size.h5\n",
      "[ 63 ] Graphene_defect_8.0mrad_281.75A_def_8.71A_step_size.h5\n"
     ]
    }
   ],
   "source": [
    "for i, file in enumerate(sim_names):\n",
    "    print('[',i,']', file)"
   ]
  },
  {
   "cell_type": "code",
   "execution_count": 10,
   "metadata": {},
   "outputs": [],
   "source": [
    "def_8mrad = []\n",
    "def_10mrad = []\n",
    "def_12mrad = []\n",
    "def_15mrad = []\n",
    "def_20mrad = []\n",
    "def_25mrad = []\n",
    "def_32mrad = []\n",
    "def_42mrad = []\n",
    "for sim in sim_paths:\n",
    "    if '8.0mrad' in sim:\n",
    "        def_8mrad.append(sim)\n",
    "    if '10.0mrad' in sim:\n",
    "        def_10mrad.append(sim)\n",
    "    if '12.0mrad' in sim:\n",
    "        def_12mrad.append(sim)\n",
    "    if '15.0mrad' in sim:\n",
    "        def_15mrad.append(sim)\n",
    "    if '20.0mrad' in sim:\n",
    "        def_20mrad.append(sim)\n",
    "    if '25.0mrad' in sim:\n",
    "        def_25mrad.append(sim)\n",
    "    if '32.0mrad' in sim:\n",
    "        def_32mrad.append(sim)\n",
    "    if '42.0mrad' in sim:\n",
    "        def_42mrad.append(sim)"
   ]
  },
  {
   "cell_type": "code",
   "execution_count": 11,
   "metadata": {},
   "outputs": [
    {
     "name": "stdout",
     "output_type": "stream",
     "text": [
      "Dataset shape is (2, 2, 512, 512)\n",
      "Dataset shape is (2, 2, 512, 512)\n",
      "Dataset shape is (2, 2, 512, 512)\n",
      "Dataset shape is (2, 2, 512, 512)\n",
      "Dataset shape is (2, 2, 512, 512)\n",
      "Dataset shape is (2, 2, 512, 512)\n",
      "Dataset shape is (2, 2, 512, 512)\n",
      "Dataset shape is (2, 2, 512, 512)\n"
     ]
    }
   ],
   "source": [
    "sum_dp = []\n",
    "scan_sizes = [] \n",
    "conv_array = [def_8mrad[0], def_10mrad[0], def_12mrad[0], def_15mrad[0], def_20mrad[0], def_25mrad[0], def_32mrad[0], def_42mrad[0]]\n",
    "for data in conv_array:\n",
    "    d = epsic.sim_utils.sim_to_hs(data)\n",
    "    d_sum = d.sum()\n",
    "    sum_dp.append(d_sum.data)\n",
    "sum_dp = hs.signals.Signal2D(sum_dp)"
   ]
  },
  {
   "cell_type": "code",
   "execution_count": 24,
   "metadata": {},
   "outputs": [],
   "source": [
    "collage = hs.stack([image for image in sum_dp], axis=0)\n",
    "collage.plot(colorbar=False, scalebar=False, axes_off = True, vmax = 20, cmap = 'inferno')"
   ]
  },
  {
   "cell_type": "code",
   "execution_count": 20,
   "metadata": {},
   "outputs": [],
   "source": [
    "pixel_size = 8.5048828125e-12\n",
    "detector_pix_array = 512\n",
    "image_size = [detector_pix_array, detector_pix_array]\n",
    "l = epsic.ptycho_utils.e_lambda(80000)\n",
    "detector_pixel_size = 55e-6 "
   ]
  },
  {
   "cell_type": "code",
   "execution_count": 14,
   "metadata": {},
   "outputs": [
    {
     "name": "stdout",
     "output_type": "stream",
     "text": [
      "Dataset shape is (2, 2, 512, 512)\n",
      "( 4.3545e-09 2.1767920653614104e-09 2 1.4150000000000002e-09 )\n",
      "[ 0 ] Graphene_defect_10.0mrad_261.59A_def_14.15A_step_size.h5   1.2123474635388853\n",
      "Dataset shape is (2, 2, 512, 512)\n",
      "( 4.3545e-09 2.1767920653614104e-09 2 1.85e-09 )\n",
      "[ 1 ] Graphene_defect_10.0mrad_261.59A_def_18.50A_step_size.h5   1.0813818864543674\n",
      "Dataset shape is (13, 13, 512, 512)\n",
      "( 4.3545e-09 2.1767920653614104e-09 13 2.1800000000000002e-10 )\n",
      "[ 2 ] Graphene_defect_10.0mrad_261.59A_def_2.18A_step_size.h5   5.905586892567529\n",
      "Dataset shape is (2, 2, 512, 512)\n",
      "( 4.3545e-09 2.1767920653614104e-09 2 2.068e-09 )\n",
      "[ 3 ] Graphene_defect_10.0mrad_261.59A_def_20.68A_step_size.h5   1.0258453024198368\n",
      "Dataset shape is (2, 2, 512, 512)\n",
      "( 4.3545e-09 2.1767920653614104e-09 2 2.1770000000000002e-09 )\n",
      "[ 4 ] Graphene_defect_10.0mrad_261.59A_def_21.77A_step_size.h5   1.0001626018486784\n",
      "Dataset shape is (7, 7, 512, 512)\n",
      "( 4.3545e-09 2.1767920653614104e-09 7 4.35e-10 )\n",
      "[ 5 ] Graphene_defect_10.0mrad_261.59A_def_4.35A_step_size.h5   3.183917285709234\n",
      "Dataset shape is (5, 5, 512, 512)\n",
      "( 4.3545e-09 2.1767920653614104e-09 5 6.53e-10 )\n",
      "[ 6 ] Graphene_defect_10.0mrad_261.59A_def_6.53A_step_size.h5   2.2732768204205613\n",
      "Dataset shape is (4, 4, 512, 512)\n",
      "( 4.3545e-09 2.1767920653614104e-09 4 8.710000000000001e-10 )\n",
      "[ 7 ] Graphene_defect_10.0mrad_261.59A_def_8.71A_step_size.h5   1.818241769404006\n",
      "Dataset shape is (2, 2, 512, 512)\n",
      "( 4.3545e-09 2.168533153249052e-09 2 1.41e-09 )\n",
      "[ 8 ] Graphene_defect_12.0mrad_244.14A_def_14.10A_step_size.h5   1.2168393622527782\n",
      "Dataset shape is (2, 2, 512, 512)\n",
      "( 4.3545e-09 2.168533153249052e-09 2 1.843e-09 )\n",
      "[ 9 ] Graphene_defect_12.0mrad_244.14A_def_18.43A_step_size.h5   1.085495204364239\n",
      "Dataset shape is (13, 13, 512, 512)\n",
      "( 4.3545e-09 2.168533153249052e-09 13 2.17e-10 )\n",
      "[ 10 ] Graphene_defect_12.0mrad_244.14A_def_2.17A_step_size.h5   5.930655501205055\n",
      "Dataset shape is (2, 2, 512, 512)\n",
      "( 4.3545e-09 2.168533153249052e-09 2 2.0600000000000003e-09 )\n",
      "[ 11 ] Graphene_defect_12.0mrad_244.14A_def_20.60A_step_size.h5   1.029789726646499\n",
      "Dataset shape is (2, 2, 512, 512)\n",
      "( 4.3545e-09 2.168533153249052e-09 2 2.1690000000000003e-09 )\n",
      "[ 12 ] Graphene_defect_12.0mrad_244.14A_def_21.69A_step_size.h5   1.003911635058798\n",
      "Dataset shape is (7, 7, 512, 512)\n",
      "( 4.3545e-09 2.168533153249052e-09 7 4.34e-10 )\n",
      "[ 13 ] Graphene_defect_12.0mrad_244.14A_def_4.34A_step_size.h5   3.1934298852642606\n",
      "Dataset shape is (5, 5, 512, 512)\n",
      "( 4.3545e-09 2.168533153249052e-09 5 6.51e-10 )\n",
      "[ 14 ] Graphene_defect_12.0mrad_244.14A_def_6.51A_step_size.h5   2.281021346617329\n",
      "Dataset shape is (4, 4, 512, 512)\n",
      "( 4.3545e-09 2.168533153249052e-09 4 8.67e-10 )\n",
      "[ 15 ] Graphene_defect_12.0mrad_244.14A_def_8.67A_step_size.h5   1.8259648733267206\n",
      "Dataset shape is (2, 2, 512, 512)\n",
      "( 4.3545e-09 2.1640225628808905e-09 2 1.407e-09 )\n",
      "[ 16 ] Graphene_defect_15.0mrad_222.70A_def_14.07A_step_size.h5   1.2193986241540424\n",
      "Dataset shape is (2, 2, 512, 512)\n",
      "( 4.3545e-09 2.1640225628808905e-09 2 1.8390000000000002e-09 )\n",
      "[ 17 ] Graphene_defect_15.0mrad_222.70A_def_18.39A_step_size.h5   1.0878030117487418\n",
      "Dataset shape is (13, 13, 512, 512)\n",
      "( 4.3545e-09 2.1640225628808905e-09 13 2.1600000000000003e-10 )\n",
      "[ 18 ] Graphene_defect_15.0mrad_222.70A_def_2.16A_step_size.h5   5.951243844153489\n",
      "Dataset shape is (2, 2, 512, 512)\n",
      "( 4.3545e-09 2.1640225628808905e-09 2 2.056e-09 )\n",
      "[ 19 ] Graphene_defect_15.0mrad_222.70A_def_20.56A_step_size.h5   1.0318665208811835\n",
      "Dataset shape is (2, 2, 512, 512)\n",
      "( 4.3545e-09 2.1640225628808905e-09 2 2.164e-09 )\n",
      "[ 20 ] Graphene_defect_15.0mrad_222.70A_def_21.64A_step_size.h5   1.0061176753897247\n",
      "Dataset shape is (7, 7, 512, 512)\n",
      "( 4.3545e-09 2.1640225628808905e-09 7 4.33e-10 )\n",
      "[ 21 ] Graphene_defect_15.0mrad_222.70A_def_4.33A_step_size.h5   3.2004783259111167\n",
      "Dataset shape is (5, 5, 512, 512)\n",
      "( 4.3545e-09 2.1640225628808905e-09 5 6.49e-10 )\n",
      "[ 22 ] Graphene_defect_15.0mrad_222.70A_def_6.49A_step_size.h5   2.2870164702352493\n",
      "Dataset shape is (4, 4, 512, 512)\n",
      "( 4.3545e-09 2.1640225628808905e-09 4 8.66e-10 )\n",
      "[ 23 ] Graphene_defect_15.0mrad_222.70A_def_8.66A_step_size.h5   1.8288447576634954\n",
      "Dataset shape is (2, 2, 512, 512)\n",
      "( 4.3545e-09 2.1664507480617106e-09 2 1.408e-09 )\n",
      "[ 24 ] Graphene_defect_20.0mrad_198.24A_def_14.08A_step_size.h5   1.2182291229949889\n",
      "Dataset shape is (2, 2, 512, 512)\n",
      "( 4.3545e-09 2.1664507480617106e-09 2 1.8410000000000002e-09 )\n",
      "[ 25 ] Graphene_defect_20.0mrad_198.24A_def_18.41A_step_size.h5   1.0866010024218382\n",
      "Dataset shape is (13, 13, 512, 512)\n",
      "( 4.3545e-09 2.1664507480617106e-09 13 2.17e-10 )\n",
      "[ 26 ] Graphene_defect_20.0mrad_198.24A_def_2.17A_step_size.h5   5.933244360923408\n",
      "Dataset shape is (2, 2, 512, 512)\n",
      "( 4.3545e-09 2.1664507480617106e-09 2 2.0579999999999997e-09 )\n",
      "[ 27 ] Graphene_defect_20.0mrad_198.24A_def_20.58A_step_size.h5   1.0307848900825651\n",
      "Dataset shape is (2, 2, 512, 512)\n",
      "( 4.3545e-09 2.1664507480617106e-09 2 2.166e-09 )\n",
      "[ 28 ] Graphene_defect_20.0mrad_198.24A_def_21.66A_step_size.h5   1.0050893254696902\n",
      "Dataset shape is (7, 7, 512, 512)\n",
      "( 4.3545e-09 2.1664507480617106e-09 7 4.33e-10 )\n",
      "[ 29 ] Graphene_defect_20.0mrad_198.24A_def_4.33A_step_size.h5   3.1988472136479302\n",
      "Dataset shape is (5, 5, 512, 512)\n",
      "( 4.3545e-09 2.1664507480617106e-09 5 6.5e-10 )\n",
      "[ 30 ] Graphene_defect_20.0mrad_198.24A_def_6.50A_step_size.h5   2.2839321279941727\n",
      "Dataset shape is (4, 4, 512, 512)\n",
      "( 4.3545e-09 2.1664507480617106e-09 4 8.67e-10 )\n",
      "[ 31 ] Graphene_defect_20.0mrad_198.24A_def_8.67A_step_size.h5   1.826762448157602\n",
      "Dataset shape is (2, 2, 512, 512)\n",
      "( 4.3545e-09 2.1737089634114784e-09 2 1.4130000000000002e-09 )\n",
      "[ 32 ] Graphene_defect_25.0mrad_181.36A_def_14.13A_step_size.h5   1.2140656084507733\n",
      "Dataset shape is (2, 2, 512, 512)\n",
      "( 4.3545e-09 2.1737089634114784e-09 2 1.848e-09 )\n",
      "[ 33 ] Graphene_defect_25.0mrad_181.36A_def_18.48A_step_size.h5   1.082748662226972\n",
      "Dataset shape is (13, 13, 512, 512)\n",
      "( 4.3545e-09 2.1737089634114784e-09 13 2.17e-10 )\n",
      "[ 34 ] Graphene_defect_25.0mrad_181.36A_def_2.17A_step_size.h5   5.924230675572506\n",
      "Dataset shape is (2, 2, 512, 512)\n",
      "( 4.3545e-09 2.1737089634114784e-09 2 2.065e-09 )\n",
      "[ 35 ] Graphene_defect_25.0mrad_181.36A_def_20.65A_step_size.h5   1.0273175246491397\n",
      "Dataset shape is (2, 2, 512, 512)\n",
      "( 4.3545e-09 2.1737089634114784e-09 2 2.1739999999999997e-09 )\n",
      "[ 36 ] Graphene_defect_25.0mrad_181.36A_def_21.74A_step_size.h5   1.0015619804926392\n",
      "Dataset shape is (7, 7, 512, 512)\n",
      "( 4.3545e-09 2.1737089634114784e-09 7 4.35e-10 )\n",
      "[ 37 ] Graphene_defect_25.0mrad_181.36A_def_4.35A_step_size.h5   3.185969321413553\n",
      "Dataset shape is (5, 5, 512, 512)\n",
      "( 4.3545e-09 2.1737089634114784e-09 5 6.52e-10 )\n",
      "[ 38 ] Graphene_defect_25.0mrad_181.36A_def_6.52A_step_size.h5   2.276644204676413\n",
      "Dataset shape is (4, 4, 512, 512)\n",
      "( 4.3545e-09 2.1737089634114784e-09 4 8.69e-10 )\n",
      "[ 39 ] Graphene_defect_25.0mrad_181.36A_def_8.69A_step_size.h5   1.8216963355546585\n",
      "Dataset shape is (2, 2, 512, 512)\n",
      "( 4.3545e-09 2.1678921646030626e-09 2 1.409e-09 )\n",
      "[ 40 ] Graphene_defect_32.0mrad_162.08A_def_14.09A_step_size.h5   1.2173976177118637\n",
      "Dataset shape is (2, 2, 512, 512)\n",
      "( 4.3545e-09 2.1678921646030626e-09 2 1.843e-09 )\n",
      "[ 41 ] Graphene_defect_32.0mrad_162.08A_def_18.43A_step_size.h5   1.085668679509598\n",
      "Dataset shape is (13, 13, 512, 512)\n",
      "( 4.3545e-09 2.1678921646030626e-09 13 2.17e-10 )\n",
      "[ 42 ] Graphene_defect_32.0mrad_162.08A_def_2.17A_step_size.h5   5.931452141763647\n",
      "Dataset shape is (2, 2, 512, 512)\n",
      "( 4.3545e-09 2.1678921646030626e-09 2 2.059e-09 )\n",
      "[ 43 ] Graphene_defect_32.0mrad_162.08A_def_20.59A_step_size.h5   1.030189517600083\n",
      "Dataset shape is (2, 2, 512, 512)\n",
      "( 4.3545e-09 2.1678921646030626e-09 2 2.168e-09 )\n",
      "[ 44 ] Graphene_defect_32.0mrad_162.08A_def_21.68A_step_size.h5   1.004291581683891\n",
      "Dataset shape is (7, 7, 512, 512)\n",
      "( 4.3545e-09 2.1678921646030626e-09 7 4.34e-10 )\n",
      "[ 45 ] Graphene_defect_32.0mrad_162.08A_def_4.34A_step_size.h5   3.1938588455650407\n",
      "Dataset shape is (5, 5, 512, 512)\n",
      "( 4.3545e-09 2.1678921646030626e-09 5 6.5e-10 )\n",
      "[ 46 ] Graphene_defect_32.0mrad_162.08A_def_6.50A_step_size.h5   2.2832416556774837\n",
      "Dataset shape is (4, 4, 512, 512)\n",
      "( 4.3545e-09 2.1678921646030626e-09 4 8.67e-10 )\n",
      "[ 47 ] Graphene_defect_32.0mrad_162.08A_def_8.67A_step_size.h5   1.8262103019737483\n",
      "Dataset shape is (2, 2, 512, 512)\n",
      "( 4.3545e-09 2.1691746520490208e-09 2 1.41e-09 )\n",
      "[ 48 ] Graphene_defect_42.0mrad_144.04A_def_14.10A_step_size.h5   1.216621267002748\n",
      "Dataset shape is (2, 2, 512, 512)\n",
      "( 4.3545e-09 2.1691746520490208e-09 2 1.8440000000000002e-09 )\n",
      "[ 49 ] Graphene_defect_42.0mrad_144.04A_def_18.44A_step_size.h5   1.0850512069731895\n",
      "Dataset shape is (13, 13, 512, 512)\n",
      "( 4.3545e-09 2.1691746520490208e-09 13 2.17e-10 )\n",
      "[ 50 ] Graphene_defect_42.0mrad_144.04A_def_2.17A_step_size.h5   5.92985844082818\n",
      "Dataset shape is (2, 2, 512, 512)\n",
      "( 4.3545e-09 2.1691746520490208e-09 2 2.0610000000000002e-09 )\n",
      "[ 51 ] Graphene_defect_42.0mrad_144.04A_def_20.61A_step_size.h5   1.0293901217271861\n",
      "Dataset shape is (2, 2, 512, 512)\n",
      "( 4.3545e-09 2.1691746520490208e-09 2 2.1690000000000003e-09 )\n",
      "[ 52 ] Graphene_defect_42.0mrad_144.04A_def_21.69A_step_size.h5   1.0037631836568102\n",
      "Dataset shape is (7, 7, 512, 512)\n",
      "( 4.3545e-09 2.1691746520490208e-09 7 4.34e-10 )\n",
      "[ 53 ] Graphene_defect_42.0mrad_144.04A_def_4.34A_step_size.h5   3.193000698907482\n",
      "Dataset shape is (5, 5, 512, 512)\n",
      "( 4.3545e-09 2.1691746520490208e-09 5 6.51e-10 )\n",
      "[ 54 ] Graphene_defect_42.0mrad_144.04A_def_6.51A_step_size.h5   2.2807147849339153\n",
      "Dataset shape is (4, 4, 512, 512)\n",
      "( 4.3545e-09 2.1691746520490208e-09 4 8.68e-10 )\n",
      "[ 55 ] Graphene_defect_42.0mrad_144.04A_def_8.68A_step_size.h5   1.8245718279471326\n",
      "Dataset shape is (2, 2, 512, 512)\n",
      "( 4.3545e-09 2.176897635549944e-09 2 1.4150000000000002e-09 )\n",
      "[ 56 ] Graphene_defect_8.0mrad_281.75A_def_14.15A_step_size.h5   1.2123118311898373\n",
      "Dataset shape is (2, 2, 512, 512)\n",
      "( 4.3545e-09 2.176897635549944e-09 2 1.85e-09 )\n",
      "[ 57 ] Graphene_defect_8.0mrad_281.75A_def_18.50A_step_size.h5   1.0813535366675184\n",
      "Dataset shape is (13, 13, 512, 512)\n",
      "( 4.3545e-09 2.176897635549944e-09 13 2.1800000000000002e-10 )\n",
      "[ 58 ] Graphene_defect_8.0mrad_281.75A_def_2.18A_step_size.h5   5.905456813861689\n",
      "Dataset shape is (2, 2, 512, 512)\n",
      "( 4.3545e-09 2.176897635549944e-09 2 2.068e-09 )\n",
      "[ 59 ] Graphene_defect_8.0mrad_281.75A_def_20.68A_step_size.h5   1.025819789747617\n",
      "Dataset shape is (2, 2, 512, 512)\n",
      "( 4.3545e-09 2.176897635549944e-09 2 2.1770000000000002e-09 )\n",
      "[ 60 ] Graphene_defect_8.0mrad_281.75A_def_21.77A_step_size.h5   1.0001383506229309\n",
      "Dataset shape is (7, 7, 512, 512)\n",
      "( 4.3545e-09 2.176897635549944e-09 7 4.35e-10 )\n",
      "[ 61 ] Graphene_defect_8.0mrad_281.75A_def_4.35A_step_size.h5   3.183847067631949\n",
      "Dataset shape is (5, 5, 512, 512)\n",
      "( 4.3545e-09 2.176897635549944e-09 5 6.53e-10 )\n",
      "[ 62 ] Graphene_defect_8.0mrad_281.75A_def_6.53A_step_size.h5   2.273226706536159\n",
      "Dataset shape is (4, 4, 512, 512)\n",
      "( 4.3545e-09 2.176897635549944e-09 4 8.710000000000001e-10 )\n",
      "[ 63 ] Graphene_defect_8.0mrad_281.75A_def_8.71A_step_size.h5   1.818201695034781\n"
     ]
    }
   ],
   "source": [
    "\n",
    "sampling_factors = []\n",
    "for i, file in enumerate(sim_names):\n",
    "    conv_semi = float(sim_names[i].split('_')[-6][:-4])*1e-3\n",
    "    defocus = float(sim_names[i].split('_')[-5][:-1])*1e-10\n",
    "    step_size = float(sim_names[i].split('_')[-3][:-1])*1e-10\n",
    "\n",
    "    rad, probe = epsic.sim_utils.calc_probe_size(pixel_size, image_size, l, defocus, conv_semi, plot_probe=False, return_probeArr=True)\n",
    "    n_pix = probe.shape[0]\n",
    "    d = epsic.sim_utils.sim_to_hs(sim_paths[i])\n",
    "    scan_size = list(d.data.shape[:2])\n",
    "    n = scan_size[0]\n",
    "    print('(',pixel_size * n_pix, 2*rad, n, step_size, ')')\n",
    "#         print(2*rad)\n",
    "#         print(n)\n",
    "#         print(step_size)\n",
    "    s_factor = epsic.ptycho_utils.get_sampling_factor(pixel_size * n_pix, 2*rad, n, step_size)\n",
    "\n",
    "    print('[',i,']', file, ' ', s_factor)\n",
    "    sampling_factors.append(s_factor)\n"
   ]
  },
  {
   "cell_type": "code",
   "execution_count": 15,
   "metadata": {},
   "outputs": [
    {
     "data": {
      "text/plain": [
       "<matplotlib.collections.PathCollection at 0x7f4138033290>"
      ]
     },
     "execution_count": 15,
     "metadata": {},
     "output_type": "execute_result"
    }
   ],
   "source": [
    "import matplotlib.pyplot as plt\n",
    "plt.figure()\n",
    "# plt.scatter(np.arange(len(sampling_factors_def)),sampling_factors_foc, marker='o', label='focussed')\n",
    "plt.scatter(np.arange(len(sampling_factors)),sampling_factors, marker='^')\n"
   ]
  },
  {
   "cell_type": "code",
   "execution_count": null,
   "metadata": {},
   "outputs": [],
   "source": []
  },
  {
   "cell_type": "code",
   "execution_count": 17,
   "metadata": {},
   "outputs": [],
   "source": [
    "probes = hs.signals.Signal2D(probes)\n",
    "probes.plot()"
   ]
  },
  {
   "cell_type": "code",
   "execution_count": 18,
   "metadata": {},
   "outputs": [
    {
     "data": {
      "text/plain": [
       "<Signal2D, title: , dimensions: (7|256, 256)>"
      ]
     },
     "execution_count": 18,
     "metadata": {},
     "output_type": "execute_result"
    }
   ],
   "source": [
    "probes"
   ]
  },
  {
   "cell_type": "code",
   "execution_count": 19,
   "metadata": {},
   "outputs": [],
   "source": [
    "fig, axs = plt.subplots(4,2, figsize=(8, 11))\n",
    "title = 'Convergence_semi(rad): '+ str(conv_semi)+ '\\n defocus (m): '+str(defocus)\n",
    "fig.suptitle(title, fontsize = 15)\n",
    "\n",
    "for i, ax in enumerate(axs.ravel()):\n",
    "    if i==7:\n",
    "        pass\n",
    "    else:\n",
    "        ax.imshow(probes.inav[i].data, cmap = 'inferno')\n",
    "        ax.set_title('step_size (A)= %2.3f'%(1e10*step_sizes[i]))\n",
    "        ax.set_xticks([])\n",
    "        ax.set_yticks([])"
   ]
  },
  {
   "cell_type": "code",
   "execution_count": null,
   "metadata": {},
   "outputs": [],
   "source": []
  },
  {
   "cell_type": "code",
   "execution_count": 20,
   "metadata": {},
   "outputs": [],
   "source": [
    "#single data inspection"
   ]
  },
  {
   "cell_type": "code",
   "execution_count": 16,
   "metadata": {},
   "outputs": [
    {
     "name": "stdout",
     "output_type": "stream",
     "text": [
      "/dls/e02/data/2020/cm26481-1/processing/pty_simulated_data_MD/sim_matrix_ptyREX_4June2020_512pixArray/Graphene_defect_12.0mrad_244.14A_def_2.17A_step_size/Graphene_defect_12.0mrad_244.14A_def_2.17A_step_size.h5\n"
     ]
    }
   ],
   "source": [
    "f = sim_paths[10]\n",
    "print(f)"
   ]
  },
  {
   "cell_type": "code",
   "execution_count": 21,
   "metadata": {},
   "outputs": [
    {
     "data": {
      "text/plain": [
       "'Graphene_defect_12.0mrad_244.14A_def_2.17A_step_size.h5'"
      ]
     },
     "execution_count": 21,
     "metadata": {},
     "output_type": "execute_result"
    }
   ],
   "source": [
    "sim_names[10]"
   ]
  },
  {
   "cell_type": "code",
   "execution_count": 17,
   "metadata": {},
   "outputs": [
    {
     "name": "stdout",
     "output_type": "stream",
     "text": [
      "Dataset shape is (13, 13, 512, 512)\n"
     ]
    }
   ],
   "source": [
    "d = epsic.sim_utils.sim_to_hs(f)"
   ]
  },
  {
   "cell_type": "code",
   "execution_count": 35,
   "metadata": {},
   "outputs": [],
   "source": [
    "d.sum().plot()"
   ]
  },
  {
   "cell_type": "code",
   "execution_count": 18,
   "metadata": {},
   "outputs": [],
   "source": [
    "bf_ = epsic.sim_utils.get_bf_disc(d)\n"
   ]
  },
  {
   "cell_type": "code",
   "execution_count": 19,
   "metadata": {},
   "outputs": [
    {
     "data": {
      "text/plain": [
       "CircleROI(cx=256, cy=256, r=24.5, r_inner=0)"
      ]
     },
     "execution_count": 19,
     "metadata": {},
     "output_type": "execute_result"
    }
   ],
   "source": [
    "bf_"
   ]
  },
  {
   "cell_type": "code",
   "execution_count": 22,
   "metadata": {},
   "outputs": [],
   "source": [
    "l = epsic.sim_utils.calc_camera_length(d, bf_.r, 0.012, detector_pixel_size)"
   ]
  },
  {
   "cell_type": "code",
   "execution_count": 23,
   "metadata": {},
   "outputs": [
    {
     "data": {
      "text/plain": [
       "0.1122916667125"
      ]
     },
     "execution_count": 23,
     "metadata": {},
     "output_type": "execute_result"
    }
   ],
   "source": [
    "l"
   ]
  },
  {
   "cell_type": "markdown",
   "metadata": {},
   "source": [
    "In notebook 1 we calculated camera length 0.1147 m"
   ]
  },
  {
   "cell_type": "code",
   "execution_count": null,
   "metadata": {},
   "outputs": [],
   "source": []
  }
 ],
 "metadata": {
  "kernelspec": {
   "display_name": "Python 3",
   "language": "python",
   "name": "python3"
  },
  "language_info": {
   "codemirror_mode": {
    "name": "ipython",
    "version": 3
   },
   "file_extension": ".py",
   "mimetype": "text/x-python",
   "name": "python",
   "nbconvert_exporter": "python",
   "pygments_lexer": "ipython3",
   "version": "3.7.6"
  }
 },
 "nbformat": 4,
 "nbformat_minor": 4
}
