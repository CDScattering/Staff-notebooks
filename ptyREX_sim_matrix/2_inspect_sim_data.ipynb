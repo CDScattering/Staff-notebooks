{
 "cells": [
  {
   "cell_type": "code",
   "execution_count": 1,
   "metadata": {},
   "outputs": [],
   "source": [
    "%matplotlib qt \n",
    "#%matplotlib inline"
   ]
  },
  {
   "cell_type": "code",
   "execution_count": 2,
   "metadata": {},
   "outputs": [],
   "source": [
    "# import matplotlib\n",
    "# #matplotlib.use('Qt4Agg')\n",
    "# matplotlib.use('nbAgg')\n",
    "import matplotlib.pyplot as plt"
   ]
  },
  {
   "cell_type": "code",
   "execution_count": 3,
   "metadata": {},
   "outputs": [],
   "source": [
    "#%matplotlib qt\n",
    "#import hyperspy.api as hs\n",
    "import numpy as np\n",
    "import os\n",
    "import h5py\n",
    "import sys"
   ]
  },
  {
   "cell_type": "code",
   "execution_count": 4,
   "metadata": {},
   "outputs": [],
   "source": [
    "sys.path.append('/dls/science/groups/e02/Mohsen/code/Git_Repos/Staff-notebooks/ptyREX_sim_matrix/')"
   ]
  },
  {
   "cell_type": "code",
   "execution_count": 5,
   "metadata": {},
   "outputs": [],
   "source": [
    "from sim_utils import *"
   ]
  },
  {
   "cell_type": "code",
   "execution_count": 6,
   "metadata": {},
   "outputs": [],
   "source": [
    "# Reading the data"
   ]
  },
  {
   "cell_type": "code",
   "execution_count": 7,
   "metadata": {},
   "outputs": [],
   "source": [
    "sim_root_path = '/dls/e02/data/2020/cm26481-1/processing/pty_simulated_data_MD/sim_matrix_ptyREX_25April2020'\n",
    "sim_paths = []\n",
    "sim_names = []\n",
    "for dirname, dirnames, filenames in os.walk(sim_root_path):\n",
    "    for filename in filenames:\n",
    "        if filename.endswith('.h5'):\n",
    "            sim_paths.append(os.path.join(dirname, filename))\n",
    "            sim_names.append(filename)"
   ]
  },
  {
   "cell_type": "code",
   "execution_count": 9,
   "metadata": {},
   "outputs": [],
   "source": [
    "# checking different convergence semi-angles"
   ]
  },
  {
   "cell_type": "code",
   "execution_count": 10,
   "metadata": {},
   "outputs": [
    {
     "name": "stdout",
     "output_type": "stream",
     "text": [
      "[ 0 ] Graphene_defect_25.0mrad_181.50A_def_4.36A_step_size.h5\n",
      "[ 1 ] Graphene_defect_32.0mrad_0.00A_def_2.92A_step_size.h5\n",
      "[ 2 ] Graphene_defect_10.0mrad_0.00A_def_7.83A_step_size.h5\n",
      "[ 3 ] Graphene_defect_32.0mrad_0.00A_def_0.90A_step_size.h5\n",
      "[ 4 ] Graphene_defect_8.0mrad_281.70A_def_6.53A_step_size.h5\n",
      "[ 5 ] Graphene_defect_12.0mrad_0.00A_def_2.20A_step_size.h5\n",
      "[ 6 ] Graphene_defect_12.0mrad_244.80A_def_4.35A_step_size.h5\n",
      "[ 7 ] Graphene_defect_10.0mrad_0.00A_def_2.40A_step_size.h5\n",
      "[ 8 ] Graphene_defect_20.0mrad_198.80A_def_21.33A_step_size.h5\n",
      "[ 9 ] Graphene_defect_20.0mrad_0.00A_def_5.96A_step_size.h5\n",
      "[ 10 ] Graphene_defect_12.0mrad_0.00A_def_7.17A_step_size.h5\n",
      "[ 11 ] Graphene_defect_10.0mrad_0.00A_def_5.19A_step_size.h5\n",
      "[ 12 ] Graphene_defect_32.0mrad_0.00A_def_1.79A_step_size.h5\n",
      "[ 13 ] Graphene_defect_10.0mrad_261.50A_def_6.53A_step_size.h5\n",
      "[ 14 ] Graphene_defect_32.0mrad_162.50A_def_6.53A_step_size.h5\n",
      "[ 15 ] Graphene_defect_15.0mrad_0.00A_def_1.97A_step_size.h5\n",
      "[ 16 ] Graphene_defect_8.0mrad_0.00A_def_8.96A_step_size.h5\n",
      "[ 17 ] Graphene_defect_20.0mrad_0.00A_def_3.69A_step_size.h5\n",
      "[ 18 ] Graphene_defect_20.0mrad_0.00A_def_1.70A_step_size.h5\n",
      "[ 19 ] Graphene_defect_8.0mrad_0.00A_def_1.83A_step_size.h5\n",
      "[ 20 ] Graphene_defect_42.0mrad_144.40A_def_14.16A_step_size.h5\n",
      "[ 21 ] Graphene_defect_12.0mrad_0.00A_def_7.69A_step_size.h5\n",
      "[ 22 ] Graphene_defect_25.0mrad_181.50A_def_18.51A_step_size.h5\n",
      "[ 23 ] Graphene_defect_15.0mrad_0.00A_def_1.32A_step_size.h5\n",
      "[ 24 ] Graphene_defect_32.0mrad_162.50A_def_4.35A_step_size.h5\n",
      "[ 25 ] Graphene_defect_12.0mrad_244.80A_def_14.15A_step_size.h5\n",
      "[ 26 ] Graphene_defect_10.0mrad_261.50A_def_8.71A_step_size.h5\n",
      "[ 27 ] Graphene_defect_25.0mrad_181.50A_def_14.15A_step_size.h5\n",
      "[ 28 ] Graphene_defect_12.0mrad_0.00A_def_6.22A_step_size.h5\n",
      "[ 29 ] Graphene_defect_25.0mrad_0.00A_def_1.50A_step_size.h5\n",
      "[ 30 ] Graphene_defect_42.0mrad_0.00A_def_1.16A_step_size.h5\n",
      "[ 31 ] Graphene_defect_25.0mrad_0.00A_def_2.00A_step_size.h5\n",
      "[ 32 ] Graphene_defect_20.0mrad_0.00A_def_1.14A_step_size.h5\n",
      "[ 33 ] Graphene_defect_12.0mrad_0.00A_def_1.46A_step_size.h5\n",
      "[ 34 ] Graphene_defect_32.0mrad_0.00A_def_4.71A_step_size.h5\n",
      "[ 35 ] Graphene_defect_8.0mrad_281.70A_def_14.15A_step_size.h5\n",
      "[ 36 ] Graphene_defect_12.0mrad_244.80A_def_6.53A_step_size.h5\n",
      "[ 37 ] Graphene_defect_8.0mrad_281.70A_def_22.86A_step_size.h5\n",
      "[ 38 ] Graphene_defect_8.0mrad_0.00A_def_7.77A_step_size.h5\n",
      "[ 39 ] Graphene_defect_32.0mrad_0.00A_def_4.40A_step_size.h5\n",
      "[ 40 ] Graphene_defect_15.0mrad_0.00A_def_6.45A_step_size.h5\n",
      "[ 41 ] Graphene_defect_15.0mrad_223.60A_def_6.53A_step_size.h5\n",
      "[ 42 ] Graphene_defect_32.0mrad_162.50A_def_22.85A_step_size.h5\n",
      "[ 43 ] Graphene_defect_10.0mrad_0.00A_def_6.79A_step_size.h5\n",
      "[ 44 ] Graphene_defect_10.0mrad_0.00A_def_1.60A_step_size.h5\n",
      "[ 45 ] Graphene_defect_15.0mrad_0.00A_def_2.63A_step_size.h5\n",
      "[ 46 ] Graphene_defect_12.0mrad_244.80A_def_18.51A_step_size.h5\n",
      "[ 47 ] Graphene_defect_20.0mrad_198.80A_def_8.71A_step_size.h5\n",
      "[ 48 ] Graphene_defect_25.0mrad_0.00A_def_4.25A_step_size.h5\n",
      "[ 49 ] Graphene_defect_10.0mrad_0.00A_def_8.39A_step_size.h5\n",
      "[ 50 ] Graphene_defect_42.0mrad_0.00A_def_0.77A_step_size.h5\n",
      "[ 51 ] Graphene_defect_42.0mrad_0.00A_def_2.52A_step_size.h5\n",
      "[ 52 ] Graphene_defect_15.0mrad_223.60A_def_22.86A_step_size.h5\n",
      "[ 53 ] Graphene_defect_10.0mrad_261.50A_def_18.50A_step_size.h5\n",
      "[ 54 ] Graphene_defect_25.0mrad_181.50A_def_6.53A_step_size.h5\n",
      "[ 55 ] Graphene_defect_12.0mrad_0.00A_def_4.76A_step_size.h5\n",
      "[ 56 ] Graphene_defect_42.0mrad_0.00A_def_3.29A_step_size.h5\n",
      "[ 57 ] Graphene_defect_15.0mrad_223.60A_def_4.35A_step_size.h5\n",
      "[ 58 ] Graphene_defect_12.0mrad_244.80A_def_8.71A_step_size.h5\n",
      "[ 59 ] Graphene_defect_42.0mrad_144.40A_def_6.53A_step_size.h5\n",
      "[ 60 ] Graphene_defect_20.0mrad_198.80A_def_14.15A_step_size.h5\n",
      "[ 61 ] Graphene_defect_42.0mrad_144.40A_def_18.51A_step_size.h5\n",
      "[ 62 ] Graphene_defect_25.0mrad_181.50A_def_22.87A_step_size.h5\n",
      "[ 63 ] Graphene_defect_42.0mrad_144.40A_def_4.36A_step_size.h5\n",
      "[ 64 ] Graphene_defect_10.0mrad_261.50A_def_14.15A_step_size.h5\n",
      "[ 65 ] Graphene_defect_15.0mrad_0.00A_def_4.28A_step_size.h5\n",
      "[ 66 ] Graphene_defect_15.0mrad_223.60A_def_8.71A_step_size.h5\n",
      "[ 67 ] Graphene_defect_42.0mrad_144.40A_def_21.34A_step_size.h5\n",
      "[ 68 ] Graphene_defect_20.0mrad_0.00A_def_4.82A_step_size.h5\n",
      "[ 69 ] Graphene_defect_15.0mrad_223.60A_def_18.51A_step_size.h5\n",
      "[ 70 ] Graphene_defect_8.0mrad_0.00A_def_5.95A_step_size.h5\n",
      "[ 71 ] Graphene_defect_25.0mrad_181.50A_def_8.71A_step_size.h5\n",
      "[ 72 ] Graphene_defect_32.0mrad_0.00A_def_3.81A_step_size.h5\n",
      "[ 73 ] Graphene_defect_25.0mrad_0.00A_def_3.25A_step_size.h5\n",
      "[ 74 ] Graphene_defect_25.0mrad_0.00A_def_4.90A_step_size.h5\n",
      "[ 75 ] Graphene_defect_20.0mrad_0.00A_def_5.56A_step_size.h5\n",
      "[ 76 ] Graphene_defect_15.0mrad_0.00A_def_5.59A_step_size.h5\n",
      "[ 77 ] Graphene_defect_15.0mrad_223.60A_def_14.15A_step_size.h5\n",
      "[ 78 ] Graphene_defect_10.0mrad_261.50A_def_4.35A_step_size.h5\n",
      "[ 79 ] Graphene_defect_20.0mrad_0.00A_def_2.27A_step_size.h5\n",
      "[ 80 ] Graphene_defect_8.0mrad_281.70A_def_21.33A_step_size.h5\n",
      "[ 81 ] Graphene_defect_32.0mrad_162.50A_def_21.33A_step_size.h5\n",
      "[ 82 ] Graphene_defect_15.0mrad_0.00A_def_6.91A_step_size.h5\n",
      "[ 83 ] Graphene_defect_8.0mrad_0.00A_def_3.66A_step_size.h5\n",
      "[ 84 ] Graphene_defect_25.0mrad_181.50A_def_21.34A_step_size.h5\n",
      "[ 85 ] Graphene_defect_32.0mrad_162.50A_def_14.14A_step_size.h5\n",
      "[ 86 ] Graphene_defect_10.0mrad_261.50A_def_21.33A_step_size.h5\n",
      "[ 87 ] Graphene_defect_12.0mrad_0.00A_def_2.93A_step_size.h5\n",
      "[ 88 ] Graphene_defect_20.0mrad_198.80A_def_6.53A_step_size.h5\n",
      "[ 89 ] Graphene_defect_12.0mrad_244.80A_def_21.34A_step_size.h5\n",
      "[ 90 ] Graphene_defect_12.0mrad_244.80A_def_22.86A_step_size.h5\n",
      "[ 91 ] Graphene_defect_42.0mrad_0.00A_def_1.55A_step_size.h5\n",
      "[ 92 ] Graphene_defect_10.0mrad_261.50A_def_22.85A_step_size.h5\n",
      "[ 93 ] Graphene_defect_8.0mrad_281.70A_def_18.50A_step_size.h5\n",
      "[ 94 ] Graphene_defect_32.0mrad_0.00A_def_1.35A_step_size.h5\n",
      "[ 95 ] Graphene_defect_8.0mrad_281.70A_def_4.35A_step_size.h5\n",
      "[ 96 ] Graphene_defect_42.0mrad_0.00A_def_3.79A_step_size.h5\n",
      "[ 97 ] Graphene_defect_10.0mrad_0.00A_def_3.20A_step_size.h5\n",
      "[ 98 ] Graphene_defect_42.0mrad_144.40A_def_22.87A_step_size.h5\n",
      "[ 99 ] Graphene_defect_8.0mrad_0.00A_def_2.74A_step_size.h5\n",
      "[ 100 ] Graphene_defect_32.0mrad_162.50A_def_18.50A_step_size.h5\n",
      "[ 101 ] Graphene_defect_42.0mrad_144.40A_def_8.71A_step_size.h5\n",
      "[ 102 ] Graphene_defect_8.0mrad_0.00A_def_9.60A_step_size.h5\n",
      "[ 103 ] Graphene_defect_15.0mrad_223.60A_def_21.34A_step_size.h5\n",
      "[ 104 ] Graphene_defect_25.0mrad_0.00A_def_1.00A_step_size.h5\n",
      "[ 105 ] Graphene_defect_32.0mrad_162.50A_def_8.70A_step_size.h5\n",
      "[ 106 ] Graphene_defect_42.0mrad_0.00A_def_4.06A_step_size.h5\n",
      "[ 107 ] Graphene_defect_25.0mrad_0.00A_def_5.25A_step_size.h5\n",
      "[ 108 ] Graphene_defect_20.0mrad_198.80A_def_4.35A_step_size.h5\n",
      "[ 109 ] Graphene_defect_20.0mrad_198.80A_def_18.50A_step_size.h5\n",
      "[ 110 ] Graphene_defect_8.0mrad_281.70A_def_8.71A_step_size.h5\n",
      "[ 111 ] Graphene_defect_20.0mrad_198.80A_def_22.86A_step_size.h5\n"
     ]
    }
   ],
   "source": [
    "for i, file in enumerate(sim_names):\n",
    "    print('[',i,']', file)"
   ]
  },
  {
   "cell_type": "code",
   "execution_count": 12,
   "metadata": {},
   "outputs": [
    {
     "name": "stdout",
     "output_type": "stream",
     "text": [
      "Graphene_defect_8.0mrad_0.00A_def_7.77A_step_size.h5\n",
      "Graphene_defect_10.0mrad_0.00A_def_8.39A_step_size.h5\n",
      "Graphene_defect_12.0mrad_0.00A_def_2.93A_step_size.h5\n",
      "Graphene_defect_15.0mrad_0.00A_def_6.91A_step_size.h5\n",
      "Graphene_defect_20.0mrad_0.00A_def_2.27A_step_size.h5\n",
      "Graphene_defect_25.0mrad_0.00A_def_4.90A_step_size.h5\n",
      "Graphene_defect_32.0mrad_0.00A_def_1.35A_step_size.h5\n",
      "Graphene_defect_42.0mrad_0.00A_def_4.06A_step_size.h5\n"
     ]
    }
   ],
   "source": [
    "# selecting the indices of each convergence case as examples - zero def cases selected here\n",
    "inds = [38, 49, 87, 82, 79, 74, 94, 106]\n",
    "for i in inds: \n",
    "    print(sim_names[i])"
   ]
  },
  {
   "cell_type": "code",
   "execution_count": 13,
   "metadata": {},
   "outputs": [
    {
     "name": "stdout",
     "output_type": "stream",
     "text": [
      "Dataset shape is (4, 4, 256, 256)\n",
      "Dataset shape is (4, 4, 256, 256)\n",
      "Dataset shape is (9, 9, 256, 256)\n",
      "Dataset shape is (4, 4, 256, 256)\n",
      "Dataset shape is (12, 12, 256, 256)\n",
      "Dataset shape is (6, 6, 256, 256)\n",
      "Dataset shape is (20, 20, 256, 256)\n",
      "Dataset shape is (7, 7, 256, 256)\n"
     ]
    }
   ],
   "source": [
    "sum_dp = []\n",
    "for i in inds:\n",
    "    d = sim_to_hs(sim_paths[i])\n",
    "    d_sum = d.sum()\n",
    "    sum_dp.append(d_sum.data)\n",
    "sum_dp = hs.signals.Signal2D(sum_dp)"
   ]
  },
  {
   "cell_type": "code",
   "execution_count": 15,
   "metadata": {},
   "outputs": [],
   "source": [
    "collage = hs.stack([image for image in sum_dp], axis=0)\n",
    "collage.plot(colorbar=False, scalebar=False, axes_off = True, vmax = 20, cmap = 'inferno')"
   ]
  },
  {
   "cell_type": "code",
   "execution_count": 16,
   "metadata": {},
   "outputs": [],
   "source": [
    "# defocused probe cases\n",
    "def_8mrad = []\n",
    "def_10mrad = []\n",
    "def_12mrad = []\n",
    "def_15mrad = []\n",
    "def_20mrad = []\n",
    "def_25mrad = []\n",
    "def_32mrad = []\n",
    "def_42mrad = []\n",
    "for sim in sim_names:\n",
    "    if '0.00A_def' not in sim:\n",
    "        if '8.0mrad' in sim:\n",
    "            def_8mrad.append(sim)\n",
    "        if '10.0mrad' in sim:\n",
    "            def_10mrad.append(sim)\n",
    "        if '12.0mrad' in sim:\n",
    "            def_12mrad.append(sim)\n",
    "        if '15.0mrad' in sim:\n",
    "            def_15mrad.append(sim)\n",
    "        if '20.0mrad' in sim:\n",
    "            def_20mrad.append(sim)\n",
    "        if '25.0mrad' in sim:\n",
    "            def_25mrad.append(sim)\n",
    "        if '32.0mrad' in sim:\n",
    "            def_32mrad.append(sim)\n",
    "        if '42.0mrad' in sim:\n",
    "            def_42mrad.append(sim)"
   ]
  },
  {
   "cell_type": "code",
   "execution_count": 17,
   "metadata": {},
   "outputs": [
    {
     "data": {
      "text/plain": [
       "['Graphene_defect_8.0mrad_281.70A_def_6.53A_step_size.h5',\n",
       " 'Graphene_defect_8.0mrad_281.70A_def_14.15A_step_size.h5',\n",
       " 'Graphene_defect_8.0mrad_281.70A_def_22.86A_step_size.h5',\n",
       " 'Graphene_defect_8.0mrad_281.70A_def_21.33A_step_size.h5',\n",
       " 'Graphene_defect_8.0mrad_281.70A_def_18.50A_step_size.h5',\n",
       " 'Graphene_defect_8.0mrad_281.70A_def_4.35A_step_size.h5',\n",
       " 'Graphene_defect_8.0mrad_281.70A_def_8.71A_step_size.h5']"
      ]
     },
     "execution_count": 17,
     "metadata": {},
     "output_type": "execute_result"
    }
   ],
   "source": [
    "def_8mrad"
   ]
  },
  {
   "cell_type": "code",
   "execution_count": 18,
   "metadata": {},
   "outputs": [],
   "source": [
    "pixelSize = 0.170e-10\n",
    "conv_semi = float(def_8mrad[0].split('_')[-6][:-4])*1e-3\n",
    "defocus = float(def_8mrad[0].split('_')[-5][:-1])*1e-10 # all have same def value\n",
    "step_sizes = []\n",
    "for sim in def_8mrad:\n",
    "    step_sizes.append(float(sim.split('_')[-3][:-1])*1e-10)\n",
    "step_sizes.sort()\n",
    "probes = []\n",
    "for step in step_sizes:\n",
    "    rad, probe = calc_probe_size(pixelSize, [256,256], e_lambda(8000), defocus, conv_semi, plot_probe=False, return_probeArr=True)\n",
    "    probes.append(shift_probe(abs(probe), -int(step / (2*pixelSize)), 0) + \\\n",
    "                    shift_probe(abs(probe), int(step / (2*pixelSize)), 0))"
   ]
  },
  {
   "cell_type": "code",
   "execution_count": 19,
   "metadata": {},
   "outputs": [],
   "source": [
    "probes = hs.signals.Signal2D(probes)\n",
    "probes.plot()"
   ]
  },
  {
   "cell_type": "code",
   "execution_count": 20,
   "metadata": {},
   "outputs": [
    {
     "data": {
      "text/plain": [
       "<Signal2D, title: , dimensions: (7|256, 256)>"
      ]
     },
     "execution_count": 20,
     "metadata": {},
     "output_type": "execute_result"
    }
   ],
   "source": [
    "probes"
   ]
  },
  {
   "cell_type": "code",
   "execution_count": 27,
   "metadata": {},
   "outputs": [],
   "source": [
    "fig, axs = plt.subplots(4,2, figsize=(8, 11))\n",
    "title = 'Convergence_semi(rad): '+ str(conv_semi)+ '\\n defocus (m): '+str(defocus)\n",
    "fig.suptitle(title, fontsize = 15)\n",
    "\n",
    "for i, ax in enumerate(axs.ravel()):\n",
    "    if i==7:\n",
    "        pass\n",
    "    else:\n",
    "        ax.imshow(probes.inav[i].data, cmap = 'inferno')\n",
    "        ax.set_title('step_size (A)= %2.3f'%(1e10*step_sizes[i]))\n",
    "        ax.set_xticks([])\n",
    "        ax.set_yticks([])"
   ]
  },
  {
   "cell_type": "code",
   "execution_count": null,
   "metadata": {},
   "outputs": [],
   "source": [
    "#single data inspection"
   ]
  },
  {
   "cell_type": "code",
   "execution_count": 34,
   "metadata": {},
   "outputs": [
    {
     "name": "stdout",
     "output_type": "stream",
     "text": [
      "/dls/e02/data/2020/cm26481-1/processing/pty_simulated_data_MD/sim_matrix_ptyREX_25April2020/Graphene_defect_32.0mrad_0.00A_def_1.35A_step_size/Graphene_defect_32.0mrad_0.00A_def_1.35A_step_size.h5\n"
     ]
    }
   ],
   "source": [
    "f = sim_paths[94]\n",
    "print(f)"
   ]
  },
  {
   "cell_type": "code",
   "execution_count": 30,
   "metadata": {},
   "outputs": [
    {
     "name": "stdout",
     "output_type": "stream",
     "text": [
      "Dataset shape is (20, 20, 256, 256)\n"
     ]
    }
   ],
   "source": [
    "d = sim_to_hs(f)"
   ]
  },
  {
   "cell_type": "code",
   "execution_count": 31,
   "metadata": {},
   "outputs": [],
   "source": [
    "d.sum().plot()"
   ]
  },
  {
   "cell_type": "code",
   "execution_count": 32,
   "metadata": {},
   "outputs": [],
   "source": [
    "bf_ = get_bf_disc(d)\n"
   ]
  },
  {
   "cell_type": "code",
   "execution_count": 33,
   "metadata": {},
   "outputs": [
    {
     "data": {
      "text/plain": [
       "CircleROI(cx=128, cy=128, r=66.5, r_inner=0)"
      ]
     },
     "execution_count": 33,
     "metadata": {},
     "output_type": "execute_result"
    }
   ],
   "source": [
    "bf_"
   ]
  },
  {
   "cell_type": "code",
   "execution_count": 35,
   "metadata": {},
   "outputs": [],
   "source": [
    "l = calc_camera_length(d, 66.5, 0.032, 55e-6)"
   ]
  },
  {
   "cell_type": "code",
   "execution_count": 36,
   "metadata": {},
   "outputs": [
    {
     "data": {
      "text/plain": [
       "0.114296875"
      ]
     },
     "execution_count": 36,
     "metadata": {},
     "output_type": "execute_result"
    }
   ],
   "source": [
    "l"
   ]
  }
 ],
 "metadata": {
  "kernelspec": {
   "display_name": "Python 3",
   "language": "python",
   "name": "python3"
  },
  "language_info": {
   "codemirror_mode": {
    "name": "ipython",
    "version": 3
   },
   "file_extension": ".py",
   "mimetype": "text/x-python",
   "name": "python",
   "nbconvert_exporter": "python",
   "pygments_lexer": "ipython3",
   "version": "3.7.6"
  }
 },
 "nbformat": 4,
 "nbformat_minor": 4
}
