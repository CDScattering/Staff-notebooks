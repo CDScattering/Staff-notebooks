{
 "cells": [
  {
   "cell_type": "code",
   "execution_count": 2,
   "metadata": {},
   "outputs": [],
   "source": [
    "%matplotlib qt"
   ]
  },
  {
   "cell_type": "code",
   "execution_count": 3,
   "metadata": {},
   "outputs": [
    {
     "name": "stderr",
     "output_type": "stream",
     "text": [
      "WARNING:silx.opencl.common:Unable to import pyOpenCl. Please install it from: http://pypi.python.org/pypi/pyopencl\n"
     ]
    }
   ],
   "source": [
    "import os\n",
    "import sys\n",
    "sys.path.append('/dls/science/groups/e02/Mohsen/code/Git_Repos/Merlin-Medipix/')\n",
    "import epsic_tools.api as epsic\n",
    "import numpy as np"
   ]
  },
  {
   "cell_type": "code",
   "execution_count": 4,
   "metadata": {},
   "outputs": [],
   "source": [
    "def get_distance(p1, p2):\n",
    "    x1 = p1[0]\n",
    "    y1 = p1[1]\n",
    "    x2 = p2[0]\n",
    "    y2 = p2[1]\n",
    "    \n",
    "    dx = x2 - x1\n",
    "    dy = y2 - y1\n",
    "    return np.sqrt(dx ** 2  +dy **2)"
   ]
  },
  {
   "cell_type": "code",
   "execution_count": 5,
   "metadata": {},
   "outputs": [],
   "source": [
    "import matplotlib.pyplot as plt\n",
    "def plot_kdtree_results(paired_list, FN, FP, unlabeled_experiment=None, truth=None):\n",
    "    \n",
    "\n",
    "    if type(FN) is list:\n",
    "        FN = np.asarray(FN)\n",
    "    if type(FP) is list:\n",
    "        FP = np.asarray(FP)\n",
    "        \n",
    "    if (unlabeled_experiment is None) and (truth is None):\n",
    "        fig, axs = plt.subplots(nrows=1, ncols=1)\n",
    "        detected_list = []\n",
    "        for i in range(len(paired_list)):\n",
    "            detected_list.append(paired_list[i][0])\n",
    "        detected_arr = np.asarray(detected_list)\n",
    "        axs.scatter(detected_arr[:,0], detected_arr[:,1], c='g', marker='s', label='matched')\n",
    "        axs.scatter(FN[:,0], FN[:,1], marker='o', c = 'r', label = 'false_neg')\n",
    "        axs.scatter(FP[:,0], FP[:,1], marker='o', c = 'b', label = 'false_pos')\n",
    "        axs.set_xticks([])\n",
    "        axs.set_yticks([])\n",
    "        axs.legend()\n",
    "        \n",
    "        \n",
    "    else:\n",
    "        if type(unlabeled_experiment) is list:\n",
    "            unlabeled_experiment = np.asarray(unlabeled_experiment)\n",
    "        if type(truth) is list:\n",
    "            truth = np.asarray(truth)\n",
    "        fig, axs = plt.subplots(nrows=1, ncols=2)\n",
    "        detected_list = []\n",
    "        for i in range(len(paired_list)):\n",
    "            detected_list.append(paired_list[i][1][0])\n",
    "        detected_arr = np.asarray(detected_list)\n",
    "        axs[0].scatter(detected_arr[:,0], detected_arr[:,1], c='g', marker='s', label='matched')\n",
    "        axs[0].scatter(FN[:,0], FN[:,1], marker='x', c = 'r', label = 'false_neg')\n",
    "        axs[0].scatter(FP[:,0], FP[:,1], marker='o', c = 'm', label = 'false_pos')\n",
    "    #     axs[0].scatter(truth_arr[:,0], truth_arr[:,1],s =3 ,marker = 'o', c = 'r', label = 'truth')\n",
    "\n",
    "        axs[1].scatter(truth[:,0], truth[:,1], s =3 ,marker = 'o', c = 'r',label = 'truth')\n",
    "        axs[1].scatter(unlabeled_experiment[:,0], unlabeled_experiment[:,1], marker = 'x', label = 'experiment_unlabeled')\n",
    "        axs[0].legend()\n",
    "        axs[1].legend()\n",
    "    return \n"
   ]
  },
  {
   "cell_type": "markdown",
   "metadata": {},
   "source": [
    "# Iterating over the fitting results "
   ]
  },
  {
   "cell_type": "code",
   "execution_count": 9,
   "metadata": {},
   "outputs": [],
   "source": [
    "# C-C bond is approx. 8 pixels and recon pixel size is 1.7e-11 m"
   ]
  },
  {
   "cell_type": "code",
   "execution_count": 6,
   "metadata": {},
   "outputs": [],
   "source": [
    "# fitting_folder = '/dls/science/groups/e02/Mohsen/code/Git_Repos/Staff-notebooks/ptyREX_sim_matrix/fitting_results/graphene_512_64matrix/'\n",
    "fitting_folder = '/dls/science/groups/e02/Mohsen/code/Git_Repos/Staff-notebooks/ptyREX_sim_matrix/fitting_results/graphene_512_64matrix_4pix_searchrad/'\n",
    "truth = np.load('/dls/science/groups/e02/Mohsen/code/Git_Repos/Staff-notebooks/ptyREX_sim_matrix/ground_truth_positions.npy')\n",
    "truth_pos = truth[:,:2]\n",
    "# test = '/dls/science/groups/e02/Mohsen/code/Git_Repos/Staff-notebooks/ptyREX_sim_matrix/fitting_results/test'\n",
    "search_rad = 4.0\n",
    "for file in os.listdir(fitting_folder):\n",
    "    file_path = os.path.join(fitting_folder, file)\n",
    "    data_dict = epsic.ptycho_utils.load_dict_from_hdf5(file_path)\n",
    "    exp_pos = data_dict['atom_pos'][:,:2]\n",
    "    nn_dict = epsic.ptycho_utils.kdtree_NN(exp_pos, truth_pos, search_rad)\n",
    "    data_dict.update({'NN_Results': nn_dict})\n",
    "    epsic.ptycho_utils.save_dict_to_hdf5(data_dict, os.path.join(fitting_folder,file))"
   ]
  },
  {
   "cell_type": "markdown",
   "metadata": {},
   "source": [
    "# Plotting results"
   ]
  },
  {
   "cell_type": "code",
   "execution_count": 5,
   "metadata": {},
   "outputs": [],
   "source": [
    "hdf_folder = '/dls/science/groups/e02/Mohsen/code/Git_Repos/Staff-notebooks/ptyREX_sim_matrix/fitting_results/graphene_512_64matrix_4pix_searchrad/' "
   ]
  },
  {
   "cell_type": "code",
   "execution_count": 6,
   "metadata": {},
   "outputs": [],
   "source": [
    "hdf_files = []\n",
    "for file in os.listdir(hdf_folder):\n",
    "    hdf_files.append(os.path.join(hdf_folder, file))"
   ]
  },
  {
   "cell_type": "code",
   "execution_count": 7,
   "metadata": {},
   "outputs": [
    {
     "name": "stdout",
     "output_type": "stream",
     "text": [
      "0.016\n",
      "0.02\n",
      "0.024\n",
      "0.03\n",
      "0.04\n",
      "0.05\n",
      "0.064\n",
      "0.084\n"
     ]
    }
   ],
   "source": [
    "# sorting the json files\n",
    "conv_angles = [0.016, 0.020, 0.024, 0.030, 0.040, 0.050, 0.064, 0.084]\n",
    "# diff_overlap = [-22.5, 1.99, 18.33, 34.70, 51.00, 60.80, 69.37, 76.67]\n",
    "# real_probe_overlap = [0, 5, 15, 35, 60, 70, 80, 90]\n",
    "\n",
    "\n",
    "data_list_of_dicts = []\n",
    "for file in hdf_files:\n",
    "    j_dict = epsic.ptycho_utils.load_dict_from_hdf5(file)\n",
    "\n",
    "    for i, angle in enumerate(conv_angles):\n",
    "        data_list_of_dicts.append([])\n",
    "        if j_dict['process']['common']['probe']['convergence'] == angle:\n",
    "            data_list_of_dicts[i].append(j_dict)\n",
    "                \n",
    "for i, angle in enumerate(conv_angles):\n",
    "    print(angle)\n",
    "    data_list_of_dicts[i].sort(key=lambda e: e['process']['common']['scan']['dR'][0], reverse = True)\n"
   ]
  },
  {
   "cell_type": "code",
   "execution_count": 8,
   "metadata": {},
   "outputs": [
    {
     "data": {
      "text/plain": [
       "0.1754256989157329"
      ]
     },
     "execution_count": 8,
     "metadata": {},
     "output_type": "execute_result"
    }
   ],
   "source": [
    "data_list_of_dicts[6][6]['NN_Results']['RMSE']"
   ]
  },
  {
   "cell_type": "code",
   "execution_count": 9,
   "metadata": {},
   "outputs": [],
   "source": [
    "plot_kdtree_results(data_list_of_dicts[6][6]['NN_Results']['TP_list'],\n",
    "                   data_list_of_dicts[6][6]['NN_Results']['FN_list'],\n",
    "                   data_list_of_dicts[6][6]['NN_Results']['FP_list'])"
   ]
  },
  {
   "cell_type": "code",
   "execution_count": 8,
   "metadata": {},
   "outputs": [],
   "source": [
    "import matplotlib.pyplot as plt\n",
    "def plot_kdtree_results_matrix(paired_list, FN, FP, axs=None, **plt_kwargs):\n",
    "    \n",
    "\n",
    "    if type(FN) is list:\n",
    "        FN = np.asarray(FN)\n",
    "    if type(FP) is list:\n",
    "        FP = np.asarray(FP)\n",
    "        \n",
    "    if axs is None:\n",
    "        axs = plt.gca()\n",
    "\n",
    "    detected_list = []\n",
    "    for i in range(len(paired_list)):\n",
    "        detected_list.append(paired_list[i][0])\n",
    "    detected_arr = np.asarray(detected_list)\n",
    "    axs.scatter(detected_arr[:,0], detected_arr[:,1], c='g', marker='s', label='matched', **plt_kwargs)\n",
    "    axs.scatter(FN[:,0], FN[:,1], marker='o', c = 'r', label = 'false_neg', **plt_kwargs)\n",
    "    axs.scatter(FP[:,0], FP[:,1], marker='o', c = 'b', label = 'false_pos', **plt_kwargs)\n",
    "    axs.set_xticks([])\n",
    "    axs.set_yticks([])\n",
    "#         axs.legend()\n",
    "    return \n"
   ]
  },
  {
   "cell_type": "code",
   "execution_count": 9,
   "metadata": {},
   "outputs": [],
   "source": [
    "# NN results\n",
    "rows = len(data_list_of_dicts[0])\n",
    "cols = len(conv_angles)\n",
    "#print(rows, cols)\n",
    "# fig, axs = plt.subplots(nrows=rows, ncols=cols, sharex=True, sharey=True,figsize=(8, 11))\n",
    "fig, axs = plt.subplots(nrows=rows, ncols=cols, figsize=(8, 11))\n",
    "\n",
    "rmse_list = []\n",
    "precision_list = []\n",
    "recall_list = []\n",
    "\n",
    "conv_angles = []\n",
    "step_sizes = []\n",
    "\n",
    "for idx in range(rows):    \n",
    "      for idy in range(cols): \n",
    "            try:\n",
    "                plot_kdtree_results_matrix(data_list_of_dicts[idy][idx]['NN_Results']['TP_list'],\n",
    "                   data_list_of_dicts[idy][idx]['NN_Results']['FN_list'],\n",
    "                   data_list_of_dicts[idy][idx]['NN_Results']['FP_list'],\n",
    "                                          axs=axs[idx,idy], s =1)\n",
    "                axs[idx,idy].set_title(str(np.round(data_list_of_dicts[idy][idx]['NN_Results']['RMSE'],2)) + '  ' + \\\n",
    "                                       str(np.round(data_list_of_dicts[idy][idx]['NN_Results']['Precision'],2)) + '  ' + \\\n",
    "                                       str(np.round(data_list_of_dicts[idy][idx]['NN_Results']['Recall'],2)), fontsize = 8)\n",
    "                \n",
    "                rmse_list.append(data_list_of_dicts[idy][idx]['NN_Results']['RMSE'])\n",
    "                precision_list.append(data_list_of_dicts[idy][idx]['NN_Results']['Precision'])\n",
    "                recall_list.append(data_list_of_dicts[idy][idx]['NN_Results']['Recall'])\n",
    "                \n",
    "                step_sizes.append(data_list_of_dicts[idy][idx]['process']['common']['scan']['dR'][0])\n",
    "                conv_angles.append(data_list_of_dicts[idy][idx]['process']['common']['probe']['convergence'])\n",
    "\n",
    "            except IndexError:\n",
    "                pass\n",
    "fig.tight_layout(pad = 1.0)  "
   ]
  },
  {
   "cell_type": "code",
   "execution_count": 83,
   "metadata": {},
   "outputs": [],
   "source": [
    "plt.close('all')"
   ]
  },
  {
   "cell_type": "code",
   "execution_count": 10,
   "metadata": {},
   "outputs": [
    {
     "data": {
      "text/plain": [
       "0.05760031729525667"
      ]
     },
     "execution_count": 10,
     "metadata": {},
     "output_type": "execute_result"
    }
   ],
   "source": [
    "min(rmse_list)"
   ]
  },
  {
   "cell_type": "code",
   "execution_count": 11,
   "metadata": {},
   "outputs": [
    {
     "data": {
      "text/plain": [
       "0.9787234042553191"
      ]
     },
     "execution_count": 11,
     "metadata": {},
     "output_type": "execute_result"
    }
   ],
   "source": [
    "max(recall_list)"
   ]
  },
  {
   "cell_type": "code",
   "execution_count": 12,
   "metadata": {},
   "outputs": [
    {
     "data": {
      "text/plain": [
       "0.9822064056939501"
      ]
     },
     "execution_count": 12,
     "metadata": {},
     "output_type": "execute_result"
    }
   ],
   "source": [
    "max(precision_list)"
   ]
  },
  {
   "cell_type": "code",
   "execution_count": 13,
   "metadata": {},
   "outputs": [],
   "source": [
    "conv_angles = np.asarray(conv_angles)\n",
    "step_sizes = np.asarray(step_sizes)\n",
    "rmse_list = np.asarray(rmse_list)\n",
    "precision_list = np.asarray(precision_list)\n",
    "recall_list = np.asarray(recall_list)"
   ]
  },
  {
   "cell_type": "code",
   "execution_count": 14,
   "metadata": {},
   "outputs": [],
   "source": [
    "conv_angles_reshaped = conv_angles.reshape(8,8)\n",
    "conv_angles_vals = conv_angles_reshaped[0]"
   ]
  },
  {
   "cell_type": "code",
   "execution_count": 15,
   "metadata": {},
   "outputs": [
    {
     "data": {
      "text/plain": [
       "array([0.016, 0.02 , 0.024, 0.03 , 0.04 , 0.05 , 0.064, 0.084])"
      ]
     },
     "execution_count": 15,
     "metadata": {},
     "output_type": "execute_result"
    }
   ],
   "source": [
    "conv_angles_vals"
   ]
  },
  {
   "cell_type": "code",
   "execution_count": 16,
   "metadata": {},
   "outputs": [],
   "source": [
    "step_sizes_reshaped = step_sizes.reshape(8,8)\n"
   ]
  },
  {
   "cell_type": "code",
   "execution_count": 17,
   "metadata": {},
   "outputs": [],
   "source": [
    "probe_overlaps = np.asarray([0, 5, 15, 35, 60, 70, 80, 90])"
   ]
  },
  {
   "cell_type": "code",
   "execution_count": 18,
   "metadata": {},
   "outputs": [],
   "source": [
    "rmse_vals = rmse_list.reshape(8,8)\n",
    "precision_vals = precision_list.reshape(8,8)\n",
    "recall_vals = recall_list.reshape(8,8)"
   ]
  },
  {
   "cell_type": "code",
   "execution_count": 45,
   "metadata": {},
   "outputs": [],
   "source": [
    "import numpy as np\n",
    "import matplotlib\n",
    "import matplotlib.pyplot as plt\n",
    "\n",
    "fig, ax = plt.subplots()\n",
    "im = ax.imshow(rmse_vals, cmap = 'RdBu')\n",
    "\n",
    "# We want to show all ticks...\n",
    "ax.set_xticks(np.arange(len(conv_angles_vals)))\n",
    "ax.set_yticks(np.arange(len(probe_overlaps)))\n",
    "# ... and label them with the respective list entries\n",
    "ax.set_xticklabels(conv_angles_vals)\n",
    "ax.set_yticklabels(probe_overlaps)\n",
    "\n",
    "# Rotate the tick labels and set their alignment.\n",
    "plt.setp(ax.get_xticklabels(), rotation=45, ha=\"right\",\n",
    "         rotation_mode=\"anchor\")\n",
    "plt.xlabel('convergence angle (rad)')\n",
    "plt.ylabel('probe real space overlap (%)')\n",
    "\n",
    "# Loop over data dimensions and create text annotations.\n",
    "for i in range(len(conv_angles_vals)):\n",
    "    for j in range(len(probe_overlaps)):\n",
    "        text = ax.text(j, i, np.round(rmse_vals[i, j],2),\n",
    "                       ha=\"center\", va=\"center\", color=\"w\")\n",
    "\n",
    "ax.set_title(\"RMSE values\")\n",
    "fig.tight_layout()\n",
    "plt.show()"
   ]
  },
  {
   "cell_type": "code",
   "execution_count": 30,
   "metadata": {},
   "outputs": [],
   "source": [
    "import numpy as np\n",
    "import matplotlib\n",
    "import matplotlib.pyplot as plt\n",
    "\n",
    "fig, ax = plt.subplots(1,3, sharex=True, sharey=True)\n",
    "ax[0].imshow(rmse_vals, cmap = 'RdBu')\n",
    "\n",
    "plt.xlabel('convergence angle (rad)')\n",
    "plt.ylabel('probe real space overlap (%)')\n",
    "\n",
    "ax[1].imshow(precision_vals, cmap = 'RdBu')\n",
    "ax[2].imshow(recall_vals, cmap = 'RdBu')\n",
    "\n",
    "# We want to show all ticks...\n",
    "ax[0].set_xticks(np.arange(len(conv_angles_vals)))\n",
    "ax[0].set_yticks(np.arange(len(probe_overlaps)))\n",
    "# ... and label them with the respective list entries\n",
    "ax[0].set_xticklabels(conv_angles_vals)\n",
    "ax[0].set_yticklabels(probe_overlaps)\n",
    "\n",
    "\n",
    "\n",
    "# Rotate the tick labels and set their alignment.\n",
    "plt.setp(ax[0].get_xticklabels(), rotation=45, ha=\"right\",\n",
    "         rotation_mode=\"anchor\")\n",
    "plt.setp(ax[1].get_xticklabels(), rotation=45, ha=\"right\",\n",
    "         rotation_mode=\"anchor\")\n",
    "plt.setp(ax[2].get_xticklabels(), rotation=45, ha=\"right\",\n",
    "         rotation_mode=\"anchor\")\n",
    "\n",
    "\n",
    "# Loop over data dimensions and create text annotations.\n",
    "for i in range(len(conv_angles_vals)):\n",
    "    for j in range(len(probe_overlaps)):\n",
    "        text = ax[0].text(j, i, np.round(rmse_vals[i, j],2),\n",
    "                       ha=\"center\", va=\"center\", color=\"w\")\n",
    "        text = ax[1].text(j, i, np.round(precision_vals[i, j],2),\n",
    "                       ha=\"center\", va=\"center\", color=\"w\")\n",
    "        text = ax[2].text(j, i, np.round(recall_vals[i, j],2),\n",
    "                       ha=\"center\", va=\"center\", color=\"w\")\n",
    "\n",
    "ax[0].set_title(\"RMSE values\")\n",
    "ax[1].set_title(\"Precision values\")\n",
    "ax[2].set_title(\"Recall values\")\n",
    "fig.tight_layout()\n",
    "plt.show()"
   ]
  },
  {
   "cell_type": "code",
   "execution_count": null,
   "metadata": {},
   "outputs": [],
   "source": []
  },
  {
   "cell_type": "code",
   "execution_count": null,
   "metadata": {},
   "outputs": [],
   "source": []
  },
  {
   "cell_type": "markdown",
   "metadata": {},
   "source": [
    "# Trial on three example datasets"
   ]
  },
  {
   "cell_type": "code",
   "execution_count": 95,
   "metadata": {},
   "outputs": [],
   "source": [
    "data_file_good = '/dls/science/groups/e02/Mohsen/code/Git_Repos/Staff-notebooks/ptyREX_sim_matrix/fitting_results/graphene_512_64matrix/Graphene_defect_25.0mrad_181.36A_def_2.17A_step_size.h5'\n",
    "data_dict_good = load_dict_from_hdf5(data_file_good)\n",
    "data_file_fair = '/dls/science/groups/e02/Mohsen/code/Git_Repos/Staff-notebooks/ptyREX_sim_matrix/fitting_results/graphene_512_64matrix/Graphene_defect_42.0mrad_144.04A_def_2.17A_step_size.h5'\n",
    "data_dict_fair = load_dict_from_hdf5(data_file_fair)\n",
    "data_file_poor = '/dls/science/groups/e02/Mohsen/code/Git_Repos/Staff-notebooks/ptyREX_sim_matrix/fitting_results/graphene_512_64matrix/Graphene_defect_8.0mrad_281.75A_def_21.77A_step_size.h5'\n",
    "data_dict_poor = load_dict_from_hdf5(data_file_poor)"
   ]
  },
  {
   "cell_type": "code",
   "execution_count": null,
   "metadata": {},
   "outputs": [],
   "source": [
    "good = data_dict_good['atom_pos'][:,:2]\n",
    "fair = data_dict_fair['atom_pos'][:,:2]\n",
    "poor = data_dict_poor['atom_pos'][:,:2]\n",
    "truth = np.load('/dls/science/groups/e02/Mohsen/code/Git_Repos/Staff-notebooks/ptyREX_sim_matrix/ground_truth_positions.npy')\n",
    "truth_pos = truth[:,:2]"
   ]
  },
  {
   "cell_type": "code",
   "execution_count": 121,
   "metadata": {},
   "outputs": [
    {
     "ename": "IndexError",
     "evalue": "too many indices for array",
     "output_type": "error",
     "traceback": [
      "\u001b[0;31m---------------------------------------------------------------------------\u001b[0m",
      "\u001b[0;31mIndexError\u001b[0m                                Traceback (most recent call last)",
      "\u001b[0;32m<ipython-input-121-234794ca205f>\u001b[0m in \u001b[0;36m<module>\u001b[0;34m\u001b[0m\n\u001b[1;32m      5\u001b[0m                    \u001b[0mdata_dict\u001b[0m\u001b[0;34m[\u001b[0m\u001b[0;34m'NN_Results'\u001b[0m\u001b[0;34m]\u001b[0m\u001b[0;34m[\u001b[0m\u001b[0;34m'FP_list'\u001b[0m\u001b[0;34m]\u001b[0m\u001b[0;34m,\u001b[0m\u001b[0;34m\u001b[0m\u001b[0;34m\u001b[0m\u001b[0m\n\u001b[1;32m      6\u001b[0m                    \u001b[0munlabeled_experiment\u001b[0m\u001b[0;34m=\u001b[0m\u001b[0mdata_dict\u001b[0m\u001b[0;34m[\u001b[0m\u001b[0;34m'atom_pos'\u001b[0m\u001b[0;34m]\u001b[0m\u001b[0;34m[\u001b[0m\u001b[0;34m:\u001b[0m\u001b[0;34m,\u001b[0m\u001b[0;34m:\u001b[0m\u001b[0;36m2\u001b[0m\u001b[0;34m]\u001b[0m\u001b[0;34m,\u001b[0m\u001b[0;34m\u001b[0m\u001b[0;34m\u001b[0m\u001b[0m\n\u001b[0;32m----> 7\u001b[0;31m                     truth=truth_pos)\n\u001b[0m",
      "\u001b[0;32m<ipython-input-103-61af9f208eca>\u001b[0m in \u001b[0;36mplot_kdtree_results\u001b[0;34m(paired_list, FN, FP, unlabeled_experiment, truth)\u001b[0m\n\u001b[1;32m     32\u001b[0m             \u001b[0mdetected_list\u001b[0m\u001b[0;34m.\u001b[0m\u001b[0mappend\u001b[0m\u001b[0;34m(\u001b[0m\u001b[0mpaired_list\u001b[0m\u001b[0;34m[\u001b[0m\u001b[0mi\u001b[0m\u001b[0;34m]\u001b[0m\u001b[0;34m[\u001b[0m\u001b[0;36m1\u001b[0m\u001b[0;34m]\u001b[0m\u001b[0;34m[\u001b[0m\u001b[0;36m0\u001b[0m\u001b[0;34m]\u001b[0m\u001b[0;34m)\u001b[0m\u001b[0;34m\u001b[0m\u001b[0;34m\u001b[0m\u001b[0m\n\u001b[1;32m     33\u001b[0m         \u001b[0mdetected_arr\u001b[0m \u001b[0;34m=\u001b[0m \u001b[0mnp\u001b[0m\u001b[0;34m.\u001b[0m\u001b[0masarray\u001b[0m\u001b[0;34m(\u001b[0m\u001b[0mdetected_list\u001b[0m\u001b[0;34m)\u001b[0m\u001b[0;34m\u001b[0m\u001b[0;34m\u001b[0m\u001b[0m\n\u001b[0;32m---> 34\u001b[0;31m         \u001b[0maxs\u001b[0m\u001b[0;34m[\u001b[0m\u001b[0;36m0\u001b[0m\u001b[0;34m]\u001b[0m\u001b[0;34m.\u001b[0m\u001b[0mscatter\u001b[0m\u001b[0;34m(\u001b[0m\u001b[0mdetected_arr\u001b[0m\u001b[0;34m[\u001b[0m\u001b[0;34m:\u001b[0m\u001b[0;34m,\u001b[0m\u001b[0;36m0\u001b[0m\u001b[0;34m]\u001b[0m\u001b[0;34m,\u001b[0m \u001b[0mdetected_arr\u001b[0m\u001b[0;34m[\u001b[0m\u001b[0;34m:\u001b[0m\u001b[0;34m,\u001b[0m\u001b[0;36m1\u001b[0m\u001b[0;34m]\u001b[0m\u001b[0;34m,\u001b[0m \u001b[0mc\u001b[0m\u001b[0;34m=\u001b[0m\u001b[0;34m'g'\u001b[0m\u001b[0;34m,\u001b[0m \u001b[0mmarker\u001b[0m\u001b[0;34m=\u001b[0m\u001b[0;34m's'\u001b[0m\u001b[0;34m,\u001b[0m \u001b[0mlabel\u001b[0m\u001b[0;34m=\u001b[0m\u001b[0;34m'matched'\u001b[0m\u001b[0;34m)\u001b[0m\u001b[0;34m\u001b[0m\u001b[0;34m\u001b[0m\u001b[0m\n\u001b[0m\u001b[1;32m     35\u001b[0m         \u001b[0maxs\u001b[0m\u001b[0;34m[\u001b[0m\u001b[0;36m0\u001b[0m\u001b[0;34m]\u001b[0m\u001b[0;34m.\u001b[0m\u001b[0mscatter\u001b[0m\u001b[0;34m(\u001b[0m\u001b[0mFN\u001b[0m\u001b[0;34m[\u001b[0m\u001b[0;34m:\u001b[0m\u001b[0;34m,\u001b[0m\u001b[0;36m0\u001b[0m\u001b[0;34m]\u001b[0m\u001b[0;34m,\u001b[0m \u001b[0mFN\u001b[0m\u001b[0;34m[\u001b[0m\u001b[0;34m:\u001b[0m\u001b[0;34m,\u001b[0m\u001b[0;36m1\u001b[0m\u001b[0;34m]\u001b[0m\u001b[0;34m,\u001b[0m \u001b[0mmarker\u001b[0m\u001b[0;34m=\u001b[0m\u001b[0;34m'x'\u001b[0m\u001b[0;34m,\u001b[0m \u001b[0mc\u001b[0m \u001b[0;34m=\u001b[0m \u001b[0;34m'r'\u001b[0m\u001b[0;34m,\u001b[0m \u001b[0mlabel\u001b[0m \u001b[0;34m=\u001b[0m \u001b[0;34m'false_neg'\u001b[0m\u001b[0;34m)\u001b[0m\u001b[0;34m\u001b[0m\u001b[0;34m\u001b[0m\u001b[0m\n\u001b[1;32m     36\u001b[0m         \u001b[0maxs\u001b[0m\u001b[0;34m[\u001b[0m\u001b[0;36m0\u001b[0m\u001b[0;34m]\u001b[0m\u001b[0;34m.\u001b[0m\u001b[0mscatter\u001b[0m\u001b[0;34m(\u001b[0m\u001b[0mFP\u001b[0m\u001b[0;34m[\u001b[0m\u001b[0;34m:\u001b[0m\u001b[0;34m,\u001b[0m\u001b[0;36m0\u001b[0m\u001b[0;34m]\u001b[0m\u001b[0;34m,\u001b[0m \u001b[0mFP\u001b[0m\u001b[0;34m[\u001b[0m\u001b[0;34m:\u001b[0m\u001b[0;34m,\u001b[0m\u001b[0;36m1\u001b[0m\u001b[0;34m]\u001b[0m\u001b[0;34m,\u001b[0m \u001b[0mmarker\u001b[0m\u001b[0;34m=\u001b[0m\u001b[0;34m'o'\u001b[0m\u001b[0;34m,\u001b[0m \u001b[0mc\u001b[0m \u001b[0;34m=\u001b[0m \u001b[0;34m'm'\u001b[0m\u001b[0;34m,\u001b[0m \u001b[0mlabel\u001b[0m \u001b[0;34m=\u001b[0m \u001b[0;34m'false_pos'\u001b[0m\u001b[0;34m)\u001b[0m\u001b[0;34m\u001b[0m\u001b[0;34m\u001b[0m\u001b[0m\n",
      "\u001b[0;31mIndexError\u001b[0m: too many indices for array"
     ]
    }
   ],
   "source": [
    "data_dict = data_dict_good\n",
    "\n",
    "plot_kdtree_results(data_dict['NN_Results']['TP_list'],\n",
    "                   data_dict['NN_Results']['FN_list'],\n",
    "                   data_dict['NN_Results']['FP_list'],\n",
    "                   unlabeled_experiment=data_dict['atom_pos'][:,:2],\n",
    "                    truth=truth_pos)"
   ]
  },
  {
   "cell_type": "code",
   "execution_count": null,
   "metadata": {},
   "outputs": [],
   "source": [
    "plot_kdtree_results()"
   ]
  },
  {
   "cell_type": "code",
   "execution_count": null,
   "metadata": {},
   "outputs": [],
   "source": []
  },
  {
   "cell_type": "code",
   "execution_count": 112,
   "metadata": {},
   "outputs": [],
   "source": [
    "t = data_dict['atom_pos'][:,:2]"
   ]
  },
  {
   "cell_type": "code",
   "execution_count": 118,
   "metadata": {},
   "outputs": [
    {
     "data": {
      "text/plain": [
       "array([161.68821904, 164.40397512])"
      ]
     },
     "execution_count": 118,
     "metadata": {},
     "output_type": "execute_result"
    }
   ],
   "source": [
    "t[0]"
   ]
  },
  {
   "cell_type": "code",
   "execution_count": 105,
   "metadata": {},
   "outputs": [
    {
     "data": {
      "text/plain": [
       "dict_keys(['NN_Results', 'atom_pos', 'base_dir', 'experiment', 'json_path', 'process', 'sampling_factor', 'sim_path'])"
      ]
     },
     "execution_count": 105,
     "metadata": {},
     "output_type": "execute_result"
    }
   ],
   "source": [
    "data_dict_good.keys()"
   ]
  },
  {
   "cell_type": "code",
   "execution_count": 98,
   "metadata": {},
   "outputs": [],
   "source": [
    "good = data_dict_good['atom_pos'][:,:2]\n",
    "fair = data_dict_fair['atom_pos'][:,:2]\n",
    "poor = data_dict_poor['atom_pos'][:,:2]"
   ]
  },
  {
   "cell_type": "code",
   "execution_count": 99,
   "metadata": {},
   "outputs": [
    {
     "data": {
      "text/plain": [
       "numpy.ndarray"
      ]
     },
     "execution_count": 99,
     "metadata": {},
     "output_type": "execute_result"
    }
   ],
   "source": [
    "type(good)"
   ]
  },
  {
   "cell_type": "code",
   "execution_count": 106,
   "metadata": {},
   "outputs": [],
   "source": []
  },
  {
   "cell_type": "code",
   "execution_count": 107,
   "metadata": {},
   "outputs": [],
   "source": []
  },
  {
   "cell_type": "code",
   "execution_count": 8,
   "metadata": {},
   "outputs": [
    {
     "data": {
      "text/plain": [
       "<matplotlib.legend.Legend at 0x7fd6d4068950>"
      ]
     },
     "execution_count": 8,
     "metadata": {},
     "output_type": "execute_result"
    }
   ],
   "source": [
    "import matplotlib.pyplot as plt\n",
    "truth_arr = np.asarray(truth)\n",
    "good_arr = np.asarray(good)\n",
    "plt.figure()\n",
    "plt.scatter(truth_arr[:,0], truth_arr[:,1], label = 'truth')\n",
    "plt.scatter(good_arr[:,0], good_arr[:,1], label = 'exp')\n",
    "# plt.scatter(false_pos[:,0], false_pos[:,1], label = 'false_pos')\n",
    "# plt.scatter(false_neg[:,0], false_neg[:,1], label = 'false_neg')\n",
    "plt.legend()"
   ]
  },
  {
   "cell_type": "code",
   "execution_count": 25,
   "metadata": {},
   "outputs": [
    {
     "name": "stdout",
     "output_type": "stream",
     "text": [
      "TP:  47\n",
      "FP:  224\n",
      "FN:  235\n",
      "precision:  0.17343173431734318\n",
      "recall:  0.16666666666666666\n",
      "RMSE:  4.696551537163271\n"
     ]
    }
   ],
   "source": [
    "from sklearn.neighbors import KDTree\n",
    "import numpy as np\n",
    "search_rad = 2.\n",
    "exp_list = list(poor)\n",
    "truth_list = list(truth_pos)\n",
    "false_neg = []\n",
    "# we have atoms in truth_pos that have gone undetected in recon\n",
    "false_pos = [] \n",
    "# detected an atom not present in truth_pos\n",
    "paired_list = []\n",
    "paired_dict = {}\n",
    "\n",
    "distances = []\n",
    "inds = []\n",
    "\n",
    "for i in range(len(exp_list)):\n",
    "    test = np.vstack((exp_list[i], truth_list))\n",
    "    tree = KDTree(test, leaf_size=10)\n",
    "    [ind, d] = tree.query_radius(test[:1], r=search_rad, count_only=False, return_distance = True)\n",
    "    \n",
    "    if len(ind[0]) == 1:\n",
    "        false_pos.append(exp_list[i])\n",
    "    elif len(ind[0]) == 2:\n",
    "        inds.append([e-1 for e in ind[0] if e != 0])\n",
    "#         paired_dict['atom ' + str(i)] = truth_list.pop(inds[-1][0])\n",
    "        distances.append([e for e in d[0] if e != 0])\n",
    "        atom_entry = list([truth_list.pop(inds[-1][0]), [exp_list[i], distances[-1]]])\n",
    "        paired_list.append(atom_entry)\n",
    "\n",
    "    del(test)\n",
    "TP = len(paired_list)\n",
    "print('TP: ', len(paired_list))\n",
    "false_pos = np.asarray(false_pos)\n",
    "FP = len(false_pos)\n",
    "print('FP: ', len(false_pos))\n",
    "false_neg = np.asarray(truth_list)\n",
    "FN = len(false_neg)\n",
    "print('FN: ', len(false_neg))\n",
    "\n",
    "precision = TP / (TP + FP)\n",
    "recall = TP / (TP + FN)\n",
    "\n",
    "print('precision: ', precision)\n",
    "print('recall: ', recall)\n",
    "print('RMSE: ', get_RMSE(distances))"
   ]
  },
  {
   "cell_type": "code",
   "execution_count": 44,
   "metadata": {},
   "outputs": [
    {
     "data": {
      "text/plain": [
       "[[1.813620242193791],\n",
       " [1.5240340549740834],\n",
       " [1.8158794473964452],\n",
       " [1.8918504239565088],\n",
       " [1.924412955214493],\n",
       " [1.0877746702820588],\n",
       " [1.888554457483371],\n",
       " [0.6883910758359352],\n",
       " [0.19851619319172334],\n",
       " [1.378038032807637],\n",
       " [0.8940102395976366],\n",
       " [1.9068711380041232],\n",
       " [1.697555206522311],\n",
       " [1.3480604839508514],\n",
       " [1.4982839130722612],\n",
       " [1.0365523807629742],\n",
       " [1.1094273551780591],\n",
       " [1.1656045897172729],\n",
       " [1.9318610629409174],\n",
       " [1.6723768141168398],\n",
       " [1.1605140764529431],\n",
       " [0.40437386604805103],\n",
       " [1.613268538698602],\n",
       " [1.421998215577083],\n",
       " [1.0803711483420237],\n",
       " [1.5452792070518802],\n",
       " [1.6160567210403405],\n",
       " [1.5572063237842462],\n",
       " [1.2697243345458555],\n",
       " [1.3968424372183674],\n",
       " [1.8441915545188545],\n",
       " [1.3479695637911615],\n",
       " [1.6066363888910158],\n",
       " [1.9878233192958],\n",
       " [0.6284453855924453],\n",
       " [1.5375351467389697],\n",
       " [1.4224620575007696],\n",
       " [1.7658292689060713],\n",
       " [1.9947522771351225],\n",
       " [1.1367729222186793],\n",
       " [1.4532954790605834],\n",
       " [1.5754557479591076],\n",
       " [0.3396763319442411],\n",
       " [1.9289184045402006],\n",
       " [1.3930100469032354],\n",
       " [1.0288320151949384],\n",
       " [1.5127340180281228]]"
      ]
     },
     "execution_count": 44,
     "metadata": {},
     "output_type": "execute_result"
    }
   ],
   "source": [
    "distances"
   ]
  },
  {
   "cell_type": "code",
   "execution_count": 49,
   "metadata": {},
   "outputs": [
    {
     "name": "stdout",
     "output_type": "stream",
     "text": [
      "4.696551537163271\n"
     ]
    }
   ],
   "source": [
    "distances = np.asarray(distances)\n",
    "rmse = np.square((distances ** 2).mean())\n",
    "print(rmse)"
   ]
  },
  {
   "cell_type": "code",
   "execution_count": 36,
   "metadata": {},
   "outputs": [],
   "source": []
  },
  {
   "cell_type": "code",
   "execution_count": 37,
   "metadata": {},
   "outputs": [
    {
     "name": "stderr",
     "output_type": "stream",
     "text": [
      "'c' argument looks like a single numeric RGB or RGBA sequence, which should be avoided as value-mapping will have precedence in case its length matches with 'x' & 'y'.  Please use a 2-D array with a single row if you really want to specify the same RGB or RGBA value for all points.\n"
     ]
    }
   ],
   "source": [
    "t = plot_kdtree_results(paired_list, false_neg, false_pos, truth_arr, np.asarray(poor))"
   ]
  },
  {
   "cell_type": "code",
   "execution_count": 182,
   "metadata": {},
   "outputs": [
    {
     "data": {
      "text/plain": [
       "1.03237590053236"
      ]
     },
     "execution_count": 182,
     "metadata": {},
     "output_type": "execute_result"
    }
   ],
   "source": [
    "get_distance((41.06,53.65),(41.79,54.38))"
   ]
  },
  {
   "cell_type": "code",
   "execution_count": 112,
   "metadata": {},
   "outputs": [
    {
     "data": {
      "text/plain": [
       "<matplotlib.collections.PathCollection at 0x7fbf499e7410>"
      ]
     },
     "execution_count": 112,
     "metadata": {},
     "output_type": "execute_result"
    }
   ],
   "source": [
    "plt.figure()\n",
    "plt.scatter(test[:,0], test[:,1])\n",
    "plt.scatter(truth_pos[1][0], truth_pos[1][1])"
   ]
  },
  {
   "cell_type": "code",
   "execution_count": 78,
   "metadata": {},
   "outputs": [],
   "source": []
  },
  {
   "cell_type": "code",
   "execution_count": 44,
   "metadata": {},
   "outputs": [],
   "source": []
  },
  {
   "cell_type": "code",
   "execution_count": 47,
   "metadata": {},
   "outputs": [
    {
     "name": "stdout",
     "output_type": "stream",
     "text": [
      "[[ 0 11]]\n",
      "[[0.         0.10907128]]\n"
     ]
    }
   ],
   "source": [
    "import numpy as np\n",
    "rng = np.random.RandomState(0)\n",
    "X = rng.random_sample((20, 2))  # 10 points in 3 dimensions\n",
    "tree = KDTree(X, leaf_size=2)              # doctest: +SKIP\n",
    "dist, ind = tree.query(X[:1], k=2)                # doctest: +SKIP\n",
    "print(ind)  # indices of 3 closest neighbors\n",
    "\n",
    "print(dist)  # distances to 3 closest neighbors\n"
   ]
  },
  {
   "cell_type": "code",
   "execution_count": 53,
   "metadata": {},
   "outputs": [
    {
     "name": "stdout",
     "output_type": "stream",
     "text": [
      "[3]\n",
      "[array([2, 0, 1])]\n"
     ]
    }
   ],
   "source": [
    "import numpy as np\n",
    "rng = np.random.RandomState(0)\n",
    "X = rng.random_sample((10, 2))  # 10 points in 3 dimensions\n",
    "tree = KDTree(X, leaf_size=2)     # doctest: +SKIP\n",
    "print(tree.query_radius(X[:1], r=0.2, count_only=True))\n",
    "\n",
    "ind = tree.query_radius(X[:1], r=0.2)  # doctest: +SKIP\n",
    "print(ind)  # indices of neighbors within distance 0.3\n"
   ]
  },
  {
   "cell_type": "code",
   "execution_count": 50,
   "metadata": {},
   "outputs": [
    {
     "data": {
      "text/plain": [
       "array([[0.5488135 , 0.71518937],\n",
       "       [0.60276338, 0.54488318],\n",
       "       [0.4236548 , 0.64589411],\n",
       "       [0.43758721, 0.891773  ],\n",
       "       [0.96366276, 0.38344152],\n",
       "       [0.79172504, 0.52889492],\n",
       "       [0.56804456, 0.92559664],\n",
       "       [0.07103606, 0.0871293 ],\n",
       "       [0.0202184 , 0.83261985],\n",
       "       [0.77815675, 0.87001215]])"
      ]
     },
     "execution_count": 50,
     "metadata": {},
     "output_type": "execute_result"
    }
   ],
   "source": [
    "X"
   ]
  },
  {
   "cell_type": "code",
   "execution_count": null,
   "metadata": {},
   "outputs": [],
   "source": []
  }
 ],
 "metadata": {
  "kernelspec": {
   "display_name": "Python 3",
   "language": "python",
   "name": "python3"
  },
  "language_info": {
   "codemirror_mode": {
    "name": "ipython",
    "version": 3
   },
   "file_extension": ".py",
   "mimetype": "text/x-python",
   "name": "python",
   "nbconvert_exporter": "python",
   "pygments_lexer": "ipython3",
   "version": "3.7.6"
  }
 },
 "nbformat": 4,
 "nbformat_minor": 4
}
