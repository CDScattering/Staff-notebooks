{
 "cells": [
  {
   "cell_type": "markdown",
   "metadata": {},
   "source": [
    "This notebook determines the input parameters for the simulated datasets.\n",
    "Based on the object, we look at the diffraction overlap at the various convergence semi-angle values.\n",
    "We then look into deciding on the probes and step sizes in order to reach a wide range of overlap values."
   ]
  },
  {
   "cell_type": "code",
   "execution_count": 1,
   "metadata": {},
   "outputs": [],
   "source": [
    "#%matplotlib qt\n",
    "%matplotlib inline"
   ]
  },
  {
   "cell_type": "code",
   "execution_count": 2,
   "metadata": {},
   "outputs": [],
   "source": [
    "import numpy as np\n",
    "import hyperspy.api as hs\n",
    "import os\n",
    "import h5py"
   ]
  },
  {
   "cell_type": "code",
   "execution_count": 3,
   "metadata": {},
   "outputs": [],
   "source": [
    "from sim_utils import *"
   ]
  },
  {
   "cell_type": "markdown",
   "metadata": {},
   "source": [
    "For graphene at 80 kV below are the convergence semi-angle values and the overlap between the bf disc and the first reflection of graphene at 0.01960 rad:\n",
    "\n",
    "| Convergence semi_angle (rad)        | Overlap in reciprocal space (%)           |\n",
    "| :-------------: |:-------------:| \n",
    "| **0.008**      | **-22.5** | \n",
    "| 0.010      | 1.99      | \n",
    "| 0.012      | 18.33      | \n",
    "| **0.015** | **34.70**      | \n",
    "| 0.020      | 51.00      | \n",
    "| **0.025**  | **60.80**     |   \n",
    "| **0.032** | **69.37**       |   \n",
    "| **0.042** | **76.67**       | \n",
    "\n",
    "The bold cases are corresponding to the CL aperture sizes on G-ARM in the standard STEM alignment. The other cases are included to fill in the span of large differences in convergence angles.\n"
   ]
  },
  {
   "cell_type": "code",
   "execution_count": 10,
   "metadata": {},
   "outputs": [
    {
     "data": {
      "text/plain": [
       "51.0"
      ]
     },
     "execution_count": 10,
     "metadata": {},
     "output_type": "execute_result"
    }
   ],
   "source": [
    "# function to get the obove values\n",
    "get_overlap(0.020, 0.01960)"
   ]
  },
  {
   "cell_type": "markdown",
   "metadata": {},
   "source": [
    "# sim starting parameters:\n",
    "For instructions on prismatic refer to:\n",
    "https://prism-em.com/tutorial-SuperSTEM/\n",
    "\n",
    "Accelerating voltage: 80 kV\n",
    "\n",
    "Aiming for 256*256 (to mimic single chip Medipix detector), knowing our object is 3 * 29.03 A in size, we can calculate the simulation PixelSize: \n"
   ]
  },
  {
   "cell_type": "code",
   "execution_count": 13,
   "metadata": {},
   "outputs": [
    {
     "data": {
      "text/plain": [
       "1.7009765625000004e-11"
      ]
     },
     "execution_count": 13,
     "metadata": {},
     "output_type": "execute_result"
    }
   ],
   "source": [
    "29.03*1e-10*3 / (2*256)"
   ]
  },
  {
   "cell_type": "markdown",
   "metadata": {},
   "source": [
    "pixel_size: 0.170 A\n",
    "\n",
    "This gives us maximum scattering angle of 61 mrad and a detector array of 256 by 256 pixels.\n"
   ]
  },
  {
   "cell_type": "code",
   "execution_count": 14,
   "metadata": {},
   "outputs": [
    {
     "name": "stdout",
     "output_type": "stream",
     "text": [
      "0.061407589371815015\n"
     ]
    }
   ],
   "source": [
    "e_0 = 80000\n",
    "l = e_lambda(e_0)\n",
    "pixel_size = 0.170e-10 # in m\n",
    "alpha_max = l / (4 * pixel_size)\n",
    "print(alpha_max)"
   ]
  },
  {
   "cell_type": "markdown",
   "metadata": {},
   "source": [
    "We can also now calculate the pixel size in reciprocal plane:"
   ]
  },
  {
   "cell_type": "code",
   "execution_count": 17,
   "metadata": {},
   "outputs": [
    {
     "name": "stdout",
     "output_type": "stream",
     "text": [
      "mrad per pixel:  0.4765625\n",
      "pixel per mrad:  2.098360655737705\n"
     ]
    }
   ],
   "source": [
    "print('mrad per pixel: ', 0.061e3 / 128 )\n",
    "print('pixel per mrad: ', (0.061e3 / 128)**-1)"
   ]
  },
  {
   "cell_type": "markdown",
   "metadata": {},
   "source": [
    "Based on the above convergence semi-angle values, in each case we get two probes: \n",
    "\n",
    "one at zero defocus\n",
    "\n",
    "one with maximum defocus - defined as the probe with diameter equal to half the reconstrction array, i.e. 21.775 A =  (0.170 A * 256 / 2) in this case. \n",
    "\n",
    "We then find the step sizes that can give us a wide range of cases:\n",
    "\n",
    "Target probe overlap values (%): -5, 2, 15, 35, 60, 70, 80"
   ]
  },
  {
   "cell_type": "code",
   "execution_count": 18,
   "metadata": {},
   "outputs": [
    {
     "name": "stdout",
     "output_type": "stream",
     "text": [
      "electron wavelength (m):  4.175716077283421e-12\n",
      "0.008\n",
      "2.8169999999999557e-08\n",
      "0.01\n",
      "2.6149999999999096e-08\n",
      "0.012\n",
      "2.447999999999904e-08\n",
      "0.015\n",
      "2.235999999999916e-08\n",
      "0.02\n",
      "1.98799999999993e-08\n",
      "0.025\n",
      "1.8149999999999398e-08\n",
      "0.032\n",
      "1.6249999999999507e-08\n",
      "0.042\n",
      "1.4439999999999609e-08\n"
     ]
    }
   ],
   "source": [
    "pixel_size = 0.170e-10 # in m\n",
    "image_size = [256, 256]\n",
    "e_0 = 80000\n",
    "l = e_lambda(e_0)\n",
    "print('electron wavelength (m): ', l)\n",
    "conv_semi_list = [0.008, 0.010, 0.012, 0.015, 0.020, 0.025, 0.032, 0.042]\n",
    "def_vals = [] \n",
    "probes = []\n",
    "\n",
    "for angle in conv_semi_list:\n",
    "    # 8 focussed probes\n",
    "    probe = calc_probe_size(pixel_size, image_size, l, 0, angle, plot_probe= False, return_probeArr= True)\n",
    "    probes.append(probe)\n",
    "    def_vals.append(0)\n",
    "    # defocus values\n",
    "for angle in conv_semi_list:  \n",
    "    # 8 defocussed probes\n",
    "    print(angle)\n",
    "    def_val = max_defocus(pixel_size, image_size, l, angle)\n",
    "    print(def_val)\n",
    "    def_vals.append(def_val)\n",
    "    probe = calc_probe_size(pixel_size, image_size, l, def_val, angle, plot_probe= False, return_probeArr= True)\n",
    "    probes.append(probe)\n",
    "\n",
    "probes = np.asanyarray(probes)"
   ]
  },
  {
   "cell_type": "code",
   "execution_count": 32,
   "metadata": {},
   "outputs": [
    {
     "data": {
      "text/plain": [
       "[0,\n",
       " 0,\n",
       " 0,\n",
       " 0,\n",
       " 0,\n",
       " 0,\n",
       " 0,\n",
       " 0,\n",
       " 2.8169999999999557e-08,\n",
       " 2.6149999999999096e-08,\n",
       " 2.447999999999904e-08,\n",
       " 2.235999999999916e-08,\n",
       " 1.98799999999993e-08,\n",
       " 1.8149999999999398e-08,\n",
       " 1.6249999999999507e-08,\n",
       " 1.4439999999999609e-08]"
      ]
     },
     "execution_count": 32,
     "metadata": {},
     "output_type": "execute_result"
    }
   ],
   "source": [
    "def_vals"
   ]
  },
  {
   "cell_type": "code",
   "execution_count": 33,
   "metadata": {},
   "outputs": [
    {
     "data": {
      "text/plain": [
       "(16, 2)"
      ]
     },
     "execution_count": 33,
     "metadata": {},
     "output_type": "execute_result"
    }
   ],
   "source": [
    "probes.shape"
   ]
  },
  {
   "cell_type": "markdown",
   "metadata": {},
   "source": [
    "**Total number of cases: 112**\n",
    "\n",
    "16 probes (8 focus and 8 defocussed)\n",
    "each case to be rastered on cell with 7 different probe overlap values\n",
    "\n",
    "Total : 16 * 7"
   ]
  },
  {
   "cell_type": "code",
   "execution_count": 34,
   "metadata": {},
   "outputs": [
    {
     "data": {
      "text/plain": [
       "[0.008, 0.01, 0.012, 0.015, 0.02, 0.025, 0.032, 0.042]"
      ]
     },
     "execution_count": 34,
     "metadata": {},
     "output_type": "execute_result"
    }
   ],
   "source": [
    "conv_semi_list"
   ]
  },
  {
   "cell_type": "code",
   "execution_count": 41,
   "metadata": {},
   "outputs": [],
   "source": [
    "probe_overlaps = [-5, 2, 15, 35, 60, 70, 80]\n",
    "step_sizes = []\n",
    "for i in np.arange(probes.shape[0]):\n",
    "    for overlap in probe_overlaps:\n",
    "        step_sizes.append(get_step_size(probes[i][0], overlap / 100))\n"
   ]
  },
  {
   "cell_type": "code",
   "execution_count": 49,
   "metadata": {},
   "outputs": [
    {
     "data": {
      "text/plain": [
       "7"
      ]
     },
     "execution_count": 49,
     "metadata": {},
     "output_type": "execute_result"
    }
   ],
   "source": [
    "len(probe_overlaps)"
   ]
  },
  {
   "cell_type": "code",
   "execution_count": 44,
   "metadata": {},
   "outputs": [
    {
     "data": {
      "text/plain": [
       "[Text(0, 0.5, 'step size (m)'),\n",
       " Text(0.5, 1.0, 'scan step sizes for target overlap values')]"
      ]
     },
     "execution_count": 44,
     "metadata": {},
     "output_type": "execute_result"
    },
    {
     "data": {
      "image/png": "[encoded data removed]",
      "text/plain": [
       "<Figure size 432x288 with 1 Axes>"
      ]
     },
     "metadata": {
      "needs_background": "light"
     },
     "output_type": "display_data"
    }
   ],
   "source": [
    "fig, ax = plt.subplots()\n",
    "\n",
    "ax.plot(step_sizes, 'bo')\n",
    "\n",
    "ax.annotate('Focussed probes', xy=(15, 1.6e-9),\n",
    "            bbox=dict(boxstyle=\"round\", fc=\"none\", ec=\"gray\"),\n",
    "            xytext=(10, 5e-10), textcoords='offset points', ha='center')\n",
    "ax.annotate('Defocussed probes', xy=(65, 1.6e-9),\n",
    "            bbox=dict(boxstyle=\"round\", fc=\"none\", ec=\"gray\"),\n",
    "            xytext=(60, 5e-10), textcoords='offset points', ha='center')\n",
    "ax.set(title='scan step sizes for target overlap values',\n",
    "       ylabel='step size (m)')"
   ]
  },
  {
   "cell_type": "code",
   "execution_count": 46,
   "metadata": {},
   "outputs": [
    {
     "data": {
      "text/plain": [
       "Text(0.5, 0, 'sim conditions')"
      ]
     },
     "execution_count": 46,
     "metadata": {},
     "output_type": "execute_result"
    },
    {
     "data": {
      "image/png": "[encoded data removed]",
      "text/plain": [
       "<Figure size 432x288 with 1 Axes>"
      ]
     },
     "metadata": {
      "needs_background": "light"
     },
     "output_type": "display_data"
    }
   ],
   "source": [
    "probe_overlaps_all = probe_overlaps * probes.shape[0]\n",
    "plt.plot(probe_overlaps_all, 'ro')\n",
    "plt.ylabel('probe overlap (%)')\n",
    "plt.xlabel('sim conditions')"
   ]
  },
  {
   "cell_type": "code",
   "execution_count": 50,
   "metadata": {},
   "outputs": [
    {
     "data": {
      "text/plain": [
       "Text(0.5, 0, 'sim conditions')"
      ]
     },
     "execution_count": 50,
     "metadata": {},
     "output_type": "execute_result"
    },
    {
     "data": {
      "image/png": "[encoded data removed]",
      "text/plain": [
       "<Figure size 432x288 with 1 Axes>"
      ]
     },
     "metadata": {
      "needs_background": "light"
     },
     "output_type": "display_data"
    }
   ],
   "source": [
    "def_vals_all = [y for x in def_vals for y in (x,)*len(probe_overlaps)]\n",
    "plt.plot(def_vals_all, 'ko')\n",
    "plt.ylabel('defocus (m)')\n",
    "plt.xlabel('sim conditions')"
   ]
  },
  {
   "cell_type": "code",
   "execution_count": 51,
   "metadata": {},
   "outputs": [
    {
     "data": {
      "text/plain": [
       "Text(0.5, 0, 'sim conditions')"
      ]
     },
     "execution_count": 51,
     "metadata": {},
     "output_type": "execute_result"
    },
    {
     "data": {
      "image/png": "[encoded data removed]",
      "text/plain": [
       "<Figure size 432x288 with 1 Axes>"
      ]
     },
     "metadata": {
      "needs_background": "light"
     },
     "output_type": "display_data"
    }
   ],
   "source": [
    "conv_semi_all = [y for x in conv_semi_list for y in (x,)*len(probe_overlaps)] * 2\n",
    "plt.plot(conv_semi_all, 'bo')\n",
    "plt.ylabel('convergence semi_angle (rad)')\n",
    "plt.xlabel('sim conditions')"
   ]
  },
  {
   "cell_type": "code",
   "execution_count": 52,
   "metadata": {},
   "outputs": [],
   "source": [
    "conv_semi_all = np.asarray(conv_semi_all)\n",
    "def_vals_all = np.asarray(def_vals_all)\n",
    "step_sizes = np.asarray(step_sizes)\n",
    "sim_conditions = np.vstack((conv_semi_all, def_vals_all, step_sizes))"
   ]
  },
  {
   "cell_type": "code",
   "execution_count": 59,
   "metadata": {},
   "outputs": [
    {
     "data": {
      "text/plain": [
       "array([8.00000000e-03, 2.81700000e-08, 1.85034102e-09])"
      ]
     },
     "execution_count": 59,
     "metadata": {},
     "output_type": "execute_result"
    }
   ],
   "source": [
    "sim_conditions[:,58]\n",
    "# convergence semi-angle (rad), defocus (m), step_size (m)"
   ]
  },
  {
   "cell_type": "code",
   "execution_count": 54,
   "metadata": {},
   "outputs": [
    {
     "data": {
      "text/plain": [
       "(3, 112)"
      ]
     },
     "execution_count": 54,
     "metadata": {},
     "output_type": "execute_result"
    }
   ],
   "source": [
    "sim_conditions.shape"
   ]
  },
  {
   "cell_type": "code",
   "execution_count": 55,
   "metadata": {},
   "outputs": [],
   "source": [
    "np.save('sim_condtions_112', sim_conditions)"
   ]
  },
  {
   "cell_type": "code",
   "execution_count": 62,
   "metadata": {},
   "outputs": [
    {
     "data": {
      "text/plain": [
       "array([0.008, 0.008, 0.008, 0.008, 0.008, 0.008, 0.008, 0.01 , 0.01 ,\n",
       "       0.01 , 0.01 , 0.01 , 0.01 , 0.01 , 0.012, 0.012, 0.012, 0.012,\n",
       "       0.012, 0.012, 0.012, 0.015, 0.015, 0.015, 0.015, 0.015, 0.015,\n",
       "       0.015, 0.02 , 0.02 , 0.02 , 0.02 , 0.02 , 0.02 , 0.02 , 0.025,\n",
       "       0.025, 0.025, 0.025, 0.025, 0.025, 0.025, 0.032, 0.032, 0.032,\n",
       "       0.032, 0.032, 0.032, 0.032, 0.042, 0.042, 0.042, 0.042, 0.042,\n",
       "       0.042, 0.042, 0.008, 0.008, 0.008, 0.008, 0.008, 0.008, 0.008,\n",
       "       0.01 , 0.01 , 0.01 , 0.01 , 0.01 , 0.01 , 0.01 , 0.012, 0.012,\n",
       "       0.012, 0.012, 0.012, 0.012, 0.012, 0.015, 0.015, 0.015, 0.015,\n",
       "       0.015, 0.015, 0.015, 0.02 , 0.02 , 0.02 , 0.02 , 0.02 , 0.02 ,\n",
       "       0.02 , 0.025, 0.025, 0.025, 0.025, 0.025, 0.025, 0.025, 0.032,\n",
       "       0.032, 0.032, 0.032, 0.032, 0.032, 0.032, 0.042, 0.042, 0.042,\n",
       "       0.042, 0.042, 0.042, 0.042])"
      ]
     },
     "execution_count": 62,
     "metadata": {},
     "output_type": "execute_result"
    }
   ],
   "source": [
    "sim_conditions[0,:]"
   ]
  },
  {
   "cell_type": "code",
   "execution_count": 75,
   "metadata": {},
   "outputs": [
    {
     "data": {
      "image/png": "[encoded data removed]",
      "text/plain": [
       "<Figure size 792x360 with 3 Axes>"
      ]
     },
     "metadata": {
      "needs_background": "light"
     },
     "output_type": "display_data"
    }
   ],
   "source": [
    "fig, axs = plt.subplots(1,3, figsize=(11, 5))\n",
    "title = 'sim conditions'\n",
    "fig.suptitle(title, fontsize = 15)\n",
    "\n",
    "for i, ax in enumerate(axs.ravel()):\n",
    "    ax.plot(sim_conditions[i,:], 'o')\n",
    "    if i==0:\n",
    "        ax.set_title('convergence semi_angle (rad)')\n",
    "    if i==1:\n",
    "        ax.set_title('defocus value (m)')\n",
    "    if i==2:\n",
    "        ax.set_title('step size (m)')\n"
   ]
  },
  {
   "cell_type": "markdown",
   "metadata": {},
   "source": [
    "# Submitting the sim matrix to cluster"
   ]
  },
  {
   "cell_type": "code",
   "execution_count": 6,
   "metadata": {},
   "outputs": [],
   "source": [
    "pixelSize = 0.170e-10\n",
    "xyz = '/dls/science/groups/e02/Mohsen/code/Git_Repos/Staff-notebooks/ptyREX_sim_matrix/xyz_files/Graphene_defect.xyz'\n",
    "sim_npy = '/dls/science/groups/e02/Mohsen/code/Git_Repos/Staff-notebooks/ptyREX_sim_matrix/sim_condtions_112.npy'\n",
    "root_path = '/dls/e02/data/2020/cm26481-1/processing/pty_simulated_data_MD/sim_matrix_ptyREX_25April2020/'\n",
    "script_path = '/dls/science/groups/e02/Mohsen/code/Git_Repos/Staff-notebooks/ptyREX_sim_matrix/'\n",
    "dose = 2.5e8\n",
    "shell_file = '/dls/science/groups/e02/Mohsen/code/Git_Repos/Staff-notebooks/ptyREX_sim_matrix/pyprismatic_matrix.sh'\n"
   ]
  },
  {
   "cell_type": "code",
   "execution_count": 7,
   "metadata": {},
   "outputs": [],
   "source": [
    "import sys\n",
    "import os\n",
    "sys.path.append(script_path)"
   ]
  },
  {
   "cell_type": "code",
   "execution_count": 8,
   "metadata": {},
   "outputs": [
    {
     "data": {
      "text/plain": [
       "0"
      ]
     },
     "execution_count": 8,
     "metadata": {},
     "output_type": "execute_result"
    }
   ],
   "source": [
    "command_str = '\\n cd '+ script_path + '\\n module load global/cluster \\n qsub pyprismatic_matrix.sh ' + xyz + ' ' + str(pixelSize)+ ' '+ sim_npy + ' ' + root_path + ' ' + script_path + ' ' + str(dose)\n",
    "os.system(command_str)"
   ]
  }
 ],
 "metadata": {
  "kernelspec": {
   "display_name": "Python 3",
   "language": "python",
   "name": "python3"
  },
  "language_info": {
   "codemirror_mode": {
    "name": "ipython",
    "version": 3
   },
   "file_extension": ".py",
   "mimetype": "text/x-python",
   "name": "python",
   "nbconvert_exporter": "python",
   "pygments_lexer": "ipython3",
   "version": "3.7.6"
  }
 },
 "nbformat": 4,
 "nbformat_minor": 4
}
