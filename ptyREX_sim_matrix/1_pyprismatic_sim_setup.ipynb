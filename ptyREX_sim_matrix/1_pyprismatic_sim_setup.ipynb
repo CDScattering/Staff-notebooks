{
 "cells": [
  {
   "cell_type": "markdown",
   "metadata": {},
   "source": [
    "# 1- Prismatic sim set-up (Graphene)"
   ]
  },
  {
   "cell_type": "markdown",
   "metadata": {},
   "source": [
    "This notebook determines the input parameters for the simulated datasets.\n",
    "Based on the object, we look at the diffraction overlap at the various convergence semi-angle values.\n",
    "We then look into deciding on the probes and step sizes in order to reach a wide range of overlap values.\n",
    "\n",
    "[sim starting parameters](#params)</br>\n",
    "[Submitting the sim matrix to cluster](#submit)\n"
   ]
  },
  {
   "cell_type": "code",
   "execution_count": 1,
   "metadata": {},
   "outputs": [],
   "source": [
    "# %matplotlib qt\n",
    "%matplotlib inline"
   ]
  },
  {
   "cell_type": "code",
   "execution_count": 2,
   "metadata": {},
   "outputs": [],
   "source": [
    "import numpy as np\n",
    "import hyperspy.api as hs\n",
    "import os\n",
    "import h5py\n",
    "import sys"
   ]
  },
  {
   "cell_type": "code",
   "execution_count": 3,
   "metadata": {},
   "outputs": [
    {
     "name": "stderr",
     "output_type": "stream",
     "text": [
      "WARNING:silx.opencl.common:Unable to import pyOpenCl. Please install it from: http://pypi.python.org/pypi/pyopencl\n"
     ]
    }
   ],
   "source": [
    "sys.path.append('/dls/science/groups/e02/Mohsen/code/Git_Repos/Merlin-Medipix/')\n",
    "import epsic_tools.api as epsic"
   ]
  },
  {
   "cell_type": "markdown",
   "metadata": {},
   "source": [
    "For graphene at 80 kV below are the convergence semi-angle values and the overlap between the bf disc and the first reflection of graphene at 0.01960 rad:\n",
    "\n",
    "| Convergence semi_angle (rad)        | Overlap in reciprocal space (%)           |\n",
    "| :-------------: |:-------------:| \n",
    "| **0.008**      | **-22.5** | \n",
    "| 0.010      | 1.99      | \n",
    "| 0.012      | 18.33      | \n",
    "| **0.015** | **34.70**      | \n",
    "| 0.020      | 51.00      | \n",
    "| **0.025**  | **60.80**     |   \n",
    "| **0.032** | **69.37**       |   \n",
    "| **0.042** | **76.67**       | \n",
    "\n",
    "The bold cases are corresponding to the CL aperture sizes on G-ARM in the standard STEM alignment. The other cases are included to fill in the span of large differences in convergence angles.\n"
   ]
  },
  {
   "cell_type": "code",
   "execution_count": 4,
   "metadata": {},
   "outputs": [
    {
     "data": {
      "text/plain": [
       "51.0"
      ]
     },
     "execution_count": 4,
     "metadata": {},
     "output_type": "execute_result"
    }
   ],
   "source": [
    "# function to get the obove values\n",
    "epsic.sim_utils.get_overlap(0.020, 0.01960)"
   ]
  },
  {
   "cell_type": "markdown",
   "metadata": {},
   "source": [
    "<a id='params'></a>\n",
    "# sim starting parameters:\n",
    "For instructions on prismatic refer to:\n",
    "https://prism-em.com/tutorial-SuperSTEM/\n",
    "\n",
    "Accelerating voltage: 80 kV\n",
    " \n"
   ]
  },
  {
   "cell_type": "markdown",
   "metadata": {},
   "source": [
    "**Determining sampling conditions**"
   ]
  },
  {
   "cell_type": "markdown",
   "metadata": {},
   "source": [
    "Aiming for 512*512 detector pixel array, knowing our object is 3 * 29.03 A in size, we can calculate the simulation PixelSize: "
   ]
  },
  {
   "cell_type": "code",
   "execution_count": 5,
   "metadata": {},
   "outputs": [
    {
     "name": "stdout",
     "output_type": "stream",
     "text": [
      "sim pixel size (m):  8.5048828125e-12\n"
     ]
    }
   ],
   "source": [
    "cell_dim = 29.03e-10 #in m\n",
    "tiling_factor = 3\n",
    "detector_pix_array = 512\n",
    "pixel_size = cell_dim*tiling_factor / (2*detector_pix_array)\n",
    "print('sim pixel size (m): ', pixel_size)"
   ]
  },
  {
   "cell_type": "code",
   "execution_count": 6,
   "metadata": {},
   "outputs": [
    {
     "name": "stdout",
     "output_type": "stream",
     "text": [
      "This gives us maximum scattering angle of  122.74 mrad\n"
     ]
    }
   ],
   "source": [
    "e_0 = 80000\n",
    "l = epsic.ptycho_utils.e_lambda(e_0)\n",
    "alpha_max = l / (4 * pixel_size)\n",
    "print('This gives us maximum scattering angle of ',np.round(alpha_max,5) * 1e3, 'mrad')"
   ]
  },
  {
   "cell_type": "markdown",
   "metadata": {},
   "source": [
    "We can also now calculate the pixel size in reciprocal plane:"
   ]
  },
  {
   "cell_type": "code",
   "execution_count": 7,
   "metadata": {},
   "outputs": [
    {
     "name": "stdout",
     "output_type": "stream",
     "text": [
      "mrad per pixel:  0.2397356801747285\n",
      "pixel per mrad:  4.17126061198384\n"
     ]
    }
   ],
   "source": [
    "print('mrad per pixel: ', alpha_max * 1e3 / detector_pix_array )\n",
    "print('pixel per mrad: ', (alpha_max * 1e3 / detector_pix_array)**-1)"
   ]
  },
  {
   "cell_type": "markdown",
   "metadata": {},
   "source": [
    "we can also calculate the camera length:"
   ]
  },
  {
   "cell_type": "code",
   "execution_count": 8,
   "metadata": {},
   "outputs": [
    {
     "name": "stdout",
     "output_type": "stream",
     "text": [
      "0.11470966682955559\n"
     ]
    }
   ],
   "source": [
    "detector_pixel_size = 55e-6 \n",
    "CL = (detector_pix_array / 2) * detector_pixel_size / alpha_max\n",
    "print(CL)"
   ]
  },
  {
   "cell_type": "markdown",
   "metadata": {},
   "source": [
    "Based on the above convergence semi-angle values, in each case we define the follwoing probe:\n",
    "\n",
    "with maximum defocus - defined as the probe with diameter equal to half the reconstrction array, \n"
   ]
  },
  {
   "cell_type": "code",
   "execution_count": 9,
   "metadata": {},
   "outputs": [
    {
     "name": "stdout",
     "output_type": "stream",
     "text": [
      "2.17725e-09\n"
     ]
    }
   ],
   "source": [
    "probe_diameter = pixel_size * detector_pix_array / 2\n",
    "print(probe_diameter)"
   ]
  },
  {
   "cell_type": "code",
   "execution_count": 10,
   "metadata": {},
   "outputs": [
    {
     "data": {
      "image/png": "[encoded data removed]",
      "text/plain": [
       "<Figure size 720x288 with 3 Axes>"
      ]
     },
     "metadata": {
      "needs_background": "light"
     },
     "output_type": "display_data"
    }
   ],
   "source": [
    "number_probe_pos = np.arange(2, 100)\n",
    "step_size = cell_dim * tiling_factor / number_probe_pos\n",
    "s_factor = epsic.ptycho_utils.get_sampling_factor(pixel_size * detector_pix_array, probe_diameter, number_probe_pos, step_size)\n",
    "probe_overlap = epsic.sim_utils.get_overlap(probe_diameter/2, step_size)\n",
    "import matplotlib.pyplot as plt\n",
    "fig = plt.figure(figsize=(10, 4))\n",
    "plt.subplot(1, 3, 1)\n",
    "plt.plot(step_size[:10], s_factor[:10])\n",
    "plt.xlabel('step size (m)')\n",
    "plt.ylabel('sampling factor')\n",
    "plt.subplot(1, 3, 2)\n",
    "plt.plot(number_probe_pos[:10], s_factor[:10])\n",
    "plt.xlabel('number of probe positions')\n",
    "plt.ylabel('sampling factor')\n",
    "plt.subplot(1, 3, 3)\n",
    "plt.plot(number_probe_pos[:10], probe_overlap[:10])\n",
    "plt.xlabel('number of probe positions')\n",
    "plt.ylabel('probe overlap (%)')\n",
    "plt.tight_layout(pad = 2)"
   ]
  },
  {
   "cell_type": "markdown",
   "metadata": {},
   "source": [
    "So we need to have more than 4 probe positionsin each direction, equivalent to zero percent probe overlap, to have sampling factor more than 1. "
   ]
  },
  {
   "cell_type": "code",
   "execution_count": 11,
   "metadata": {},
   "outputs": [
    {
     "name": "stdout",
     "output_type": "stream",
     "text": [
      "8.5048828125e-12\n",
      "electron wavelength (m):  4.175716077283421e-12\n",
      "target probe radius(m): 1.088625e-09\n",
      "probe with convergence semi-angle  0.008  mrad will need defocus of:  2.8175221987615667e-08 m\n",
      "target probe radius(m): 1.088625e-09\n",
      "probe with convergence semi-angle  0.01  mrad will need defocus of:  2.615887122581061e-08 m\n",
      "target probe radius(m): 1.088625e-09\n",
      "probe with convergence semi-angle  0.012  mrad will need defocus of:  2.4414395458197695e-08 m\n",
      "target probe radius(m): 1.088625e-09\n",
      "probe with convergence semi-angle  0.015  mrad will need defocus of:  2.2269556793351775e-08 m\n",
      "target probe radius(m): 1.088625e-09\n",
      "probe with convergence semi-angle  0.02  mrad will need defocus of:  1.9823992306458992e-08 m\n",
      "target probe radius(m): 1.088625e-09\n",
      "probe with convergence semi-angle  0.025  mrad will need defocus of:  1.813592774698248e-08 m\n",
      "target probe radius(m): 1.088625e-09\n",
      "probe with convergence semi-angle  0.032  mrad will need defocus of:  1.6207918457209997e-08 m\n",
      "target probe radius(m): 1.088625e-09\n",
      "probe with convergence semi-angle  0.042  mrad will need defocus of:  1.44044003145294e-08 m\n"
     ]
    }
   ],
   "source": [
    "print(pixel_size)\n",
    "image_size = [detector_pix_array, detector_pix_array]\n",
    "print('electron wavelength (m): ', l)\n",
    "conv_semi_list = [0.008, 0.010, 0.012, 0.015, 0.020, 0.025, 0.032, 0.042]\n",
    "def_vals = [] \n",
    "probes = []\n",
    "\n",
    "for angle in conv_semi_list:  \n",
    "    def_val = epsic.sim_utils.max_defocus(pixel_size, image_size, l, angle)\n",
    "    print('probe with convergence semi-angle ', angle, ' mrad will need defocus of: ',def_val, 'm')\n",
    "    def_vals.append(def_val)\n",
    "    probe = epsic.sim_utils.calc_probe_size(pixel_size, image_size, l, def_val, angle, plot_probe= False, return_probeArr= True)\n",
    "    probes.append(probe)\n",
    "probes = np.asanyarray(probes)"
   ]
  },
  {
   "cell_type": "code",
   "execution_count": 12,
   "metadata": {},
   "outputs": [
    {
     "data": {
      "text/plain": [
       "[2.8175221987615667e-08,\n",
       " 2.615887122581061e-08,\n",
       " 2.4414395458197695e-08,\n",
       " 2.2269556793351775e-08,\n",
       " 1.9823992306458992e-08,\n",
       " 1.813592774698248e-08,\n",
       " 1.6207918457209997e-08,\n",
       " 1.44044003145294e-08]"
      ]
     },
     "execution_count": 12,
     "metadata": {},
     "output_type": "execute_result"
    }
   ],
   "source": [
    "def_vals"
   ]
  },
  {
   "cell_type": "code",
   "execution_count": 13,
   "metadata": {},
   "outputs": [
    {
     "data": {
      "text/plain": [
       "(8, 2)"
      ]
     },
     "execution_count": 13,
     "metadata": {},
     "output_type": "execute_result"
    }
   ],
   "source": [
    "probes.shape"
   ]
  },
  {
   "cell_type": "markdown",
   "metadata": {},
   "source": [
    "**Total number of cases: 64**\n",
    "\n",
    "8 probes (all defocussed)\n",
    "each case to be rastered on cell with 8 different probe overlap values\n",
    "\n",
    "Total : 8 * 8"
   ]
  },
  {
   "cell_type": "code",
   "execution_count": 14,
   "metadata": {},
   "outputs": [
    {
     "data": {
      "text/plain": [
       "[0.008, 0.01, 0.012, 0.015, 0.02, 0.025, 0.032, 0.042]"
      ]
     },
     "execution_count": 14,
     "metadata": {},
     "output_type": "execute_result"
    }
   ],
   "source": [
    "conv_semi_list"
   ]
  },
  {
   "cell_type": "code",
   "execution_count": 15,
   "metadata": {},
   "outputs": [],
   "source": [
    "probe_overlaps = [0, 5, 15, 35, 60, 70, 80, 90]\n",
    "step_sizes = []\n",
    "for i in np.arange(probes.shape[0]):\n",
    "    for overlap in probe_overlaps:\n",
    "        step_sizes.append(epsic.sim_utils.get_step_size(probes[i][0], overlap / 100))\n"
   ]
  },
  {
   "cell_type": "code",
   "execution_count": 16,
   "metadata": {},
   "outputs": [
    {
     "data": {
      "text/plain": [
       "8"
      ]
     },
     "execution_count": 16,
     "metadata": {},
     "output_type": "execute_result"
    }
   ],
   "source": [
    "len(probe_overlaps)"
   ]
  },
  {
   "cell_type": "code",
   "execution_count": 18,
   "metadata": {},
   "outputs": [
    {
     "data": {
      "text/plain": [
       "[Text(0, 0.5, 'step size (m)'),\n",
       " Text(0.5, 0, 'probe overlap (%)'),\n",
       " Text(0.5, 1.0, 'scan step sizes for target overlap values')]"
      ]
     },
     "execution_count": 18,
     "metadata": {},
     "output_type": "execute_result"
    },
    {
     "data": {
      "image/png": "[encoded data removed]",
      "text/plain": [
       "<Figure size 432x288 with 1 Axes>"
      ]
     },
     "metadata": {
      "needs_background": "light"
     },
     "output_type": "display_data"
    }
   ],
   "source": [
    "fig, ax = plt.subplots()\n",
    "\n",
    "ax.plot(step_sizes, 'bo')\n",
    "\n",
    "ax.set(title = 'scan step sizes for target overlap values',\n",
    "       ylabel = 'step size (m)',\n",
    "      xlabel = 'probe overlap (%)')"
   ]
  },
  {
   "cell_type": "code",
   "execution_count": 19,
   "metadata": {},
   "outputs": [
    {
     "data": {
      "text/plain": [
       "Text(0.5, 0, 'sim conditions')"
      ]
     },
     "execution_count": 19,
     "metadata": {},
     "output_type": "execute_result"
    },
    {
     "data": {
      "image/png": "[encoded data removed]",
      "text/plain": [
       "<Figure size 432x288 with 1 Axes>"
      ]
     },
     "metadata": {
      "needs_background": "light"
     },
     "output_type": "display_data"
    }
   ],
   "source": [
    "probe_overlaps_all = probe_overlaps * probes.shape[0]\n",
    "plt.plot(probe_overlaps_all, 'ro')\n",
    "plt.ylabel('probe overlap (%)')\n",
    "plt.xlabel('sim conditions')"
   ]
  },
  {
   "cell_type": "code",
   "execution_count": 20,
   "metadata": {},
   "outputs": [
    {
     "data": {
      "text/plain": [
       "64"
      ]
     },
     "execution_count": 20,
     "metadata": {},
     "output_type": "execute_result"
    }
   ],
   "source": [
    "len(probe_overlaps_all)"
   ]
  },
  {
   "cell_type": "code",
   "execution_count": 21,
   "metadata": {},
   "outputs": [
    {
     "data": {
      "text/plain": [
       "Text(0.5, 0, 'sim conditions')"
      ]
     },
     "execution_count": 21,
     "metadata": {},
     "output_type": "execute_result"
    },
    {
     "data": {
      "image/png": "[encoded data removed]",
      "text/plain": [
       "<Figure size 432x288 with 1 Axes>"
      ]
     },
     "metadata": {
      "needs_background": "light"
     },
     "output_type": "display_data"
    }
   ],
   "source": [
    "def_vals_all = [y for x in def_vals for y in (x,)*len(probe_overlaps)]\n",
    "plt.plot(def_vals_all, 'ko')\n",
    "plt.ylabel('defocus (m)')\n",
    "plt.xlabel('sim conditions')"
   ]
  },
  {
   "cell_type": "code",
   "execution_count": 22,
   "metadata": {},
   "outputs": [
    {
     "data": {
      "text/plain": [
       "Text(0.5, 0, 'sim conditions')"
      ]
     },
     "execution_count": 22,
     "metadata": {},
     "output_type": "execute_result"
    },
    {
     "data": {
      "image/png": "[encoded data removed]",
      "text/plain": [
       "<Figure size 432x288 with 1 Axes>"
      ]
     },
     "metadata": {
      "needs_background": "light"
     },
     "output_type": "display_data"
    }
   ],
   "source": [
    "conv_semi_all = [y for x in conv_semi_list for y in (x,)*len(probe_overlaps)]\n",
    "plt.plot(conv_semi_all, 'bo')\n",
    "plt.ylabel('convergence semi_angle (rad)')\n",
    "plt.xlabel('sim conditions')"
   ]
  },
  {
   "cell_type": "code",
   "execution_count": 23,
   "metadata": {},
   "outputs": [],
   "source": [
    "conv_semi_all = np.asarray(conv_semi_all)\n",
    "def_vals_all = np.asarray(def_vals_all)\n",
    "step_sizes = np.asarray(step_sizes)\n",
    "numbers_probe_pos = cell_dim * tiling_factor / step_sizes\n",
    "sampling_factors = epsic.ptycho_utils.get_sampling_factor(pixel_size*detector_pix_array, probe_diameter, numbers_probe_pos, step_sizes)\n",
    "sim_conditions = np.vstack((conv_semi_all, def_vals_all, step_sizes, sampling_factors))"
   ]
  },
  {
   "cell_type": "code",
   "execution_count": 24,
   "metadata": {},
   "outputs": [
    {
     "name": "stdout",
     "output_type": "stream",
     "text": [
      "sampling factor now ranges from  1.0001145584438142  to  8.212367113358845\n"
     ]
    }
   ],
   "source": [
    "print('sampling factor now ranges from ', min(sampling_factors), ' to ', max(sampling_factors))"
   ]
  },
  {
   "cell_type": "code",
   "execution_count": 25,
   "metadata": {},
   "outputs": [
    {
     "data": {
      "text/plain": [
       "array([1.50000000e-02, 2.22695568e-08, 4.32792538e-10, 4.19118537e+00])"
      ]
     },
     "execution_count": 25,
     "metadata": {},
     "output_type": "execute_result"
    }
   ],
   "source": [
    "sim_conditions[:,30]\n",
    "# convergence semi-angle (rad), defocus (m), step_size (m)"
   ]
  },
  {
   "cell_type": "code",
   "execution_count": 26,
   "metadata": {},
   "outputs": [
    {
     "data": {
      "text/plain": [
       "(4, 64)"
      ]
     },
     "execution_count": 26,
     "metadata": {},
     "output_type": "execute_result"
    }
   ],
   "source": [
    "sim_conditions.shape"
   ]
  },
  {
   "cell_type": "code",
   "execution_count": 27,
   "metadata": {},
   "outputs": [],
   "source": [
    "np.save('sim_condtions_64_def_512det', sim_conditions)"
   ]
  },
  {
   "cell_type": "code",
   "execution_count": 28,
   "metadata": {},
   "outputs": [
    {
     "data": {
      "image/png": "[encoded data removed]",
      "text/plain": [
       "<Figure size 792x360 with 3 Axes>"
      ]
     },
     "metadata": {
      "needs_background": "light"
     },
     "output_type": "display_data"
    }
   ],
   "source": [
    "fig, axs = plt.subplots(1,3, figsize=(11, 5))\n",
    "title = 'sim conditions'\n",
    "fig.suptitle(title, fontsize = 15)\n",
    "\n",
    "for i, ax in enumerate(axs.ravel()):\n",
    "    ax.plot(sim_conditions[i,:], 'o')\n",
    "    if i==0:\n",
    "        ax.set_title('convergence semi_angle (rad)')\n",
    "    if i==1:\n",
    "        ax.set_title('defocus value (m)')\n",
    "    if i==2:\n",
    "        ax.set_title('step size (m)')\n"
   ]
  },
  {
   "cell_type": "markdown",
   "metadata": {},
   "source": [
    "<a id='submit'></a>\n",
    "# Submitting the sim matrix to cluster"
   ]
  },
  {
   "cell_type": "code",
   "execution_count": 29,
   "metadata": {},
   "outputs": [
    {
     "data": {
      "text/plain": [
       "8.5048828125e-12"
      ]
     },
     "execution_count": 29,
     "metadata": {},
     "output_type": "execute_result"
    }
   ],
   "source": [
    "pixel_size"
   ]
  },
  {
   "cell_type": "code",
   "execution_count": 37,
   "metadata": {},
   "outputs": [],
   "source": [
    "xyz = '/dls/science/groups/e02/Mohsen/code/Git_Repos/Staff-notebooks/ptyREX_sim_matrix/xyz_files/Graphene_defect.xyz'\n",
    "sim_npy = '/dls/science/groups/e02/Mohsen/code/Git_Repos/Staff-notebooks/ptyREX_sim_matrix/sim_condtions_64_def_512det.npy'\n",
    "root_path = '/dls/e02/data/2020/cm26481-1/processing/pty_simulated_data_MD/sim_matrix_ptyREX_4June2020_512pixArray/'\n",
    "script_path = '/dls/science/groups/e02/Mohsen/code/Git_Repos/Staff-notebooks/ptyREX_sim_matrix/'\n",
    "dose = 2.5e8\n",
    "shell_file = '/dls/science/groups/e02/Mohsen/code/Git_Repos/Staff-notebooks/ptyREX_sim_matrix/pyprismatic_matrix.sh'\n"
   ]
  },
  {
   "cell_type": "code",
   "execution_count": 38,
   "metadata": {},
   "outputs": [],
   "source": [
    "import sys\n",
    "import os\n",
    "sys.path.append(script_path)"
   ]
  },
  {
   "cell_type": "code",
   "execution_count": 39,
   "metadata": {},
   "outputs": [
    {
     "data": {
      "text/plain": [
       "0"
      ]
     },
     "execution_count": 39,
     "metadata": {},
     "output_type": "execute_result"
    }
   ],
   "source": [
    "command_str = '\\n cd '+ script_path + '\\n module load global/cluster \\n qsub pyprismatic_matrix.sh ' + xyz + ' ' + str(pixel_size)+ ' '+ sim_npy + ' ' + root_path + ' ' + script_path + ' ' + str(dose)\n",
    "os.system(command_str)"
   ]
  }
 ],
 "metadata": {
  "kernelspec": {
   "display_name": "Python 3",
   "language": "python",
   "name": "python3"
  },
  "language_info": {
   "codemirror_mode": {
    "name": "ipython",
    "version": 3
   },
   "file_extension": ".py",
   "mimetype": "text/x-python",
   "name": "python",
   "nbconvert_exporter": "python",
   "pygments_lexer": "ipython3",
   "version": "3.7.6"
  }
 },
 "nbformat": 4,
 "nbformat_minor": 4
}
