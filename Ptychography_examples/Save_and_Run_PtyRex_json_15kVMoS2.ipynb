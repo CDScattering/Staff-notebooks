{
 "cells": [
  {
   "cell_type": "code",
   "execution_count": 76,
   "metadata": {},
   "outputs": [
    {
     "data": {
      "text/html": [
       "<div>\n",
       "<style scoped>\n",
       "    .dataframe tbody tr th:only-of-type {\n",
       "        vertical-align: middle;\n",
       "    }\n",
       "\n",
       "    .dataframe tbody tr th {\n",
       "        vertical-align: top;\n",
       "    }\n",
       "\n",
       "    .dataframe thead th {\n",
       "        text-align: right;\n",
       "    }\n",
       "</style>\n",
       "<table border=\"1\" class=\"dataframe\">\n",
       "  <thead>\n",
       "    <tr style=\"text-align: right;\">\n",
       "      <th></th>\n",
       "      <th>Folder</th>\n",
       "      <th>File</th>\n",
       "      <th>keV</th>\n",
       "      <th>CLA</th>\n",
       "      <th>alpha</th>\n",
       "      <th>CL</th>\n",
       "      <th>Spot</th>\n",
       "      <th>A2 (kV)</th>\n",
       "      <th>Scan Mag</th>\n",
       "      <th>nominal defocus</th>\n",
       "      <th>...</th>\n",
       "      <th>Probe positions hdf5</th>\n",
       "      <th>Field of view (Ang)</th>\n",
       "      <th>step size (Ang)</th>\n",
       "      <th>counter depth</th>\n",
       "      <th>Saved data bit depth</th>\n",
       "      <th>frame time (ms)</th>\n",
       "      <th>Notes</th>\n",
       "      <th>Unnamed: 18</th>\n",
       "      <th>Scanning step size: 0.330000 nm</th>\n",
       "      <th>Unnamed: 20</th>\n",
       "    </tr>\n",
       "  </thead>\n",
       "  <tbody>\n",
       "    <tr>\n",
       "      <th>105</th>\n",
       "      <td>145557</td>\n",
       "      <td>NaN</td>\n",
       "      <td>15.0</td>\n",
       "      <td>100um</td>\n",
       "      <td>17.0</td>\n",
       "      <td>18.7</td>\n",
       "      <td>6C</td>\n",
       "      <td>1.07</td>\n",
       "      <td>3Mx</td>\n",
       "      <td>0</td>\n",
       "      <td>...</td>\n",
       "      <td>NaN</td>\n",
       "      <td>NaN</td>\n",
       "      <td>2.6</td>\n",
       "      <td>6.0</td>\n",
       "      <td>NaN</td>\n",
       "      <td>700</td>\n",
       "      <td>NaN</td>\n",
       "      <td>NaN</td>\n",
       "      <td>Ib = 121pA</td>\n",
       "      <td>NaN</td>\n",
       "    </tr>\n",
       "  </tbody>\n",
       "</table>\n",
       "<p>1 rows × 21 columns</p>\n",
       "</div>"
      ],
      "text/plain": [
       "     Folder File   keV    CLA  alpha    CL Spot A2 (kV) Scan Mag  \\\n",
       "105  145557  NaN  15.0  100um   17.0  18.7   6C    1.07      3Mx   \n",
       "\n",
       "    nominal defocus   ...  Probe positions hdf5  Field of view (Ang)  \\\n",
       "105                0  ...                   NaN                  NaN   \n",
       "\n",
       "     step size (Ang)  counter depth  Saved data bit depth  frame time (ms)  \\\n",
       "105              2.6            6.0                   NaN              700   \n",
       "\n",
       "    Notes Unnamed: 18  Scanning step size: 0.330000 nm Unnamed: 20  \n",
       "105   NaN         NaN                       Ib = 121pA         NaN  \n",
       "\n",
       "[1 rows x 21 columns]"
      ]
     },
     "execution_count": 76,
     "metadata": {},
     "output_type": "execute_result"
    }
   ],
   "source": [
    "#set backend - for pop-out interactive plots set to qt\n",
    "#%matplotlib inline\n",
    "\n",
    "#import modules\n",
    "import sys\n",
    "sys.path.append(r'/dls/science/groups/e02/Chris/Code/GitHub/Merlin-Medipix') # location of epsic_tools \n",
    "import hyperspy.api as hs\n",
    "import matplotlib.pyplot as plt\n",
    "import epsic_tools.api as epsic\n",
    "import numpy as np\n",
    "import os\n",
    "import pandas as pd\n",
    "\n",
    "#read parameter spreadsheed\n",
    "sfn = r'/dls/e02/data/2019/cm22979-6/processing/Merlin/Merlin/20191001_15kV_ptycho/20190822_Ptychography_speadsheet_c.xlsx'\n",
    "ss = pd.read_excel(sfn, skiprows =7)\n",
    "#fill missing data\n",
    "ps = ss.iloc[:,2:17].fillna(method='ffill')\n",
    "ss.iloc[:,2:17] = ps\n",
    "\n",
    "#initiate epsic object\n",
    "ep = epsic.ptychography2D.Ptychography2D()\n",
    "\n",
    "#get time stamp from data save path \n",
    "time_stamp = int(os.path.split(save_file)[0][-6:])\n",
    "#print(time_stamp)\n",
    "meta = ss[ss.Folder.isin([(time_stamp)])]\n",
    "meta"
   ]
  },
  {
   "cell_type": "code",
   "execution_count": 9,
   "metadata": {},
   "outputs": [],
   "source": [
    "#data set for reconstruction \n",
    "\n",
    "data_file_path = save_file\n",
    "#'/dls/e02/data/2019/cm22979-6/processing/Merlin/Merlin/20191001_15kV_ptycho/MoS2_700C/20191002 145013/cropscan_binned_MoS2_15kV_50umClAp_3Mx_focus_A2_1p07_scan64x64_diff256x256.hdf5'\n",
    "\n",
    "#reconstructions will be saved in the experiment ID folder in the base directory with prefix\n",
    "experiment_ID = 'scancrop_64'\n",
    "save_prefix = 'v0_bindiff4_1x1_modes'\n",
    "\n",
    "\n",
    "#parameters for reconstruction\n",
    "\n",
    "beam_energy = 15e3 # in volts\n",
    "convergence_semi_angle = 0.0125 # in radians\n",
    "camera_length = 0.12895 # in m\n",
    "scan_rotation = -80.18 # in degrees\n",
    "scan_step_size = 2.6e-10 # in m \n",
    "number_of_iterations = 10\n",
    "defocus  = -100e-9 # in m\n",
    "detector_binning = 1\n",
    "source_modes = [1,1]\n",
    "decay = [0.4, 0, 1]\n",
    "\n",
    "#if running on cluster need to set interaction to 'None'\n",
    "interaction = 'None' #or 'dawn' if running on dawn"
   ]
  },
  {
   "cell_type": "code",
   "execution_count": 85,
   "metadata": {},
   "outputs": [
    {
     "name": "stdout",
     "output_type": "stream",
     "text": [
      "scan shape :  (64, 64)\n",
      "detector shape :  (256, 256)\n",
      "binning :  2.0\n"
     ]
    }
   ],
   "source": [
    "#load into hyperspy object\n",
    "d = hs.load(data_file_path, lazy = True)\n",
    "\n",
    "#get data parameters\n",
    "data_shape = d.data.shape\n",
    "#scan array shape\n",
    "d = None\n",
    "scan_shape = data_shape[:2]\n",
    "detector_shape = data_shape[2:]\n",
    "print('scan shape : ', scan_shape)\n",
    "print('detector shape : ',detector_shape)\n",
    "binning = np.floor(515 / detector_shape[0])\n",
    "print(\"binning : \", binning)\n",
    "if binning == 1:\n",
    "    mask_fp = r'//dls/e02/data/2019/cm22979-6/processing/Merlin/Reconstruction_masks/Merlin.h5'\n",
    "else:\n",
    "    mask_fp = r'//dls/e02/data/2019/cm22979-6/processing/Merlin/Reconstruction_masks/Merlin_bin' + str(int(binning)) +'.h5'\n",
    "px_size = 55e-6 #m\n",
    "#adjust for binning\n",
    "adj_px_size = px_size * binning\n",
    "optic_axis =  detector_shape[0] / 2\n",
    "\n",
    "#populate ptychography object\n",
    "ep.set_data_path(data_file_path)\n",
    "ep.set_dead_px_path(mask_fp)\n",
    "ep.set_dead_px_flag(1)\n",
    "ep.set_energy(beam_energy)\n",
    "ep.set_scan_size(scan_shape)\n",
    "ep.set_scan_step([scan_step_size, scan_step_size])\n",
    "ep.set_px_pitch([adj_px_size, adj_px_size])\n",
    "ep.set_scan_rotation(scan_rotation)\n",
    "ep.set_detector_pos([0 , 0 , camera_length])\n",
    "ep.set_convergence( 2 * convergence_semi_angle)\n",
    "ep.set_defocus(defocus)\n",
    "ep.set_detector_crop(detector_shape)\n",
    "ep.set_detector_bin([detector_binning, detector_binning])\n",
    "ep.set_iterations(number_of_iterations)\n",
    "ep.set_decay(decay)\n",
    "ep.set_source_modes(source_modes)\n",
    "ep.set_interaction(interaction)\n",
    "#save path\n",
    "data_path , _ = os.path.split(data_file_path)\n",
    "save_path , dat_dir = os.path.split(data_path)\n",
    "\n",
    "ep.set_save_prefix(save_prefix)\n",
    "ep.set_experiment_ID(experiment_ID)\n",
    "ep.set_base_dir(save_path)"
   ]
  },
  {
   "cell_type": "code",
   "execution_count": 86,
   "metadata": {},
   "outputs": [
    {
     "name": "stdout",
     "output_type": "stream",
     "text": [
      "json file saved to :  /dls/e02/data/2019/cm22979-6/processing/Merlin/Merlin/20191001_15kV_ptycho/MoS2_700C/scancrop_64/145557_scancrop_64_v0_bindiff4_1x1_modes.json\n"
     ]
    }
   ],
   "source": [
    "#save json file\n",
    "time_stamp = dat_dir.split(' ')[1]\n",
    "json_path = save_path + '/' + experiment_ID\n",
    "if not os.path.exists(json_path):\n",
    "    os.makedirs(json_path)\n",
    "json_file = json_path + '/' + time_stamp + '_' + experiment_ID + '_' + save_prefix + '.json'\n",
    "ep.save_json(json_file)\n",
    "#print(json_file)"
   ]
  },
  {
   "cell_type": "code",
   "execution_count": 87,
   "metadata": {},
   "outputs": [
    {
     "name": "stdout",
     "output_type": "stream",
     "text": [
      "['145557_scancrop_64_v0_bindiff4_1x1_modes.json']\n",
      "Recon results will be saved to : \n",
      "/dls/e02/data/2019/cm22979-6/processing/Merlin/Merlin/20191001_15kV_ptycho/MoS2_700C/scancrop_64\n"
     ]
    }
   ],
   "source": [
    "#run on cluster\n",
    "\n",
    "f = []\n",
    "# create folder to save cluster logs\n",
    "log_path = json_path + '/logs'\n",
    "if not os.path.exists(log_path):\n",
    "    os.makedirs(log_path)\n",
    "\n",
    "#make a list of all json files in folder\n",
    "for (dir_path ,dir_names, file_names) in os.walk(json_path):\n",
    "    print(file_names)\n",
    "    f.extend(file_names)\n",
    "    break\n",
    "    \n",
    "#send each to the cluster\n",
    "n = 0\n",
    "for this_file in f:\n",
    "    os.system('echo /dls_sw/i13-1/scripts/Pycho/pycho_recon_single_cluster.sh ' + json_path + ' ' + this_file[:-5] + ' ' + str(n))\n",
    "    os.system('cd ' + json_path +'/logs' +  '\\n module load global/cluster \\n qsub /dls_sw/i13-1/scripts/Pycho/pycho_recon_single_cluster.sh ' + json_path + ' ' + this_file[:-5] + ' ' + str(n))\n",
    "    n = n+1\n",
    "print('Recon results will be saved to : ' )\n",
    "print(save_path + '/' + experiment_ID)"
   ]
  },
  {
   "cell_type": "code",
   "execution_count": 11,
   "metadata": {},
   "outputs": [],
   "source": [
    "#save_path= '/dls/e02/data/2019/cm22979-6/processing/Merlin/Merlin/20191001_15kV_ptycho/MoS2_700C/'"
   ]
  },
  {
   "cell_type": "code",
   "execution_count": null,
   "metadata": {},
   "outputs": [],
   "source": []
  }
 ],
 "metadata": {
  "kernelspec": {
   "display_name": "Python 3",
   "language": "python",
   "name": "python3"
  },
  "language_info": {
   "codemirror_mode": {
    "name": "ipython",
    "version": 3
   },
   "file_extension": ".py",
   "mimetype": "text/x-python",
   "name": "python",
   "nbconvert_exporter": "python",
   "pygments_lexer": "ipython3",
   "version": "3.7.6"
  }
 },
 "nbformat": 4,
 "nbformat_minor": 4
}
