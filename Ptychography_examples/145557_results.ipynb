{
 "cells": [
  {
   "cell_type": "code",
   "execution_count": 2,
   "metadata": {},
   "outputs": [
    {
     "name": "stderr",
     "output_type": "stream",
     "text": [
      "WARNING:hyperspy_gui_traitsui:The module://ipykernel.pylab.backend_inline matplotlib backend is not compatible with the traitsui GUI elements. For more information, read http://hyperspy.readthedocs.io/en/stable/user_guide/getting_started.html#possible-warnings-when-importing-hyperspy.\n",
      "WARNING:hyperspy_gui_traitsui:The traitsui GUI elements are not available.\n"
     ]
    }
   ],
   "source": [
    "import sys\n",
    "import glob\n",
    "import os\n",
    "sys.path.append(r'/dls/science/groups/e02/Chris/Code/GitHub/Merlin-Medipix')  # location of epsic_tools \n",
    "#'Z:/Chris/Code/GitHub/Merlin-Medipix')\n",
    "#r'/dls/science/groups/e02/Chris/Code/GitHub/Merlin-Medipix') # location of epsic_tools \n",
    "import hyperspy.api as hs\n",
    "import epsic_tools.api as epsic\n",
    "from epsic_tools.toolbox.ptychography import ptyrex\n",
    "\n",
    "ep = epsic.ptychography2D.Ptychography2D()"
   ]
  },
  {
   "cell_type": "code",
   "execution_count": 7,
   "metadata": {},
   "outputs": [],
   "source": [
    "%matplotlib qt"
   ]
  },
  {
   "cell_type": "code",
   "execution_count": 19,
   "metadata": {},
   "outputs": [
    {
     "name": "stdout",
     "output_type": "stream",
     "text": [
      "/dls/e02/data/2019/cm22979-6/processing/Merlin/Merlin/20191001_15kV_ptycho/MoS2_700C//scancrop_64/processing/pycho/*.hdf\n",
      "['/dls/e02/data/2019/cm22979-6/processing/Merlin/Merlin/20191001_15kV_ptycho/MoS2_700C//scancrop_64/processing/pycho/v0_bindiff4_1x1_modes0_20200424-105351.hdf', '/dls/e02/data/2019/cm22979-6/processing/Merlin/Merlin/20191001_15kV_ptycho/MoS2_700C//scancrop_64/processing/pycho/v0_bindiff4_2x2_modes0_20200423-155420.hdf', '/dls/e02/data/2019/cm22979-6/processing/Merlin/Merlin/20191001_15kV_ptycho/MoS2_700C//scancrop_64/processing/pycho/v0_bindiff4_4x4_modes0_20200423-195645.hdf']\n",
      "0 3 1340 1340\n",
      "0  step :  2.6e-10 , rot :  -80.18 , err :  1970.5484345627276\n",
      "1  step :  2.6e-10 , rot :  -80.18 , err :  7879.68037762504\n",
      "2  step :  2.6e-10 , rot :  -80.18 , err :  25201.622339064088\n",
      "[0 1 2]\n",
      "(2, 3, 500, 500)\n",
      "<class 'numpy.ndarray'>\n"
     ]
    },
    {
     "data": {
      "application/vnd.jupyter.widget-view+json": {
       "model_id": "16de6a80107d4fbe8302713d46f040a4",
       "version_major": 2,
       "version_minor": 0
      },
      "text/plain": [
       "HBox(children=(FloatProgress(value=0.0, max=6.0), HTML(value='')))"
      ]
     },
     "metadata": {},
     "output_type": "display_data"
    },
    {
     "data": {
      "application/vnd.jupyter.widget-view+json": {
       "model_id": "b20c47fa1a434c8d8c74dd33a658325d",
       "version_major": 2,
       "version_minor": 0
      },
      "text/plain": [
       "HBox(children=(FloatProgress(value=0.0, max=6.0), HTML(value='')))"
      ]
     },
     "metadata": {},
     "output_type": "display_data"
    },
    {
     "name": "stdout",
     "output_type": "stream",
     "text": [
      "\n",
      "3  files loaded successfully\n"
     ]
    },
    {
     "data": {
      "application/vnd.jupyter.widget-view+json": {
       "model_id": "f386647a6dff456c9069f7c3c6820f02",
       "version_major": 2,
       "version_minor": 0
      },
      "text/plain": [
       "VBox(children=(HBox(children=(Label(value='Unnamed 0th axis', layout=Layout(width='15%')), IntSlider(value=0, …"
      ]
     },
     "metadata": {},
     "output_type": "display_data"
    },
    {
     "name": "stdout",
     "output_type": "stream",
     "text": [
      "\n"
     ]
    },
    {
     "data": {
      "application/vnd.jupyter.widget-view+json": {
       "model_id": "09276298ff644c9e802a0daec4873fda",
       "version_major": 2,
       "version_minor": 0
      },
      "text/plain": [
       "VBox(children=(HBox(children=(Label(value='Unnamed 0th axis', layout=Layout(width='15%')), IntSlider(value=0, …"
      ]
     },
     "metadata": {},
     "output_type": "display_data"
    },
    {
     "data": {
      "application/vnd.jupyter.widget-view+json": {
       "model_id": "fec1c05de0884cd0bc83b112e8f1bf75",
       "version_major": 2,
       "version_minor": 0
      },
      "text/plain": [
       "VBox(children=(HBox(children=(Label(value='Unnamed 0th axis', layout=Layout(width='15%')), IntSlider(value=0, …"
      ]
     },
     "metadata": {},
     "output_type": "display_data"
    }
   ],
   "source": [
    "#need to pull path in from save and run _ptyrex somehow\n",
    "#path = save_path + '/' + experiment_ID + '/processing/pycho'\n",
    "#path = r'/dls/e02/data/2019/cm22979-6/processing/Merlin/Merlin/20191001_15kV_ptycho/MoS2_700C/100um_ap_tests/processing/pycho'\n",
    "crop_to= 500\n",
    "ep.load_series(path, crop_to = crop_to, verbose = True)"
   ]
  },
  {
   "cell_type": "code",
   "execution_count": 18,
   "metadata": {},
   "outputs": [
    {
     "name": "stdout",
     "output_type": "stream",
     "text": [
      "/dls/e02/data/2019/cm22979-6/processing/Merlin/Merlin/20191001_15kV_ptycho/MoS2_700C//scancrop_64/processing/pycho\n",
      "[ 0 ] v0_bindiff4_1x1_modes0_20200424-105351.hdf\n",
      "[ 1 ] v0_bindiff4_2x2_modes0_20200423-155420.hdf\n",
      "[ 2 ] v0_bindiff4_4x4_modes0_20200423-195645.hdf\n"
     ]
    }
   ],
   "source": [
    "#list files in path\n",
    "path = '/dls/e02/data/2019/cm22979-6/processing/Merlin/Merlin/20191001_15kV_ptycho/MoS2_700C//scancrop_64/processing/pycho'\n",
    "print(path)\n",
    "f = glob.glob(path + '/*.hdf')\n",
    "for index, value in enumerate(f): \n",
    "    print('[',index,']', os.path.split(value)[1]) "
   ]
  },
  {
   "cell_type": "code",
   "execution_count": 24,
   "metadata": {},
   "outputs": [],
   "source": [
    "#import matplotlib.pyplot as plt\n",
    "ep.load_recon(f[2])\n",
    "#error = ptyrex.load_error(f[0])\n",
    "#plt.plot(error)\n"
   ]
  },
  {
   "cell_type": "code",
   "execution_count": 16,
   "metadata": {},
   "outputs": [],
   "source": [
    "ep.recon_object.plot()\n",
    "ep.recon_probe.plot()"
   ]
  },
  {
   "cell_type": "code",
   "execution_count": 25,
   "metadata": {},
   "outputs": [],
   "source": [
    "ep.recon_error.plot()"
   ]
  },
  {
   "cell_type": "code",
   "execution_count": null,
   "metadata": {},
   "outputs": [],
   "source": []
  }
 ],
 "metadata": {
  "kernelspec": {
   "display_name": "Python 3",
   "language": "python",
   "name": "python3"
  },
  "language_info": {
   "codemirror_mode": {
    "name": "ipython",
    "version": 3
   },
   "file_extension": ".py",
   "mimetype": "text/x-python",
   "name": "python",
   "nbconvert_exporter": "python",
   "pygments_lexer": "ipython3",
   "version": "3.7.6"
  }
 },
 "nbformat": 4,
 "nbformat_minor": 4
}
