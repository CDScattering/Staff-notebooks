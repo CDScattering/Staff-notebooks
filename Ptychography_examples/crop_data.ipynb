{
 "cells": [
  {
   "cell_type": "code",
   "execution_count": null,
   "metadata": {},
   "outputs": [],
   "source": [
    "%matplotlib inline\n",
    "import hyperspy.api as hs\n",
    "import os"
   ]
  },
  {
   "cell_type": "code",
   "execution_count": null,
   "metadata": {},
   "outputs": [],
   "source": [
    "#spreadsheet can be found here: /dls/e02/data/2019/cm22979-6/processing/Merlin/Merlin/20191001_15kV_ptycho/\n",
    "#load data (binned diffraction plane)\n",
    "fp = '/dls/e02/data/2019/cm22979-6/processing/Merlin/Merlin/20191001_15kV_ptycho/MoS2_700C/20191002 154728/binned_AuonGe_15kV_100umClAp_3Mx_focus_A2_1p07.hdf5'\n",
    "d = hs.load(fbinned_AuonGe_15kV_100umClAp_3Mx_focus_A2_1p07.hdf5p, lazy = True)\n",
    "#reset navigation offset\n",
    "d.axes_manager.navigation_axes[0].offset = 0\n",
    "d.axes_manager.navigation_axes[1].offset = 0"
   ]
  },
  {
   "cell_type": "code",
   "execution_count": null,
   "metadata": {},
   "outputs": [],
   "source": [
    "#take every 4th probe position so can quickly visualise data\n",
    "d_sub = d.inav[::4, ::4]\n",
    "d_sub.compute()"
   ]
  },
  {
   "cell_type": "code",
   "execution_count": null,
   "metadata": {},
   "outputs": [],
   "source": [
    "d_sub.plot()"
   ]
  },
  {
   "cell_type": "code",
   "execution_count": null,
   "metadata": {},
   "outputs": [],
   "source": [
    "%matplotlib qt \n",
    "#pop out plot - you may need to run this a couple of times"
   ]
  },
  {
   "cell_type": "code",
   "execution_count": null,
   "metadata": {},
   "outputs": [],
   "source": [
    "px_in_crop = 64\n",
    "d_sub.plot()\n",
    "sq_roi = hs.roi.RectangularROI(0,0,px_in_crop,px_in_crop)\n",
    "roi_dat = sq_roi.interactive(d_sub)\n"
   ]
  },
  {
   "cell_type": "code",
   "execution_count": null,
   "metadata": {},
   "outputs": [],
   "source": [
    "%matplotlib inline\n",
    "#return to inline"
   ]
  },
  {
   "cell_type": "code",
   "execution_count": null,
   "metadata": {},
   "outputs": [],
   "source": [
    "#show area to be cropped\n",
    "d_sub.plot()\n",
    "roi_dat = sq_roi.interactive(d_sub)\n",
    "print(sq_roi)"
   ]
  },
  {
   "cell_type": "code",
   "execution_count": null,
   "metadata": {},
   "outputs": [],
   "source": [
    "/dls/e02/data/2019/cm22979-6/processing/Merlin/Merlin/20191001_15kV_ptycho/MoS2_700C//scancrop_64_Au/processing/pycho#get cropped region from full data set\n",
    "d_crop = sq_roi(d)\n",
    "d_crop.compute()\n",
    "d_crop.plot()"
   ]
  },
  {
   "cell_type": "code",
   "execution_count": null,
   "metadata": {},
   "outputs": [],
   "source": [
    "#save_data\\2020\\cm26481-1\\processing\\Merlin\\20200130_80kV_graphene_600C_pty\\cluster\\processing\\pycho\n",
    "identifier = '_new'\n",
    "crop_shape = d_crop.data.shape\n",
    "scan_str = '_scan' + str(crop_shape[0]) + 'x' + str(crop_shape[1])\n",
    "diff_str = '_diff' + str(crop_shape[2]) + 'x' + str(crop_shape[3])\n",
    "file_path, file_name = os.path.split(fp)\n",
    "save_file = file_path + '/cropscan_' + file_name[:-5] + scan_str + diff_str + identifier + '.hdf5'\n",
    "d_crop.save(save_file)\n",
    "print('saved to : ' + save_file)\n",
    "# '/dls/e02/data/2019/cm22979-6/processing/Merlin/Merlin/20191001_15kV_ptycho/MoS2_700C/20191002 145013/cropscan_binned_MoS2_15kV_50umClAp_3Mx_focus_A2_1p07_scan64x64_diff256x256.hdf5'\n",
    "#d_crop.save(sn)"
   ]
  },
  {
   "cell_type": "code",
   "execution_count": null,
   "metadata": {},
   "outputs": [],
   "source": [
    "save_file = '/dls/e02/data/2019/cm22979-6/processing/Merlin/Merlin/20191001_15kV_ptycho/MoS2_700C/20191002 154728/cropscan_binned_AuonGe_15kV_100umClAp_3Mx_focus_A2_1p07_scan64x64_diff256x256_new.hdf5'\n",
    "#'/dls/e02/data/2019/cm22979-6/processing/Merlin/Merlin/20191001_15kV_ptycho/MoS2_700C/20191002 145557/cropscan_binned_MoS2_15kV_100umClAp_3Mx_focus_A2_1p07_scan64x64_diff256x256_new.hdf5'"
   ]
  },
  {
   "cell_type": "code",
   "execution_count": null,
   "metadata": {},
   "outputs": [],
   "source": []
  }
 ],
 "metadata": {
  "kernelspec": {
   "display_name": "Python 3",
   "language": "python",
   "name": "python3"
  },
  "language_info": {
   "codemirror_mode": {
    "name": "ipython",
    "version": 3
   },
   "file_extension": ".py",
   "mimetype": "text/x-python",
   "name": "python",
   "nbconvert_exporter": "python",
   "pygments_lexer": "ipython3",
   "version": "3.7.6"
  }
 },
 "nbformat": 4,
 "nbformat_minor": 4
}
