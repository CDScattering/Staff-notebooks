{
 "cells": [
  {
   "cell_type": "code",
   "execution_count": null,
   "metadata": {},
   "outputs": [],
   "source": [
    "import sys\n",
    "import glob\n",
    "import os\n",
    "sys.path.append(r'/dls/science/groups/e02/Chris/Code/GitHub/Merlin-Medipix')  # location of epsic_tools \n",
    "#'Z:/Chris/Code/GitHub/Merlin-Medipix')\n",
    "#r'/dls/science/groups/e02/Chris/Code/GitHub/Merlin-Medipix') # location of epsic_tools \n",
    "import hyperspy.api as hs\n",
    "import epsic_tools.api as epsic\n",
    "from epsic_tools.toolbox.ptychography import ptyrex\n",
    "import matplotlib.pyplot as plt\n",
    "import numpy as np\n",
    "\n",
    "ep = epsic.ptychography2D.Ptychography2D()"
   ]
  },
  {
   "cell_type": "code",
   "execution_count": null,
   "metadata": {},
   "outputs": [],
   "source": [
    "%matplotlib qt"
   ]
  },
  {
   "cell_type": "code",
   "execution_count": null,
   "metadata": {},
   "outputs": [],
   "source": [
    "#alternitavely pull path and ID from crop_data and Save_and_run\n",
    "save_path = '/dls/e02/data/2019/cm22979-6/processing/Merlin/Merlin/20191001_15kV_ptycho/MoS2_700C'\n",
    "experiment_ID = 'scancrop_64_Au'\n",
    "path = save_path + '/' + experiment_ID + '/processing/pycho'\n",
    "crop_to= 500\n",
    "ep.load_series(path, crop_to = crop_to, verbose = True)"
   ]
  },
  {
   "cell_type": "code",
   "execution_count": null,
   "metadata": {},
   "outputs": [],
   "source": [
    "#list files in path\n",
    "#path = '/dls/e02/data/2019/cm22979-6/processing/Merlin/Merlin/20191001_15kV_ptycho/MoS2_700C//scancrop_64_Au/processing/pycho'\n",
    "print(path)\n",
    "f = glob.glob(path + '/*.hdf')\n",
    "for index, value in enumerate(f): \n",
    "    print('[',index,']', os.path.split(value)[1]) "
   ]
  },
  {
   "cell_type": "code",
   "execution_count": null,
   "metadata": {},
   "outputs": [],
   "source": [
    "#load a single reconstruction\n",
    "n = 1\n",
    "ep = epsic.ptychography2D.Ptychography2D()\n",
    "print(f[n])\n",
    "ep.load_recon(f[n])\n",
    "#print(ep.get_detector_orientation())"
   ]
  },
  {
   "cell_type": "code",
   "execution_count": null,
   "metadata": {},
   "outputs": [],
   "source": [
    "#plot some things\n",
    "ep.recon_object.plot()\n",
    "ep.recon_probe.plot()\n",
    "ep.recon_error.plot()\n",
    "#print(ep.get_detector_orientation())"
   ]
  },
  {
   "cell_type": "code",
   "execution_count": null,
   "metadata": {},
   "outputs": [],
   "source": [
    "#plot object, fft, probe and error on one plot \n",
    "#get dat\n",
    "#plot object phase\n",
    "crop_size = 500\n",
    "contrast = 5\n",
    "fig_width =3.6\n",
    "fig1 = plt.figure(figsize = (fig_width,  4.5*fig_width))\n",
    "\n",
    "ax1 = plt.subplot(421)\n",
    "ax1.set_axis_off()\n",
    "ax2 = plt.subplot(422)\n",
    "ax2.set_axis_off()\n",
    "ax3 = plt.subplot(423)\n",
    "ax3.set_axis_off()\n",
    "ax4 = plt.subplot(424)\n",
    "ax4.set_axis_off()\n",
    "\n",
    "ax5 = plt.subplot(425)\n",
    "ax5.set_axis_off()\n",
    "ax6 = plt.subplot(426)\n",
    "ax6.set_axis_off()\n",
    "ax7 = plt.subplot(414)\n",
    "\n",
    "obj_size = ep.recon_object.inav[0].data.shape\n",
    "from_ind = obj_size[0] / 2 - crop_size / 2 \n",
    "to_ind =  obj_size[0] / 2 + crop_size / 2\n",
    "obj_crop = ep.recon_object.isig[from_ind:to_ind, from_ind:to_ind ]\n",
    "max_grey = obj_crop.inav[0].data.max() / contrast\n",
    "min_grey = obj_crop.inav[0].data.min() / contrast\n",
    "ax1.imshow(obj_crop.inav[0].data, vmin = min_grey ,vmax =  max_grey )#, sharex = ax3)\n",
    "\n",
    "#calc fftigsize=(15,15)\n",
    "phase_fft = np.fft.fft2(obj_crop.inav[0].data)\n",
    "phase_fft =np.fft.fftshift(phase_fft)\n",
    "phase_fft =np.log10(np.abs(phase_fft)**2)\n",
    "#plot fftplt.tight_layout()\n",
    "#ax2 = plt.subplot(3,2,2)\n",
    "ax2.imshow(phase_fft)#, sharex = ax4, sharey = ax1)\n",
    "\n",
    "\n",
    "#plot object mod\n",
    "ax3.imshow(obj_crop.inav[1].data)\n",
    "#calc fft\n",
    "phase_fft =np.fft.fft2(obj_crop.inav[1].data)\n",
    "phase_fft =np.fft.fftshift(phase_fft)\n",
    "phase_fft =np.log10(np.abs(phase_fft)**2)\n",
    "#plot fft\n",
    "ax4.imshow(phase_fft)\n",
    "ax5.imshow(ep.recon_probe.inav[0].data)\n",
    "#plot probe modsharex\n",
    "ax6.imshow(ep.recon_probe.inav[1].data)\n",
    "#igsize=(15,15)\n",
    "#plot error function\n",
    "#plt.subplot(ax[2][:])\n",
    "ax7.plot(ep.recon_error.data)\n",
    "ax7.ticklabel_format(axis='y', style='sci', scilimits = (3,0))#, scilimits=None, useOffset=None, useLocale=None, useMathText=None)\n",
    "\n",
    "#\n",
    "fig_title = os.path.split(f[n])[1]\n",
    "fig1.suptitle(fig_title, fontsize = 'small')\n",
    "plt.tight_layout(rect=[0, 0.03, 1, 0.95], pad = 2)"
   ]
  },
  {
   "cell_type": "code",
   "execution_count": null,
   "metadata": {},
   "outputs": [],
   "source": [
    "#save plot\n",
    "fig_save_path = path + '/figs//' \n",
    "if not os.path.isdir(fig_save_path):\n",
    "    os.mkdir(fig_save_path)\n",
    "fig_save_name = fig_save_path + fig_title +'.png'\n",
    "plt.savefig(fig_save_name, dpi = 4* crop_size / fig_width )\n",
    "print('fig saved to : ', fig_save_name)"
   ]
  }
 ],
 "metadata": {
  "kernelspec": {
   "display_name": "Python (epsic3.7)",
   "language": "python",
   "name": "epsic3.7"
  },
  "language_info": {
   "codemirror_mode": {
    "name": "ipython",
    "version": 3
   },
   "file_extension": ".py",
   "mimetype": "text/x-python",
   "name": "python",
   "nbconvert_exporter": "python",
   "pygments_lexer": "ipython3",
   "version": "3.7.6"
  }
 },
 "nbformat": 4,
 "nbformat_minor": 4
}
